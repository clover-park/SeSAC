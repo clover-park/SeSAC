{
 "cells": [
  {
   "cell_type": "code",
   "execution_count": 7,
   "id": "f5fd7672-1451-4070-83eb-20637fda53e0",
   "metadata": {},
   "outputs": [],
   "source": [
    "# mymodule 폴더에 있는 moduletest 모듈의 myCal 클래스를 import\n",
    "from mymodule.moduletest import myCal as mc"
   ]
  },
  {
   "cell_type": "code",
   "execution_count": 9,
   "id": "94a139fb-21fc-4730-86df-4035f82e2f01",
   "metadata": {},
   "outputs": [
    {
     "data": {
      "text/plain": [
       "3"
      ]
     },
     "execution_count": 9,
     "metadata": {},
     "output_type": "execute_result"
    }
   ],
   "source": [
    "a = mc(1,2)\n",
    "a.myAdd()"
   ]
  },
  {
   "cell_type": "code",
   "execution_count": null,
   "id": "d42763ce-af34-4ed5-8f63-f79241b99e2b",
   "metadata": {},
   "outputs": [],
   "source": []
  },
  {
   "cell_type": "code",
   "execution_count": null,
   "id": "35f97373-e8f2-4e42-bc7c-b64e8d87ac2e",
   "metadata": {},
   "outputs": [],
   "source": []
  },
  {
   "cell_type": "code",
   "execution_count": null,
   "id": "28db5f28-cafc-43e9-9f94-d22196de397c",
   "metadata": {},
   "outputs": [],
   "source": []
  }
 ],
 "metadata": {
  "kernelspec": {
   "display_name": "Python 3 (ipykernel)",
   "language": "python",
   "name": "python3"
  },
  "language_info": {
   "codemirror_mode": {
    "name": "ipython",
    "version": 3
   },
   "file_extension": ".py",
   "mimetype": "text/x-python",
   "name": "python",
   "nbconvert_exporter": "python",
   "pygments_lexer": "ipython3",
   "version": "3.12.4"
  }
 },
 "nbformat": 4,
 "nbformat_minor": 5
}
