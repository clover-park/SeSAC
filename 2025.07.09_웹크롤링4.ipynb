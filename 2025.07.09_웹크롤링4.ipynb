{
 "cells": [
  {
   "cell_type": "markdown",
   "id": "21c9370c-fb37-47da-8c3b-f75372d7f150",
   "metadata": {},
   "source": [
    "### 한솥 도시락 메뉴일, 가격 크롤링하기"
   ]
  },
  {
   "cell_type": "code",
   "execution_count": 2,
   "id": "afe37624-4e7a-453e-bcf0-447fa70762f4",
   "metadata": {},
   "outputs": [],
   "source": [
    "from selenium import webdriver as wb\n",
    "from selenium.webdriver.common.by import By\n",
    "from selenium.webdriver.common.keys import Keys\n",
    "from tqdm import tqdm\n",
    "import pandas as pd\n",
    "import time"
   ]
  },
  {
   "cell_type": "markdown",
   "id": "4f179b3b-7044-44f0-afb6-7128fec880ca",
   "metadata": {},
   "source": [
    "1. 브라우저 키기, 창 최대화"
   ]
  },
  {
   "cell_type": "code",
   "execution_count": 54,
   "id": "e23e9229-85fc-48c7-99ac-ce694455fe76",
   "metadata": {},
   "outputs": [],
   "source": [
    "driver = wb.Chrome()"
   ]
  },
  {
   "cell_type": "code",
   "execution_count": 56,
   "id": "9d8efb6a-e71d-4ed5-9645-ba6505728a42",
   "metadata": {},
   "outputs": [],
   "source": [
    "# 한솥 도시락 홈페이지로 이동\n",
    "driver.get('https://www.hsd.co.kr/menu/menu_list')"
   ]
  },
  {
   "cell_type": "markdown",
   "id": "dee52329-efb8-47a3-b590-17452bd3596b",
   "metadata": {},
   "source": [
    "- 한솥 도시락 페이지를 축소하면 메뉴 구조가 바뀜.\n",
    "- 브라우저의 창 크기가 바뀌면서 내부 요소들의 구조나 경로가 바뀔 수 있음.\n",
    "- 반응형 웹이라서 그럼. 모바일과 웹 모두에 활용할 수 있는 웹사이트 구조\n",
    "- 브라우저 창을 최대화시켜서 구조 변경의 리스트를 최소화해서 크롤링해야함."
   ]
  },
  {
   "cell_type": "code",
   "execution_count": 59,
   "id": "91861fb7-2d3b-40f3-9bba-6a4a050dcada",
   "metadata": {},
   "outputs": [],
   "source": [
    "# 브라우저 화면 최대화\n",
    "driver.maximize_window()"
   ]
  },
  {
   "cell_type": "code",
   "execution_count": 63,
   "id": "48d77e70-f57a-4118-b481-853627f7de3b",
   "metadata": {},
   "outputs": [
    {
     "name": "stdout",
     "output_type": "stream",
     "text": [
      "['돼지불백 정식', '제육볶음&돼지불백 정식', '돼지불백 묵은지 김치찌개 정식', '돼지불백 덮밥', '빅 돼지불백 덮밥', '메가 돼지불백 덮밥', '김치볶음밥&돼지불백', '왕 제육 만두(2개)', '반찬 돼지불백']\n",
      "['8,500', '11,500', '12,900', '5,900', '6,500', '7,800', '7,900', '2,500', '4,500']\n"
     ]
    }
   ],
   "source": [
    "# 9개의 메뉴와 가격 추출하기\n",
    "menu_list = []\n",
    "price_list = []\n",
    "\n",
    "menues = driver.find_elements(By.CSS_SELECTOR,'.item-text h4')\n",
    "prices = driver.find_elements(By.CSS_SELECTOR,'.item-price strong')\n",
    "# Selector는 복사 가능함. Copy -> Copy selector 클릭하면 #menuList_627 > div > div.item-text > div > strong 이렇게 정확한 주소가 복사 됨.\n",
    "# class = blind는 웹 구조에는 있지만 출력 결과에 영향을 주지 않도록 텍스를 숨기기 위해 실무에서 종종 사용하므로 크롤링 불가\n",
    "\n",
    "for i in range(len(menues)):\n",
    "    menu_list.append(menues[i].text)\n",
    "    price_list.append(prices[i].text)\n",
    "\n",
    "print(menu_list)\n",
    "print(price_list)"
   ]
  },
  {
   "cell_type": "markdown",
   "id": "8f773dbd-c092-40ff-871b-b55b0556b450",
   "metadata": {},
   "source": [
    "2. '더보기'버튼 눌러 메뉴 확장"
   ]
  },
  {
   "cell_type": "code",
   "execution_count": 66,
   "id": "82eb1838-5d9c-4b01-a5be-ee95d4aeab77",
   "metadata": {
    "scrolled": true
   },
   "outputs": [
    {
     "ename": "ElementNotInteractableException",
     "evalue": "Message: element not interactable\n  (Session info: chrome=138.0.7204.51); For documentation on this error, please visit: https://www.selenium.dev/documentation/webdriver/troubleshooting/errors#elementnotinteractableexception\nStacktrace:\n\tGetHandleVerifier [0x0x7ff661b86f75+76917]\n\tGetHandleVerifier [0x0x7ff661b86fd0+77008]\n\t(No symbol) [0x0x7ff661939c1c]\n\t(No symbol) [0x0x7ff661991754]\n\t(No symbol) [0x0x7ff661983368]\n\t(No symbol) [0x0x7ff6619b846a]\n\t(No symbol) [0x0x7ff661982c16]\n\t(No symbol) [0x0x7ff6619b8680]\n\t(No symbol) [0x0x7ff6619e065c]\n\t(No symbol) [0x0x7ff6619b8243]\n\t(No symbol) [0x0x7ff661981431]\n\t(No symbol) [0x0x7ff6619821c3]\n\tGetHandleVerifier [0x0x7ff661e5d2ad+3051437]\n\tGetHandleVerifier [0x0x7ff661e57903+3028483]\n\tGetHandleVerifier [0x0x7ff661e7589d+3151261]\n\tGetHandleVerifier [0x0x7ff661ba183e+185662]\n\tGetHandleVerifier [0x0x7ff661ba96ff+218111]\n\tGetHandleVerifier [0x0x7ff661b8faf4+112628]\n\tGetHandleVerifier [0x0x7ff661b8fca9+113065]\n\tGetHandleVerifier [0x0x7ff661b76c78+10616]\n\tBaseThreadInitThunk [0x0x7ffe2216e8d7+23]\n\tRtlUserThreadStart [0x0x7ffe22abc34c+44]\n",
     "output_type": "error",
     "traceback": [
      "\u001b[1;31m---------------------------------------------------------------------------\u001b[0m",
      "\u001b[1;31mElementNotInteractableException\u001b[0m           Traceback (most recent call last)",
      "Cell \u001b[1;32mIn[66], line 5\u001b[0m\n\u001b[0;32m      3\u001b[0m \u001b[38;5;28;01mwhile\u001b[39;00m \u001b[38;5;28;01mTrue\u001b[39;00m:\n\u001b[0;32m      4\u001b[0m     look_more \u001b[38;5;241m=\u001b[39m driver\u001b[38;5;241m.\u001b[39mfind_element(By\u001b[38;5;241m.\u001b[39mCSS_SELECTOR,\u001b[38;5;124m'\u001b[39m\u001b[38;5;124m.c_05\u001b[39m\u001b[38;5;124m'\u001b[39m)\n\u001b[1;32m----> 5\u001b[0m     look_more\u001b[38;5;241m.\u001b[39mclick()\n\u001b[0;32m      6\u001b[0m     time\u001b[38;5;241m.\u001b[39msleep(\u001b[38;5;241m2\u001b[39m) \u001b[38;5;66;03m# 2초간 대기했다가 다음 코드 실행\u001b[39;00m\n\u001b[0;32m      7\u001b[0m \u001b[38;5;250m    \u001b[39m\u001b[38;5;124;03m'''더보기 버튼을 누르고 페이지가 뜨는데 시간이 걸릴 수 있는데 time.sleep이 없다면 페이지가 뜨기도 전에 무한정 버튼을 클릭해버린다.\u001b[39;00m\n\u001b[0;32m      8\u001b[0m \u001b[38;5;124;03m    그러면 과부하가 걸려서 정보가 제대로 수집되지 않는다.\u001b[39;00m\n\u001b[0;32m      9\u001b[0m \u001b[38;5;124;03m    더 심한 경우 서버 자체에서 보안 공경으로 오해해 접속한 내 PC의 IP를 차단해버릴 수 있어서 항상 조심해야함.'''\u001b[39;00m\n",
      "File \u001b[1;32m~\\anaconda3\\Lib\\site-packages\\selenium\\webdriver\\remote\\webelement.py:120\u001b[0m, in \u001b[0;36mWebElement.click\u001b[1;34m(self)\u001b[0m\n\u001b[0;32m    112\u001b[0m \u001b[38;5;28;01mdef\u001b[39;00m \u001b[38;5;21mclick\u001b[39m(\u001b[38;5;28mself\u001b[39m) \u001b[38;5;241m-\u001b[39m\u001b[38;5;241m>\u001b[39m \u001b[38;5;28;01mNone\u001b[39;00m:\n\u001b[0;32m    113\u001b[0m \u001b[38;5;250m    \u001b[39m\u001b[38;5;124;03m\"\"\"Clicks the element.\u001b[39;00m\n\u001b[0;32m    114\u001b[0m \n\u001b[0;32m    115\u001b[0m \u001b[38;5;124;03m    Example:\u001b[39;00m\n\u001b[1;32m   (...)\u001b[0m\n\u001b[0;32m    118\u001b[0m \u001b[38;5;124;03m    >>> element.click()\u001b[39;00m\n\u001b[0;32m    119\u001b[0m \u001b[38;5;124;03m    \"\"\"\u001b[39;00m\n\u001b[1;32m--> 120\u001b[0m     \u001b[38;5;28mself\u001b[39m\u001b[38;5;241m.\u001b[39m_execute(Command\u001b[38;5;241m.\u001b[39mCLICK_ELEMENT)\n",
      "File \u001b[1;32m~\\anaconda3\\Lib\\site-packages\\selenium\\webdriver\\remote\\webelement.py:573\u001b[0m, in \u001b[0;36mWebElement._execute\u001b[1;34m(self, command, params)\u001b[0m\n\u001b[0;32m    571\u001b[0m     params \u001b[38;5;241m=\u001b[39m {}\n\u001b[0;32m    572\u001b[0m params[\u001b[38;5;124m\"\u001b[39m\u001b[38;5;124mid\u001b[39m\u001b[38;5;124m\"\u001b[39m] \u001b[38;5;241m=\u001b[39m \u001b[38;5;28mself\u001b[39m\u001b[38;5;241m.\u001b[39m_id\n\u001b[1;32m--> 573\u001b[0m \u001b[38;5;28;01mreturn\u001b[39;00m \u001b[38;5;28mself\u001b[39m\u001b[38;5;241m.\u001b[39m_parent\u001b[38;5;241m.\u001b[39mexecute(command, params)\n",
      "File \u001b[1;32m~\\anaconda3\\Lib\\site-packages\\selenium\\webdriver\\remote\\webdriver.py:454\u001b[0m, in \u001b[0;36mWebDriver.execute\u001b[1;34m(self, driver_command, params)\u001b[0m\n\u001b[0;32m    451\u001b[0m response \u001b[38;5;241m=\u001b[39m cast(RemoteConnection, \u001b[38;5;28mself\u001b[39m\u001b[38;5;241m.\u001b[39mcommand_executor)\u001b[38;5;241m.\u001b[39mexecute(driver_command, params)\n\u001b[0;32m    453\u001b[0m \u001b[38;5;28;01mif\u001b[39;00m response:\n\u001b[1;32m--> 454\u001b[0m     \u001b[38;5;28mself\u001b[39m\u001b[38;5;241m.\u001b[39merror_handler\u001b[38;5;241m.\u001b[39mcheck_response(response)\n\u001b[0;32m    455\u001b[0m     response[\u001b[38;5;124m\"\u001b[39m\u001b[38;5;124mvalue\u001b[39m\u001b[38;5;124m\"\u001b[39m] \u001b[38;5;241m=\u001b[39m \u001b[38;5;28mself\u001b[39m\u001b[38;5;241m.\u001b[39m_unwrap_value(response\u001b[38;5;241m.\u001b[39mget(\u001b[38;5;124m\"\u001b[39m\u001b[38;5;124mvalue\u001b[39m\u001b[38;5;124m\"\u001b[39m, \u001b[38;5;28;01mNone\u001b[39;00m))\n\u001b[0;32m    456\u001b[0m     \u001b[38;5;28;01mreturn\u001b[39;00m response\n",
      "File \u001b[1;32m~\\anaconda3\\Lib\\site-packages\\selenium\\webdriver\\remote\\errorhandler.py:232\u001b[0m, in \u001b[0;36mErrorHandler.check_response\u001b[1;34m(self, response)\u001b[0m\n\u001b[0;32m    230\u001b[0m         alert_text \u001b[38;5;241m=\u001b[39m value[\u001b[38;5;124m\"\u001b[39m\u001b[38;5;124malert\u001b[39m\u001b[38;5;124m\"\u001b[39m]\u001b[38;5;241m.\u001b[39mget(\u001b[38;5;124m\"\u001b[39m\u001b[38;5;124mtext\u001b[39m\u001b[38;5;124m\"\u001b[39m)\n\u001b[0;32m    231\u001b[0m     \u001b[38;5;28;01mraise\u001b[39;00m exception_class(message, screen, stacktrace, alert_text)  \u001b[38;5;66;03m# type: ignore[call-arg]  # mypy is not smart enough here\u001b[39;00m\n\u001b[1;32m--> 232\u001b[0m \u001b[38;5;28;01mraise\u001b[39;00m exception_class(message, screen, stacktrace)\n",
      "\u001b[1;31mElementNotInteractableException\u001b[0m: Message: element not interactable\n  (Session info: chrome=138.0.7204.51); For documentation on this error, please visit: https://www.selenium.dev/documentation/webdriver/troubleshooting/errors#elementnotinteractableexception\nStacktrace:\n\tGetHandleVerifier [0x0x7ff661b86f75+76917]\n\tGetHandleVerifier [0x0x7ff661b86fd0+77008]\n\t(No symbol) [0x0x7ff661939c1c]\n\t(No symbol) [0x0x7ff661991754]\n\t(No symbol) [0x0x7ff661983368]\n\t(No symbol) [0x0x7ff6619b846a]\n\t(No symbol) [0x0x7ff661982c16]\n\t(No symbol) [0x0x7ff6619b8680]\n\t(No symbol) [0x0x7ff6619e065c]\n\t(No symbol) [0x0x7ff6619b8243]\n\t(No symbol) [0x0x7ff661981431]\n\t(No symbol) [0x0x7ff6619821c3]\n\tGetHandleVerifier [0x0x7ff661e5d2ad+3051437]\n\tGetHandleVerifier [0x0x7ff661e57903+3028483]\n\tGetHandleVerifier [0x0x7ff661e7589d+3151261]\n\tGetHandleVerifier [0x0x7ff661ba183e+185662]\n\tGetHandleVerifier [0x0x7ff661ba96ff+218111]\n\tGetHandleVerifier [0x0x7ff661b8faf4+112628]\n\tGetHandleVerifier [0x0x7ff661b8fca9+113065]\n\tGetHandleVerifier [0x0x7ff661b76c78+10616]\n\tBaseThreadInitThunk [0x0x7ffe2216e8d7+23]\n\tRtlUserThreadStart [0x0x7ffe22abc34c+44]\n"
     ]
    }
   ],
   "source": [
    "# 웹 페이지 하단에 있는 '더보기' 버튼을 누르는 코드 작성\n",
    "# 더보기 버튼이 몇 번이나 있을지 모르기 때문에 while문을 통해서 계속 눌러주는 코드\n",
    "while True:\n",
    "    look_more = driver.find_element(By.CSS_SELECTOR,'.c_05')\n",
    "    look_more.click()\n",
    "    time.sleep(2) # 2초간 대기했다가 다음 코드 실행\n",
    "    '''더보기 버튼을 누르고 페이지가 뜨는데 시간이 걸릴 수 있는데 time.sleep이 없다면 페이지가 뜨기도 전에 무한정 버튼을 클릭해버린다.\n",
    "    그러면 과부하가 걸려서 정보가 제대로 수집되지 않는다.\n",
    "    더 심한 경우 서버 자체에서 보안 공경으로 오해해 접속한 내 PC의 IP를 차단해버릴 수 있어서 항상 조심해야함.'''"
   ]
  },
  {
   "cell_type": "code",
   "execution_count": null,
   "id": "3eae0617-af64-452d-bbfb-97f56e1be22e",
   "metadata": {},
   "outputs": [],
   "source": [
    "# 코드는 맞게 짰지만 더 이상 '더보기'가 없는 경우에는 에러가 발생\n",
    "# '더보기'버튼이 언제 없어질지 모르는 상황에서 버튼이 없더라도 에러가 나지 않고 동작하도록 코드는 작성해야함."
   ]
  },
  {
   "cell_type": "markdown",
   "id": "bb927017-234e-4e3d-a5c1-5b423ea751d8",
   "metadata": {},
   "source": [
    "### 파이썬 예외처리 문법: try-except문\n",
    "- try 문: 일반적으로 동작하는 코드\n",
    "- except문: try문이 동작하지 않는 예외의 경우 작동되는 코드"
   ]
  },
  {
   "cell_type": "code",
   "execution_count": 68,
   "id": "1ac41b7b-e2f1-409b-968b-8c2e81ee8016",
   "metadata": {},
   "outputs": [
    {
     "name": "stdout",
     "output_type": "stream",
     "text": [
      "더 이상 더보기 버튼이 없습니다.\n",
      "['돼지불백 정식', '제육볶음&돼지불백 정식', '돼지불백 묵은지 김치찌개 정식', '돼지불백 덮밥', '빅 돼지불백 덮밥', '메가 돼지불백 덮밥', '김치볶음밥&돼지불백', '왕 제육 만두(2개)', '반찬 돼지불백', '스페셜 고등어 부대찌개 도시락', '스페셜 한우함박스테이크 도시락', '스페셜 해바라기 도시락', '스페셜 숯불직화 진달래 도시락', '스페셜 송정식 떡갈비 도시락', '진달래', '해바라기', '매화', '돈치 고기고기', '돈까스도련님 고기고기', '새치 고기고기', '칠리 찹쌀탕수육도련님', '제육볶음', '한우 함박스테이크& 청양 토네이도 소세지', '돈까스도련님', '한우 함박스테이크&토네이도 소세지', '제육돈까스 도련님', '돈치스팸', '치킨제육', '소불고기', '믹스후라이', '동백', '송정식 떡갈비', '송정식 떡갈비 Ⅱ', '메가치킨제육', '치킨마요 김치찌개 정식', '치킨마요 부대찌개 정식', '빅치킨마요 김치찌개 정식', '빅치킨마요 부대찌개 정식', '제육 김치찌개 정식', '메가스팸마요', '스팸마요', '메가치킨마요', '왕치킨마요', '빅치킨마요', '치킨마요', '참치마요', '돈치마요', '돈까스 카레', '스팸 김치볶음밥', '김치볶음밥', '스팸 철판볶음밥', '소불고기 철판볶음밥', '묵은지 김치찌개', '부대찌개', '빅 제많덮(빅 제육 많이 덮밥)', '제많덮(제육 많이 덮밥)', '스페셜 하이라이스', '핫 치즈 닭갈비덮밥', '오리지널 치즈 닭갈비덮밥', '숯불직화구이 덮밥', '마파두부 덮밥', '왕카레돈까스덮밥', '돈까스 덮밥', '열무 감초고추장 비빔밥', '열무 두부강된장 비빔밥', '제육야채 감초고추장 비빔밥', '소불고기 감초고추장 비빔밥', '시골제육 두부강된장 비빔밥', '참치야채 감초고추장 비빔밥', '단품 묵은지 김치찌개', '단품 카레', '반찬 순살 고등어 간장구이', '단품 부대찌개', '반찬 치킨', '반찬 고기고기', '반찬 돈까스도련님', '반찬 제육볶음', '반찬 토네이도 소세지', '반찬 돈까스', '3종 미니반찬B', '3종 미니반찬A', '한솥 두부강된장소스', '한솥 감초볶음고추장소스', '김치', '무말랭이 무침', '12곡밥', '현미밥', '한솥밥', '케이준후라이', '해시 포테이토 스틱', '치즈버터 해시 포테이토 스틱', '허니버터 해시 포테이토 스틱', '미니 찹쌀탕수육', '뉴 감자고로케', '미니 찹쌀핫도그', '멘치카츠', '크림 닭강정(소)', '크림 닭강정(중)', '통현미 닭강정(소)', '통현미 닭강정(중)', '후라이드 순살(소)_양념치킨소스', '후라이드 순살(소)_케이준소스', '후라이드 순살(중)', '치킹 반반순살(양념, 후라이드)', '치킹 반반순살(후라이드)', '제주녹차 미니꿀호떡']\n",
      "['8,500원', '11,500원', '12,900원', '5,900원', '6,500원', '7,800원', '7,900원', '2,500원', '4,500원', '15,000원', '14,000원', '13,000원', '12,000원', '11,000원', '8,000원', '10,000원', '10,500원', '6,100원', '6,600원', '7,100원', '4,500원', '4,700원', '8,900원', '4,900원', '8,900원', '4,900원', '5,000원', '5,000원', '5,700원', '6,000원', '6,200원', '6,900원', '6,900원', '7,800원', '7,100원', '7,600원', '7,700원', '8,200원', '8,800원', '5,900원', '4,000원', '6,200원', '5,100원', '4,400원', '3,800원', '3,600원', '4,100원', '4,800원', '4,900원', '4,100원', '4,900원', '5,100원', '5,000원', '6,100원', '6,900원', '5,900원', '5,900원', '6,100원', '6,100원', '6,000원', '5,000원', '6,100원', '4,300원', '4,900원', '5,500원', '3,800원', '5,700원', '5,500원', '3,800원', '4,400원', '2,900원', '3,900원', '4,900원', '3,800원', '3,600원', '4,100원', '3,500원', '3,200원', '2,900원', '1,300원', '1,300원', '1,800원', '600원', '500원', '500원', '2,100원', '1,700원', '1,000원', '1,900원', '2,000원', '2,200원', '2,200원', '2,300원', '2,700원', '2,800원', '2,800원', '3,900원', '9,900원', '3,500원', '9,000원', '4,000원', '4,000원', '7,500원', '16,900원', '16,900원', '2,500원']\n",
      "크롤링 완료!\n"
     ]
    }
   ],
   "source": [
    "try:\n",
    "    while True:\n",
    "        look_more = driver.find_element(By.CSS_SELECTOR,'.c_05')\n",
    "        look_more.click()\n",
    "        time.sleep(2)\n",
    "# try문이 동작하지 않는 예외의 경우\n",
    "except:\n",
    "        print('더 이상 더보기 버튼이 없습니다.')\n",
    "\n",
    "# 더보기 버튼 다 누르고 난 뒤 크롤링해야함.\n",
    "menues = driver.find_elements(By.CSS_SELECTOR,'.item-text h4')\n",
    "prices = driver.find_elements(By.CSS_SELECTOR,'.item-price strong')\n",
    "\n",
    "# 모든 메뉴와 가격 추출하기\n",
    "menu_list = []\n",
    "price_list = []\n",
    "\n",
    "menues = driver.find_elements(By.CSS_SELECTOR,'.item-text h4')\n",
    "prices = driver.find_elements(By.CSS_SELECTOR,'.item-price strong')\n",
    "\n",
    "for i in range(len(menues)):\n",
    "    menu_list.append(menues[i].text)\n",
    "    price_list.append(prices[i].text + '원')\n",
    "\n",
    "print(menu_list)\n",
    "print(price_list)\n",
    "print('크롤링 완료!')"
   ]
  },
  {
   "cell_type": "code",
   "execution_count": 70,
   "id": "a9378a74-6b4b-46f9-99b8-81f63c8f4c10",
   "metadata": {},
   "outputs": [
    {
     "name": "stdout",
     "output_type": "stream",
     "text": [
      "106 106\n"
     ]
    }
   ],
   "source": [
    "print(len(menu_list), len(price_list))"
   ]
  },
  {
   "cell_type": "code",
   "execution_count": 72,
   "id": "c717996c-25b4-46e9-99a1-216d561acf30",
   "metadata": {},
   "outputs": [],
   "source": [
    "driver.quit()"
   ]
  },
  {
   "cell_type": "markdown",
   "id": "d55daffe-edfc-406e-93f4-c288eaf5d17b",
   "metadata": {},
   "source": [
    "### 만든 메뉴와 가격 리스트의 값을 1:1로 대응시켜 딕셔너리로 만들기"
   ]
  },
  {
   "cell_type": "code",
   "execution_count": 76,
   "id": "fbb696e9-73ee-4193-bd4f-4c1828b5d468",
   "metadata": {},
   "outputs": [
    {
     "data": {
      "text/plain": [
       "<zip at 0x1ae93780c40>"
      ]
     },
     "execution_count": 76,
     "metadata": {},
     "output_type": "execute_result"
    }
   ],
   "source": [
    "# zip: 길이가 같은 2개의 순서가 있는 집합을 1:1로 대응시켜 튜플로 묶어주는 함수\n",
    "# zip 함수는 묶여진 데이터가 바로 표시되지 않아서 변수로 출력시켜도 주소값만 나올 뿐 바로 값을 확인은 못 함.\n",
    "\n",
    "temp = zip(menu_list, price_list)\n",
    "temp"
   ]
  },
  {
   "cell_type": "code",
   "execution_count": 78,
   "id": "87f3f7dd-3ad3-4bdb-94da-24be4ed83108",
   "metadata": {
    "scrolled": true
   },
   "outputs": [
    {
     "data": {
      "text/plain": [
       "{'돼지불백 정식': '8,500원',\n",
       " '제육볶음&돼지불백 정식': '11,500원',\n",
       " '돼지불백 묵은지 김치찌개 정식': '12,900원',\n",
       " '돼지불백 덮밥': '5,900원',\n",
       " '빅 돼지불백 덮밥': '6,500원',\n",
       " '메가 돼지불백 덮밥': '7,800원',\n",
       " '김치볶음밥&돼지불백': '7,900원',\n",
       " '왕 제육 만두(2개)': '2,500원',\n",
       " '반찬 돼지불백': '4,500원',\n",
       " '스페셜 고등어 부대찌개 도시락': '15,000원',\n",
       " '스페셜 한우함박스테이크 도시락': '14,000원',\n",
       " '스페셜 해바라기 도시락': '13,000원',\n",
       " '스페셜 숯불직화 진달래 도시락': '12,000원',\n",
       " '스페셜 송정식 떡갈비 도시락': '11,000원',\n",
       " '진달래': '8,000원',\n",
       " '해바라기': '10,000원',\n",
       " '매화': '10,500원',\n",
       " '돈치 고기고기': '6,100원',\n",
       " '돈까스도련님 고기고기': '6,600원',\n",
       " '새치 고기고기': '7,100원',\n",
       " '칠리 찹쌀탕수육도련님': '4,500원',\n",
       " '제육볶음': '4,700원',\n",
       " '한우 함박스테이크& 청양 토네이도 소세지': '8,900원',\n",
       " '돈까스도련님': '4,900원',\n",
       " '한우 함박스테이크&토네이도 소세지': '8,900원',\n",
       " '제육돈까스 도련님': '4,900원',\n",
       " '돈치스팸': '5,000원',\n",
       " '치킨제육': '5,000원',\n",
       " '소불고기': '5,700원',\n",
       " '믹스후라이': '6,000원',\n",
       " '동백': '6,200원',\n",
       " '송정식 떡갈비': '6,900원',\n",
       " '송정식 떡갈비 Ⅱ': '6,900원',\n",
       " '메가치킨제육': '7,800원',\n",
       " '치킨마요 김치찌개 정식': '7,100원',\n",
       " '치킨마요 부대찌개 정식': '7,600원',\n",
       " '빅치킨마요 김치찌개 정식': '7,700원',\n",
       " '빅치킨마요 부대찌개 정식': '8,200원',\n",
       " '제육 김치찌개 정식': '8,800원',\n",
       " '메가스팸마요': '5,900원',\n",
       " '스팸마요': '4,000원',\n",
       " '메가치킨마요': '6,200원',\n",
       " '왕치킨마요': '5,100원',\n",
       " '빅치킨마요': '4,400원',\n",
       " '치킨마요': '3,800원',\n",
       " '참치마요': '3,600원',\n",
       " '돈치마요': '4,100원',\n",
       " '돈까스 카레': '4,800원',\n",
       " '스팸 김치볶음밥': '4,900원',\n",
       " '김치볶음밥': '4,100원',\n",
       " '스팸 철판볶음밥': '4,900원',\n",
       " '소불고기 철판볶음밥': '5,100원',\n",
       " '묵은지 김치찌개': '5,000원',\n",
       " '부대찌개': '6,100원',\n",
       " '빅 제많덮(빅 제육 많이 덮밥)': '6,900원',\n",
       " '제많덮(제육 많이 덮밥)': '5,900원',\n",
       " '스페셜 하이라이스': '5,900원',\n",
       " '핫 치즈 닭갈비덮밥': '6,100원',\n",
       " '오리지널 치즈 닭갈비덮밥': '6,100원',\n",
       " '숯불직화구이 덮밥': '6,000원',\n",
       " '마파두부 덮밥': '5,000원',\n",
       " '왕카레돈까스덮밥': '6,100원',\n",
       " '돈까스 덮밥': '4,300원',\n",
       " '열무 감초고추장 비빔밥': '4,900원',\n",
       " '열무 두부강된장 비빔밥': '5,500원',\n",
       " '제육야채 감초고추장 비빔밥': '3,800원',\n",
       " '소불고기 감초고추장 비빔밥': '5,700원',\n",
       " '시골제육 두부강된장 비빔밥': '5,500원',\n",
       " '참치야채 감초고추장 비빔밥': '3,800원',\n",
       " '단품 묵은지 김치찌개': '4,400원',\n",
       " '단품 카레': '2,900원',\n",
       " '반찬 순살 고등어 간장구이': '3,900원',\n",
       " '단품 부대찌개': '4,900원',\n",
       " '반찬 치킨': '3,800원',\n",
       " '반찬 고기고기': '3,600원',\n",
       " '반찬 돈까스도련님': '4,100원',\n",
       " '반찬 제육볶음': '3,500원',\n",
       " '반찬 토네이도 소세지': '3,200원',\n",
       " '반찬 돈까스': '2,900원',\n",
       " '3종 미니반찬B': '1,300원',\n",
       " '3종 미니반찬A': '1,300원',\n",
       " '한솥 두부강된장소스': '1,800원',\n",
       " '한솥 감초볶음고추장소스': '600원',\n",
       " '김치': '500원',\n",
       " '무말랭이 무침': '500원',\n",
       " '12곡밥': '2,100원',\n",
       " '현미밥': '1,700원',\n",
       " '한솥밥': '1,000원',\n",
       " '케이준후라이': '1,900원',\n",
       " '해시 포테이토 스틱': '2,000원',\n",
       " '치즈버터 해시 포테이토 스틱': '2,200원',\n",
       " '허니버터 해시 포테이토 스틱': '2,200원',\n",
       " '미니 찹쌀탕수육': '2,300원',\n",
       " '뉴 감자고로케': '2,700원',\n",
       " '미니 찹쌀핫도그': '2,800원',\n",
       " '멘치카츠': '2,800원',\n",
       " '크림 닭강정(소)': '3,900원',\n",
       " '크림 닭강정(중)': '9,900원',\n",
       " '통현미 닭강정(소)': '3,500원',\n",
       " '통현미 닭강정(중)': '9,000원',\n",
       " '후라이드 순살(소)_양념치킨소스': '4,000원',\n",
       " '후라이드 순살(소)_케이준소스': '4,000원',\n",
       " '후라이드 순살(중)': '7,500원',\n",
       " '치킹 반반순살(양념, 후라이드)': '16,900원',\n",
       " '치킹 반반순살(후라이드)': '16,900원',\n",
       " '제주녹차 미니꿀호떡': '2,500원'}"
      ]
     },
     "execution_count": 78,
     "metadata": {},
     "output_type": "execute_result"
    }
   ],
   "source": [
    "# 메뉴와 가격을 1:1로 대응시킨 zip형태를 딕셔너리로 형 변환\n",
    "menu_price_dic = dict(temp)\n",
    "menu_price_dic"
   ]
  },
  {
   "cell_type": "markdown",
   "id": "fe4c3fce-4924-4f0d-835e-ada222fff81d",
   "metadata": {},
   "source": [
    "### 모든 코드를 한 셀에 담아서 한 번에 실행하기\n",
    "- 웹 크롤러나 기타 코드로 실행 파일을 만든다면 코드가 한 셀에서 시작부터 끝까지 모두 들어가야함.\n",
    "- 보통 한 셀에 모든 코드를 쓴다."
   ]
  },
  {
   "cell_type": "code",
   "execution_count": 81,
   "id": "b62c5161-cee6-4f7d-86e7-4cd312bb6cef",
   "metadata": {},
   "outputs": [
    {
     "name": "stdout",
     "output_type": "stream",
     "text": [
      "더 이상 더보기 버튼이 없습니다.\n"
     ]
    },
    {
     "name": "stderr",
     "output_type": "stream",
     "text": [
      "100%|████████████████████████████████████████████████████████████████████████████████| 106/106 [00:02<00:00, 35.66it/s]\n"
     ]
    },
    {
     "name": "stdout",
     "output_type": "stream",
     "text": [
      "크롤링 완료!\n",
      "총 메뉴 개수: 106\n",
      "총 가격 개수: 106\n"
     ]
    },
    {
     "data": {
      "text/plain": [
       "{'돼지불백 정식': '8,500원',\n",
       " '제육볶음&돼지불백 정식': '11,500원',\n",
       " '돼지불백 묵은지 김치찌개 정식': '12,900원',\n",
       " '돼지불백 덮밥': '5,900원',\n",
       " '빅 돼지불백 덮밥': '6,500원',\n",
       " '메가 돼지불백 덮밥': '7,800원',\n",
       " '김치볶음밥&돼지불백': '7,900원',\n",
       " '왕 제육 만두(2개)': '2,500원',\n",
       " '반찬 돼지불백': '4,500원',\n",
       " '스페셜 고등어 부대찌개 도시락': '15,000원',\n",
       " '스페셜 한우함박스테이크 도시락': '14,000원',\n",
       " '스페셜 해바라기 도시락': '13,000원',\n",
       " '스페셜 숯불직화 진달래 도시락': '12,000원',\n",
       " '스페셜 송정식 떡갈비 도시락': '11,000원',\n",
       " '진달래': '8,000원',\n",
       " '해바라기': '10,000원',\n",
       " '매화': '10,500원',\n",
       " '돈치 고기고기': '6,100원',\n",
       " '돈까스도련님 고기고기': '6,600원',\n",
       " '새치 고기고기': '7,100원',\n",
       " '칠리 찹쌀탕수육도련님': '4,500원',\n",
       " '제육볶음': '4,700원',\n",
       " '한우 함박스테이크& 청양 토네이도 소세지': '8,900원',\n",
       " '돈까스도련님': '4,900원',\n",
       " '한우 함박스테이크&토네이도 소세지': '8,900원',\n",
       " '제육돈까스 도련님': '4,900원',\n",
       " '돈치스팸': '5,000원',\n",
       " '치킨제육': '5,000원',\n",
       " '소불고기': '5,700원',\n",
       " '믹스후라이': '6,000원',\n",
       " '동백': '6,200원',\n",
       " '송정식 떡갈비': '6,900원',\n",
       " '송정식 떡갈비 Ⅱ': '6,900원',\n",
       " '메가치킨제육': '7,800원',\n",
       " '치킨마요 김치찌개 정식': '7,100원',\n",
       " '치킨마요 부대찌개 정식': '7,600원',\n",
       " '빅치킨마요 김치찌개 정식': '7,700원',\n",
       " '빅치킨마요 부대찌개 정식': '8,200원',\n",
       " '제육 김치찌개 정식': '8,800원',\n",
       " '메가스팸마요': '5,900원',\n",
       " '스팸마요': '4,000원',\n",
       " '메가치킨마요': '6,200원',\n",
       " '왕치킨마요': '5,100원',\n",
       " '빅치킨마요': '4,400원',\n",
       " '치킨마요': '3,800원',\n",
       " '참치마요': '3,600원',\n",
       " '돈치마요': '4,100원',\n",
       " '돈까스 카레': '4,800원',\n",
       " '스팸 김치볶음밥': '4,900원',\n",
       " '김치볶음밥': '4,100원',\n",
       " '스팸 철판볶음밥': '4,900원',\n",
       " '소불고기 철판볶음밥': '5,100원',\n",
       " '묵은지 김치찌개': '5,000원',\n",
       " '부대찌개': '6,100원',\n",
       " '빅 제많덮(빅 제육 많이 덮밥)': '6,900원',\n",
       " '제많덮(제육 많이 덮밥)': '5,900원',\n",
       " '스페셜 하이라이스': '5,900원',\n",
       " '핫 치즈 닭갈비덮밥': '6,100원',\n",
       " '오리지널 치즈 닭갈비덮밥': '6,100원',\n",
       " '숯불직화구이 덮밥': '6,000원',\n",
       " '마파두부 덮밥': '5,000원',\n",
       " '왕카레돈까스덮밥': '6,100원',\n",
       " '돈까스 덮밥': '4,300원',\n",
       " '열무 감초고추장 비빔밥': '4,900원',\n",
       " '열무 두부강된장 비빔밥': '5,500원',\n",
       " '제육야채 감초고추장 비빔밥': '3,800원',\n",
       " '소불고기 감초고추장 비빔밥': '5,700원',\n",
       " '시골제육 두부강된장 비빔밥': '5,500원',\n",
       " '참치야채 감초고추장 비빔밥': '3,800원',\n",
       " '단품 묵은지 김치찌개': '4,400원',\n",
       " '단품 카레': '2,900원',\n",
       " '반찬 순살 고등어 간장구이': '3,900원',\n",
       " '단품 부대찌개': '4,900원',\n",
       " '반찬 치킨': '3,800원',\n",
       " '반찬 고기고기': '3,600원',\n",
       " '반찬 돈까스도련님': '4,100원',\n",
       " '반찬 제육볶음': '3,500원',\n",
       " '반찬 토네이도 소세지': '3,200원',\n",
       " '반찬 돈까스': '2,900원',\n",
       " '3종 미니반찬B': '1,300원',\n",
       " '3종 미니반찬A': '1,300원',\n",
       " '한솥 두부강된장소스': '1,800원',\n",
       " '한솥 감초볶음고추장소스': '600원',\n",
       " '김치': '500원',\n",
       " '무말랭이 무침': '500원',\n",
       " '12곡밥': '2,100원',\n",
       " '현미밥': '1,700원',\n",
       " '한솥밥': '1,000원',\n",
       " '케이준후라이': '1,900원',\n",
       " '해시 포테이토 스틱': '2,000원',\n",
       " '치즈버터 해시 포테이토 스틱': '2,200원',\n",
       " '허니버터 해시 포테이토 스틱': '2,200원',\n",
       " '미니 찹쌀탕수육': '2,300원',\n",
       " '뉴 감자고로케': '2,700원',\n",
       " '미니 찹쌀핫도그': '2,800원',\n",
       " '멘치카츠': '2,800원',\n",
       " '크림 닭강정(소)': '3,900원',\n",
       " '크림 닭강정(중)': '9,900원',\n",
       " '통현미 닭강정(소)': '3,500원',\n",
       " '통현미 닭강정(중)': '9,000원',\n",
       " '후라이드 순살(소)_양념치킨소스': '4,000원',\n",
       " '후라이드 순살(소)_케이준소스': '4,000원',\n",
       " '후라이드 순살(중)': '7,500원',\n",
       " '치킹 반반순살(양념, 후라이드)': '16,900원',\n",
       " '치킹 반반순살(후라이드)': '16,900원',\n",
       " '제주녹차 미니꿀호떡': '2,500원'}"
      ]
     },
     "execution_count": 81,
     "metadata": {},
     "output_type": "execute_result"
    }
   ],
   "source": [
    "driver = wb.Chrome()\n",
    "driver.get('https://www.hsd.co.kr/menu/menu_list')\n",
    "driver.maximize_window()\n",
    "time.sleep(2) # 창 다 뜨기까지 기다리기\n",
    "\n",
    "try:\n",
    "    while True:\n",
    "        look_more = driver.find_element(By.CSS_SELECTOR,'.c_05')\n",
    "        look_more.click()\n",
    "        time.sleep(2)\n",
    "except:\n",
    "        print('더 이상 더보기 버튼이 없습니다.')\n",
    "\n",
    "menues = driver.find_elements(By.CSS_SELECTOR,'.item-text h4')\n",
    "prices = driver.find_elements(By.CSS_SELECTOR,'.item-price strong')\n",
    "\n",
    "menu_list = []\n",
    "price_list = []\n",
    "\n",
    "menues = driver.find_elements(By.CSS_SELECTOR,'.item-text h4')\n",
    "prices = driver.find_elements(By.CSS_SELECTOR,'.item-price strong')\n",
    "\n",
    "for i in tqdm(range(len(menues))):\n",
    "    menu_list.append(menues[i].text)\n",
    "    price_list.append(prices[i].text + '원')\n",
    "\n",
    "print('크롤링 완료!')\n",
    "driver.quit()\n",
    "\n",
    "print(f'총 메뉴 개수: {len(menu_list)}')\n",
    "print(f'총 가격 개수: {len(price_list)}')\n",
    "\n",
    "temp = zip(menu_list, price_list)\n",
    "menu_price_dic = dict(temp)\n",
    "menu_price_dic"
   ]
  },
  {
   "cell_type": "markdown",
   "id": "0301e18e-3204-4a5c-84a9-77d464d2b8c8",
   "metadata": {},
   "source": [
    "- 때로는 BeautifulSoup이 더 좋을 때도 있다.\n",
    "- Selenium은 time.sleep을 줘야해서 느림."
   ]
  },
  {
   "cell_type": "code",
   "execution_count": null,
   "id": "756a6670-b4b8-4bd7-964d-e79b52b61866",
   "metadata": {},
   "outputs": [],
   "source": []
  }
 ],
 "metadata": {
  "kernelspec": {
   "display_name": "Python 3 (ipykernel)",
   "language": "python",
   "name": "python3"
  },
  "language_info": {
   "codemirror_mode": {
    "name": "ipython",
    "version": 3
   },
   "file_extension": ".py",
   "mimetype": "text/x-python",
   "name": "python",
   "nbconvert_exporter": "python",
   "pygments_lexer": "ipython3",
   "version": "3.12.4"
  }
 },
 "nbformat": 4,
 "nbformat_minor": 5
}
