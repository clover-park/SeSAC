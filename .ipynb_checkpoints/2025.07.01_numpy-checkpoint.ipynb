{
 "cells": [
  {
   "cell_type": "markdown",
   "id": "18d66ef0-792b-40a5-ab6f-72bc3a411dbb",
   "metadata": {},
   "source": [
    "## Numpy\n",
    "- 복잡한 빅데이터의 수학/과학 계산을 위해 만들어진 라이브러리\n",
    "- 반복문 없이 전체 배열 연산이 가능한 표준 함수들 제공\n",
    "- 배열: 같은 자료형의 원소들이 연속적인 형태로 구성된 자료 구조로 다량의 데이터를 그룹으로 관리하기 위해 사용"
   ]
  },
  {
   "cell_type": "code",
   "execution_count": 3,
   "id": "8249c5ca-9b33-47b1-9b1c-3c0a65ecb740",
   "metadata": {},
   "outputs": [],
   "source": [
    "import numpy as np"
   ]
  },
  {
   "cell_type": "code",
   "execution_count": 4,
   "id": "d6100418-1d93-407a-acb3-ea0c7dcaa4b8",
   "metadata": {},
   "outputs": [
    {
     "data": {
      "text/plain": [
       "array([1, 2, 3, 4, 5])"
      ]
     },
     "execution_count": 4,
     "metadata": {},
     "output_type": "execute_result"
    }
   ],
   "source": [
    "test_list = [1,2,3,4,5]\n",
    "arr = np.array(test_list)\n",
    "arr"
   ]
  },
  {
   "cell_type": "code",
   "execution_count": 5,
   "id": "2355093c-1701-43d9-a6c9-9f28277356fd",
   "metadata": {},
   "outputs": [
    {
     "data": {
      "text/plain": [
       "numpy.ndarray"
      ]
     },
     "execution_count": 5,
     "metadata": {},
     "output_type": "execute_result"
    }
   ],
   "source": [
    "type(arr)"
   ]
  },
  {
   "cell_type": "code",
   "execution_count": 6,
   "id": "654f0f02-cec5-4b21-b50c-3d2eeda65419",
   "metadata": {},
   "outputs": [
    {
     "data": {
      "text/plain": [
       "array([2, 3, 4, 5, 6])"
      ]
     },
     "execution_count": 6,
     "metadata": {},
     "output_type": "execute_result"
    }
   ],
   "source": [
    "# 배열 연산시 내부 각각의 값에 직접 연산됨.\n",
    "arr+1"
   ]
  },
  {
   "cell_type": "code",
   "execution_count": 7,
   "id": "d1ce2dca-5fed-4cee-ac7e-30d58d751188",
   "metadata": {},
   "outputs": [
    {
     "data": {
      "text/plain": [
       "array([ 2,  4,  6,  8, 10])"
      ]
     },
     "execution_count": 7,
     "metadata": {},
     "output_type": "execute_result"
    }
   ],
   "source": [
    "arr*2"
   ]
  },
  {
   "cell_type": "code",
   "execution_count": 8,
   "id": "d03a543c-9fbd-48aa-a180-9edaedf85421",
   "metadata": {},
   "outputs": [
    {
     "data": {
      "text/plain": [
       "array([[1, 2, 3],\n",
       "       [4, 5, 6]])"
      ]
     },
     "execution_count": 8,
     "metadata": {},
     "output_type": "execute_result"
    }
   ],
   "source": [
    "# 2차원 배열\n",
    "arr2 = np.array([[1,2,3],\n",
    "                 [4,5,6]])\n",
    "arr2"
   ]
  },
  {
   "cell_type": "code",
   "execution_count": 9,
   "id": "2eea60e9-d07a-4ee6-a4de-f0f073539414",
   "metadata": {},
   "outputs": [
    {
     "data": {
      "text/plain": [
       "(2, 3)"
      ]
     },
     "execution_count": 9,
     "metadata": {},
     "output_type": "execute_result"
    }
   ],
   "source": [
    "# shape: 배열의 형태 확인(행,열)\n",
    "arr2.shape # arr2는 2행 3열"
   ]
  },
  {
   "cell_type": "code",
   "execution_count": 10,
   "id": "4c9a969d-af6b-444f-9077-7c0dc4bbaac5",
   "metadata": {},
   "outputs": [
    {
     "data": {
      "text/plain": [
       "6"
      ]
     },
     "execution_count": 10,
     "metadata": {},
     "output_type": "execute_result"
    }
   ],
   "source": [
    "#size: 배열의 값 전체 개수\n",
    "arr2.size"
   ]
  },
  {
   "cell_type": "code",
   "execution_count": 11,
   "id": "9b1288f2-9297-4592-8f87-ab75c87ea283",
   "metadata": {},
   "outputs": [
    {
     "data": {
      "text/plain": [
       "dtype('int32')"
      ]
     },
     "execution_count": 11,
     "metadata": {},
     "output_type": "execute_result"
    }
   ],
   "source": [
    "# dtype: 배열 내 데이터의 타입\n",
    "arr2.dtype"
   ]
  },
  {
   "cell_type": "code",
   "execution_count": 12,
   "id": "be1afdc6-9653-4b37-a839-2df8554396f3",
   "metadata": {},
   "outputs": [
    {
     "data": {
      "text/plain": [
       "2"
      ]
     },
     "execution_count": 12,
     "metadata": {},
     "output_type": "execute_result"
    }
   ],
   "source": [
    "# ndim: 배열의 차원 확인\n",
    "arr2.ndim"
   ]
  },
  {
   "cell_type": "code",
   "execution_count": 13,
   "id": "afd38eb1-c227-467a-9a87-d6e131084559",
   "metadata": {},
   "outputs": [
    {
     "data": {
      "text/plain": [
       "array([[[ 1,  2],\n",
       "        [ 3,  4],\n",
       "        [ 5,  6]],\n",
       "\n",
       "       [[ 7,  8],\n",
       "        [ 9, 10],\n",
       "        [11, 12]]])"
      ]
     },
     "execution_count": 13,
     "metadata": {},
     "output_type": "execute_result"
    }
   ],
   "source": [
    "arr3 = np.array([[[1,2],[3,4],[5,6]],\n",
    "                 [[7,8],[9,10],[11,12]]])\n",
    "arr3"
   ]
  },
  {
   "cell_type": "code",
   "execution_count": 14,
   "id": "8c96e10a-8732-4a91-a85f-0beba27b7d31",
   "metadata": {},
   "outputs": [
    {
     "name": "stdout",
     "output_type": "stream",
     "text": [
      "arr3의 형태:  (2, 3, 2)\n",
      "arr3의 차원:  3\n",
      "arr3의 전체 요소 개수 5\n"
     ]
    }
   ],
   "source": [
    "# arr3의 형태, 차원, 전체 요소 개수\n",
    "print(\"arr3의 형태: \",arr3.shape) # (2,3,2): 2행 3열인 것이 2개 있음\n",
    "print(\"arr3의 차원: \",arr3.ndim)\n",
    "print(\"arr3의 전체 요소 개수\", arr.size)"
   ]
  },
  {
   "cell_type": "code",
   "execution_count": 15,
   "id": "6b37d90e-2839-4a95-8215-88f21985d981",
   "metadata": {},
   "outputs": [
    {
     "data": {
      "text/plain": [
       "array([[0., 0., 0., 0.],\n",
       "       [0., 0., 0., 0.],\n",
       "       [0., 0., 0., 0.]])"
      ]
     },
     "execution_count": 15,
     "metadata": {},
     "output_type": "execute_result"
    }
   ],
   "source": [
    "# 0으로 배열 생성\n",
    "arr_zeros = np.zeros((3,4)) # 0으로만 이루어진 3행 4열 배열 만들기\n",
    "arr_zeros"
   ]
  },
  {
   "cell_type": "code",
   "execution_count": 16,
   "id": "7f553a11-d031-4f59-8b88-adc59246fe80",
   "metadata": {},
   "outputs": [
    {
     "data": {
      "text/plain": [
       "array([[[1., 1., 1., 1.],\n",
       "        [1., 1., 1., 1.],\n",
       "        [1., 1., 1., 1.]],\n",
       "\n",
       "       [[1., 1., 1., 1.],\n",
       "        [1., 1., 1., 1.],\n",
       "        [1., 1., 1., 1.]]])"
      ]
     },
     "execution_count": 16,
     "metadata": {},
     "output_type": "execute_result"
    }
   ],
   "source": [
    "arr_ones = np.ones((2,3,4)) # 1로만 이루어진 3행 4열 배열 2개 만들기\n",
    "arr_ones"
   ]
  },
  {
   "cell_type": "code",
   "execution_count": 17,
   "id": "ff845192-a3d1-40f6-875d-1166d6652cfe",
   "metadata": {},
   "outputs": [
    {
     "data": {
      "text/plain": [
       "array([[[2, 2],\n",
       "        [2, 2],\n",
       "        [2, 2]],\n",
       "\n",
       "       [[2, 2],\n",
       "        [2, 2],\n",
       "        [2, 2]]])"
      ]
     },
     "execution_count": 17,
     "metadata": {},
     "output_type": "execute_result"
    }
   ],
   "source": [
    "# 특정 값으로 배열 생성\n",
    "arr_full = np.full((2,3,2),2) # (shape, 값)을 적으면 됨.\n",
    "arr_full"
   ]
  },
  {
   "cell_type": "markdown",
   "id": "3ba621c3-9897-454b-bef9-dace656f59ab",
   "metadata": {},
   "source": [
    "### 다차원 배열 생성에 유용한 함수\n",
    "- arange: 연속된 수치로 배열 생성\n",
    "- reshape: 생성된 배열의 shape를 재설정"
   ]
  },
  {
   "cell_type": "code",
   "execution_count": 19,
   "id": "618a85a4-67e2-4cfe-a5ac-9730eeed0c83",
   "metadata": {},
   "outputs": [
    {
     "data": {
      "text/plain": [
       "array([ 1,  2,  3,  4,  5,  6,  7,  8,  9, 10, 11, 12, 13, 14, 15, 16, 17,\n",
       "       18, 19, 20, 21, 22, 23, 24, 25, 26, 27, 28, 29, 30, 31, 32, 33, 34,\n",
       "       35, 36, 37, 38, 39, 40, 41, 42, 43, 44, 45, 46, 47, 48, 49, 50])"
      ]
     },
     "execution_count": 19,
     "metadata": {},
     "output_type": "execute_result"
    }
   ],
   "source": [
    "# 반복문을 사용하지 않고도 연속된 배열 생성 가능\n",
    "arr4 = np.arange(1,51,1)\n",
    "arr4"
   ]
  },
  {
   "cell_type": "code",
   "execution_count": 20,
   "id": "545381d9-6fe4-413f-85a1-32cedc600de4",
   "metadata": {},
   "outputs": [
    {
     "data": {
      "text/plain": [
       "array([ 1, 11, 21, 31, 41])"
      ]
     },
     "execution_count": 20,
     "metadata": {},
     "output_type": "execute_result"
    }
   ],
   "source": [
    "# 1부터 50까지 중에 1,11,21,31,41로 배열 생성하기\n",
    "arr5 = np.arange(1,51,10)\n",
    "arr5"
   ]
  },
  {
   "cell_type": "code",
   "execution_count": 21,
   "id": "31b3d97b-19d6-4253-a66c-21a3a5401452",
   "metadata": {},
   "outputs": [
    {
     "data": {
      "text/plain": [
       "array([[ 1,  2,  3,  4,  5,  6,  7,  8,  9, 10],\n",
       "       [11, 12, 13, 14, 15, 16, 17, 18, 19, 20],\n",
       "       [21, 22, 23, 24, 25, 26, 27, 28, 29, 30],\n",
       "       [31, 32, 33, 34, 35, 36, 37, 38, 39, 40],\n",
       "       [41, 42, 43, 44, 45, 46, 47, 48, 49, 50]])"
      ]
     },
     "execution_count": 21,
     "metadata": {},
     "output_type": "execute_result"
    }
   ],
   "source": [
    "arr4.reshape(5,10) # (5,11)은 에러남."
   ]
  },
  {
   "cell_type": "code",
   "execution_count": 22,
   "id": "052fa9c1-beb8-45b6-9c65-8ae728d8500f",
   "metadata": {
    "scrolled": true
   },
   "outputs": [
    {
     "data": {
      "text/plain": [
       "array([[ 1,  2],\n",
       "       [ 3,  4],\n",
       "       [ 5,  6],\n",
       "       [ 7,  8],\n",
       "       [ 9, 10],\n",
       "       [11, 12],\n",
       "       [13, 14],\n",
       "       [15, 16],\n",
       "       [17, 18],\n",
       "       [19, 20],\n",
       "       [21, 22],\n",
       "       [23, 24],\n",
       "       [25, 26],\n",
       "       [27, 28],\n",
       "       [29, 30],\n",
       "       [31, 32],\n",
       "       [33, 34],\n",
       "       [35, 36],\n",
       "       [37, 38],\n",
       "       [39, 40],\n",
       "       [41, 42],\n",
       "       [43, 44],\n",
       "       [45, 46],\n",
       "       [47, 48],\n",
       "       [49, 50]])"
      ]
     },
     "execution_count": 22,
     "metadata": {},
     "output_type": "execute_result"
    }
   ],
   "source": [
    "arr6 = arr4.reshape(25,2) # arr4에 직접적으로 적용되지 않음. 변수에 저장해야함.\n",
    "arr6"
   ]
  },
  {
   "cell_type": "code",
   "execution_count": 23,
   "id": "f0824f5d-bf5e-468d-be3e-637d447b4681",
   "metadata": {},
   "outputs": [
    {
     "data": {
      "text/plain": [
       "array([1.2, 2.3, 3.7])"
      ]
     },
     "execution_count": 23,
     "metadata": {},
     "output_type": "execute_result"
    }
   ],
   "source": [
    "# 실수값으로 배열 생성\n",
    "arr7 = np.array([1.2,2.3,3.7])\n",
    "arr7"
   ]
  },
  {
   "cell_type": "code",
   "execution_count": 24,
   "id": "477fe8e1-f9c2-4c2f-a95b-0c2f55050548",
   "metadata": {},
   "outputs": [
    {
     "data": {
      "text/plain": [
       "dtype('float64')"
      ]
     },
     "execution_count": 24,
     "metadata": {},
     "output_type": "execute_result"
    }
   ],
   "source": [
    "arr7.dtype"
   ]
  },
  {
   "cell_type": "code",
   "execution_count": 25,
   "id": "97992a1b-3299-4430-af05-88acf8c84d91",
   "metadata": {},
   "outputs": [
    {
     "data": {
      "text/plain": [
       "array([1, 2, 3])"
      ]
     },
     "execution_count": 25,
     "metadata": {},
     "output_type": "execute_result"
    }
   ],
   "source": [
    "# 실수 배열을 정수형으로 변경(정수 자리만 남기고 소숫점 이하는 사라짐)\n",
    "arr8 = np.array([1.2,2.3,3.7], dtype = np.int32)\n",
    "arr8"
   ]
  },
  {
   "cell_type": "code",
   "execution_count": 26,
   "id": "02b299c0-1438-4ad1-9b6f-26edbd5d8f7c",
   "metadata": {},
   "outputs": [
    {
     "data": {
      "text/plain": [
       "array([1., 2., 3.], dtype=float32)"
      ]
     },
     "execution_count": 26,
     "metadata": {},
     "output_type": "execute_result"
    }
   ],
   "source": [
    "# 정수 배열을 실수형으로 변경(.뒤에 0이 생략된 상태)\n",
    "arr9 = np.array([1,2,3], dtype = np.float32)\n",
    "arr9"
   ]
  },
  {
   "cell_type": "markdown",
   "id": "33f00ef1-8ada-445f-b61b-a9923a836473",
   "metadata": {},
   "source": [
    "### 랜덤 값 생성"
   ]
  },
  {
   "cell_type": "code",
   "execution_count": 28,
   "id": "9fa8dfab-a4d3-4320-9ea2-ac829ba7b461",
   "metadata": {},
   "outputs": [
    {
     "data": {
      "text/plain": [
       "array([[0.81877074, 0.05188067, 0.65519833],\n",
       "       [0.57875713, 0.07141982, 0.29223669]])"
      ]
     },
     "execution_count": 28,
     "metadata": {},
     "output_type": "execute_result"
    }
   ],
   "source": [
    "# rand = 0~1사이의 난수값 생성\n",
    "arr10 = np.random.rand(2,3) # 2행 3열의 배열에 각각 0~1 사이의 랜덤한 값을 생성\n",
    "arr10"
   ]
  },
  {
   "cell_type": "code",
   "execution_count": 29,
   "id": "f85da4de-0788-4a0b-bddd-94c221765dd4",
   "metadata": {},
   "outputs": [
    {
     "data": {
      "text/plain": [
       "4"
      ]
     },
     "execution_count": 29,
     "metadata": {},
     "output_type": "execute_result"
    }
   ],
   "source": [
    "# randint : 정해진 범위 내에서 정수값을 랜덤하게 생성\n",
    "arr11 = np.random.randint(2,10) # 2~9 사이에서 랜덤한 정수 생성\n",
    "arr11"
   ]
  },
  {
   "cell_type": "code",
   "execution_count": 30,
   "id": "e9ebab51-ba93-477f-af74-632e99aff35a",
   "metadata": {},
   "outputs": [
    {
     "data": {
      "text/plain": [
       "array([0, 4, 3, 3, 0, 4, 3, 3, 4, 0])"
      ]
     },
     "execution_count": 30,
     "metadata": {},
     "output_type": "execute_result"
    }
   ],
   "source": [
    "# 0~4 사이의 값 중에서 랜덤하게 10개 정수 생성\n",
    "arr12 = np.random.randint(5, size=10)\n",
    "arr12"
   ]
  },
  {
   "cell_type": "code",
   "execution_count": 31,
   "id": "2fc82a99-5ba9-4a07-ab40-de545c25538a",
   "metadata": {},
   "outputs": [
    {
     "data": {
      "text/plain": [
       "array([[2, 1],\n",
       "       [3, 0],\n",
       "       [2, 1],\n",
       "       [0, 1]])"
      ]
     },
     "execution_count": 31,
     "metadata": {},
     "output_type": "execute_result"
    }
   ],
   "source": [
    "arr13 = np.random.randint(5, size=(4,2))\n",
    "arr13"
   ]
  },
  {
   "cell_type": "markdown",
   "id": "d258223a-98ee-41c0-93dd-390a8f0e9a69",
   "metadata": {},
   "source": [
    "### 랜덤 시드(random seed) 설정\n",
    "- 컴퓨터는 완전한 랜덤을 구현하지 못함.\n",
    "- 난수가 나오는 것을 흉내내는 알고리즘으로 만들어진 유사난수를 사용하여 랜덤한 것처럼 느끼는 것\n",
    "- 랜덤 시드는 난수를 생서하는 알고리즘에 들어가는 입력값(일반적으로 시간)을 고정시킴.\n",
    "- 출력되는 값이 고정됨!!!!!"
   ]
  },
  {
   "cell_type": "code",
   "execution_count": 33,
   "id": "b8d8dd15-31ce-4606-91e2-601c51072f54",
   "metadata": {},
   "outputs": [
    {
     "data": {
      "text/plain": [
       "array([[0, 0, 3],\n",
       "       [2, 3, 0]])"
      ]
     },
     "execution_count": 33,
     "metadata": {},
     "output_type": "execute_result"
    }
   ],
   "source": [
    "np.random.seed(2) # 인공지능 학습할 때 쓰임;;;\n",
    "np.random.randint(5, size = (2,3))"
   ]
  },
  {
   "cell_type": "markdown",
   "id": "feec23d5-6073-4790-bcd3-a3a62f3484f0",
   "metadata": {},
   "source": [
    "### array 연산"
   ]
  },
  {
   "cell_type": "code",
   "execution_count": 35,
   "id": "c83cd3f9-4634-4f15-82f1-aa230bdddbdb",
   "metadata": {},
   "outputs": [
    {
     "name": "stdout",
     "output_type": "stream",
     "text": [
      "[[2 4]\n",
      " [6 8]]\n",
      "[[ 1  4]\n",
      " [ 9 16]]\n"
     ]
    }
   ],
   "source": [
    "# 배열끼리 연산 가능, 같은 shape의 배열끼리만 연산 가능\n",
    "arr14 = np.array([[1,2],\n",
    "                  [3,4]])\n",
    "print(arr14 + arr14)\n",
    "print(arr14 * arr14)"
   ]
  },
  {
   "cell_type": "markdown",
   "id": "ea69e018-0fee-4c2b-99f2-be127290091b",
   "metadata": {},
   "source": [
    "### array 접근\n",
    "- 인덱싱\n",
    "- numpy 슬라이싱"
   ]
  },
  {
   "cell_type": "code",
   "execution_count": 37,
   "id": "779aacf6-f7f4-46ba-b954-38fddb677476",
   "metadata": {},
   "outputs": [
    {
     "data": {
      "text/plain": [
       "array([1, 2])"
      ]
     },
     "execution_count": 37,
     "metadata": {},
     "output_type": "execute_result"
    }
   ],
   "source": [
    "arr14[0]"
   ]
  },
  {
   "cell_type": "code",
   "execution_count": 38,
   "id": "210a1af6-3060-4bd3-9fae-49d60d04f09f",
   "metadata": {},
   "outputs": [
    {
     "data": {
      "text/plain": [
       "2"
      ]
     },
     "execution_count": 38,
     "metadata": {},
     "output_type": "execute_result"
    }
   ],
   "source": [
    "arr14[0][1]"
   ]
  },
  {
   "cell_type": "code",
   "execution_count": 39,
   "id": "0119bbd5-80fe-4d6d-b712-4b53da77a1bf",
   "metadata": {},
   "outputs": [
    {
     "data": {
      "text/plain": [
       "array([0, 1, 2, 3, 4, 5, 6, 7, 8, 9])"
      ]
     },
     "execution_count": 39,
     "metadata": {},
     "output_type": "execute_result"
    }
   ],
   "source": [
    "arr15 = np.arange(10)\n",
    "arr15"
   ]
  },
  {
   "cell_type": "code",
   "execution_count": 40,
   "id": "05526a25-ef82-4591-bd5b-6d59d7526041",
   "metadata": {},
   "outputs": [
    {
     "data": {
      "text/plain": [
       "array([1, 2, 3, 4, 5, 6, 7])"
      ]
     },
     "execution_count": 40,
     "metadata": {},
     "output_type": "execute_result"
    }
   ],
   "source": [
    "# 1~7까지 출력\n",
    "arr15[1:8]"
   ]
  },
  {
   "cell_type": "code",
   "execution_count": 41,
   "id": "b59bcd4d-e736-4666-852f-203b4d9a94de",
   "metadata": {},
   "outputs": [
    {
     "data": {
      "text/plain": [
       "array([ 0,  1,  2,  3, 99, 99, 99, 99, 99,  9])"
      ]
     },
     "execution_count": 41,
     "metadata": {},
     "output_type": "execute_result"
    }
   ],
   "source": [
    "arr15[4:9] = 99\n",
    "arr15"
   ]
  },
  {
   "cell_type": "code",
   "execution_count": 42,
   "id": "84559665-dbe3-46e4-a3f1-01da2876cb52",
   "metadata": {},
   "outputs": [
    {
     "data": {
      "text/plain": [
       "array([[ 0,  1,  2,  3,  4,  5,  6,  7,  8,  9],\n",
       "       [10, 11, 12, 13, 14, 15, 16, 17, 18, 19],\n",
       "       [20, 21, 22, 23, 24, 25, 26, 27, 28, 29],\n",
       "       [30, 31, 32, 33, 34, 35, 36, 37, 38, 39],\n",
       "       [40, 41, 42, 43, 44, 45, 46, 47, 48, 49]])"
      ]
     },
     "execution_count": 42,
     "metadata": {},
     "output_type": "execute_result"
    }
   ],
   "source": [
    "arr16 = np.arange(50).reshape(5,10)\n",
    "arr16"
   ]
  },
  {
   "cell_type": "code",
   "execution_count": 43,
   "id": "b22482bb-2ac0-4728-bee9-461c44b48456",
   "metadata": {},
   "outputs": [
    {
     "data": {
      "text/plain": [
       "array([[ 0,  1,  2,  3,  4,  5,  6,  7,  8,  9],\n",
       "       [10, 11, 12, 13, 14, 15, 16, 17, 18, 19]])"
      ]
     },
     "execution_count": 43,
     "metadata": {},
     "output_type": "execute_result"
    }
   ],
   "source": [
    "# 0,1번 인덱스 행의 모든 값을 출력(arr명[행의 범위, 열의 범위])\n",
    "arr16[0:2,:]"
   ]
  },
  {
   "cell_type": "code",
   "execution_count": 44,
   "id": "9451548c-6fe0-4eb2-a687-56bc20222d54",
   "metadata": {},
   "outputs": [
    {
     "data": {
      "text/plain": [
       "array([ 0, 10, 20, 30, 40])"
      ]
     },
     "execution_count": 44,
     "metadata": {},
     "output_type": "execute_result"
    }
   ],
   "source": [
    "# 모든 행의 첫번째 열을 출력\n",
    "arr16[:,0]"
   ]
  },
  {
   "cell_type": "code",
   "execution_count": 45,
   "id": "b18905a5-7d9b-4126-a910-41607bd50495",
   "metadata": {},
   "outputs": [
    {
     "data": {
      "text/plain": [
       "array([[ 0,  1,  2,  3,  4],\n",
       "       [10, 11, 12, 13, 14],\n",
       "       [20, 21, 22, 23, 24],\n",
       "       [30, 31, 32, 33, 34]])"
      ]
     },
     "execution_count": 45,
     "metadata": {},
     "output_type": "execute_result"
    }
   ],
   "source": [
    "arr16[0:4, 0:5]"
   ]
  },
  {
   "cell_type": "code",
   "execution_count": 46,
   "id": "fd5447e0-ad36-4adb-851e-1083c35c69e1",
   "metadata": {},
   "outputs": [
    {
     "data": {
      "text/plain": [
       "array([[ 0,  1,  2,  3,  4,  5],\n",
       "       [ 6,  7,  8,  9, 10, 11],\n",
       "       [12, 13, 14, 15, 16, 17]])"
      ]
     },
     "execution_count": 46,
     "metadata": {},
     "output_type": "execute_result"
    }
   ],
   "source": [
    "arr17 = np.arange(18).reshape(3,6)\n",
    "arr17"
   ]
  },
  {
   "cell_type": "code",
   "execution_count": 47,
   "id": "4b303845-b606-4f24-8f15-d2504bfc3fc5",
   "metadata": {},
   "outputs": [
    {
     "data": {
      "text/plain": [
       "array([[ 7,  9, 11],\n",
       "       [13, 15, 17]])"
      ]
     },
     "execution_count": 47,
     "metadata": {},
     "output_type": "execute_result"
    }
   ],
   "source": [
    "# 1번부터 끝까지 2칸씩 뛰어넘어 인덱싱-> 1::2\n",
    "arr17[1: ,1::2]"
   ]
  },
  {
   "cell_type": "code",
   "execution_count": 48,
   "id": "3f7d5aab-03ca-4232-ab4c-4ea16ee4f486",
   "metadata": {},
   "outputs": [
    {
     "data": {
      "text/plain": [
       "array([[ 0,  6, 12],\n",
       "       [ 1,  7, 13],\n",
       "       [ 2,  8, 14],\n",
       "       [ 3,  9, 15],\n",
       "       [ 4, 10, 16],\n",
       "       [ 5, 11, 17]])"
      ]
     },
     "execution_count": 48,
     "metadata": {},
     "output_type": "execute_result"
    }
   ],
   "source": [
    "# 전치: 배열의 행과 열을 바꿔줌.\n",
    "arr18 = arr17.T\n",
    "arr18"
   ]
  },
  {
   "cell_type": "markdown",
   "id": "6e31e440-ae1c-4595-8346-3ae23c1a5b11",
   "metadata": {},
   "source": [
    "### numpy 배열의 Boolean 인덱싱\n",
    "- 특정 조건에 맞으면 True, 아니면 False 값으로 배열을 만들어 True 인 값에 접근하는 방법"
   ]
  },
  {
   "cell_type": "code",
   "execution_count": 50,
   "id": "87cc96ad-58db-4430-b5ad-eacb6a3c8624",
   "metadata": {},
   "outputs": [
    {
     "data": {
      "text/plain": [
       "array([57, 84, 99, 81, 61, 71, 97, 81])"
      ]
     },
     "execution_count": 50,
     "metadata": {},
     "output_type": "execute_result"
    }
   ],
   "source": [
    "arr19 = np.array(np.random.randint(50,100,size=8))\n",
    "arr19"
   ]
  },
  {
   "cell_type": "code",
   "execution_count": 51,
   "id": "47129eaf-d098-435b-b973-daac431bb180",
   "metadata": {},
   "outputs": [
    {
     "data": {
      "text/plain": [
       "array([False,  True,  True,  True, False,  True,  True,  True])"
      ]
     },
     "execution_count": 51,
     "metadata": {},
     "output_type": "execute_result"
    }
   ],
   "source": [
    "arr19>=70"
   ]
  },
  {
   "cell_type": "code",
   "execution_count": 52,
   "id": "dbb7bd18-0ffb-4301-b7e0-4cd1a22e2157",
   "metadata": {},
   "outputs": [
    {
     "data": {
      "text/plain": [
       "array([False,  True, False, False, False, False, False, False])"
      ]
     },
     "execution_count": 52,
     "metadata": {},
     "output_type": "execute_result"
    }
   ],
   "source": [
    "arr19 % 2 == 0"
   ]
  },
  {
   "cell_type": "code",
   "execution_count": 53,
   "id": "c7316285-95b8-4aca-a2af-301d04d13df2",
   "metadata": {},
   "outputs": [
    {
     "data": {
      "text/plain": [
       "array([84])"
      ]
     },
     "execution_count": 53,
     "metadata": {},
     "output_type": "execute_result"
    }
   ],
   "source": [
    "# Boolean 값이 아니라 실제 값을 보고 싶은 경우\n",
    "# 배열명[배열 내에서 찾고자 하는 조건식]\n",
    "arr19[arr19 % 2 == 0]"
   ]
  },
  {
   "cell_type": "code",
   "execution_count": 54,
   "id": "72b9a22f-e044-4da8-b2d4-bb56ed498761",
   "metadata": {},
   "outputs": [
    {
     "data": {
      "text/plain": [
       "array([[0, 9, 0, 0, 7],\n",
       "       [0, 3, 5, 0, 1]])"
      ]
     },
     "execution_count": 54,
     "metadata": {},
     "output_type": "execute_result"
    }
   ],
   "source": [
    "# 값이 짝수면 0으로 변경하는 코드\n",
    "arr20 = np.array([[6,9,6,8,7],\n",
    "                 [2,3,5,4,1]])\n",
    "arr20[arr20 % 2 == 0] = 0\n",
    "arr20"
   ]
  },
  {
   "cell_type": "markdown",
   "id": "a32b58bc-4ada-4442-8ebd-06f59f0b789d",
   "metadata": {},
   "source": [
    "### BMI 지수 확인 및 인덱싱"
   ]
  },
  {
   "cell_type": "code",
   "execution_count": 56,
   "id": "6d9d1d66-7091-4486-87e6-3943bfd660b2",
   "metadata": {},
   "outputs": [
    {
     "data": {
      "text/plain": [
       "array([[175.2, 180.3, 175. , 169.2, 185.2, 188. , 177.6, 178.2, 177. ,\n",
       "        179. ],\n",
       "       [ 65.6,  88. ,  79.2,  69.3,  55. ,  71.2,  73. ,  68.9,  74. ,\n",
       "         82. ]])"
      ]
     },
     "execution_count": 56,
     "metadata": {},
     "output_type": "execute_result"
    }
   ],
   "source": [
    "# 데이터 로드(상대경로: 현재 경로부터 쓰면 됨.)\n",
    "# 절대경로는 window부터 맨 처음 경로부터 써줘야함.\n",
    "data = np.loadtxt('data/height_weight.txt',delimiter=',') # delimiter: txt 파일에서 데이터를 구분하는 구분자를 설정해줌.\n",
    "data"
   ]
  },
  {
   "cell_type": "markdown",
   "id": "608c611c-3978-4b13-8010-7e1a65ecdb73",
   "metadata": {},
   "source": [
    "#### 데이터를 불러오면 항상 간단한 속성들을 파악해야함.\n",
    "- 배열 형태\n",
    "- 배열 차원 수\n",
    "- 배열 전체 요소 개수"
   ]
  },
  {
   "cell_type": "code",
   "execution_count": 58,
   "id": "f3b175a3-a2bc-4f27-b21a-48233fc7078f",
   "metadata": {},
   "outputs": [
    {
     "data": {
      "text/plain": [
       "(2, 10)"
      ]
     },
     "execution_count": 58,
     "metadata": {},
     "output_type": "execute_result"
    }
   ],
   "source": [
    "data.shape"
   ]
  },
  {
   "cell_type": "code",
   "execution_count": 59,
   "id": "2881efa2-4c43-4902-9902-bc4b9f2a6085",
   "metadata": {},
   "outputs": [
    {
     "data": {
      "text/plain": [
       "20"
      ]
     },
     "execution_count": 59,
     "metadata": {},
     "output_type": "execute_result"
    }
   ],
   "source": [
    "data.size"
   ]
  },
  {
   "cell_type": "code",
   "execution_count": 60,
   "id": "42a7b051-44f5-496f-8199-1551d0163001",
   "metadata": {},
   "outputs": [
    {
     "data": {
      "text/plain": [
       "2"
      ]
     },
     "execution_count": 60,
     "metadata": {},
     "output_type": "execute_result"
    }
   ],
   "source": [
    "data.ndim"
   ]
  },
  {
   "cell_type": "code",
   "execution_count": 61,
   "id": "6f66dda7-ecbd-482b-a0d9-78d64b0cb371",
   "metadata": {},
   "outputs": [
    {
     "name": "stdout",
     "output_type": "stream",
     "text": [
      "키: [1.752 1.803 1.75  1.692 1.852 1.88  1.776 1.782 1.77  1.79 ]\n",
      "몸무게: [65.6 88.  79.2 69.3 55.  71.2 73.  68.9 74.  82. ]\n"
     ]
    }
   ],
   "source": [
    "# 데이터에서 키와 몸무게를 각각 변수에 담기\n",
    "# 키\n",
    "height = data[0]/100 # m로 만들기\n",
    "\n",
    "# 몸무게\n",
    "weight = data[1]\n",
    "\n",
    "print(\"키:\",height)\n",
    "print(\"몸무게:\",weight)"
   ]
  },
  {
   "attachments": {
    "af1e3b12-bc2e-4a4c-8a33-8fde00cbc707.png": {
     "image/png": "[encoded data removed]"
    }
   },
   "cell_type": "markdown",
   "id": "05ec6437-cba9-4db5-8b95-b767504808ca",
   "metadata": {},
   "source": [
    "![image.png](attachment:af1e3b12-bc2e-4a4c-8a33-8fde00cbc707.png)"
   ]
  },
  {
   "cell_type": "code",
   "execution_count": 63,
   "id": "17155301-784a-454b-9345-0d83cef0cd0b",
   "metadata": {},
   "outputs": [
    {
     "data": {
      "text/plain": [
       "array([21.37153104, 27.07018468, 25.86122449, 24.20652885, 16.03543423,\n",
       "       20.14486193, 23.14392095, 21.69720651, 23.62028791, 25.59220998])"
      ]
     },
     "execution_count": 63,
     "metadata": {},
     "output_type": "execute_result"
    }
   ],
   "source": [
    "# BMI 공식에 대입해보기\n",
    "BMI = weight/(height*height)\n",
    "BMI"
   ]
  },
  {
   "cell_type": "code",
   "execution_count": 64,
   "id": "f377983d-a78c-456f-9b7b-bc4c1cf07b8a",
   "metadata": {},
   "outputs": [
    {
     "data": {
      "text/plain": [
       "array([27.07018468, 25.86122449, 24.20652885, 23.14392095, 23.62028791,\n",
       "       25.59220998])"
      ]
     },
     "execution_count": 64,
     "metadata": {},
     "output_type": "execute_result"
    }
   ],
   "source": [
    "# BMI가 23 이상인 것만 출력\n",
    "BMI[BMI>=23]"
   ]
  },
  {
   "cell_type": "markdown",
   "id": "4f48e252-8f23-42e5-b618-1b6aea8abcf6",
   "metadata": {},
   "source": [
    "- numpy 배열 Boolean 인덱싱에서는 파이썬 문법인 논리 연산자(and, or, not)을 사용할 수 없고 비트 연산자(&,|,~)를 사용\n",
    "- numpy는  R언어의 연산자인 비트 연산을 기반으로 만들어졌기 때문\n",
    "- 비트 연산자\n",
    "  - &: and 연산\n",
    "  - |: or 연산\n",
    "  - ~: not 연산\n",
    "- 파이썬에선 0을 False로 보고 나머지 숫자를 True로 보기 때문에 숫자 and 연산 시 False인 0으로 출력"
   ]
  },
  {
   "cell_type": "code",
   "execution_count": 66,
   "id": "f5ad281e-3a92-419b-9657-b8f93ca20f50",
   "metadata": {},
   "outputs": [
    {
     "data": {
      "text/plain": [
       "3"
      ]
     },
     "execution_count": 66,
     "metadata": {},
     "output_type": "execute_result"
    }
   ],
   "source": [
    "# BMI가 23 이상, 25이하인 사람 몇 명인지\n",
    "BMI[(23<=BMI) & (BMI<=25)].size"
   ]
  },
  {
   "cell_type": "code",
   "execution_count": 67,
   "id": "8dea192c-eb98-40bb-931f-0e96b114d0c1",
   "metadata": {},
   "outputs": [
    {
     "data": {
      "text/plain": [
       "0"
      ]
     },
     "execution_count": 67,
     "metadata": {},
     "output_type": "execute_result"
    }
   ],
   "source": [
    "0 and 3"
   ]
  },
  {
   "cell_type": "code",
   "execution_count": 68,
   "id": "d5414a07-4591-4686-aa45-68c61183ae0d",
   "metadata": {},
   "outputs": [
    {
     "data": {
      "text/plain": [
       "0"
      ]
     },
     "execution_count": 68,
     "metadata": {},
     "output_type": "execute_result"
    }
   ],
   "source": [
    "0&3"
   ]
  },
  {
   "cell_type": "code",
   "execution_count": 69,
   "id": "563da947-da97-489b-9e57-c8e46fef6533",
   "metadata": {},
   "outputs": [
    {
     "data": {
      "text/plain": [
       "3"
      ]
     },
     "execution_count": 69,
     "metadata": {},
     "output_type": "execute_result"
    }
   ],
   "source": [
    "0 or 3"
   ]
  },
  {
   "cell_type": "code",
   "execution_count": 70,
   "id": "58d419b9-ffcb-48d5-8521-c6d3388f1c0f",
   "metadata": {},
   "outputs": [
    {
     "data": {
      "text/plain": [
       "3"
      ]
     },
     "execution_count": 70,
     "metadata": {},
     "output_type": "execute_result"
    }
   ],
   "source": [
    "0|3"
   ]
  },
  {
   "cell_type": "code",
   "execution_count": 71,
   "id": "4b151d5d-f9ed-47f2-ac6c-ff12e1fbf2a0",
   "metadata": {},
   "outputs": [
    {
     "data": {
      "text/plain": [
       "1"
      ]
     },
     "execution_count": 71,
     "metadata": {},
     "output_type": "execute_result"
    }
   ],
   "source": [
    "# 둘 다 0이 아니라면 좌측 값으로 출력됨.\n",
    "1 or 4"
   ]
  },
  {
   "cell_type": "code",
   "execution_count": 72,
   "id": "152bb953-5eb1-446d-8201-00b703a932cd",
   "metadata": {},
   "outputs": [
    {
     "data": {
      "text/plain": [
       "5"
      ]
     },
     "execution_count": 72,
     "metadata": {},
     "output_type": "execute_result"
    }
   ],
   "source": [
    "1|4"
   ]
  },
  {
   "cell_type": "markdown",
   "id": "c3d56357-1cad-47e8-8891-6873da6bfaa7",
   "metadata": {},
   "source": [
    "### numpy 배열 관련 유용한 함수들\n",
    "- sum: 합\n",
    "- mean: 평균\n",
    "- median: 중앙값\n",
    "- sqrt: 제곱근\n",
    "- abs: 절댓값\n",
    "- around: 반올림"
   ]
  },
  {
   "cell_type": "code",
   "execution_count": 74,
   "id": "ffb73c12-5d03-4de8-8bf0-187ce76b4c99",
   "metadata": {},
   "outputs": [
    {
     "data": {
      "text/plain": [
       "array([[5, 5, 6, 8, 4, 7, 5],\n",
       "       [4, 8, 7, 2, 4, 6, 9],\n",
       "       [5, 7, 4, 3, 1, 5, 3],\n",
       "       [5, 2, 8, 9, 3, 9, 8]])"
      ]
     },
     "execution_count": 74,
     "metadata": {},
     "output_type": "execute_result"
    }
   ],
   "source": [
    "arr21 = np.random.randint(1, 10, size = (4,7))\n",
    "arr21"
   ]
  },
  {
   "cell_type": "code",
   "execution_count": 75,
   "id": "0b1a63c8-98b9-4b3a-9f40-5b2c1ba4b0da",
   "metadata": {},
   "outputs": [
    {
     "name": "stdout",
     "output_type": "stream",
     "text": [
      "152\n",
      "152\n"
     ]
    }
   ],
   "source": [
    "print(np.sum(arr21)) # numpy 지원 함수\n",
    "print(arr21.sum()) # python 기본 함수"
   ]
  },
  {
   "cell_type": "code",
   "execution_count": 76,
   "id": "f372f57c-c508-4daa-bcff-86530b5c1374",
   "metadata": {},
   "outputs": [
    {
     "name": "stdout",
     "output_type": "stream",
     "text": [
      "5.428571428571429\n",
      "5.428571428571429\n"
     ]
    }
   ],
   "source": [
    "print(np.mean(arr21)) # numpy 지원 함수\n",
    "print(arr21.mean()) # python 기본 함수"
   ]
  },
  {
   "cell_type": "code",
   "execution_count": 77,
   "id": "99e3c8c6-865a-43dd-9087-cc39c4962ae2",
   "metadata": {},
   "outputs": [
    {
     "data": {
      "text/plain": [
       "array([1, 4, 7])"
      ]
     },
     "execution_count": 77,
     "metadata": {},
     "output_type": "execute_result"
    }
   ],
   "source": [
    "arr22 = np.arange(1,10,3)\n",
    "arr22"
   ]
  },
  {
   "cell_type": "code",
   "execution_count": 78,
   "id": "c5da86eb-c1bb-4d75-a6ed-4cf6562a2230",
   "metadata": {},
   "outputs": [
    {
     "data": {
      "text/plain": [
       "4.0"
      ]
     },
     "execution_count": 78,
     "metadata": {},
     "output_type": "execute_result"
    }
   ],
   "source": [
    "np.median(arr22)"
   ]
  },
  {
   "cell_type": "code",
   "execution_count": 79,
   "id": "a475376c-cb24-460f-b117-f629585d2010",
   "metadata": {},
   "outputs": [
    {
     "data": {
      "text/plain": [
       "array([1.        , 2.        , 2.64575131])"
      ]
     },
     "execution_count": 79,
     "metadata": {},
     "output_type": "execute_result"
    }
   ],
   "source": [
    "np.sqrt(arr22)"
   ]
  },
  {
   "cell_type": "code",
   "execution_count": 80,
   "id": "f6eff7ab-0a62-4b1b-b8ec-32cfec8a60e2",
   "metadata": {},
   "outputs": [
    {
     "data": {
      "text/plain": [
       "array([1, 4, 0, 5, 3])"
      ]
     },
     "execution_count": 80,
     "metadata": {},
     "output_type": "execute_result"
    }
   ],
   "source": [
    "arr23 = np.array([1,4,0,-5,-3])\n",
    "np.abs(arr23)"
   ]
  },
  {
   "cell_type": "code",
   "execution_count": 81,
   "id": "2776f102-bfda-4492-b245-e7e8699ac5de",
   "metadata": {},
   "outputs": [
    {
     "data": {
      "text/plain": [
       "array([1., 3., 9., 9.])"
      ]
     },
     "execution_count": 81,
     "metadata": {},
     "output_type": "execute_result"
    }
   ],
   "source": [
    "arr24 = np.array([1.2, 3.4,9.1, 8.8])\n",
    "np.around(arr24)"
   ]
  },
  {
   "cell_type": "markdown",
   "id": "bd6619f3-90c2-4434-b37d-94f7a36d1c91",
   "metadata": {},
   "source": [
    "### 영화 평점 분석 예제"
   ]
  },
  {
   "cell_type": "code",
   "execution_count": 83,
   "id": "fb3047f5-0d16-4eee-be16-ae577519316d",
   "metadata": {
    "scrolled": true
   },
   "outputs": [
    {
     "data": {
      "text/plain": [
       "array([[        1,      1193,         5, 978300760],\n",
       "       [        1,       661,         3, 978302109],\n",
       "       [        1,       914,         3, 978301968],\n",
       "       ...,\n",
       "       [     6040,       562,         5, 956704746],\n",
       "       [     6040,      1096,         4, 956715648],\n",
       "       [     6040,      1097,         4, 956715569]], dtype=int64)"
      ]
     },
     "execution_count": 83,
     "metadata": {},
     "output_type": "execute_result"
    }
   ],
   "source": [
    "# 데이터 로드\n",
    "# genfromtxt: 텍스트 형식의 파일로부터 데이터를 로드해주는 함수\n",
    "# dtype = np.int64 -> 실수 형태의 데이터를 정수로 변환\n",
    "movie_ratings = np.genfromtxt('data/ratings.dat', delimiter = '::', dtype = np.int64)\n",
    "movie_ratings\n",
    "# 칼럼명: 사용자 아이디, 영화 아이디, 사용자가 매긴 영화평점, 입력시간"
   ]
  },
  {
   "cell_type": "code",
   "execution_count": 84,
   "id": "9668d8ad-2601-461c-8fcc-a916a3ade408",
   "metadata": {},
   "outputs": [
    {
     "name": "stdout",
     "output_type": "stream",
     "text": [
      "(1000209, 4)\n",
      "4000836\n",
      "2\n"
     ]
    }
   ],
   "source": [
    "# 데이터 파악하기\n",
    "print(movie_ratings.shape)\n",
    "print(movie_ratings.size)\n",
    "print(movie_ratings.ndim)"
   ]
  },
  {
   "cell_type": "code",
   "execution_count": 85,
   "id": "985b19a5-a96d-4edb-9048-7868c016ab21",
   "metadata": {},
   "outputs": [
    {
     "data": {
      "text/plain": [
       "array([5, 3, 3, ..., 5, 4, 4], dtype=int64)"
      ]
     },
     "execution_count": 85,
     "metadata": {},
     "output_type": "execute_result"
    }
   ],
   "source": [
    "# 전체 영화 평점 평균 구하기\n",
    "ratings = movie_ratings[:,2]\n",
    "ratings"
   ]
  },
  {
   "cell_type": "code",
   "execution_count": 86,
   "id": "da32ad56-4743-40b0-b69e-67aaa36c6d48",
   "metadata": {},
   "outputs": [
    {
     "data": {
      "text/plain": [
       "3.581564453029317"
      ]
     },
     "execution_count": 86,
     "metadata": {},
     "output_type": "execute_result"
    }
   ],
   "source": [
    "np.mean(ratings)"
   ]
  },
  {
   "cell_type": "markdown",
   "id": "1e36ecbc-6da3-40ea-83fd-1738d6bdc8d2",
   "metadata": {},
   "source": [
    "### 1번 사용자가 매긴 평점의 평균 구하기\n",
    "- 사용자 아이디의 유니크 값 확인, 비어 있는 값 있는지 확인\n",
    "- 사용자 아이디 유니크 값 개수 확인\n",
    "- 1번 사용자의 데이터에 접근\n",
    "- 1번 사용자가 매긴 평점들의 평균 구하기"
   ]
  },
  {
   "cell_type": "code",
   "execution_count": 88,
   "id": "39bb5aa8-16d5-4a0a-b7b1-b52da541244a",
   "metadata": {},
   "outputs": [
    {
     "data": {
      "text/plain": [
       "6040"
      ]
     },
     "execution_count": 88,
     "metadata": {},
     "output_type": "execute_result"
    }
   ],
   "source": [
    "# 평점을 매긴 사용자가 몇 명인지 알아보자\n",
    "# unique: ()안 값에서 유일한 값을 구해주는 함수\n",
    "user_id = np.unique(movie_ratings[:,0])\n",
    "user_id.size # 사용자는 총 6040명"
   ]
  },
  {
   "cell_type": "code",
   "execution_count": 89,
   "id": "ee5ddaed-2177-4824-8f5d-b5acaa19e4eb",
   "metadata": {
    "scrolled": true
   },
   "outputs": [
    {
     "data": {
      "text/plain": [
       "array([5, 3, 3, 4, 5, 3, 5, 5, 4, 4, 5, 4, 4, 4, 5, 4, 3, 4, 5, 4, 3, 3,\n",
       "       5, 5, 3, 5, 4, 4, 4, 3, 4, 4, 4, 4, 4, 4, 5, 5, 4, 5, 5, 5, 4, 4,\n",
       "       4, 5, 5, 4, 5, 4, 4, 4, 4], dtype=int64)"
      ]
     },
     "execution_count": 89,
     "metadata": {},
     "output_type": "execute_result"
    }
   ],
   "source": [
    "userid1 = movie_ratings[movie_ratings[:,0] == 1][:,2]\n",
    "userid1"
   ]
  },
  {
   "cell_type": "code",
   "execution_count": 90,
   "id": "5fadd210-1c33-41ec-ad6c-bbf8c7ebfadf",
   "metadata": {},
   "outputs": [
    {
     "data": {
      "text/plain": [
       "4.188679245283019"
      ]
     },
     "execution_count": 90,
     "metadata": {},
     "output_type": "execute_result"
    }
   ],
   "source": [
    "np.mean(userid1)"
   ]
  },
  {
   "cell_type": "code",
   "execution_count": 91,
   "id": "d40a4f5f-4958-456c-a892-c43f115994a7",
   "metadata": {},
   "outputs": [
    {
     "data": {
      "text/plain": [
       "4.188679245283019"
      ]
     },
     "execution_count": 91,
     "metadata": {},
     "output_type": "execute_result"
    }
   ],
   "source": [
    "# 한꺼번에도 가능\n",
    "np.mean(movie_ratings[movie_ratings[:,0] == 1][:,2])"
   ]
  },
  {
   "cell_type": "markdown",
   "id": "0327304e-cc2c-4ae1-8f0d-939fee6399b6",
   "metadata": {},
   "source": [
    "- 전체 영화 평점이 3.58점이었는데 1번 사용자가 4.18점인걸로 보아 1번 사용자는 평점을 후하게 주는 편!"
   ]
  },
  {
   "cell_type": "markdown",
   "id": "d498ac6d-05c1-4c28-b472-00821e184086",
   "metadata": {},
   "source": [
    "### 각 사용자가 매긴 평점들의 평균 구하기\n",
    "- 빈 리스트를 만들고 각 사용자별 id와 평점의 평균값을 넣어보자 -> 반복문 사용"
   ]
  },
  {
   "cell_type": "code",
   "execution_count": 94,
   "id": "b6ea2cd8-58f6-4d16-a68b-d068b2a12ab5",
   "metadata": {
    "scrolled": true
   },
   "outputs": [
    {
     "data": {
      "text/plain": [
       "[[1, 4.188679245283019],\n",
       " [2, 3.7131782945736433],\n",
       " [3, 3.9019607843137254],\n",
       " [4, 4.190476190476191],\n",
       " [5, 3.1464646464646466],\n",
       " [6, 3.9014084507042255],\n",
       " [7, 4.32258064516129],\n",
       " [8, 3.884892086330935],\n",
       " [9, 3.7358490566037736],\n",
       " [10, 4.114713216957606],\n",
       " [11, 3.2773722627737225],\n",
       " [12, 3.8260869565217392],\n",
       " [13, 3.388888888888889],\n",
       " [14, 3.32],\n",
       " [15, 3.3233830845771144],\n",
       " [16, 3.0285714285714285],\n",
       " [17, 4.075829383886256],\n",
       " [18, 3.6491803278688524],\n",
       " [19, 3.5725490196078433],\n",
       " [20, 4.083333333333333],\n",
       " [21, 2.909090909090909],\n",
       " [22, 3.0673400673400675],\n",
       " [23, 3.3157894736842106],\n",
       " [24, 3.948529411764706],\n",
       " [25, 3.7411764705882353],\n",
       " [26, 2.96],\n",
       " [27, 4.171428571428572],\n",
       " [28, 3.7570093457943927],\n",
       " [29, 3.5833333333333335],\n",
       " [30, 3.488372093023256],\n",
       " [31, 3.73109243697479],\n",
       " [32, 3.625],\n",
       " [33, 3.498721227621483],\n",
       " [34, 3.8658536585365852],\n",
       " [35, 3.54040404040404],\n",
       " [36, 4.199430199430199],\n",
       " [37, 3.69811320754717],\n",
       " [38, 3.58],\n",
       " [39, 3.564516129032258],\n",
       " [40, 3.4479166666666665],\n",
       " [41, 3.48],\n",
       " [42, 3.74025974025974],\n",
       " [43, 4.125],\n",
       " [44, 3.6321243523316062],\n",
       " [45, 2.946127946127946],\n",
       " [46, 4.219512195121951],\n",
       " [47, 3.909090909090909],\n",
       " [48, 3.068561872909699],\n",
       " [49, 3.712962962962963],\n",
       " [50, 3.0697674418604652],\n",
       " [51, 3.825],\n",
       " [52, 3.5569620253164556],\n",
       " [53, 4.2368421052631575],\n",
       " [54, 4.025],\n",
       " [55, 4.12],\n",
       " [56, 3.970149253731343],\n",
       " [57, 2.90625],\n",
       " [58, 3.9725400457665905],\n",
       " [59, 3.4741784037558685],\n",
       " [60, 3.414285714285714],\n",
       " [61, 2.7777777777777777],\n",
       " [62, 3.566265060240964],\n",
       " [63, 3.4285714285714284],\n",
       " [64, 4.148148148148148],\n",
       " [65, 4.347107438016529],\n",
       " [66, 3.8461538461538463],\n",
       " [67, 4.296875],\n",
       " [68, 3.75],\n",
       " [69, 4.153846153846154],\n",
       " [70, 3.7037037037037037],\n",
       " [71, 3.7586206896551726],\n",
       " [72, 3.697674418604651],\n",
       " [73, 3.364705882352941],\n",
       " [74, 4.046511627906977],\n",
       " [75, 4.005714285714285],\n",
       " [76, 4.172413793103448],\n",
       " [77, 2.948717948717949],\n",
       " [78, 3.657142857142857],\n",
       " [79, 3.6451612903225805],\n",
       " [80, 3.8958333333333335],\n",
       " [81, 4.4186046511627906],\n",
       " [82, 4.016949152542373],\n",
       " [83, 3.5757575757575757],\n",
       " [84, 3.838709677419355],\n",
       " [85, 3.1025641025641026],\n",
       " [86, 4.3125],\n",
       " [87, 2.8135593220338984],\n",
       " [88, 4.147058823529412],\n",
       " [89, 3.238095238095238],\n",
       " [90, 3.511111111111111],\n",
       " [91, 4.704545454545454],\n",
       " [92, 2.7581395348837208],\n",
       " [93, 2.9727272727272727],\n",
       " [94, 3.857142857142857],\n",
       " [95, 3.595959595959596],\n",
       " [96, 3.6049382716049383],\n",
       " [97, 4.474025974025974],\n",
       " [98, 3.8],\n",
       " [99, 3.2149532710280373],\n",
       " [100, 3.026315789473684],\n",
       " [101, 4.679245283018868],\n",
       " [102, 3.128787878787879],\n",
       " [103, 4.052173913043478],\n",
       " [104, 3.347826086956522],\n",
       " [105, 4.295081967213115],\n",
       " [106, 4.0212765957446805],\n",
       " [107, 3.743801652892562],\n",
       " [108, 3.135135135135135],\n",
       " [109, 4.0],\n",
       " [110, 3.25],\n",
       " [111, 3.7282608695652173],\n",
       " [112, 4.183333333333334],\n",
       " [113, 3.5],\n",
       " [114, 3.693877551020408],\n",
       " [115, 3.8421052631578947],\n",
       " [116, 3.802325581395349],\n",
       " [117, 3.299009900990099],\n",
       " [118, 3.767857142857143],\n",
       " [119, 3.5428571428571427],\n",
       " [120, 3.619047619047619],\n",
       " [121, 4.416666666666667],\n",
       " [122, 2.9649122807017543],\n",
       " [123, 3.401315789473684],\n",
       " [124, 4.173913043478261],\n",
       " [125, 4.098591549295775],\n",
       " [126, 4.0],\n",
       " [127, 3.8448275862068964],\n",
       " [128, 4.363636363636363],\n",
       " [129, 4.025316455696203],\n",
       " [130, 4.311111111111111],\n",
       " [131, 3.3966101694915256],\n",
       " [132, 3.966292134831461],\n",
       " [133, 3.7705882352941176],\n",
       " [134, 2.7158469945355193],\n",
       " [135, 3.657142857142857],\n",
       " [136, 3.074074074074074],\n",
       " [137, 3.611940298507463],\n",
       " [138, 4.492307692307692],\n",
       " [139, 3.8816326530612244],\n",
       " [140, 3.8181818181818183],\n",
       " [141, 3.6956521739130435],\n",
       " [142, 3.3404255319148937],\n",
       " [143, 3.5441176470588234],\n",
       " [144, 3.46875],\n",
       " [145, 3.0],\n",
       " [146, 3.7699530516431925],\n",
       " [147, 3.5026737967914436],\n",
       " [148, 3.733974358974359],\n",
       " [149, 3.9408783783783785],\n",
       " [150, 4.021551724137931],\n",
       " [151, 3.653927813163482],\n",
       " [152, 4.125],\n",
       " [153, 4.076923076923077],\n",
       " [154, 3.090909090909091],\n",
       " [155, 2.96875],\n",
       " [156, 4.236486486486487],\n",
       " [157, 3.718969555035129],\n",
       " [158, 4.0],\n",
       " [159, 3.7777777777777777],\n",
       " [160, 3.5],\n",
       " [161, 4.4713804713804715],\n",
       " [162, 4.121495327102804],\n",
       " [163, 2.1828793774319064],\n",
       " [164, 4.384615384615385],\n",
       " [165, 3.981818181818182],\n",
       " [166, 3.6878048780487807],\n",
       " [167, 2.9310344827586206],\n",
       " [168, 3.8461538461538463],\n",
       " [169, 3.5670289855072466],\n",
       " [170, 3.9885057471264367],\n",
       " [171, 4.0],\n",
       " [172, 3.608695652173913],\n",
       " [173, 3.9679144385026737],\n",
       " [174, 3.649484536082474],\n",
       " [175, 3.9810725552050474],\n",
       " [176, 3.6153846153846154],\n",
       " [177, 4.113636363636363],\n",
       " [178, 3.8434782608695652],\n",
       " [179, 2.6545454545454548],\n",
       " [180, 3.694915254237288],\n",
       " [181, 3.604651162790698],\n",
       " [182, 3.8313253012048194],\n",
       " [183, 4.099009900990099],\n",
       " [184, 4.083333333333333],\n",
       " [185, 3.588235294117647],\n",
       " [186, 4.254098360655738],\n",
       " [187, 4.083932853717027],\n",
       " [188, 3.1690140845070425],\n",
       " [189, 4.0],\n",
       " [190, 3.6993464052287583],\n",
       " [191, 3.3333333333333335],\n",
       " [192, 3.0914285714285716],\n",
       " [193, 3.677685950413223],\n",
       " [194, 3.983050847457627],\n",
       " [195, 3.889294403892944],\n",
       " [196, 4.0625],\n",
       " [197, 3.909090909090909],\n",
       " [198, 3.7493403693931397],\n",
       " [199, 3.2761194029850746],\n",
       " [200, 3.423076923076923],\n",
       " [201, 3.954022988505747],\n",
       " [202, 3.2492537313432837],\n",
       " [203, 2.2913385826771653],\n",
       " [204, 3.5560538116591927],\n",
       " [205, 4.0588235294117645],\n",
       " [206, 3.066666666666667],\n",
       " [207, 3.5217391304347827],\n",
       " [208, 3.652173913043478],\n",
       " [209, 3.16],\n",
       " [210, 4.027272727272727],\n",
       " [211, 3.857142857142857],\n",
       " [212, 3.8545454545454545],\n",
       " [213, 4.2272727272727275],\n",
       " [214, 3.1626506024096384],\n",
       " [215, 4.5588235294117645],\n",
       " [216, 3.2317380352644838],\n",
       " [217, 3.7],\n",
       " [218, 3.0930232558139537],\n",
       " [219, 3.3333333333333335],\n",
       " [220, 4.215686274509804],\n",
       " [221, 3.2413793103448274],\n",
       " [222, 4.0875],\n",
       " [223, 3.44140625],\n",
       " [224, 3.4019607843137254],\n",
       " [225, 3.4330708661417324],\n",
       " [226, 3.5714285714285716],\n",
       " [227, 3.2857142857142856],\n",
       " [228, 4.0],\n",
       " [229, 3.4292452830188678],\n",
       " [230, 4.094972067039106],\n",
       " [231, 4.22680412371134],\n",
       " [232, 3.566666666666667],\n",
       " [233, 4.584905660377358],\n",
       " [234, 4.310344827586207],\n",
       " [235, 4.086363636363636],\n",
       " [236, 3.693548387096774],\n",
       " [237, 3.4036144578313254],\n",
       " [238, 3.7868217054263567],\n",
       " [239, 4.140845070422535],\n",
       " [240, 3.300699300699301],\n",
       " [241, 3.9649122807017543],\n",
       " [242, 3.2051282051282053],\n",
       " [243, 3.606060606060606],\n",
       " [244, 4.105882352941176],\n",
       " [245, 2.6714659685863875],\n",
       " [246, 4.0],\n",
       " [247, 3.935483870967742],\n",
       " [248, 4.205882352941177],\n",
       " [249, 3.9454545454545453],\n",
       " [250, 3.75],\n",
       " [251, 3.5753424657534247],\n",
       " [252, 4.016666666666667],\n",
       " [253, 3.9245283018867925],\n",
       " [254, 3.782608695652174],\n",
       " [255, 4.016393442622951],\n",
       " [256, 3.8526315789473684],\n",
       " [257, 4.452830188679245],\n",
       " [258, 3.717241379310345],\n",
       " [259, 4.0359712230215825],\n",
       " [260, 3.311688311688312],\n",
       " [261, 3.5762711864406778],\n",
       " [262, 3.330188679245283],\n",
       " [263, 3.6630434782608696],\n",
       " [264, 2.785416666666667],\n",
       " [265, 4.1938775510204085],\n",
       " [266, 4.52],\n",
       " [267, 3.3893129770992365],\n",
       " [268, 3.3946360153256707],\n",
       " [269, 3.8],\n",
       " [270, 4.198412698412699],\n",
       " [271, 3.9583333333333335],\n",
       " [272, 3.6535269709543567],\n",
       " [273, 3.727272727272727],\n",
       " [274, 4.243243243243243],\n",
       " [275, 4.247191011235955],\n",
       " [276, 3.5217391304347827],\n",
       " [277, 3.727272727272727],\n",
       " [278, 3.9646464646464645],\n",
       " [279, 2.872340425531915],\n",
       " [280, 3.94],\n",
       " [281, 3.891891891891892],\n",
       " [282, 3.5172413793103448],\n",
       " [283, 4.962962962962963],\n",
       " [284, 3.021231422505308],\n",
       " [285, 4.16546762589928],\n",
       " [286, 3.883720930232558],\n",
       " [287, 3.70873786407767],\n",
       " [288, 4.589285714285714],\n",
       " [289, 3.9054054054054053],\n",
       " [290, 3.303030303030303],\n",
       " [291, 4.137254901960785],\n",
       " [292, 3.7560975609756095],\n",
       " [293, 3.2460567823343847],\n",
       " [294, 3.489795918367347],\n",
       " [295, 3.764397905759162],\n",
       " [296, 3.597938144329897],\n",
       " [297, 4.0],\n",
       " [298, 3.925925925925926],\n",
       " [299, 4.163461538461538],\n",
       " [300, 4.180722891566265],\n",
       " [301, 3.8011204481792715],\n",
       " [302, 2.8692893401015227],\n",
       " [303, 3.861244019138756],\n",
       " [304, 3.5555555555555554],\n",
       " [305, 2.5605095541401273],\n",
       " [306, 3.937823834196891],\n",
       " [307, 4.593406593406593],\n",
       " [308, 3.385996409335727],\n",
       " [309, 4.040650406504065],\n",
       " [310, 3.4260089686098656],\n",
       " [311, 4.15],\n",
       " [312, 3.736842105263158],\n",
       " [313, 4.038461538461538],\n",
       " [314, 3.696245733788396],\n",
       " [315, 3.8636363636363638],\n",
       " [316, 4.116883116883117],\n",
       " [317, 3.8095238095238093],\n",
       " [318, 3.9523809523809526],\n",
       " [319, 3.263522884882108],\n",
       " [320, 4.238095238095238],\n",
       " [321, 3.2612612612612613],\n",
       " [322, 4.45],\n",
       " [323, 3.788135593220339],\n",
       " [324, 3.3289473684210527],\n",
       " [325, 4.046511627906977],\n",
       " [326, 3.3350923482849604],\n",
       " [327, 3.669491525423729],\n",
       " [328, 3.032258064516129],\n",
       " [329, 2.7264397905759163],\n",
       " [330, 4.0131578947368425],\n",
       " [331, 3.7654109589041096],\n",
       " [332, 4.2835820895522385],\n",
       " [333, 3.352422907488987],\n",
       " [334, 3.9508196721311477],\n",
       " [335, 2.5],\n",
       " [336, 4.308411214953271],\n",
       " [337, 3.525252525252525],\n",
       " [338, 3.665745856353591],\n",
       " [339, 4.024193548387097],\n",
       " [340, 3.5277777777777777],\n",
       " [341, 4.2],\n",
       " [342, 3.6910569105691056],\n",
       " [343, 4.047138047138047],\n",
       " [344, 2.9555555555555557],\n",
       " [345, 4.4],\n",
       " [346, 4.307420494699647],\n",
       " [347, 3.878787878787879],\n",
       " [348, 3.78],\n",
       " [349, 3.25],\n",
       " [350, 3.9375],\n",
       " [351, 3.7572815533980584],\n",
       " [352, 3.4793103448275864],\n",
       " [353, 3.9166666666666665],\n",
       " [354, 3.586206896551724],\n",
       " [355, 3.4463007159904535],\n",
       " [356, 4.380952380952381],\n",
       " [357, 3.293103448275862],\n",
       " [358, 3.8472222222222223],\n",
       " [359, 3.857142857142857],\n",
       " [360, 3.6417910447761193],\n",
       " [361, 3.5384615384615383],\n",
       " [362, 3.290909090909091],\n",
       " [363, 3.744186046511628],\n",
       " [364, 3.142857142857143],\n",
       " [365, 3.3404255319148937],\n",
       " [366, 4.06949806949807],\n",
       " [367, 4.25],\n",
       " [368, 3.78125],\n",
       " [369, 3.1954022988505746],\n",
       " [370, 3.75],\n",
       " [371, 3.5],\n",
       " [372, 4.553571428571429],\n",
       " [373, 3.5555555555555554],\n",
       " [374, 4.403846153846154],\n",
       " [375, 4.078431372549019],\n",
       " [376, 4.111111111111111],\n",
       " [377, 3.9044117647058822],\n",
       " [378, 3.5128205128205128],\n",
       " [379, 4.234375],\n",
       " [380, 3.7246376811594204],\n",
       " [381, 4.114285714285714],\n",
       " [382, 4.017857142857143],\n",
       " [383, 3.5714285714285716],\n",
       " [384, 3.590909090909091],\n",
       " [385, 3.9562043795620436],\n",
       " [386, 3.3230769230769233],\n",
       " [387, 3.676470588235294],\n",
       " [388, 3.8813559322033897],\n",
       " [389, 3.5616438356164384],\n",
       " [390, 3.6728971962616823],\n",
       " [391, 3.728395061728395],\n",
       " [392, 3.4743326488706368],\n",
       " [393, 3.581081081081081],\n",
       " [394, 3.3421052631578947],\n",
       " [395, 3.608695652173913],\n",
       " [396, 3.560693641618497],\n",
       " [397, 3.8823529411764706],\n",
       " [398, 3.8133333333333335],\n",
       " [399, 4.15625],\n",
       " [400, 3.875],\n",
       " [401, 3.871794871794872],\n",
       " [402, 3.591549295774648],\n",
       " [403, 3.8035714285714284],\n",
       " [404, 4.14],\n",
       " [405, 3.795918367346939],\n",
       " [406, 3.306122448979592],\n",
       " [407, 3.4375],\n",
       " [408, 4.352564102564102],\n",
       " [409, 3.9158249158249157],\n",
       " [410, 3.96875],\n",
       " [411, 3.280314960629921],\n",
       " [412, 4.401260504201681],\n",
       " [413, 4.404040404040404],\n",
       " [414, 3.0701754385964914],\n",
       " [415, 3.874538745387454],\n",
       " [416, 3.7580645161290325],\n",
       " [417, 4.045454545454546],\n",
       " [418, 3.549019607843137],\n",
       " [419, 3.962962962962963],\n",
       " [420, 4.359375],\n",
       " [421, 4.25],\n",
       " [422, 3.297872340425532],\n",
       " [423, 2.5],\n",
       " [424, 3.735725938009788],\n",
       " [425, 3.6613756613756614],\n",
       " [426, 3.7573221757322175],\n",
       " [427, 4.111111111111111],\n",
       " [428, 3.9],\n",
       " [429, 3.346820809248555],\n",
       " [430, 3.9682539682539684],\n",
       " [431, 3.630952380952381],\n",
       " [432, 2.9863013698630136],\n",
       " [433, 3.391304347826087],\n",
       " [434, 4.023255813953488],\n",
       " [435, 3.8333333333333335],\n",
       " [436, 3.8345864661654137],\n",
       " [437, 4.3076923076923075],\n",
       " [438, 3.528239202657807],\n",
       " [439, 3.902173913043478],\n",
       " [440, 3.586206896551724],\n",
       " [441, 3.9574468085106385],\n",
       " [442, 3.8486997635933804],\n",
       " [443, 3.823529411764706],\n",
       " [444, 4.0],\n",
       " [445, 3.3181818181818183],\n",
       " [446, 4.8431372549019605],\n",
       " [447, 4.837837837837838],\n",
       " [448, 3.4347826086956523],\n",
       " [449, 3.7222222222222223],\n",
       " [450, 4.196078431372549],\n",
       " [451, 4.511961722488039],\n",
       " [452, 4.431818181818182],\n",
       " [453, 3.66497461928934],\n",
       " [454, 3.218045112781955],\n",
       " [455, 4.2],\n",
       " [456, 3.394904458598726],\n",
       " [457, 3.7130801687763713],\n",
       " [458, 3.5348837209302326],\n",
       " [459, 3.6875],\n",
       " [460, 3.3617021276595747],\n",
       " [461, 3.224609375],\n",
       " [462, 3.536723163841808],\n",
       " [463, 3.0],\n",
       " [464, 3.6097560975609757],\n",
       " [465, 3.5405405405405403],\n",
       " [466, 4.14070351758794],\n",
       " [467, 3.2028985507246377],\n",
       " [468, 3.730769230769231],\n",
       " [469, 4.326530612244898],\n",
       " [470, 3.8088235294117645],\n",
       " [471, 3.6285714285714286],\n",
       " [472, 4.022222222222222],\n",
       " [473, 4.163265306122449],\n",
       " [474, 3.380503144654088],\n",
       " [475, 3.8299595141700404],\n",
       " [476, 3.8375870069605567],\n",
       " [477, 3.5829383886255926],\n",
       " [478, 3.869565217391304],\n",
       " [479, 3.827956989247312],\n",
       " [480, 3.411214953271028],\n",
       " [481, 3.696969696969697],\n",
       " [482, 3.2606060606060607],\n",
       " [483, 2.9310344827586206],\n",
       " [484, 3.735294117647059],\n",
       " [485, 4.044444444444444],\n",
       " [486, 4.051282051282051],\n",
       " [487, 3.34],\n",
       " [488, 3.56],\n",
       " [489, 3.3333333333333335],\n",
       " [490, 3.7662337662337664],\n",
       " [491, 3.68],\n",
       " [492, 3.9375],\n",
       " [493, 3.848101265822785],\n",
       " [494, 4.157068062827225],\n",
       " [495, 3.7954545454545454],\n",
       " [496, 4.294117647058823],\n",
       " [497, 3.5833333333333335],\n",
       " [498, 3.6511627906976742],\n",
       " [499, 3.9748743718592965],\n",
       " [500, 3.633663366336634],\n",
       " [501, 3.417910447761194],\n",
       " [502, 4.083333333333333],\n",
       " [503, 4.448275862068965],\n",
       " [504, 3.8055555555555554],\n",
       " [505, 4.217391304347826],\n",
       " [506, 3.422222222222222],\n",
       " [507, 3.9523809523809526],\n",
       " [508, 3.3221476510067114],\n",
       " [509, 3.3139695712309822],\n",
       " [510, 3.8282828282828283],\n",
       " [511, 3.740740740740741],\n",
       " [512, 3.8378378378378377],\n",
       " [513, 3.1474358974358974],\n",
       " [514, 4.2025316455696204],\n",
       " [515, 3.728395061728395],\n",
       " [516, 2.931972789115646],\n",
       " [517, 3.963855421686747],\n",
       " [518, 4.3478260869565215],\n",
       " [519, 3.3777777777777778],\n",
       " [520, 3.9363057324840764],\n",
       " [521, 4.2926829268292686],\n",
       " [522, 3.8448275862068964],\n",
       " [523, 4.06],\n",
       " [524, 3.608267716535433],\n",
       " [525, 4.025],\n",
       " [526, 3.896551724137931],\n",
       " [527, 4.08],\n",
       " [528, 3.3551724137931034],\n",
       " [529, 4.19672131147541],\n",
       " [530, 4.0],\n",
       " [531, 3.1591695501730106],\n",
       " [532, 3.86046511627907],\n",
       " [533, 3.3401015228426396],\n",
       " [534, 3.7475728155339807],\n",
       " [535, 3.5714285714285716],\n",
       " [536, 3.942857142857143],\n",
       " [537, 4.3061224489795915],\n",
       " [538, 4.458333333333333],\n",
       " [539, 3.9242424242424243],\n",
       " [540, 3.230769230769231],\n",
       " [541, 3.1894736842105265],\n",
       " [542, 3.764705882352941],\n",
       " [543, 4.078986587183309],\n",
       " [544, 3.7777777777777777],\n",
       " [545, 3.4827586206896552],\n",
       " [546, 3.231818181818182],\n",
       " [547, 3.858974358974359],\n",
       " [548, 3.093220338983051],\n",
       " [549, 3.7569444444444446],\n",
       " [550, 3.578076525336091],\n",
       " [551, 3.8201754385964914],\n",
       " [552, 3.7628865979381443],\n",
       " [553, 4.15625],\n",
       " [554, 3.511627906976744],\n",
       " [555, 3.8157894736842106],\n",
       " [556, 3.5],\n",
       " [557, 3.8793103448275863],\n",
       " [558, 3.6804123711340204],\n",
       " [559, 3.0],\n",
       " [560, 3.897810218978102],\n",
       " [561, 3.7222222222222223],\n",
       " [562, 3.7027027027027026],\n",
       " [563, 2.7023121387283235],\n",
       " [564, 4.0],\n",
       " [565, 3.44],\n",
       " [566, 2.6273408239700373],\n",
       " [567, 4.583333333333333],\n",
       " [568, 4.44],\n",
       " [569, 3.52],\n",
       " [570, 3.329113924050633],\n",
       " [571, 3.7054794520547945],\n",
       " [572, 3.05],\n",
       " [573, 3.9722222222222223],\n",
       " [574, 4.095238095238095],\n",
       " [575, 3.6564417177914113],\n",
       " [576, 3.6666666666666665],\n",
       " [577, 4.487341772151899],\n",
       " [578, 3.9642857142857144],\n",
       " [579, 3.8550724637681157],\n",
       " [580, 3.347826086956522],\n",
       " [581, 3.6666666666666665],\n",
       " [582, 4.282051282051282],\n",
       " [583, 4.040229885057471],\n",
       " [584, 4.2894736842105265],\n",
       " [585, 3.4662162162162162],\n",
       " [586, 4.485714285714286],\n",
       " [587, 3.0077922077922077],\n",
       " [588, 4.057395143487859],\n",
       " [589, 4.0],\n",
       " [590, 4.13855421686747],\n",
       " [591, 3.231404958677686],\n",
       " [592, 4.391304347826087],\n",
       " [593, 3.641509433962264],\n",
       " [594, 4.29559748427673],\n",
       " [595, 3.95],\n",
       " [596, 2.9523809523809526],\n",
       " [597, 4.473684210526316],\n",
       " [598, 3.3157894736842106],\n",
       " [599, 3.8518518518518516],\n",
       " [600, 3.652173913043478],\n",
       " [601, 3.1501340482573728],\n",
       " [602, 3.396103896103896],\n",
       " [603, 3.5238095238095237],\n",
       " [604, 3.0940766550522647],\n",
       " [605, 4.049180327868853],\n",
       " [606, 4.03030303030303],\n",
       " [607, 4.16],\n",
       " [608, 3.1882352941176473],\n",
       " [609, 4.346153846153846],\n",
       " [610, 3.484126984126984],\n",
       " [611, 3.9393939393939394],\n",
       " [612, 3.5],\n",
       " [613, 3.5849056603773586],\n",
       " [614, 3.8333333333333335],\n",
       " [615, 4.127659574468085],\n",
       " [616, 3.9545454545454546],\n",
       " [617, 4.086956521739131],\n",
       " [618, 3.0],\n",
       " [619, 3.909090909090909],\n",
       " [620, 3.3240223463687153],\n",
       " [621, 3.0416666666666665],\n",
       " [622, 3.912280701754386],\n",
       " [623, 4.226744186046512],\n",
       " [624, 3.6801075268817205],\n",
       " [625, 4.0],\n",
       " [626, 4.055555555555555],\n",
       " [627, 3.5625],\n",
       " [628, 3.9038461538461537],\n",
       " [629, 3.371308016877637],\n",
       " [630, 4.254237288135593],\n",
       " [631, 3.7948717948717947],\n",
       " [632, 3.7941176470588234],\n",
       " [633, 3.5813953488372094],\n",
       " [634, 4.014925373134329],\n",
       " [635, 4.3107344632768365],\n",
       " [636, 4.058139534883721],\n",
       " [637, 3.7559681697612732],\n",
       " [638, 4.175438596491228],\n",
       " [639, 3.705],\n",
       " [640, 4.333333333333333],\n",
       " [641, 4.008264462809917],\n",
       " [642, 4.111111111111111],\n",
       " [643, 2.7142857142857144],\n",
       " [644, 3.1203703703703702],\n",
       " [645, 4.4772727272727275],\n",
       " [646, 3.8031496062992125],\n",
       " [647, 3.103896103896104],\n",
       " [648, 3.7231638418079096],\n",
       " [649, 3.6619718309859155],\n",
       " [650, 3.8947368421052633],\n",
       " [651, 3.6129707112970713],\n",
       " [652, 2.8863636363636362],\n",
       " [653, 4.142857142857143],\n",
       " [654, 3.4324324324324325],\n",
       " [655, 2.733009708737864],\n",
       " [656, 3.8700564971751414],\n",
       " [657, 4.016949152542373],\n",
       " [658, 3.096774193548387],\n",
       " [659, 3.7],\n",
       " [660, 3.0170697012802274],\n",
       " [661, 4.647887323943662],\n",
       " [662, 3.141732283464567],\n",
       " [663, 3.580357142857143],\n",
       " [664, 4.025316455696203],\n",
       " [665, 3.5],\n",
       " [666, 3.8932038834951457],\n",
       " [667, 3.0935672514619883],\n",
       " [668, 3.5833333333333335],\n",
       " [669, 3.847255369928401],\n",
       " [670, 3.2444444444444445],\n",
       " [671, 4.2592592592592595],\n",
       " [672, 3.872340425531915],\n",
       " [673, 3.13151364764268],\n",
       " [674, 4.2784810126582276],\n",
       " [675, 3.3095238095238093],\n",
       " [676, 3.128205128205128],\n",
       " [677, 3.892682926829268],\n",
       " [678, 3.6776776776776776],\n",
       " [679, 3.926829268292683],\n",
       " [680, 3.5714285714285716],\n",
       " [681, 4.2368421052631575],\n",
       " [682, 4.733333333333333],\n",
       " [683, 3.586206896551724],\n",
       " [684, 3.8947368421052633],\n",
       " [685, 3.2357142857142858],\n",
       " [686, 3.7777777777777777],\n",
       " [687, 3.4873417721518987],\n",
       " [688, 3.75],\n",
       " [689, 3.3925925925925924],\n",
       " [690, 4.311111111111111],\n",
       " [691, 4.174757281553398],\n",
       " [692, 3.8240887480190175],\n",
       " [693, 3.8857142857142857],\n",
       " [694, 3.625],\n",
       " [695, 3.513089005235602],\n",
       " [696, 3.802992518703242],\n",
       " [697, 3.8],\n",
       " [698, 3.551851851851852],\n",
       " [699, 3.0534124629080117],\n",
       " [700, 3.875],\n",
       " [701, 3.5],\n",
       " [702, 3.3027139874739038],\n",
       " [703, 4.1],\n",
       " [704, 3.081081081081081],\n",
       " [705, 3.371212121212121],\n",
       " [706, 3.556291390728477],\n",
       " [707, 3.6153846153846154],\n",
       " [708, 3.85],\n",
       " [709, 2.8292682926829267],\n",
       " [710, 3.4271186440677965],\n",
       " [711, 4.0],\n",
       " [712, 3.475177304964539],\n",
       " [713, 3.446280991735537],\n",
       " [714, 4.1635071090047395],\n",
       " [715, 3.8877551020408165],\n",
       " [716, 4.198979591836735],\n",
       " [717, 3.1538461538461537],\n",
       " [718, 3.775147928994083],\n",
       " [719, 3.5],\n",
       " [720, 2.9098712446351933],\n",
       " [721, 3.551051051051051],\n",
       " [722, 3.909090909090909],\n",
       " [723, 3.8333333333333335],\n",
       " [724, 3.643312101910828],\n",
       " [725, 4.197530864197531],\n",
       " [726, 3.9315068493150687],\n",
       " [727, 3.6987951807228914],\n",
       " [728, 3.311377245508982],\n",
       " [729, 3.5273972602739727],\n",
       " [730, 3.7735849056603774],\n",
       " [731, 3.778816199376947],\n",
       " [732, 3.4285714285714284],\n",
       " [733, 4.05982905982906],\n",
       " [734, 3.727272727272727],\n",
       " [735, 3.590330788804071],\n",
       " [736, 3.9298245614035086],\n",
       " [737, 3.5668202764976957],\n",
       " [738, 3.303030303030303],\n",
       " [739, 4.354330708661418],\n",
       " [740, 4.243243243243243],\n",
       " [741, 3.324675324675325],\n",
       " [742, 3.9523809523809526],\n",
       " [743, 3.38255033557047],\n",
       " [744, 3.3703703703703702],\n",
       " [745, 2.64],\n",
       " [746, 2.634433962264151],\n",
       " [747, 3.59375],\n",
       " [748, 3.9753086419753085],\n",
       " [749, 3.3246187363834423],\n",
       " [750, 4.321428571428571],\n",
       " [751, 3.88],\n",
       " [752, 2.8291015625],\n",
       " [753, 3.7752293577981653],\n",
       " [754, 3.7770700636942673],\n",
       " [755, 4.111111111111111],\n",
       " [756, 3.9714285714285715],\n",
       " [757, 3.225806451612903],\n",
       " [758, 4.0],\n",
       " [759, 3.5876288659793816],\n",
       " [760, 4.265625],\n",
       " [761, 4.55],\n",
       " [762, 3.717391304347826],\n",
       " [763, 3.730769230769231],\n",
       " [764, 4.525179856115108],\n",
       " [765, 3.574626865671642],\n",
       " [766, 3.9361702127659575],\n",
       " [767, 4.023529411764706],\n",
       " [768, 4.4375],\n",
       " [769, 3.8208955223880596],\n",
       " [770, 2.935441370223979],\n",
       " [771, 3.769230769230769],\n",
       " [772, 3.479591836734694],\n",
       " [773, 3.5918367346938775],\n",
       " [774, 3.2142857142857144],\n",
       " [775, 4.0],\n",
       " [776, 3.766990291262136],\n",
       " [777, 2.5796812749003983],\n",
       " [778, 3.785276073619632],\n",
       " [779, 3.3333333333333335],\n",
       " [780, 3.45703125],\n",
       " [781, 3.1709401709401708],\n",
       " [782, 3.4347826086956523],\n",
       " [783, 3.5210084033613445],\n",
       " [784, 4.066666666666666],\n",
       " [785, 3.2358490566037736],\n",
       " [786, 4.063492063492063],\n",
       " [787, 3.58974358974359],\n",
       " [788, 3.5255102040816326],\n",
       " [789, 2.9043478260869566],\n",
       " [790, 4.3478260869565215],\n",
       " [791, 3.966463414634146],\n",
       " [792, 3.4597701149425286],\n",
       " [793, 3.486666666666667],\n",
       " [794, 3.953488372093023],\n",
       " [795, 3.442953020134228],\n",
       " [796, 2.9717391304347824],\n",
       " [797, 4.036144578313253],\n",
       " [798, 3.149847094801223],\n",
       " [799, 3.6],\n",
       " [800, 3.4849624060150375],\n",
       " [801, 3.6596491228070174],\n",
       " [802, 3.938735177865613],\n",
       " [803, 3.7115384615384617],\n",
       " [804, 3.272727272727273],\n",
       " [805, 3.835616438356164],\n",
       " [806, 4.166666666666667],\n",
       " [807, 3.9696969696969697],\n",
       " [808, 3.1236363636363635],\n",
       " [809, 4.031914893617022],\n",
       " [810, 3.8174603174603177],\n",
       " [811, 4.184615384615385],\n",
       " [812, 3.739130434782609],\n",
       " [813, 3.343283582089552],\n",
       " [814, 4.055555555555555],\n",
       " [815, 4.068965517241379],\n",
       " [816, 3.6974358974358976],\n",
       " [817, 4.010050251256281],\n",
       " [818, 3.7251461988304095],\n",
       " [819, 3.3225806451612905],\n",
       " [820, 3.4134615384615383],\n",
       " [821, 2.9523809523809526],\n",
       " [822, 3.7226027397260273],\n",
       " [823, 3.8677685950413223],\n",
       " [824, 3.646103896103896],\n",
       " [825, 3.619047619047619],\n",
       " [826, 3.2857142857142856],\n",
       " [827, 3.9545454545454546],\n",
       " [828, 3.4434782608695653],\n",
       " [829, 4.231884057971015],\n",
       " [830, 3.6149425287356323],\n",
       " [831, 4.105263157894737],\n",
       " [832, 3.558139534883721],\n",
       " [833, 4.0476190476190474],\n",
       " [834, 4.16],\n",
       " [835, 2.75],\n",
       " [836, 2.4],\n",
       " [837, 3.260869565217391],\n",
       " [838, 4.090909090909091],\n",
       " [839, 3.988372093023256],\n",
       " [840, 4.219123505976095],\n",
       " [841, 3.576923076923077],\n",
       " [842, 3.8378378378378377],\n",
       " [843, 3.9444444444444446],\n",
       " [844, 3.4523809523809526],\n",
       " [845, 3.980769230769231],\n",
       " [846, 3.91699604743083],\n",
       " [847, 3.6129032258064515],\n",
       " [848, 4.178571428571429],\n",
       " [849, 3.264957264957265],\n",
       " [850, 3.5613718411552346],\n",
       " [851, 3.5921052631578947],\n",
       " [852, 4.117647058823529],\n",
       " [853, 3.890909090909091],\n",
       " [854, 3.027667984189723],\n",
       " [855, 3.4126984126984126],\n",
       " [856, 3.490566037735849],\n",
       " [857, 4.171428571428572],\n",
       " [858, 4.189473684210526],\n",
       " [859, 3.450980392156863],\n",
       " [860, 3.1666666666666665],\n",
       " [861, 3.9375],\n",
       " [862, 3.6724137931034484],\n",
       " [863, 4.225806451612903],\n",
       " [864, 4.050724637681159],\n",
       " [865, 3.8095238095238093],\n",
       " [866, 3.3333333333333335],\n",
       " [867, 3.659090909090909],\n",
       " [868, 3.6],\n",
       " [869, 3.5154394299287413],\n",
       " [870, 3.611111111111111],\n",
       " [871, 3.9069767441860463],\n",
       " [872, 3.635514018691589],\n",
       " [873, 3.8430232558139537],\n",
       " [874, 3.7857142857142856],\n",
       " [875, 4.083333333333333],\n",
       " [876, 3.828828828828829],\n",
       " [877, 3.308056872037915],\n",
       " [878, 4.142857142857143],\n",
       " [879, 4.025],\n",
       " [880, 3.4956521739130433],\n",
       " [881, 2.9354485776805253],\n",
       " [882, 4.0886075949367084],\n",
       " [883, 3.4166666666666665],\n",
       " [884, 4.01010101010101],\n",
       " [885, 4.140625],\n",
       " [886, 3.6285714285714286],\n",
       " [887, 3.5104166666666665],\n",
       " [888, 3.7777777777777777],\n",
       " [889, 2.8405797101449277],\n",
       " [890, 3.969298245614035],\n",
       " [891, 3.7443946188340806],\n",
       " [892, 3.911764705882353],\n",
       " [893, 3.2],\n",
       " [894, 4.442857142857143],\n",
       " [895, 3.953125],\n",
       " [896, 3.984375],\n",
       " [897, 3.5566502463054186],\n",
       " [898, 4.083333333333333],\n",
       " [899, 3.523219814241486],\n",
       " [900, 3.576923076923077],\n",
       " [901, 3.606060606060606],\n",
       " [902, 4.28],\n",
       " [903, 3.4594594594594597],\n",
       " [904, 3.3008130081300813],\n",
       " [905, 3.7886178861788617],\n",
       " [906, 3.5238095238095237],\n",
       " [907, 3.9523809523809526],\n",
       " [908, 3.3076923076923075],\n",
       " [909, 3.9014084507042255],\n",
       " [910, 3.6012269938650308],\n",
       " [911, 3.8685714285714288],\n",
       " [912, 3.7209302325581395],\n",
       " [913, 3.2888888888888888],\n",
       " [914, 4.278688524590164],\n",
       " [915, 2.831578947368421],\n",
       " [916, 3.9454545454545453],\n",
       " [917, 4.068965517241379],\n",
       " [918, 2.9583333333333335],\n",
       " [919, 3.9355828220858897],\n",
       " [920, 3.4615384615384617],\n",
       " [921, 3.6962025316455698],\n",
       " [922, 3.5830903790087465],\n",
       " [923, 3.608695652173913],\n",
       " [924, 3.9899497487437188],\n",
       " [925, 3.1323529411764706],\n",
       " [926, 4.247619047619048],\n",
       " [927, 3.230366492146597],\n",
       " [928, 4.3254716981132075],\n",
       " [929, 3.6816901408450704],\n",
       " [930, 3.0510204081632653],\n",
       " [931, 4.031847133757962],\n",
       " [932, 4.45],\n",
       " [933, 3.7096774193548385],\n",
       " [934, 2.9859437751004014],\n",
       " [935, 3.4896907216494846],\n",
       " [936, 3.5113636363636362],\n",
       " [937, 3.7327586206896552],\n",
       " [938, 3.870967741935484],\n",
       " [939, 3.757575757575758],\n",
       " [940, 3.1923076923076925],\n",
       " [941, 2.2857142857142856],\n",
       " [942, 4.04],\n",
       " [943, 4.296296296296297],\n",
       " [944, 3.8444444444444446],\n",
       " [945, 3.6196319018404908],\n",
       " [946, 4.303030303030303],\n",
       " [947, 3.0],\n",
       " [948, 3.7408123791102517],\n",
       " [949, 3.9295392953929538],\n",
       " [950, 2.963636363636364],\n",
       " [951, 4.523809523809524],\n",
       " [952, 3.9936305732484074],\n",
       " [953, 4.6878306878306875],\n",
       " [954, 3.7777777777777777],\n",
       " [955, 3.5798816568047336],\n",
       " [956, 3.990740740740741],\n",
       " [957, 4.271341463414634],\n",
       " [958, 3.9050632911392404],\n",
       " [959, 3.7395833333333335],\n",
       " [960, 3.9375],\n",
       " [961, 3.74],\n",
       " [962, 4.03921568627451],\n",
       " [963, 3.4339622641509435],\n",
       " [964, 3.717948717948718],\n",
       " [965, 4.116883116883117],\n",
       " [966, 3.5636363636363635],\n",
       " [967, 3.5384615384615383],\n",
       " [968, 4.131147540983607],\n",
       " [969, 4.115384615384615],\n",
       " [970, 3.1493624772313296],\n",
       " [971, 3.3318385650224216],\n",
       " [972, 3.3714285714285714],\n",
       " [973, 3.3963133640552994],\n",
       " [974, 3.7333333333333334],\n",
       " [975, 3.25990099009901],\n",
       " [976, 3.3636363636363638],\n",
       " [977, 3.7625],\n",
       " [978, 3.8863636363636362],\n",
       " [979, 4.04054054054054],\n",
       " [980, 3.2222222222222223],\n",
       " [981, 3.3303964757709252],\n",
       " [982, 4.176470588235294],\n",
       " [983, 4.115384615384615],\n",
       " [984, 3.5417867435158503],\n",
       " [985, 4.212328767123288],\n",
       " [986, 3.772727272727273],\n",
       " [987, 4.017045454545454],\n",
       " [988, 3.8493150684931505],\n",
       " [989, 4.681818181818182],\n",
       " [990, 3.549019607843137],\n",
       " [991, 3.75],\n",
       " [992, 3.4193548387096775],\n",
       " [993, 3.3448275862068964],\n",
       " [994, 4.153846153846154],\n",
       " [995, 3.8979591836734695],\n",
       " [996, 3.935810810810811],\n",
       " [997, 3.933333333333333],\n",
       " [998, 4.118518518518519],\n",
       " [999, 3.186893203883495],\n",
       " [1000, 4.130952380952381],\n",
       " ...]"
      ]
     },
     "execution_count": 94,
     "metadata": {},
     "output_type": "execute_result"
    }
   ],
   "source": [
    "user_mean_list = []\n",
    "\n",
    "for i in user_id:\n",
    "    mean = np.mean(movie_ratings[movie_ratings[:,0] == i][:,2])\n",
    "    user_mean_list.append([i, mean])\n",
    "\n",
    "user_mean_list"
   ]
  },
  {
   "cell_type": "markdown",
   "id": "fabcd3d2-052e-454f-9050-7b8b69829042",
   "metadata": {},
   "source": [
    "### 사용자별 평점 평균이 4점 이상인 사용자만 구해보기"
   ]
  },
  {
   "cell_type": "code",
   "execution_count": 96,
   "id": "34d37dc3-87c2-4774-a098-41df66b28167",
   "metadata": {
    "scrolled": true
   },
   "outputs": [
    {
     "data": {
      "text/plain": [
       "array([[1.00000000e+00, 4.18867925e+00],\n",
       "       [2.00000000e+00, 3.71317829e+00],\n",
       "       [3.00000000e+00, 3.90196078e+00],\n",
       "       ...,\n",
       "       [6.03800000e+03, 3.80000000e+00],\n",
       "       [6.03900000e+03, 3.87804878e+00],\n",
       "       [6.04000000e+03, 3.57771261e+00]])"
      ]
     },
     "execution_count": 96,
     "metadata": {},
     "output_type": "execute_result"
    }
   ],
   "source": [
    "# list를 array로 바꿔주기!\n",
    "user_mean_array = np.array(user_mean_list)\n",
    "user_mean_array"
   ]
  },
  {
   "cell_type": "code",
   "execution_count": 97,
   "id": "b36d7029-458c-4556-b02d-f9f1fcb9b1c2",
   "metadata": {},
   "outputs": [
    {
     "data": {
      "text/plain": [
       "array([[   1.  ,    4.19],\n",
       "       [   2.  ,    3.71],\n",
       "       [   3.  ,    3.9 ],\n",
       "       ...,\n",
       "       [6038.  ,    3.8 ],\n",
       "       [6039.  ,    3.88],\n",
       "       [6040.  ,    3.58]])"
      ]
     },
     "execution_count": 97,
     "metadata": {},
     "output_type": "execute_result"
    }
   ],
   "source": [
    "# set_printoptions: 배열 출력시 출력 형태를 설저하는 함수\n",
    "# suppress: 소수점 자리수 고정 출력 설정 on\n",
    "# precision: 출력되는 소수점 자릿수\n",
    "np.set_printoptions(suppress=True, precision=2)\n",
    "user_mean_array"
   ]
  },
  {
   "cell_type": "code",
   "execution_count": 98,
   "id": "8da3cf1c-3625-4047-aae8-adbcc41c0ade",
   "metadata": {},
   "outputs": [],
   "source": [
    "# 전체 행 다 출력하는 방법!\n",
    "# sys: 시스템 관련 변수와 함수를 직접 제어할 수 있게 해주는 모듈\n",
    "import sys\n",
    "# threshold=sys.maxsize: 전체길이만큼 모두 출력(디폴트는 1000개까지)\n",
    "np.set_printoptions(threshold=sys.maxsize)"
   ]
  },
  {
   "cell_type": "code",
   "execution_count": 99,
   "id": "fcd1ab6e-c3ba-4bfc-8918-c2b7a33af5a7",
   "metadata": {
    "scrolled": true
   },
   "outputs": [
    {
     "data": {
      "text/plain": [
       "array([   1.,    4.,    7.,   10.,   17.,   20.,   27.,   36.,   43.,\n",
       "         46.,   53.,   54.,   55.,   64.,   65.,   67.,   69.,   74.,\n",
       "         75.,   76.,   81.,   82.,   86.,   88.,   91.,   97.,  101.,\n",
       "        103.,  105.,  106.,  109.,  112.,  121.,  124.,  125.,  126.,\n",
       "        128.,  129.,  130.,  138.,  150.,  152.,  153.,  156.,  158.,\n",
       "        161.,  162.,  164.,  171.,  177.,  183.,  184.,  186.,  187.,\n",
       "        189.,  196.,  205.,  210.,  213.,  215.,  220.,  222.,  228.,\n",
       "        230.,  231.,  233.,  234.,  235.,  239.,  244.,  246.,  248.,\n",
       "        252.,  255.,  257.,  259.,  265.,  266.,  270.,  274.,  275.,\n",
       "        283.,  285.,  288.,  291.,  297.,  299.,  300.,  307.,  309.,\n",
       "        311.,  313.,  316.,  320.,  322.,  325.,  330.,  332.,  336.,\n",
       "        339.,  341.,  343.,  345.,  346.,  356.,  366.,  367.,  372.,\n",
       "        374.,  375.,  376.,  379.,  381.,  382.,  399.,  404.,  408.,\n",
       "        412.,  413.,  417.,  420.,  421.,  427.,  434.,  437.,  444.,\n",
       "        446.,  447.,  450.,  451.,  452.,  455.,  466.,  469.,  472.,\n",
       "        473.,  485.,  486.,  494.,  496.,  502.,  503.,  505.,  514.,\n",
       "        518.,  521.,  523.,  525.,  527.,  529.,  530.,  537.,  538.,\n",
       "        543.,  553.,  564.,  567.,  568.,  574.,  577.,  582.,  583.,\n",
       "        584.,  586.,  588.,  589.,  590.,  592.,  594.,  597.,  605.,\n",
       "        606.,  607.,  609.,  615.,  617.,  623.,  625.,  626.,  630.,\n",
       "        634.,  635.,  636.,  638.,  640.,  641.,  642.,  645.,  653.,\n",
       "        657.,  661.,  664.,  671.,  674.,  681.,  682.,  690.,  691.,\n",
       "        703.,  711.,  714.,  716.,  725.,  733.,  739.,  740.,  750.,\n",
       "        755.,  758.,  760.,  761.,  764.,  767.,  768.,  775.,  784.,\n",
       "        786.,  790.,  797.,  806.,  809.,  811.,  814.,  815.,  817.,\n",
       "        829.,  831.,  833.,  834.,  838.,  840.,  848.,  852.,  857.,\n",
       "        858.,  863.,  864.,  875.,  878.,  879.,  882.,  884.,  885.,\n",
       "        894.,  898.,  902.,  914.,  917.,  926.,  928.,  931.,  932.,\n",
       "        942.,  943.,  946.,  951.,  953.,  957.,  962.,  965.,  968.,\n",
       "        969.,  979.,  982.,  983.,  985.,  987.,  989.,  994.,  998.,\n",
       "       1000., 1002., 1003., 1005., 1007., 1018., 1021., 1023., 1026.,\n",
       "       1031., 1036., 1040., 1041., 1048., 1052., 1062., 1063., 1071.,\n",
       "       1072., 1073., 1075., 1077., 1081., 1082., 1089., 1092., 1095.,\n",
       "       1098., 1108., 1110., 1111., 1129., 1131., 1132., 1134., 1143.,\n",
       "       1157., 1170., 1171., 1175., 1176., 1180., 1186., 1188., 1190.,\n",
       "       1191., 1192., 1197., 1208., 1213., 1215., 1217., 1224., 1225.,\n",
       "       1229., 1232., 1234., 1241., 1245., 1250., 1252., 1254., 1256.,\n",
       "       1258., 1268., 1269., 1271., 1275., 1276., 1278., 1282., 1289.,\n",
       "       1290., 1302., 1305., 1306., 1307., 1315., 1320., 1322., 1324.,\n",
       "       1330., 1336., 1338., 1343., 1349., 1351., 1355., 1361., 1363.,\n",
       "       1364., 1368., 1371., 1378., 1382., 1388., 1393., 1400., 1401.,\n",
       "       1402., 1407., 1409., 1410., 1423., 1428., 1430., 1437., 1443.,\n",
       "       1446., 1452., 1456., 1459., 1469., 1477., 1479., 1481., 1488.,\n",
       "       1490., 1507., 1511., 1513., 1518., 1520., 1526., 1528., 1532.,\n",
       "       1536., 1539., 1541., 1555., 1558., 1561., 1568., 1569., 1577.,\n",
       "       1578., 1586., 1588., 1590., 1591., 1595., 1602., 1604., 1618.,\n",
       "       1619., 1623., 1638., 1643., 1645., 1654., 1663., 1668., 1670.,\n",
       "       1673., 1681., 1682., 1684., 1692., 1697., 1699., 1702., 1703.,\n",
       "       1704., 1707., 1718., 1720., 1722., 1724., 1727., 1728., 1732.,\n",
       "       1734., 1740., 1744., 1746., 1751., 1764., 1771., 1786., 1789.,\n",
       "       1795., 1797., 1802., 1805., 1806., 1816., 1821., 1823., 1830.,\n",
       "       1834., 1835., 1836., 1842., 1846., 1847., 1853., 1856., 1857.,\n",
       "       1862., 1863., 1866., 1881., 1885., 1892., 1894., 1895., 1896.,\n",
       "       1901., 1903., 1905., 1913., 1926., 1940., 1949., 1959., 1963.,\n",
       "       1966., 1971., 1972., 1983., 1986., 1991., 1994., 1997., 2002.,\n",
       "       2003., 2009., 2014., 2027., 2034., 2044., 2045., 2048., 2049.,\n",
       "       2055., 2056., 2061., 2062., 2064., 2065., 2066., 2070., 2072.,\n",
       "       2080., 2082., 2083., 2091., 2094., 2096., 2107., 2108., 2117.,\n",
       "       2118., 2123., 2124., 2137., 2139., 2141., 2145., 2155., 2159.,\n",
       "       2163., 2165., 2170., 2171., 2175., 2176., 2178., 2184., 2185.,\n",
       "       2193., 2197., 2201., 2203., 2207., 2214., 2220., 2224., 2232.,\n",
       "       2239., 2240., 2241., 2243., 2253., 2256., 2259., 2266., 2268.,\n",
       "       2271., 2276., 2280., 2281., 2282., 2287., 2289., 2291., 2293.,\n",
       "       2294., 2295., 2297., 2303., 2307., 2308., 2311., 2313., 2317.,\n",
       "       2324., 2331., 2332., 2337., 2339., 2340., 2343., 2363., 2364.,\n",
       "       2365., 2368., 2369., 2370., 2372., 2373., 2374., 2379., 2384.,\n",
       "       2388., 2392., 2396., 2397., 2398., 2401., 2407., 2414., 2417.,\n",
       "       2420., 2422., 2423., 2441., 2447., 2452., 2460., 2465., 2467.,\n",
       "       2468., 2474., 2475., 2476., 2477., 2488., 2497., 2505., 2510.,\n",
       "       2511., 2513., 2514., 2515., 2520., 2523., 2527., 2532., 2543.,\n",
       "       2545., 2547., 2553., 2554., 2560., 2571., 2572., 2573., 2574.,\n",
       "       2578., 2579., 2581., 2582., 2583., 2586., 2587., 2593., 2606.,\n",
       "       2607., 2608., 2609., 2613., 2614., 2619., 2624., 2626., 2629.,\n",
       "       2631., 2641., 2646., 2647., 2652., 2654., 2656., 2657., 2659.,\n",
       "       2674., 2676., 2683., 2687., 2689., 2690., 2691., 2694., 2697.,\n",
       "       2698., 2699., 2704., 2705., 2706., 2719., 2726., 2729., 2731.,\n",
       "       2732., 2733., 2738., 2741., 2747., 2750., 2755., 2756., 2758.,\n",
       "       2760., 2762., 2764., 2766., 2768., 2770., 2773., 2775., 2778.,\n",
       "       2781., 2784., 2786., 2788., 2790., 2791., 2793., 2798., 2799.,\n",
       "       2808., 2809., 2814., 2817., 2828., 2831., 2832., 2834., 2838.,\n",
       "       2841., 2849., 2852., 2859., 2862., 2867., 2875., 2884., 2885.,\n",
       "       2900., 2901., 2903., 2914., 2922., 2936., 2942., 2943., 2944.,\n",
       "       2948., 2951., 2952., 2957., 2960., 2964., 2966., 2970., 2974.,\n",
       "       2975., 2979., 2981., 2983., 2997., 3002., 3006., 3009., 3011.,\n",
       "       3019., 3020., 3025., 3027., 3032., 3036., 3037., 3038., 3039.,\n",
       "       3044., 3045., 3049., 3059., 3061., 3064., 3073., 3074., 3078.,\n",
       "       3081., 3085., 3086., 3088., 3089., 3092., 3096., 3100., 3101.,\n",
       "       3103., 3106., 3117., 3127., 3135., 3136., 3139., 3141., 3142.,\n",
       "       3149., 3151., 3155., 3159., 3160., 3161., 3167., 3171., 3173.,\n",
       "       3175., 3177., 3181., 3187., 3188., 3192., 3198., 3201., 3203.,\n",
       "       3204., 3207., 3210., 3211., 3214., 3221., 3226., 3231., 3233.,\n",
       "       3235., 3238., 3244., 3251., 3256., 3257., 3259., 3266., 3273.,\n",
       "       3277., 3281., 3282., 3284., 3286., 3287., 3292., 3294., 3296.,\n",
       "       3298., 3299., 3303., 3304., 3305., 3306., 3310., 3314., 3315.,\n",
       "       3316., 3318., 3321., 3322., 3324., 3335., 3339., 3343., 3344.,\n",
       "       3347., 3348., 3350., 3351., 3356., 3357., 3365., 3367., 3372.,\n",
       "       3390., 3397., 3400., 3403., 3405., 3406., 3409., 3412., 3413.,\n",
       "       3414., 3415., 3419., 3420., 3421., 3424., 3428., 3437., 3439.,\n",
       "       3440., 3446., 3449., 3452., 3455., 3456., 3458., 3460., 3461.,\n",
       "       3466., 3467., 3468., 3472., 3474., 3485., 3486., 3497., 3501.,\n",
       "       3502., 3503., 3506., 3522., 3531., 3534., 3539., 3540., 3541.,\n",
       "       3544., 3553., 3558., 3559., 3560., 3572., 3580., 3583., 3587.,\n",
       "       3588., 3590., 3592., 3595., 3596., 3601., 3604., 3606., 3611.,\n",
       "       3629., 3633., 3635., 3644., 3646., 3649., 3653., 3657., 3659.,\n",
       "       3666., 3671., 3682., 3684., 3685., 3686., 3688., 3697., 3699.,\n",
       "       3704., 3706., 3711., 3723., 3738., 3740., 3744., 3747., 3755.,\n",
       "       3757., 3759., 3761., 3765., 3769., 3770., 3774., 3780., 3781.,\n",
       "       3782., 3786., 3787., 3789., 3790., 3795., 3796., 3809., 3810.,\n",
       "       3813., 3815., 3818., 3819., 3820., 3830., 3832., 3834., 3835.,\n",
       "       3840., 3844., 3845., 3848., 3852., 3853., 3854., 3858., 3864.,\n",
       "       3867., 3872., 3877., 3889., 3890., 3891., 3897., 3902., 3912.,\n",
       "       3919., 3920., 3930., 3936., 3937., 3938., 3943., 3947., 3960.,\n",
       "       3963., 3978., 3979., 3989., 3994., 3996., 4027., 4031., 4032.,\n",
       "       4034., 4035., 4038., 4044., 4047., 4050., 4052., 4065., 4068.,\n",
       "       4076., 4080., 4081., 4084., 4086., 4092., 4093., 4094., 4100.,\n",
       "       4107., 4108., 4110., 4112., 4117., 4118., 4128., 4129., 4135.,\n",
       "       4136., 4143., 4145., 4146., 4147., 4154., 4159., 4162., 4168.,\n",
       "       4172., 4173., 4174., 4176., 4177., 4179., 4182., 4187., 4189.,\n",
       "       4191., 4194., 4195., 4197., 4201., 4204., 4206., 4207., 4208.,\n",
       "       4213., 4215., 4216., 4217., 4221., 4236., 4239., 4241., 4243.,\n",
       "       4254., 4255., 4264., 4273., 4277., 4288., 4290., 4293., 4297.,\n",
       "       4298., 4299., 4301., 4304., 4313., 4320., 4324., 4327., 4333.,\n",
       "       4337., 4342., 4348., 4357., 4361., 4363., 4372., 4373., 4374.,\n",
       "       4375., 4384., 4398., 4400., 4405., 4410., 4413., 4416., 4423.,\n",
       "       4424., 4432., 4448., 4449., 4457., 4461., 4468., 4469., 4470.,\n",
       "       4474., 4484., 4494., 4495., 4499., 4503., 4504., 4505., 4507.,\n",
       "       4511., 4515., 4516., 4518., 4536., 4546., 4551., 4558., 4559.,\n",
       "       4563., 4567., 4576., 4582., 4584., 4586., 4589., 4594., 4595.,\n",
       "       4599., 4613., 4634., 4639., 4641., 4645., 4649., 4652., 4654.,\n",
       "       4657., 4659., 4660., 4661., 4664., 4665., 4667., 4668., 4674.,\n",
       "       4677., 4686., 4687., 4694., 4697., 4701., 4702., 4716., 4718.,\n",
       "       4719., 4720., 4721., 4723., 4724., 4731., 4734., 4735., 4737.,\n",
       "       4741., 4743., 4744., 4748., 4750., 4751., 4752., 4755., 4757.,\n",
       "       4762., 4764., 4765., 4768., 4772., 4773., 4774., 4776., 4778.,\n",
       "       4779., 4780., 4784., 4785., 4794., 4795., 4797., 4801., 4802.,\n",
       "       4809., 4811., 4813., 4815., 4816., 4817., 4831., 4833., 4842.,\n",
       "       4843., 4847., 4850., 4853., 4858., 4859., 4864., 4866., 4871.,\n",
       "       4873., 4874., 4876., 4882., 4885., 4888., 4889., 4895., 4898.,\n",
       "       4900., 4903., 4904., 4912., 4919., 4920., 4921., 4924., 4925.,\n",
       "       4929., 4930., 4931., 4937., 4943., 4944., 4947., 4949., 4955.,\n",
       "       4959., 4960., 4968., 4971., 4981., 4982., 4986., 4990., 4994.,\n",
       "       4998., 4999., 5000., 5001., 5003., 5006., 5007., 5008., 5009.,\n",
       "       5010., 5017., 5018., 5022., 5025., 5031., 5033., 5041., 5043.,\n",
       "       5044., 5048., 5049., 5052., 5056., 5058., 5060., 5062., 5064.,\n",
       "       5066., 5067., 5068., 5069., 5071., 5072., 5073., 5075., 5080.,\n",
       "       5085., 5088., 5090., 5092., 5094., 5095., 5100., 5102., 5103.,\n",
       "       5104., 5110., 5115., 5116., 5122., 5125., 5130., 5132., 5137.,\n",
       "       5143., 5149., 5154., 5156., 5157., 5160., 5164., 5165., 5166.,\n",
       "       5167., 5168., 5170., 5174., 5180., 5195., 5204., 5206., 5208.,\n",
       "       5212., 5215., 5218., 5221., 5229., 5235., 5240., 5252., 5255.,\n",
       "       5257., 5258., 5259., 5266., 5275., 5290., 5291., 5296., 5297.,\n",
       "       5300., 5313., 5315., 5317., 5329., 5332., 5336., 5337., 5343.,\n",
       "       5349., 5358., 5363., 5371., 5372., 5375., 5381., 5383., 5384.,\n",
       "       5385., 5392., 5396., 5398., 5399., 5401., 5407., 5408., 5413.,\n",
       "       5416., 5423., 5427., 5434., 5435., 5440., 5443., 5446., 5447.,\n",
       "       5449., 5451., 5454., 5460., 5461., 5464., 5466., 5469., 5475.,\n",
       "       5476., 5484., 5486., 5487., 5489., 5497., 5499., 5504., 5511.,\n",
       "       5512., 5513., 5514., 5516., 5517., 5521., 5525., 5528., 5529.,\n",
       "       5533., 5534., 5537., 5541., 5542., 5545., 5557., 5559., 5560.,\n",
       "       5568., 5579., 5581., 5582., 5586., 5589., 5591., 5592., 5593.,\n",
       "       5594., 5596., 5602., 5609., 5610., 5611., 5622., 5626., 5629.,\n",
       "       5630., 5631., 5645., 5657., 5658., 5665., 5668., 5670., 5671.,\n",
       "       5674., 5679., 5680., 5690., 5691., 5692., 5694., 5696., 5704.,\n",
       "       5707., 5718., 5724., 5729., 5731., 5733., 5736., 5739., 5742.,\n",
       "       5743., 5748., 5753., 5757., 5764., 5768., 5770., 5778., 5783.,\n",
       "       5785., 5791., 5793., 5802., 5805., 5808., 5814., 5817., 5823.,\n",
       "       5825., 5832., 5835., 5839., 5841., 5842., 5845., 5846., 5847.,\n",
       "       5851., 5855., 5858., 5859., 5862., 5864., 5868., 5871., 5873.,\n",
       "       5885., 5892., 5908., 5918., 5930., 5933., 5934., 5936., 5939.,\n",
       "       5942., 5943., 5945., 5948., 5952., 5962., 5968., 5973., 5977.,\n",
       "       5983., 5984., 5986., 5994., 5997., 5999., 6002., 6003., 6013.,\n",
       "       6020., 6024., 6027., 6032., 6034.])"
      ]
     },
     "execution_count": 99,
     "metadata": {},
     "output_type": "execute_result"
    }
   ],
   "source": [
    "rating_over4 = user_mean_array[user_mean_array[:,1]>=4][:,0]\n",
    "rating_over4"
   ]
  },
  {
   "cell_type": "code",
   "execution_count": 100,
   "id": "decc9a38-aa00-4647-8434-96e0f9e6c281",
   "metadata": {},
   "outputs": [
    {
     "data": {
      "text/plain": [
       "1544"
      ]
     },
     "execution_count": 100,
     "metadata": {},
     "output_type": "execute_result"
    }
   ],
   "source": [
    "len(rating_over4)"
   ]
  },
  {
   "cell_type": "markdown",
   "id": "97aff4ea-915a-4731-a544-a69f9722d33e",
   "metadata": {},
   "source": [
    "- 평점 4점 이상을 준 사용자는 총 1544명!"
   ]
  },
  {
   "cell_type": "markdown",
   "id": "9c967190-982c-45d3-a723-35f528768873",
   "metadata": {},
   "source": [
    "### 10번 영화의 평점 평균을 구하고, 각 영화별 평점의 평균을 2차원 리스트로 출력하기"
   ]
  },
  {
   "cell_type": "code",
   "execution_count": 103,
   "id": "2467c0d4-5bcd-4c2e-8d13-6735c020ef49",
   "metadata": {},
   "outputs": [
    {
     "data": {
      "text/plain": [
       "3.5405405405405403"
      ]
     },
     "execution_count": 103,
     "metadata": {},
     "output_type": "execute_result"
    }
   ],
   "source": [
    "np.mean(movie_ratings[movie_ratings[:,1] == 10][:,2])"
   ]
  },
  {
   "cell_type": "code",
   "execution_count": 104,
   "id": "33629ff0-3fa4-4ba1-a307-782e189835d2",
   "metadata": {
    "scrolled": true
   },
   "outputs": [
    {
     "data": {
      "text/plain": [
       "array([   1,    2,    3,    4,    5,    6,    7,    8,    9,   10,   11,\n",
       "         12,   13,   14,   15,   16,   17,   18,   19,   20,   21,   22,\n",
       "         23,   24,   25,   26,   27,   28,   29,   30,   31,   32,   33,\n",
       "         34,   35,   36,   37,   38,   39,   40,   41,   42,   43,   44,\n",
       "         45,   46,   47,   48,   49,   50,   52,   53,   54,   55,   56,\n",
       "         57,   58,   59,   60,   61,   62,   63,   64,   65,   66,   67,\n",
       "         68,   69,   70,   71,   72,   73,   74,   75,   76,   77,   78,\n",
       "         79,   80,   81,   82,   83,   84,   85,   86,   87,   88,   89,\n",
       "         90,   92,   93,   94,   95,   96,   97,   98,   99,  100,  101,\n",
       "        102,  103,  104,  105,  106,  107,  108,  110,  111,  112,  113,\n",
       "        114,  116,  117,  118,  119,  120,  121,  122,  123,  124,  125,\n",
       "        126,  127,  128,  129,  130,  131,  132,  133,  134,  135,  136,\n",
       "        137,  138,  139,  140,  141,  142,  144,  145,  146,  147,  148,\n",
       "        149,  150,  151,  152,  153,  154,  155,  156,  157,  158,  159,\n",
       "        160,  161,  162,  163,  164,  165,  166,  167,  168,  169,  170,\n",
       "        171,  172,  173,  174,  175,  176,  177,  178,  179,  180,  181,\n",
       "        182,  183,  184,  185,  186,  187,  188,  189,  190,  191,  192,\n",
       "        193,  194,  195,  196,  197,  198,  199,  200,  201,  202,  203,\n",
       "        204,  205,  206,  207,  208,  209,  210,  211,  212,  213,  214,\n",
       "        215,  216,  217,  218,  219,  220,  222,  223,  224,  225,  226,\n",
       "        227,  228,  229,  230,  231,  232,  233,  234,  235,  236,  237,\n",
       "        238,  239,  240,  241,  242,  243,  244,  245,  246,  247,  248,\n",
       "        249,  250,  251,  252,  253,  254,  255,  256,  257,  258,  259,\n",
       "        260,  261,  262,  263,  264,  265,  266,  267,  268,  269,  270,\n",
       "        271,  272,  273,  274,  275,  276,  277,  278,  279,  280,  281,\n",
       "        282,  283,  286,  287,  288,  289,  290,  291,  292,  293,  294,\n",
       "        295,  296,  297,  298,  299,  300,  301,  302,  303,  304,  305,\n",
       "        306,  307,  308,  309,  310,  311,  312,  313,  314,  315,  316,\n",
       "        317,  318,  319,  320,  321,  322,  324,  325,  326,  327,  328,\n",
       "        329,  330,  331,  332,  333,  334,  335,  336,  337,  338,  339,\n",
       "        340,  341,  342,  343,  344,  345,  346,  347,  348,  349,  350,\n",
       "        351,  352,  353,  354,  355,  356,  357,  358,  359,  360,  361,\n",
       "        362,  363,  364,  365,  366,  367,  368,  369,  370,  371,  372,\n",
       "        373,  374,  375,  376,  377,  378,  379,  380,  381,  382,  383,\n",
       "        384,  385,  386,  387,  388,  389,  390,  391,  392,  393,  394,\n",
       "        396,  397,  398,  401,  402,  404,  405,  406,  407,  408,  409,\n",
       "        410,  411,  412,  413,  414,  415,  416,  417,  418,  419,  420,\n",
       "        421,  422,  423,  424,  425,  426,  427,  428,  429,  430,  431,\n",
       "        432,  433,  434,  435,  436,  437,  438,  439,  440,  441,  442,\n",
       "        443,  444,  445,  446,  447,  448,  449,  450,  451,  452,  453,\n",
       "        454,  455,  456,  457,  458,  459,  460,  461,  462,  463,  464,\n",
       "        465,  466,  467,  468,  469,  470,  471,  472,  473,  474,  475,\n",
       "        476,  477,  478,  479,  480,  481,  482,  483,  484,  485,  486,\n",
       "        487,  488,  489,  490,  491,  492,  493,  494,  495,  496,  497,\n",
       "        498,  499,  500,  501,  502,  503,  504,  505,  506,  507,  508,\n",
       "        509,  510,  511,  512,  513,  514,  515,  516,  517,  518,  519,\n",
       "        520,  521,  522,  523,  524,  525,  526,  527,  528,  529,  530,\n",
       "        531,  532,  533,  534,  535,  536,  537,  538,  539,  540,  541,\n",
       "        542,  543,  544,  545,  546,  547,  548,  549,  550,  551,  552,\n",
       "        553,  554,  555,  556,  557,  558,  559,  560,  561,  562,  563,\n",
       "        564,  565,  566,  567,  568,  569,  570,  571,  572,  573,  574,\n",
       "        575,  576,  577,  578,  579,  580,  581,  582,  583,  584,  585,\n",
       "        586,  587,  588,  589,  590,  591,  592,  593,  594,  595,  596,\n",
       "        597,  598,  599,  600,  601,  602,  603,  605,  606,  607,  608,\n",
       "        609,  610,  611,  612,  613,  614,  615,  616,  617,  618,  619,\n",
       "        621,  623,  624,  626,  627,  628,  630,  631,  632,  633,  634,\n",
       "        635,  637,  638,  639,  640,  641,  642,  643,  644,  645,  647,\n",
       "        648,  649,  650,  651,  652,  653,  655,  656,  657,  658,  659,\n",
       "        660,  661,  662,  663,  664,  665,  666,  667,  668,  669,  670,\n",
       "        671,  672,  673,  674,  678,  679,  680,  681,  682,  684,  685,\n",
       "        687,  688,  690,  691,  692,  694,  695,  696,  697,  698,  700,\n",
       "        701,  702,  703,  704,  705,  706,  707,  708,  709,  710,  711,\n",
       "        712,  714,  715,  716,  717,  718,  719,  720,  722,  724,  725,\n",
       "        726,  728,  729,  730,  731,  732,  733,  734,  735,  736,  737,\n",
       "        741,  742,  743,  744,  745,  746,  747,  748,  749,  750,  751,\n",
       "        753,  754,  755,  756,  757,  758,  759,  760,  761,  762,  763,\n",
       "        764,  765,  766,  767,  769,  771,  774,  775,  776,  778,  779,\n",
       "        780,  781,  782,  783,  784,  785,  786,  787,  788,  789,  790,\n",
       "        791,  792,  793,  796,  798,  799,  800,  801,  802,  803,  804,\n",
       "        805,  806,  807,  808,  809,  810,  811,  813,  814,  815,  818,\n",
       "        820,  821,  823,  824,  826,  827,  828,  829,  830,  831,  832,\n",
       "        833,  834,  835,  836,  837,  838,  839,  840,  841,  842,  843,\n",
       "        844,  846,  847,  848,  849,  850,  851,  852,  853,  854,  858,\n",
       "        859,  860,  861,  862,  863,  864,  865,  866,  867,  868,  869,\n",
       "        870,  872,  874,  875,  876,  877,  878,  879,  880,  881,  882,\n",
       "        884,  885,  886,  887,  888,  889,  891,  892,  893,  895,  896,\n",
       "        897,  898,  899,  900,  901,  902,  903,  904,  905,  906,  907,\n",
       "        908,  909,  910,  911,  912,  913,  914,  915,  916,  917,  918,\n",
       "        919,  920,  921,  922,  923,  924,  925,  926,  927,  928,  929,\n",
       "        930,  931,  932,  933,  934,  935,  936,  937,  938,  939,  940,\n",
       "        941,  942,  943,  944,  945,  946,  947,  948,  949,  950,  951,\n",
       "        952,  953,  954,  955,  956,  957,  958,  959,  960,  961,  962,\n",
       "        963,  964,  965,  966,  967,  968,  969,  970,  971,  972,  973,\n",
       "        974,  975,  976,  977,  978,  980,  981,  982,  984,  985,  986,\n",
       "        987,  988,  989,  990,  991,  992,  993,  994,  996,  997,  998,\n",
       "        999, 1000, 1002, 1003, 1004, 1005, 1006, 1007, 1008, 1009, 1010,\n",
       "       1011, 1012, 1013, 1014, 1015, 1016, 1017, 1018, 1019, 1020, 1021,\n",
       "       1022, 1023, 1024, 1025, 1026, 1027, 1028, 1029, 1030, 1031, 1032,\n",
       "       1033, 1034, 1035, 1036, 1037, 1038, 1039, 1040, 1041, 1042, 1043,\n",
       "       1044, 1046, 1047, 1049, 1050, 1051, 1053, 1054, 1055, 1056, 1057,\n",
       "       1058, 1059, 1060, 1061, 1062, 1063, 1064, 1066, 1067, 1068, 1069,\n",
       "       1070, 1071, 1073, 1076, 1077, 1078, 1079, 1080, 1081, 1082, 1083,\n",
       "       1084, 1085, 1086, 1087, 1088, 1089, 1090, 1091, 1092, 1093, 1094,\n",
       "       1095, 1096, 1097, 1098, 1099, 1100, 1101, 1102, 1103, 1104, 1105,\n",
       "       1107, 1111, 1112, 1113, 1114, 1115, 1116, 1117, 1118, 1119, 1120,\n",
       "       1121, 1123, 1124, 1125, 1126, 1127, 1128, 1129, 1130, 1131, 1132,\n",
       "       1133, 1134, 1135, 1136, 1138, 1139, 1142, 1144, 1145, 1147, 1148,\n",
       "       1149, 1150, 1151, 1152, 1153, 1154, 1160, 1161, 1162, 1163, 1164,\n",
       "       1165, 1167, 1168, 1169, 1170, 1171, 1172, 1173, 1174, 1175, 1176,\n",
       "       1177, 1178, 1179, 1180, 1181, 1183, 1184, 1185, 1186, 1187, 1188,\n",
       "       1189, 1190, 1191, 1192, 1193, 1194, 1196, 1197, 1198, 1199, 1200,\n",
       "       1201, 1202, 1203, 1204, 1205, 1206, 1207, 1208, 1209, 1210, 1211,\n",
       "       1212, 1213, 1214, 1215, 1216, 1217, 1218, 1219, 1220, 1221, 1222,\n",
       "       1223, 1224, 1225, 1226, 1227, 1228, 1230, 1231, 1232, 1233, 1234,\n",
       "       1235, 1236, 1237, 1238, 1240, 1241, 1242, 1243, 1244, 1245, 1246,\n",
       "       1247, 1248, 1249, 1250, 1251, 1252, 1253, 1254, 1255, 1256, 1257,\n",
       "       1258, 1259, 1260, 1261, 1262, 1263, 1264, 1265, 1266, 1267, 1268,\n",
       "       1269, 1270, 1271, 1272, 1273, 1274, 1275, 1276, 1277, 1278, 1279,\n",
       "       1280, 1281, 1282, 1283, 1284, 1285, 1286, 1287, 1288, 1289, 1290,\n",
       "       1291, 1292, 1293, 1294, 1295, 1296, 1297, 1298, 1299, 1300, 1301,\n",
       "       1302, 1303, 1304, 1305, 1306, 1307, 1310, 1311, 1312, 1313, 1315,\n",
       "       1316, 1317, 1320, 1321, 1322, 1323, 1324, 1325, 1326, 1327, 1328,\n",
       "       1329, 1330, 1331, 1332, 1333, 1334, 1335, 1336, 1337, 1339, 1340,\n",
       "       1341, 1342, 1343, 1344, 1345, 1346, 1347, 1348, 1349, 1350, 1351,\n",
       "       1352, 1353, 1354, 1355, 1356, 1357, 1358, 1359, 1360, 1361, 1362,\n",
       "       1363, 1364, 1365, 1366, 1367, 1369, 1370, 1371, 1372, 1373, 1374,\n",
       "       1375, 1376, 1377, 1378, 1379, 1380, 1381, 1382, 1383, 1384, 1385,\n",
       "       1386, 1387, 1388, 1389, 1390, 1391, 1392, 1393, 1394, 1395, 1396,\n",
       "       1397, 1398, 1399, 1401, 1404, 1405, 1406, 1407, 1408, 1409, 1410,\n",
       "       1411, 1412, 1413, 1414, 1415, 1416, 1417, 1419, 1420, 1421, 1422,\n",
       "       1423, 1425, 1426, 1427, 1428, 1429, 1430, 1431, 1432, 1433, 1434,\n",
       "       1436, 1437, 1438, 1439, 1440, 1441, 1442, 1444, 1445, 1446, 1447,\n",
       "       1449, 1450, 1453, 1454, 1455, 1456, 1457, 1458, 1459, 1460, 1461,\n",
       "       1463, 1464, 1465, 1466, 1468, 1470, 1471, 1472, 1473, 1474, 1475,\n",
       "       1476, 1477, 1479, 1480, 1482, 1483, 1484, 1485, 1486, 1487, 1488,\n",
       "       1489, 1490, 1493, 1494, 1495, 1496, 1497, 1498, 1499, 1500, 1501,\n",
       "       1502, 1503, 1504, 1507, 1508, 1509, 1510, 1511, 1513, 1514, 1515,\n",
       "       1516, 1517, 1518, 1519, 1520, 1522, 1523, 1525, 1526, 1527, 1528,\n",
       "       1529, 1531, 1532, 1533, 1534, 1535, 1537, 1538, 1539, 1541, 1542,\n",
       "       1543, 1544, 1545, 1546, 1547, 1548, 1549, 1550, 1551, 1552, 1553,\n",
       "       1554, 1555, 1556, 1558, 1561, 1562, 1563, 1564, 1565, 1566, 1567,\n",
       "       1569, 1570, 1571, 1572, 1573, 1574, 1575, 1579, 1580, 1581, 1582,\n",
       "       1583, 1584, 1585, 1586, 1587, 1588, 1589, 1590, 1591, 1592, 1593,\n",
       "       1594, 1595, 1596, 1597, 1598, 1599, 1600, 1601, 1602, 1603, 1604,\n",
       "       1605, 1606, 1608, 1609, 1610, 1611, 1612, 1613, 1614, 1615, 1616,\n",
       "       1617, 1619, 1620, 1621, 1622, 1623, 1624, 1625, 1626, 1627, 1629,\n",
       "       1630, 1631, 1632, 1633, 1635, 1636, 1639, 1640, 1641, 1642, 1643,\n",
       "       1644, 1645, 1646, 1647, 1648, 1649, 1650, 1651, 1652, 1653, 1654,\n",
       "       1655, 1656, 1657, 1658, 1659, 1660, 1661, 1662, 1663, 1664, 1665,\n",
       "       1666, 1667, 1668, 1669, 1670, 1671, 1672, 1673, 1674, 1675, 1676,\n",
       "       1677, 1678, 1679, 1680, 1681, 1682, 1683, 1684, 1685, 1686, 1687,\n",
       "       1688, 1689, 1690, 1692, 1693, 1694, 1695, 1696, 1699, 1701, 1702,\n",
       "       1703, 1704, 1707, 1709, 1711, 1713, 1714, 1715, 1717, 1718, 1719,\n",
       "       1720, 1721, 1722, 1724, 1725, 1726, 1727, 1728, 1729, 1730, 1731,\n",
       "       1732, 1733, 1734, 1735, 1739, 1741, 1743, 1744, 1746, 1747, 1748,\n",
       "       1749, 1750, 1752, 1753, 1754, 1755, 1756, 1758, 1759, 1760, 1762,\n",
       "       1764, 1767, 1769, 1770, 1771, 1772, 1773, 1777, 1779, 1780, 1782,\n",
       "       1783, 1784, 1785, 1787, 1788, 1791, 1792, 1793, 1794, 1795, 1796,\n",
       "       1797, 1798, 1799, 1801, 1804, 1805, 1806, 1807, 1809, 1810, 1811,\n",
       "       1812, 1814, 1815, 1816, 1817, 1820, 1821, 1822, 1824, 1825, 1826,\n",
       "       1827, 1829, 1830, 1831, 1832, 1833, 1834, 1835, 1836, 1837, 1839,\n",
       "       1840, 1841, 1842, 1843, 1844, 1845, 1846, 1848, 1849, 1850, 1851,\n",
       "       1852, 1853, 1854, 1855, 1856, 1857, 1858, 1859, 1860, 1861, 1862,\n",
       "       1863, 1864, 1865, 1866, 1867, 1868, 1869, 1870, 1871, 1872, 1873,\n",
       "       1874, 1875, 1876, 1877, 1878, 1879, 1880, 1881, 1882, 1883, 1884,\n",
       "       1885, 1886, 1887, 1888, 1889, 1890, 1891, 1892, 1893, 1894, 1895,\n",
       "       1896, 1897, 1898, 1899, 1900, 1901, 1902, 1903, 1904, 1905, 1906,\n",
       "       1907, 1908, 1909, 1910, 1911, 1912, 1913, 1914, 1915, 1916, 1917,\n",
       "       1918, 1919, 1920, 1921, 1922, 1923, 1924, 1925, 1926, 1927, 1928,\n",
       "       1929, 1930, 1931, 1932, 1933, 1934, 1935, 1936, 1937, 1938, 1939,\n",
       "       1940, 1941, 1942, 1943, 1944, 1945, 1946, 1947, 1948, 1949, 1950,\n",
       "       1951, 1952, 1953, 1954, 1955, 1956, 1957, 1958, 1959, 1960, 1961,\n",
       "       1962, 1963, 1964, 1965, 1966, 1967, 1968, 1969, 1970, 1971, 1972,\n",
       "       1973, 1974, 1975, 1976, 1977, 1978, 1979, 1980, 1981, 1982, 1983,\n",
       "       1984, 1985, 1986, 1987, 1988, 1989, 1990, 1991, 1992, 1993, 1994,\n",
       "       1995, 1996, 1997, 1998, 1999, 2000, 2001, 2002, 2003, 2004, 2005,\n",
       "       2006, 2007, 2008, 2009, 2010, 2011, 2012, 2013, 2014, 2015, 2016,\n",
       "       2017, 2018, 2019, 2020, 2021, 2022, 2023, 2024, 2025, 2026, 2027,\n",
       "       2028, 2029, 2031, 2032, 2033, 2034, 2035, 2036, 2037, 2038, 2039,\n",
       "       2040, 2041, 2042, 2043, 2044, 2045, 2046, 2047, 2048, 2049, 2050,\n",
       "       2051, 2052, 2053, 2054, 2055, 2056, 2057, 2058, 2059, 2060, 2061,\n",
       "       2062, 2063, 2064, 2065, 2066, 2067, 2068, 2069, 2070, 2071, 2072,\n",
       "       2073, 2074, 2075, 2076, 2077, 2078, 2079, 2080, 2081, 2082, 2083,\n",
       "       2084, 2085, 2086, 2087, 2088, 2089, 2090, 2091, 2092, 2093, 2094,\n",
       "       2095, 2096, 2097, 2098, 2099, 2100, 2101, 2102, 2103, 2104, 2105,\n",
       "       2106, 2107, 2108, 2109, 2110, 2111, 2112, 2113, 2114, 2115, 2116,\n",
       "       2117, 2118, 2119, 2120, 2121, 2122, 2123, 2124, 2125, 2126, 2127,\n",
       "       2128, 2129, 2130, 2131, 2132, 2133, 2134, 2135, 2136, 2137, 2138,\n",
       "       2139, 2140, 2141, 2142, 2143, 2144, 2145, 2146, 2147, 2148, 2149,\n",
       "       2150, 2151, 2152, 2153, 2154, 2155, 2156, 2157, 2158, 2159, 2160,\n",
       "       2161, 2162, 2163, 2164, 2165, 2166, 2167, 2168, 2169, 2170, 2171,\n",
       "       2172, 2173, 2174, 2175, 2176, 2177, 2178, 2179, 2180, 2181, 2182,\n",
       "       2183, 2184, 2185, 2186, 2187, 2188, 2189, 2190, 2191, 2192, 2193,\n",
       "       2194, 2195, 2196, 2197, 2198, 2200, 2201, 2202, 2203, 2204, 2205,\n",
       "       2206, 2207, 2208, 2209, 2210, 2211, 2212, 2213, 2214, 2215, 2217,\n",
       "       2218, 2219, 2221, 2223, 2226, 2227, 2231, 2232, 2233, 2234, 2235,\n",
       "       2236, 2237, 2238, 2239, 2240, 2241, 2242, 2243, 2244, 2245, 2246,\n",
       "       2247, 2248, 2249, 2250, 2251, 2252, 2253, 2254, 2255, 2256, 2257,\n",
       "       2258, 2259, 2260, 2261, 2262, 2263, 2264, 2265, 2266, 2267, 2268,\n",
       "       2269, 2271, 2272, 2273, 2275, 2276, 2277, 2278, 2279, 2280, 2281,\n",
       "       2282, 2283, 2284, 2285, 2286, 2287, 2288, 2289, 2290, 2291, 2292,\n",
       "       2293, 2294, 2295, 2296, 2297, 2298, 2299, 2300, 2301, 2302, 2303,\n",
       "       2304, 2305, 2306, 2307, 2308, 2309, 2310, 2311, 2312, 2313, 2314,\n",
       "       2315, 2316, 2317, 2318, 2320, 2321, 2322, 2323, 2324, 2325, 2326,\n",
       "       2327, 2328, 2329, 2330, 2331, 2332, 2333, 2334, 2335, 2336, 2337,\n",
       "       2338, 2339, 2340, 2341, 2342, 2343, 2344, 2345, 2346, 2347, 2348,\n",
       "       2349, 2350, 2351, 2352, 2353, 2354, 2355, 2356, 2357, 2358, 2359,\n",
       "       2360, 2361, 2362, 2363, 2364, 2365, 2366, 2367, 2368, 2369, 2370,\n",
       "       2371, 2372, 2373, 2374, 2375, 2376, 2377, 2378, 2379, 2380, 2381,\n",
       "       2382, 2383, 2384, 2385, 2386, 2387, 2388, 2389, 2390, 2391, 2392,\n",
       "       2393, 2394, 2395, 2396, 2397, 2398, 2399, 2400, 2401, 2402, 2403,\n",
       "       2404, 2405, 2406, 2407, 2408, 2409, 2410, 2411, 2412, 2413, 2414,\n",
       "       2415, 2416, 2417, 2418, 2419, 2420, 2421, 2422, 2423, 2424, 2425,\n",
       "       2426, 2427, 2428, 2429, 2430, 2431, 2432, 2433, 2434, 2435, 2436,\n",
       "       2437, 2438, 2439, 2440, 2441, 2442, 2443, 2444, 2445, 2446, 2447,\n",
       "       2448, 2449, 2450, 2451, 2452, 2453, 2454, 2455, 2456, 2457, 2458,\n",
       "       2459, 2460, 2461, 2462, 2463, 2464, 2465, 2466, 2467, 2468, 2469,\n",
       "       2470, 2471, 2472, 2473, 2474, 2475, 2476, 2477, 2478, 2479, 2480,\n",
       "       2481, 2482, 2483, 2484, 2485, 2486, 2487, 2488, 2490, 2491, 2492,\n",
       "       2493, 2494, 2495, 2496, 2497, 2498, 2499, 2500, 2501, 2502, 2503,\n",
       "       2504, 2505, 2506, 2507, 2509, 2510, 2511, 2512, 2513, 2514, 2515,\n",
       "       2516, 2517, 2518, 2519, 2520, 2521, 2522, 2523, 2524, 2525, 2526,\n",
       "       2527, 2528, 2529, 2530, 2531, 2532, 2533, 2534, 2535, 2536, 2537,\n",
       "       2538, 2539, 2540, 2541, 2542, 2543, 2544, 2545, 2546, 2548, 2549,\n",
       "       2550, 2551, 2552, 2553, 2554, 2555, 2556, 2557, 2558, 2559, 2560,\n",
       "       2561, 2562, 2563, 2565, 2566, 2567, 2568, 2569, 2570, 2571, 2572,\n",
       "       2573, 2574, 2575, 2576, 2577, 2578, 2579, 2580, 2581, 2582, 2583,\n",
       "       2584, 2585, 2586, 2587, 2589, 2590, 2591, 2592, 2593, 2594, 2596,\n",
       "       2597, 2598, 2599, 2600, 2602, 2605, 2606, 2607, 2608, 2609, 2610,\n",
       "       2611, 2612, 2613, 2614, 2615, 2616, 2617, 2618, 2619, 2620, 2621,\n",
       "       2622, 2623, 2624, 2625, 2626, 2627, 2628, 2629, 2630, 2631, 2632,\n",
       "       2633, 2634, 2635, 2636, 2637, 2638, 2639, 2640, 2641, 2642, 2643,\n",
       "       2644, 2645, 2646, 2647, 2648, 2649, 2650, 2651, 2652, 2653, 2654,\n",
       "       2655, 2656, 2657, 2658, 2659, 2660, 2661, 2662, 2663, 2664, 2665,\n",
       "       2666, 2667, 2668, 2669, 2670, 2671, 2672, 2673, 2674, 2675, 2676,\n",
       "       2677, 2678, 2679, 2681, 2682, 2683, 2685, 2686, 2687, 2688, 2689,\n",
       "       2690, 2691, 2692, 2693, 2694, 2695, 2696, 2697, 2699, 2700, 2701,\n",
       "       2702, 2703, 2704, 2705, 2706, 2707, 2708, 2709, 2710, 2711, 2712,\n",
       "       2713, 2714, 2715, 2716, 2717, 2718, 2719, 2720, 2721, 2722, 2723,\n",
       "       2724, 2725, 2726, 2727, 2728, 2729, 2730, 2731, 2732, 2733, 2734,\n",
       "       2735, 2736, 2737, 2738, 2739, 2740, 2741, 2742, 2743, 2744, 2745,\n",
       "       2746, 2747, 2748, 2749, 2750, 2751, 2752, 2753, 2754, 2755, 2756,\n",
       "       2757, 2758, 2759, 2760, 2761, 2762, 2763, 2764, 2765, 2766, 2767,\n",
       "       2768, 2769, 2770, 2771, 2772, 2773, 2774, 2775, 2776, 2777, 2778,\n",
       "       2779, 2780, 2781, 2782, 2783, 2784, 2785, 2786, 2787, 2788, 2789,\n",
       "       2790, 2791, 2792, 2793, 2794, 2795, 2796, 2797, 2798, 2799, 2800,\n",
       "       2801, 2802, 2803, 2804, 2805, 2806, 2807, 2808, 2809, 2810, 2811,\n",
       "       2812, 2813, 2814, 2815, 2816, 2817, 2818, 2819, 2820, 2821, 2822,\n",
       "       2823, 2824, 2825, 2826, 2827, 2828, 2829, 2830, 2831, 2833, 2834,\n",
       "       2835, 2836, 2837, 2839, 2840, 2841, 2842, 2843, 2844, 2845, 2846,\n",
       "       2847, 2848, 2849, 2850, 2851, 2852, 2853, 2854, 2855, 2856, 2857,\n",
       "       2858, 2859, 2860, 2861, 2862, 2863, 2864, 2865, 2866, 2867, 2868,\n",
       "       2869, 2870, 2871, 2872, 2873, 2874, 2875, 2876, 2877, 2878, 2879,\n",
       "       2880, 2881, 2882, 2883, 2884, 2885, 2886, 2887, 2888, 2889, 2890,\n",
       "       2891, 2892, 2893, 2894, 2895, 2896, 2897, 2898, 2899, 2900, 2901,\n",
       "       2902, 2903, 2904, 2905, 2906, 2907, 2908, 2909, 2911, 2912, 2913,\n",
       "       2914, 2915, 2916, 2917, 2918, 2919, 2920, 2921, 2922, 2923, 2924,\n",
       "       2925, 2926, 2927, 2928, 2929, 2930, 2931, 2932, 2933, 2934, 2935,\n",
       "       2936, 2937, 2938, 2939, 2940, 2941, 2942, 2943, 2944, 2945, 2946,\n",
       "       2947, 2948, 2949, 2950, 2951, 2952, 2953, 2955, 2956, 2959, 2960,\n",
       "       2961, 2962, 2963, 2964, 2965, 2966, 2967, 2968, 2969, 2970, 2971,\n",
       "       2972, 2973, 2974, 2975, 2976, 2977, 2978, 2979, 2981, 2982, 2983,\n",
       "       2984, 2985, 2986, 2987, 2988, 2989, 2990, 2991, 2992, 2993, 2994,\n",
       "       2995, 2996, 2997, 2998, 2999, 3000, 3001, 3002, 3003, 3004, 3005,\n",
       "       3006, 3007, 3008, 3010, 3011, 3012, 3013, 3014, 3015, 3016, 3017,\n",
       "       3018, 3019, 3020, 3021, 3022, 3024, 3025, 3026, 3027, 3028, 3029,\n",
       "       3030, 3031, 3032, 3033, 3034, 3035, 3036, 3037, 3038, 3039, 3040,\n",
       "       3041, 3042, 3043, 3044, 3045, 3046, 3047, 3048, 3049, 3050, 3051,\n",
       "       3052, 3053, 3054, 3055, 3056, 3057, 3058, 3060, 3061, 3062, 3063,\n",
       "       3064, 3065, 3066, 3067, 3068, 3069, 3070, 3071, 3072, 3073, 3074,\n",
       "       3075, 3076, 3077, 3078, 3079, 3081, 3082, 3083, 3084, 3085, 3086,\n",
       "       3087, 3088, 3089, 3090, 3091, 3092, 3093, 3094, 3095, 3096, 3097,\n",
       "       3098, 3099, 3100, 3101, 3102, 3103, 3104, 3105, 3106, 3107, 3108,\n",
       "       3109, 3110, 3111, 3112, 3113, 3114, 3115, 3116, 3117, 3118, 3119,\n",
       "       3120, 3121, 3122, 3123, 3124, 3125, 3126, 3127, 3128, 3129, 3130,\n",
       "       3131, 3132, 3133, 3134, 3135, 3136, 3137, 3138, 3139, 3140, 3141,\n",
       "       3142, 3143, 3144, 3145, 3146, 3147, 3148, 3149, 3150, 3151, 3152,\n",
       "       3153, 3154, 3155, 3156, 3157, 3158, 3159, 3160, 3161, 3162, 3163,\n",
       "       3164, 3165, 3166, 3167, 3168, 3169, 3171, 3172, 3173, 3174, 3175,\n",
       "       3176, 3177, 3178, 3179, 3180, 3181, 3182, 3183, 3184, 3185, 3186,\n",
       "       3187, 3188, 3189, 3190, 3192, 3194, 3196, 3197, 3198, 3199, 3200,\n",
       "       3201, 3202, 3203, 3204, 3205, 3206, 3207, 3208, 3209, 3210, 3211,\n",
       "       3212, 3213, 3214, 3215, 3216, 3217, 3218, 3219, 3220, 3221, 3222,\n",
       "       3223, 3224, 3225, 3228, 3229, 3230, 3232, 3233, 3235, 3236, 3237,\n",
       "       3238, 3239, 3240, 3241, 3242, 3243, 3244, 3245, 3246, 3247, 3248,\n",
       "       3249, 3250, 3251, 3252, 3253, 3254, 3255, 3256, 3257, 3258, 3259,\n",
       "       3260, 3261, 3262, 3263, 3264, 3265, 3266, 3267, 3268, 3269, 3270,\n",
       "       3271, 3272, 3273, 3274, 3275, 3276, 3277, 3280, 3281, 3282, 3283,\n",
       "       3284, 3285, 3286, 3287, 3288, 3289, 3290, 3291, 3292, 3293, 3294,\n",
       "       3295, 3296, 3297, 3298, 3299, 3300, 3301, 3302, 3303, 3304, 3305,\n",
       "       3306, 3307, 3308, 3309, 3310, 3311, 3312, 3313, 3314, 3315, 3316,\n",
       "       3317, 3318, 3319, 3320, 3321, 3322, 3323, 3324, 3325, 3326, 3327,\n",
       "       3328, 3329, 3330, 3331, 3333, 3334, 3335, 3336, 3337, 3338, 3339,\n",
       "       3340, 3341, 3342, 3343, 3344, 3345, 3346, 3347, 3349, 3350, 3351,\n",
       "       3352, 3353, 3354, 3355, 3357, 3358, 3359, 3360, 3361, 3362, 3363,\n",
       "       3364, 3365, 3366, 3367, 3368, 3370, 3371, 3372, 3373, 3374, 3375,\n",
       "       3376, 3377, 3378, 3379, 3380, 3381, 3382, 3384, 3385, 3386, 3387,\n",
       "       3388, 3389, 3390, 3391, 3392, 3393, 3394, 3395, 3396, 3397, 3398,\n",
       "       3399, 3400, 3401, 3402, 3403, 3404, 3405, 3406, 3407, 3408, 3409,\n",
       "       3410, 3412, 3413, 3414, 3415, 3416, 3417, 3418, 3419, 3420, 3421,\n",
       "       3422, 3423, 3424, 3425, 3426, 3427, 3428, 3429, 3430, 3431, 3432,\n",
       "       3433, 3434, 3435, 3436, 3437, 3438, 3439, 3440, 3441, 3442, 3443,\n",
       "       3444, 3445, 3446, 3447, 3448, 3449, 3450, 3451, 3452, 3453, 3454,\n",
       "       3456, 3457, 3458, 3459, 3460, 3461, 3462, 3463, 3464, 3465, 3466,\n",
       "       3467, 3468, 3469, 3470, 3471, 3472, 3473, 3474, 3475, 3476, 3477,\n",
       "       3478, 3479, 3480, 3481, 3482, 3483, 3484, 3485, 3486, 3487, 3488,\n",
       "       3489, 3490, 3491, 3492, 3493, 3494, 3495, 3496, 3497, 3498, 3499,\n",
       "       3500, 3501, 3502, 3503, 3504, 3505, 3506, 3507, 3508, 3509, 3510,\n",
       "       3511, 3512, 3513, 3514, 3515, 3516, 3517, 3518, 3519, 3520, 3521,\n",
       "       3522, 3523, 3524, 3525, 3526, 3527, 3528, 3529, 3530, 3531, 3532,\n",
       "       3533, 3534, 3535, 3536, 3537, 3538, 3539, 3540, 3542, 3543, 3544,\n",
       "       3545, 3546, 3547, 3548, 3549, 3550, 3551, 3552, 3553, 3554, 3555,\n",
       "       3556, 3557, 3559, 3562, 3563, 3564, 3565, 3566, 3567, 3568, 3569,\n",
       "       3570, 3571, 3572, 3573, 3574, 3575, 3576, 3577, 3578, 3579, 3580,\n",
       "       3581, 3584, 3585, 3586, 3587, 3588, 3590, 3591, 3592, 3593, 3594,\n",
       "       3595, 3596, 3597, 3598, 3599, 3600, 3601, 3602, 3603, 3604, 3605,\n",
       "       3606, 3607, 3608, 3609, 3610, 3611, 3612, 3613, 3614, 3615, 3616,\n",
       "       3617, 3618, 3619, 3620, 3621, 3622, 3623, 3624, 3625, 3626, 3627,\n",
       "       3628, 3629, 3631, 3632, 3633, 3634, 3635, 3636, 3637, 3638, 3639,\n",
       "       3640, 3641, 3642, 3643, 3644, 3645, 3646, 3647, 3648, 3649, 3651,\n",
       "       3652, 3653, 3654, 3655, 3656, 3657, 3658, 3659, 3660, 3661, 3662,\n",
       "       3663, 3664, 3665, 3666, 3667, 3668, 3669, 3670, 3671, 3672, 3673,\n",
       "       3674, 3675, 3676, 3677, 3678, 3679, 3680, 3681, 3682, 3683, 3684,\n",
       "       3685, 3686, 3687, 3688, 3689, 3690, 3691, 3692, 3693, 3694, 3695,\n",
       "       3696, 3697, 3698, 3699, 3700, 3701, 3702, 3703, 3704, 3705, 3706,\n",
       "       3707, 3708, 3709, 3710, 3711, 3712, 3713, 3714, 3715, 3716, 3717,\n",
       "       3718, 3719, 3720, 3721, 3722, 3723, 3724, 3725, 3726, 3727, 3728,\n",
       "       3729, 3730, 3731, 3732, 3733, 3734, 3735, 3736, 3737, 3738, 3739,\n",
       "       3740, 3741, 3742, 3743, 3744, 3745, 3746, 3747, 3748, 3749, 3751,\n",
       "       3752, 3753, 3754, 3755, 3756, 3757, 3758, 3759, 3760, 3761, 3762,\n",
       "       3763, 3764, 3765, 3766, 3767, 3768, 3769, 3770, 3771, 3772, 3773,\n",
       "       3774, 3775, 3776, 3777, 3778, 3779, 3780, 3781, 3782, 3783, 3784,\n",
       "       3785, 3786, 3787, 3788, 3789, 3790, 3791, 3792, 3793, 3794, 3795,\n",
       "       3796, 3797, 3798, 3799, 3800, 3801, 3802, 3803, 3804, 3805, 3806,\n",
       "       3807, 3808, 3809, 3810, 3811, 3812, 3813, 3814, 3816, 3817, 3818,\n",
       "       3819, 3820, 3821, 3822, 3823, 3824, 3825, 3826, 3827, 3828, 3830,\n",
       "       3831, 3832, 3833, 3834, 3835, 3836, 3837, 3838, 3839, 3840, 3841,\n",
       "       3842, 3843, 3844, 3845, 3846, 3847, 3848, 3849, 3850, 3851, 3852,\n",
       "       3853, 3854, 3855, 3857, 3858, 3859, 3860, 3861, 3862, 3863, 3864,\n",
       "       3865, 3866, 3867, 3868, 3869, 3870, 3871, 3872, 3873, 3874, 3875,\n",
       "       3876, 3877, 3878, 3879, 3880, 3881, 3882, 3883, 3884, 3885, 3886,\n",
       "       3887, 3888, 3889, 3890, 3891, 3892, 3893, 3894, 3895, 3896, 3897,\n",
       "       3898, 3899, 3900, 3901, 3902, 3903, 3904, 3905, 3906, 3908, 3909,\n",
       "       3910, 3911, 3912, 3913, 3914, 3915, 3916, 3917, 3918, 3919, 3920,\n",
       "       3921, 3922, 3923, 3924, 3925, 3926, 3927, 3928, 3929, 3930, 3931,\n",
       "       3932, 3933, 3934, 3935, 3936, 3937, 3938, 3939, 3940, 3941, 3942,\n",
       "       3943, 3944, 3945, 3946, 3947, 3948, 3949, 3950, 3951, 3952],\n",
       "      dtype=int64)"
      ]
     },
     "execution_count": 104,
     "metadata": {},
     "output_type": "execute_result"
    }
   ],
   "source": [
    "movie_id = np.unique(movie_ratings[:,1])\n",
    "movie_id"
   ]
  },
  {
   "cell_type": "code",
   "execution_count": 105,
   "id": "4a24453e-7044-46c9-a557-585e4bc0a29b",
   "metadata": {
    "scrolled": true
   },
   "outputs": [
    {
     "data": {
      "text/plain": [
       "[[1, 4.146846413095811],\n",
       " [2, 3.20114122681883],\n",
       " [3, 3.01673640167364],\n",
       " [4, 2.7294117647058824],\n",
       " [5, 3.0067567567567566],\n",
       " [6, 3.8787234042553194],\n",
       " [7, 3.410480349344978],\n",
       " [8, 3.014705882352941],\n",
       " [9, 2.656862745098039],\n",
       " [10, 3.5405405405405403],\n",
       " [11, 3.7938044530493706],\n",
       " [12, 2.3625],\n",
       " [13, 3.2626262626262625],\n",
       " [14, 3.542483660130719],\n",
       " [15, 2.458904109589041],\n",
       " [16, 3.7932551319648096],\n",
       " [17, 4.027544910179641],\n",
       " [18, 3.337579617834395],\n",
       " [19, 2.480719794344473],\n",
       " [20, 2.5375],\n",
       " [21, 3.6238938053097347],\n",
       " [22, 3.3492063492063493],\n",
       " [23, 2.857142857142857],\n",
       " [24, 3.1794871794871793],\n",
       " [25, 3.6510204081632653],\n",
       " [26, 3.53],\n",
       " [27, 2.9344262295081966],\n",
       " [28, 4.055865921787709],\n",
       " [29, 4.062034739454094],\n",
       " [30, 3.6486486486486487],\n",
       " [31, 3.1134751773049647],\n",
       " [32, 3.945731303772336],\n",
       " [33, 3.0],\n",
       " [34, 3.8914905768132497],\n",
       " [35, 3.3142857142857145],\n",
       " [36, 3.9579741379310347],\n",
       " [37, 3.5],\n",
       " [38, 2.8214285714285716],\n",
       " [39, 3.6233480176211454],\n",
       " [40, 3.933333333333333],\n",
       " [41, 3.958677685950413],\n",
       " [42, 2.8687782805429864],\n",
       " [43, 3.4457831325301207],\n",
       " [44, 2.787781350482315],\n",
       " [45, 3.4246323529411766],\n",
       " [46, 3.108433734939759],\n",
       " [47, 4.106420404573439],\n",
       " [48, 2.9764397905759163],\n",
       " [49, 3.740740740740741],\n",
       " [50, 4.517106001121705],\n",
       " [52, 3.640371229698376],\n",
       " [53, 4.75],\n",
       " [54, 2.5609756097560976],\n",
       " [55, 3.066666666666667],\n",
       " [56, 2.0],\n",
       " [57, 3.404040404040404],\n",
       " [58, 4.093812375249501],\n",
       " [59, 2.75],\n",
       " [60, 3.212885154061625],\n",
       " [61, 3.0],\n",
       " [62, 3.6968576709796674],\n",
       " [63, 2.855855855855856],\n",
       " [64, 2.2658227848101267],\n",
       " [65, 2.062937062937063],\n",
       " [66, 1.6701030927835052],\n",
       " [67, 3.25],\n",
       " [68, 3.45],\n",
       " [69, 3.6551724137931036],\n",
       " [70, 3.1564551422319473],\n",
       " [71, 2.1041666666666665],\n",
       " [72, 3.6344086021505375],\n",
       " [73, 3.8169642857142856],\n",
       " [74, 2.975],\n",
       " [75, 1.9166666666666667],\n",
       " [76, 2.853932584269663],\n",
       " [77, 3.764705882352941],\n",
       " [78, 3.26],\n",
       " [79, 2.6052631578947367],\n",
       " [80, 3.826923076923077],\n",
       " [81, 3.1626506024096384],\n",
       " [82, 3.8764044943820224],\n",
       " [83, 3.696969696969697],\n",
       " [84, 3.0952380952380953],\n",
       " [85, 3.402061855670103],\n",
       " [86, 3.3940677966101696],\n",
       " [87, 2.210526315789474],\n",
       " [88, 2.9427083333333335],\n",
       " [89, 3.074235807860262],\n",
       " [90, 3.6666666666666665],\n",
       " [92, 2.340909090909091],\n",
       " [93, 2.235955056179775],\n",
       " [94, 3.7252747252747254],\n",
       " [95, 2.876175548589342],\n",
       " [96, 3.923076923076923],\n",
       " [97, 3.75],\n",
       " [98, 2.0],\n",
       " [99, 3.46],\n",
       " [100, 3.0625],\n",
       " [101, 3.869565217391304],\n",
       " [102, 1.8166666666666667],\n",
       " [103, 3.212121212121212],\n",
       " [104, 3.526392961876833],\n",
       " [105, 3.2325581395348837],\n",
       " [106, 3.5833333333333335],\n",
       " [107, 3.1484375],\n",
       " [108, 2.857142857142857],\n",
       " [110, 4.234957020057307],\n",
       " [111, 4.183870967741935],\n",
       " [112, 3.443859649122807],\n",
       " [113, 2.981132075471698],\n",
       " [114, 3.090909090909091],\n",
       " [116, 4.097560975609756],\n",
       " [117, 3.632911392405063],\n",
       " [118, 3.073529411764706],\n",
       " [119, 2.4615384615384617],\n",
       " [120, 2.6666666666666665],\n",
       " [121, 4.054054054054054],\n",
       " [122, 2.768041237113402],\n",
       " [123, 3.869565217391304],\n",
       " [124, 3.2142857142857144],\n",
       " [125, 3.8333333333333335],\n",
       " [126, 1.9898989898989898],\n",
       " [127, 1.0],\n",
       " [128, 4.333333333333333],\n",
       " [129, 3.3076923076923075],\n",
       " [130, 4.0],\n",
       " [131, 3.0625],\n",
       " [132, 2.4945054945054945],\n",
       " [133, 1.0],\n",
       " [134, 4.0],\n",
       " [135, 2.81203007518797],\n",
       " [136, 3.25],\n",
       " [137, 3.0],\n",
       " [138, 2.5],\n",
       " [139, 4.0],\n",
       " [140, 3.1654676258992804],\n",
       " [141, 3.5498533724340176],\n",
       " [142, 1.0],\n",
       " [144, 3.392609699769053],\n",
       " [145, 3.2955801104972378],\n",
       " [146, 2.888888888888889],\n",
       " [147, 3.541436464088398],\n",
       " [148, 2.782608695652174],\n",
       " [149, 3.7872340425531914],\n",
       " [150, 4.073541167066347],\n",
       " [151, 3.588447653429603],\n",
       " [152, 3.0],\n",
       " [153, 2.642213642213642],\n",
       " [154, 3.7261904761904763],\n",
       " [155, 3.413793103448276],\n",
       " [156, 3.5606060606060606],\n",
       " [157, 2.732620320855615],\n",
       " [158, 2.9806949806949805],\n",
       " [159, 3.2844827586206895],\n",
       " [160, 2.2389380530973453],\n",
       " [161, 3.723684210526316],\n",
       " [162, 4.063136456211812],\n",
       " [163, 3.4574074074074073],\n",
       " [164, 3.5672823218997363],\n",
       " [165, 3.561212121212121],\n",
       " [166, 2.459016393442623],\n",
       " [167, 3.6],\n",
       " [168, 2.9502762430939224],\n",
       " [169, 2.017699115044248],\n",
       " [170, 3.146417445482866],\n",
       " [171, 3.5698924731182795],\n",
       " [172, 2.576419213973799],\n",
       " [173, 2.3085106382978724],\n",
       " [174, 2.308641975308642],\n",
       " [175, 3.477272727272727],\n",
       " [176, 3.9170731707317072],\n",
       " [177, 2.7338129496402876],\n",
       " [178, 3.473684210526316],\n",
       " [179, 2.2083333333333335],\n",
       " [180, 3.5476718403547673],\n",
       " [181, 1.6129032258064515],\n",
       " [182, 3.142857142857143],\n",
       " [183, 3.4827586206896552],\n",
       " [184, 3.3461538461538463],\n",
       " [185, 2.869947275922671],\n",
       " [186, 2.7630331753554502],\n",
       " [187, 3.238095238095238],\n",
       " [188, 3.221052631578947],\n",
       " [189, 3.4],\n",
       " [190, 3.75],\n",
       " [191, 2.466666666666667],\n",
       " [192, 3.0],\n",
       " [193, 2.0506912442396312],\n",
       " [194, 3.755868544600939],\n",
       " [195, 2.841463414634146],\n",
       " [196, 2.8236363636363637],\n",
       " [197, 3.0588235294117645],\n",
       " [198, 3.2958677685950413],\n",
       " [199, 3.8119658119658117],\n",
       " [200, 2.4166666666666665],\n",
       " [201, 2.6363636363636362],\n",
       " [202, 2.5],\n",
       " [203, 3.0541871921182264],\n",
       " [204, 2.9211822660098523],\n",
       " [205, 3.611764705882353],\n",
       " [206, 3.6707317073170733],\n",
       " [207, 3.132420091324201],\n",
       " [208, 2.6313364055299537],\n",
       " [209, 2.4615384615384617],\n",
       " [210, 3.1463414634146343],\n",
       " [211, 3.5588235294117645],\n",
       " [212, 1.9285714285714286],\n",
       " [213, 4.056910569105691],\n",
       " [214, 4.25],\n",
       " [215, 3.80625],\n",
       " [216, 3.183098591549296],\n",
       " [217, 2.625],\n",
       " [218, 3.128205128205128],\n",
       " [219, 3.1818181818181817],\n",
       " [220, 1.8214285714285714],\n",
       " [222, 3.547112462006079],\n",
       " [223, 3.946883852691218],\n",
       " [224, 3.3911917098445596],\n",
       " [225, 3.173228346456693],\n",
       " [226, 2.0],\n",
       " [227, 2.6744186046511627],\n",
       " [228, 2.1538461538461537],\n",
       " [229, 3.5],\n",
       " [230, 3.4527220630372493],\n",
       " [231, 3.1924242424242424],\n",
       " [232, 4.07514450867052],\n",
       " [233, 3.6127659574468085],\n",
       " [234, 2.2244897959183674],\n",
       " [235, 3.696871628910464],\n",
       " [236, 3.303680981595092],\n",
       " [237, 2.972762645914397],\n",
       " [238, 2.8125],\n",
       " [239, 2.875],\n",
       " [240, 2.7111111111111112],\n",
       " [241, 3.310344827586207],\n",
       " [242, 3.5],\n",
       " [243, 2.1],\n",
       " [244, 1.9],\n",
       " [245, 3.0],\n",
       " [246, 4.18854748603352],\n",
       " [247, 3.8658280922431865],\n",
       " [248, 2.9130434782608696],\n",
       " [249, 3.7586206896551726],\n",
       " [250, 2.6],\n",
       " [251, 3.2777777777777777],\n",
       " [252, 3.2697547683923704],\n",
       " [253, 3.524390243902439],\n",
       " [254, 3.0789473684210527],\n",
       " [255, 2.0606060606060606],\n",
       " [256, 2.6513761467889907],\n",
       " [257, 3.2280701754385963],\n",
       " [258, 2.423611111111111],\n",
       " [259, 2.843137254901961],\n",
       " [260, 4.453694416583082],\n",
       " [261, 3.6491228070175437],\n",
       " [262, 3.872093023255814],\n",
       " [263, 3.857142857142857],\n",
       " [264, 3.2],\n",
       " [265, 3.9326424870466323],\n",
       " [266, 3.425531914893617],\n",
       " [267, 2.7285714285714286],\n",
       " [268, 3.3703703703703702],\n",
       " [269, 3.5272727272727273],\n",
       " [270, 3.037974683544304],\n",
       " [271, 3.142857142857143],\n",
       " [272, 3.7258485639686683],\n",
       " [273, 2.8975409836065573],\n",
       " [274, 2.375],\n",
       " [275, 2.5375],\n",
       " [276, 2.692982456140351],\n",
       " [277, 3.1823529411764704],\n",
       " [278, 2.75],\n",
       " [279, 3.717391304347826],\n",
       " [280, 3.5707547169811322],\n",
       " [281, 3.648068669527897],\n",
       " [282, 3.2232558139534886],\n",
       " [283, 3.0],\n",
       " [286, 3.0],\n",
       " [287, 2.9047619047619047],\n",
       " [288, 3.144285714285714],\n",
       " [289, 3.3417721518987342],\n",
       " [290, 3.9166666666666665],\n",
       " [291, 2.2083333333333335],\n",
       " [292, 3.2687585266030013],\n",
       " [293, 4.106175514626218],\n",
       " [294, 3.0952380952380953],\n",
       " [295, 2.7586206896551726],\n",
       " [296, 4.278212805158913],\n",
       " [297, 3.107142857142857],\n",
       " [298, 3.9130434782608696],\n",
       " [299, 3.664335664335664],\n",
       " [300, 3.7588652482269502],\n",
       " [301, 3.302325581395349],\n",
       " [302, 3.813953488372093],\n",
       " [303, 2.9760765550239237],\n",
       " [304, 3.142857142857143],\n",
       " [305, 2.5039370078740157],\n",
       " [306, 4.227544910179641],\n",
       " [307, 4.098765432098766],\n",
       " [308, 3.9653465346534653],\n",
       " [309, 3.6875],\n",
       " [310, 2.6666666666666665],\n",
       " [311, 3.0],\n",
       " [312, 2.4375],\n",
       " [313, 2.888888888888889],\n",
       " [314, 3.85],\n",
       " [315, 2.65359477124183],\n",
       " [316, 3.490143369175627],\n",
       " [317, 3.1918876755070205],\n",
       " [318, 4.554557700942973],\n",
       " [319, 3.8937728937728937],\n",
       " [320, 3.40625],\n",
       " [321, 3.7540983606557377],\n",
       " [322, 3.712918660287081],\n",
       " [324, 3.9696969696969697],\n",
       " [325, 2.4489795918367347],\n",
       " [326, 4.344262295081967],\n",
       " [327, 2.6145251396648046],\n",
       " [328, 3.111111111111111],\n",
       " [329, 3.3767676767676766],\n",
       " [330, 2.7315436241610738],\n",
       " [331, 3.0952380952380953],\n",
       " [332, 2.546583850931677],\n",
       " [333, 3.502439024390244],\n",
       " [334, 3.8596491228070176],\n",
       " [335, 3.4878048780487805],\n",
       " [336, 2.6842105263157894],\n",
       " [337, 3.8412698412698414],\n",
       " [338, 2.8823529411764706],\n",
       " [339, 3.49925705794948],\n",
       " [340, 3.2738095238095237],\n",
       " [341, 3.838709677419355],\n",
       " [342, 3.6776061776061777],\n",
       " [343, 2.4285714285714284],\n",
       " [344, 3.1488250652741514],\n",
       " [345, 3.8059701492537314],\n",
       " [346, 3.525],\n",
       " [347, 3.1739130434782608],\n",
       " [348, 3.698901098901099],\n",
       " [349, 3.7261567516525025],\n",
       " [350, 3.392233009708738],\n",
       " [351, 3.342412451361868],\n",
       " [352, 3.134453781512605],\n",
       " [353, 3.4455040871934606],\n",
       " [354, 3.1791044776119404],\n",
       " [355, 2.352059925093633],\n",
       " [356, 4.087967183226983],\n",
       " [357, 3.7437145174371453],\n",
       " [358, 3.1702127659574466],\n",
       " [359, 3.210526315789474],\n",
       " [360, 2.4960629921259843],\n",
       " [361, 3.421641791044776],\n",
       " [362, 3.3640167364016738],\n",
       " [363, 4.258064516129032],\n",
       " [364, 3.8608385370205176],\n",
       " [365, 3.1690140845070425],\n",
       " [366, 2.8207171314741037],\n",
       " [367, 3.279050042408821],\n",
       " [368, 3.5236907730673317],\n",
       " [369, 3.310344827586207],\n",
       " [370, 2.8980582524271843],\n",
       " [371, 3.1792452830188678],\n",
       " [372, 3.1542056074766354],\n",
       " [373, 3.856589147286822],\n",
       " [374, 2.1147540983606556],\n",
       " [375, 3.2941176470588234],\n",
       " [376, 3.2457142857142856],\n",
       " [377, 3.5654545454545454],\n",
       " [378, 2.892857142857143],\n",
       " [379, 2.889908256880734],\n",
       " [380, 3.6342857142857143],\n",
       " [381, 3.2606635071090047],\n",
       " [382, 2.9338235294117645],\n",
       " [383, 3.2666666666666666],\n",
       " [384, 2.9],\n",
       " [385, 3.4],\n",
       " [386, 2.6],\n",
       " [387, 2.7450980392156863],\n",
       " [388, 3.6391752577319587],\n",
       " [389, 3.7],\n",
       " [390, 3.542372881355932],\n",
       " [391, 3.275],\n",
       " [392, 2.8],\n",
       " [393, 1.8571428571428572],\n",
       " [394, 3.6666666666666665],\n",
       " [396, 4.0],\n",
       " [397, 2.4166666666666665],\n",
       " [398, 4.0],\n",
       " [401, 3.0],\n",
       " [402, 3.0],\n",
       " [404, 3.75],\n",
       " [405, 2.123152709359606],\n",
       " [406, 3.625],\n",
       " [407, 2.911917098445596],\n",
       " [408, 3.3194444444444446],\n",
       " [409, 3.020408163265306],\n",
       " [410, 2.9071274298056156],\n",
       " [411, 2.6153846153846154],\n",
       " [412, 3.559322033898305],\n",
       " [413, 2.5306122448979593],\n",
       " [414, 2.6555555555555554],\n",
       " [415, 2.4804469273743015],\n",
       " [416, 2.4269662921348316],\n",
       " [417, 3.485576923076923],\n",
       " [418, 2.5172413793103448],\n",
       " [419, 2.1923076923076925],\n",
       " [420, 2.5056818181818183],\n",
       " [421, 3.3617021276595747],\n",
       " [422, 3.1228070175438596],\n",
       " [423, 3.1085972850678734],\n",
       " [424, 2.6],\n",
       " [425, 3.6095238095238096],\n",
       " [426, 3.0817843866171004],\n",
       " [427, 2.3674698795180724],\n",
       " [428, 3.931558935361217],\n",
       " [429, 2.379679144385027],\n",
       " [430, 2.4166666666666665],\n",
       " [431, 3.6910569105691056],\n",
       " [432, 2.579081632653061],\n",
       " [433, 2.7916666666666665],\n",
       " [434, 3.0845481049562684],\n",
       " [435, 2.6060037523452158],\n",
       " [436, 2.652482269503546],\n",
       " [437, 2.046875],\n",
       " [438, 2.625],\n",
       " [439, 4.5],\n",
       " [440, 3.811181434599156],\n",
       " [441, 3.6936236391912907],\n",
       " [442, 2.9921875],\n",
       " [443, 3.3870967741935485],\n",
       " [444, 2.2962962962962963],\n",
       " [445, 2.61],\n",
       " [446, 4.082677165354331],\n",
       " [447, 2.4838709677419355],\n",
       " [448, 3.6008771929824563],\n",
       " [449, 3.6619718309859155],\n",
       " [450, 3.280701754385965],\n",
       " [451, 3.150943396226415],\n",
       " [452, 3.289473684210526],\n",
       " [453, 3.2238805970149254],\n",
       " [454, 3.5473300970873787],\n",
       " [455, 2.5894736842105264],\n",
       " [456, 4.0],\n",
       " [457, 4.103258145363409],\n",
       " [458, 3.2758620689655173],\n",
       " [459, 2.832167832167832],\n",
       " [460, 2.263157894736842],\n",
       " [461, 3.2790697674418605],\n",
       " [462, 2.642857142857143],\n",
       " [463, 2.74468085106383],\n",
       " [464, 2.7824074074074074],\n",
       " [465, 3.3142857142857145],\n",
       " [466, 2.7958115183246073],\n",
       " [467, 3.2037037037037037],\n",
       " [468, 3.2714285714285714],\n",
       " [469, 2.9565217391304346],\n",
       " [470, 1.736842105263158],\n",
       " [471, 3.631051752921536],\n",
       " [472, 2.7045454545454546],\n",
       " [473, 2.225165562913907],\n",
       " [474, 3.825102880658436],\n",
       " [475, 3.9006410256410255],\n",
       " [476, 2.6857142857142855],\n",
       " [477, 3.466666666666667],\n",
       " [478, 2.4583333333333335],\n",
       " [479, 2.7969924812030076],\n",
       " [480, 3.7638473053892216],\n",
       " [481, 3.380952380952381],\n",
       " [482, 3.528409090909091],\n",
       " [483, 3.7432432432432434],\n",
       " [484, 2.6551724137931036],\n",
       " [485, 2.508],\n",
       " [486, 2.8125],\n",
       " [487, 2.6129032258064515],\n",
       " [488, 3.3846153846153846],\n",
       " [489, 2.4742268041237114],\n",
       " [490, 3.324324324324324],\n",
       " [491, 3.3160377358490565],\n",
       " [492, 3.719402985074627],\n",
       " [493, 3.6073825503355703],\n",
       " [494, 3.3461538461538463],\n",
       " [495, 3.380952380952381],\n",
       " [496, 3.2162162162162162],\n",
       " [497, 4.0],\n",
       " [498, 2.74468085106383],\n",
       " [499, 2.7551020408163267],\n",
       " [500, 3.420047732696897],\n",
       " [501, 3.606382978723404],\n",
       " [502, 1.935483870967742],\n",
       " [503, 3.6923076923076925],\n",
       " [504, 2.955056179775281],\n",
       " [505, 2.4927536231884058],\n",
       " [506, 3.491228070175439],\n",
       " [507, 3.522727272727273],\n",
       " [508, 3.894830659536542],\n",
       " [509, 3.674342105263158],\n",
       " [510, 2.4047619047619047],\n",
       " [511, 3.1052631578947367],\n",
       " [512, 2.8715083798882683],\n",
       " [513, 3.1194029850746268],\n",
       " [514, 3.531791907514451],\n",
       " [515, 3.917777777777778],\n",
       " [516, 2.870967741935484],\n",
       " [517, 3.175392670157068],\n",
       " [518, 2.4563758389261743],\n",
       " [519, 1.9405940594059405],\n",
       " [520, 2.93048128342246],\n",
       " [521, 3.3675213675213675],\n",
       " [522, 3.566265060240964],\n",
       " [523, 3.658119658119658],\n",
       " [524, 3.615546218487395],\n",
       " [525, 3.1904761904761907],\n",
       " [526, 2.5],\n",
       " [527, 4.510416666666667],\n",
       " [528, 2.514705882352941],\n",
       " [529, 3.977777777777778],\n",
       " [530, 3.5],\n",
       " [531, 3.769230769230769],\n",
       " [532, 3.0488431876606685],\n",
       " [533, 2.7339901477832513],\n",
       " [534, 3.835664335664336],\n",
       " [535, 3.8172757475083055],\n",
       " [536, 3.1636363636363636],\n",
       " [537, 3.077294685990338],\n",
       " [538, 3.8222222222222224],\n",
       " [539, 3.760649087221095],\n",
       " [540, 2.2189349112426036],\n",
       " [541, 4.273333333333333],\n",
       " [542, 2.674757281553398],\n",
       " [543, 3.3841642228739004],\n",
       " [544, 2.643410852713178],\n",
       " [545, 2.0],\n",
       " [546, 1.8742857142857143],\n",
       " [547, 2.879032258064516],\n",
       " [548, 2.5474452554744524],\n",
       " [549, 3.821656050955414],\n",
       " [550, 3.0168539325842696],\n",
       " [551, 3.717871485943775],\n",
       " [552, 3.2400756143667295],\n",
       " [553, 3.8734177215189876],\n",
       " [554, 2.6153846153846154],\n",
       " [555, 3.9285714285714284],\n",
       " [556, 4.2272727272727275],\n",
       " [557, 4.5],\n",
       " [558, 2.7037037037037037],\n",
       " [559, 3.0],\n",
       " [560, 3.625],\n",
       " [561, 3.6153846153846154],\n",
       " [562, 3.799163179916318],\n",
       " [563, 3.235294117647059],\n",
       " [564, 2.2666666666666666],\n",
       " [565, 3.1311475409836067],\n",
       " [566, 2.923076923076923],\n",
       " [567, 3.5714285714285716],\n",
       " [568, 3.857142857142857],\n",
       " [569, 2.93],\n",
       " [570, 3.217391304347826],\n",
       " [571, 3.588235294117647],\n",
       " [572, 3.0],\n",
       " [573, 3.5238095238095237],\n",
       " [574, 3.4457142857142857],\n",
       " [575, 2.822429906542056],\n",
       " [576, 3.0],\n",
       " [577, 2.963636363636364],\n",
       " [578, 4.5],\n",
       " [579, 2.0],\n",
       " [580, 3.2419354838709675],\n",
       " [581, 4.049645390070922],\n",
       " [582, 3.0],\n",
       " [583, 3.6785714285714284],\n",
       " [584, 4.0],\n",
       " [585, 2.9066985645933014],\n",
       " [586, 3.1348148148148147],\n",
       " [587, 3.49644128113879],\n",
       " [588, 3.788304959289415],\n",
       " [589, 4.058512646281616],\n",
       " [590, 3.9152308752584424],\n",
       " [591, 2.0],\n",
       " [592, 3.6009783368273935],\n",
       " [593, 4.3518231186966645],\n",
       " [594, 3.8453473132372213],\n",
       " [595, 3.8858490566037736],\n",
       " [596, 3.751004016064257],\n",
       " [597, 3.641491395793499],\n",
       " [598, 4.25],\n",
       " [599, 4.087121212121212],\n",
       " [600, 3.0],\n",
       " [601, 3.0],\n",
       " [602, 4.121951219512195],\n",
       " [603, 3.0],\n",
       " [605, 3.314159292035398],\n",
       " [606, 2.225806451612903],\n",
       " [607, 2.0],\n",
       " [608, 4.254675686430561],\n",
       " [609, 2.7761194029850746],\n",
       " [610, 3.546925566343042],\n",
       " [611, 2.4722222222222223],\n",
       " [612, 2.4050632911392404],\n",
       " [613, 3.6341463414634148],\n",
       " [614, 2.6666666666666665],\n",
       " [615, 4.044776119402985],\n",
       " [616, 3.352517985611511],\n",
       " [617, 3.6470588235294117],\n",
       " [618, 2.111111111111111],\n",
       " [619, 2.59375],\n",
       " [621, 3.7142857142857144],\n",
       " [623, 3.0],\n",
       " [624, 4.0],\n",
       " [626, 2.263157894736842],\n",
       " [627, 3.603305785123967],\n",
       " [628, 3.8969072164948453],\n",
       " [630, 2.857142857142857],\n",
       " [631, 2.08],\n",
       " [632, 4.0],\n",
       " [633, 3.6],\n",
       " [634, 1.6666666666666667],\n",
       " [635, 3.6233766233766236],\n",
       " [637, 2.5428571428571427],\n",
       " [638, 3.210526315789474],\n",
       " [639, 2.6153846153846154],\n",
       " [640, 2.676056338028169],\n",
       " [641, 1.0],\n",
       " [642, 2.0],\n",
       " [643, 2.0],\n",
       " [644, 2.0],\n",
       " [645, 3.6],\n",
       " [647, 3.5532879818594103],\n",
       " [648, 3.432874918140144],\n",
       " [649, 4.1875],\n",
       " [650, 3.4719101123595504],\n",
       " [651, 2.0],\n",
       " [652, 2.888888888888889],\n",
       " [653, 3.2254901960784315],\n",
       " [655, 1.0],\n",
       " [656, 2.5641025641025643],\n",
       " [657, 3.0],\n",
       " [658, 3.0],\n",
       " [659, 3.72],\n",
       " [660, 1.5],\n",
       " [661, 3.4647619047619047],\n",
       " [662, 2.984375],\n",
       " [663, 3.4166666666666665],\n",
       " [664, 3.0],\n",
       " [665, 3.657142857142857],\n",
       " [666, 3.3333333333333335],\n",
       " [667, 2.0425531914893615],\n",
       " [668, 4.404255319148936],\n",
       " [669, 4.173913043478261],\n",
       " [670, 4.410714285714286],\n",
       " [671, 3.6798245614035086],\n",
       " [672, 2.0],\n",
       " [673, 2.619893428063943],\n",
       " [674, 3.0155440414507773],\n",
       " [678, 4.245098039215686],\n",
       " [679, 3.5],\n",
       " [680, 3.359375],\n",
       " [681, 3.933333333333333],\n",
       " [682, 3.5],\n",
       " [684, 1.0],\n",
       " [685, 3.3],\n",
       " [687, 3.0],\n",
       " [688, 2.276995305164319],\n",
       " [690, 2.0],\n",
       " [691, 3.0991735537190084],\n",
       " [692, 2.1132075471698113],\n",
       " [694, 2.645390070921986],\n",
       " [695, 3.1777777777777776],\n",
       " [696, 3.25],\n",
       " [697, 2.552941176470588],\n",
       " [698, 2.2],\n",
       " [700, 3.3241379310344827],\n",
       " [701, 4.0],\n",
       " [702, 3.6666666666666665],\n",
       " [703, 1.6],\n",
       " [704, 2.3095238095238093],\n",
       " [705, 3.8333333333333335],\n",
       " [706, 2.5],\n",
       " [707, 3.0872727272727274],\n",
       " [708, 3.434462444771723],\n",
       " [709, 3.0416666666666665],\n",
       " [710, 2.3333333333333335],\n",
       " [711, 2.5],\n",
       " [712, 3.5],\n",
       " [714, 3.888888888888889],\n",
       " [715, 3.6153846153846154],\n",
       " [716, 2.6785714285714284],\n",
       " [717, 4.0],\n",
       " [718, 3.484848484848485],\n",
       " [719, 2.8619246861924688],\n",
       " [720, 4.426940639269406],\n",
       " [722, 3.814814814814815],\n",
       " [724, 3.0865384615384617],\n",
       " [725, 2.791208791208791],\n",
       " [726, 3.0],\n",
       " [728, 3.7649769585253456],\n",
       " [729, 3.6666666666666665],\n",
       " [730, 1.0],\n",
       " [731, 2.851063829787234],\n",
       " [732, 2.8333333333333335],\n",
       " [733, 3.723134328358209],\n",
       " [734, 3.0],\n",
       " [735, 3.3564356435643563],\n",
       " [736, 3.1738738738738737],\n",
       " [737, 2.03],\n",
       " [741, 4.089171974522293],\n",
       " [742, 2.528735632183908],\n",
       " [743, 2.5700934579439254],\n",
       " [744, 2.0],\n",
       " [745, 4.52054794520548],\n",
       " [746, 4.0],\n",
       " [747, 2.0],\n",
       " [748, 3.1510791366906474],\n",
       " [749, 2.75],\n",
       " [750, 4.4498902706656915],\n",
       " [751, 3.533333333333333],\n",
       " [753, 3.15625],\n",
       " [754, 2.923076923076923],\n",
       " [755, 3.7777777777777777],\n",
       " [756, 3.0],\n",
       " [757, 3.75],\n",
       " [758, 4.0],\n",
       " [759, 4.101694915254237],\n",
       " [760, 3.515151515151515],\n",
       " [761, 2.7886178861788617],\n",
       " [762, 2.184563758389262],\n",
       " [763, 3.0],\n",
       " [764, 3.27027027027027],\n",
       " [765, 2.6315789473684212],\n",
       " [766, 3.57],\n",
       " [767, 3.2083333333333335],\n",
       " [769, 3.25],\n",
       " [771, 3.7777777777777777],\n",
       " [774, 4.0],\n",
       " [775, 3.2222222222222223],\n",
       " [776, 3.0],\n",
       " [778, 3.9600532623169107],\n",
       " [779, 2.6923076923076925],\n",
       " [780, 3.5104046242774567],\n",
       " [781, 3.378640776699029],\n",
       " [782, 2.5517241379310347],\n",
       " [783, 3.223076923076923],\n",
       " [784, 2.72987012987013],\n",
       " [785, 3.4784313725490197],\n",
       " [786, 3.123913043478261],\n",
       " [787, 5.0],\n",
       " [788, 2.9957805907172994],\n",
       " [789, 3.0],\n",
       " [790, 3.0],\n",
       " [791, 3.5],\n",
       " [792, 4.0],\n",
       " [793, 2.6],\n",
       " [796, 3.3333333333333335],\n",
       " [798, 2.7058823529411766],\n",
       " [799, 3.3491124260355027],\n",
       " [800, 4.082539682539682],\n",
       " [801, 3.0991735537190084],\n",
       " [802, 3.496487119437939],\n",
       " [803, 3.6842105263157894],\n",
       " [804, 2.9785407725321886],\n",
       " [805, 3.5901162790697674],\n",
       " [806, 3.1666666666666665],\n",
       " [807, 3.0],\n",
       " [808, 3.395348837209302],\n",
       " [809, 2.5714285714285716],\n",
       " [810, 1.4666666666666666],\n",
       " [811, 3.888888888888889],\n",
       " [813, 2.5106382978723403],\n",
       " [814, 3.0],\n",
       " [815, 2.0],\n",
       " [818, 2.560846560846561],\n",
       " [820, 3.25],\n",
       " [821, 2.0],\n",
       " [823, 3.25],\n",
       " [824, 3.9285714285714284],\n",
       " [826, 1.0],\n",
       " [827, 3.0],\n",
       " [828, 2.9074074074074074],\n",
       " [829, 2.2900763358778624],\n",
       " [830, 2.952542372881356],\n",
       " [831, 3.85],\n",
       " [832, 3.478723404255319],\n",
       " [833, 2.1794871794871793],\n",
       " [834, 2.0],\n",
       " [835, 3.1262135922330097],\n",
       " [836, 2.654008438818565],\n",
       " [837, 3.477064220183486],\n",
       " [838, 3.8802395209580838],\n",
       " [839, 2.214814814814815],\n",
       " [840, 2.56],\n",
       " [841, 3.4],\n",
       " [842, 2.589403973509934],\n",
       " [843, 1.0],\n",
       " [844, 3.5714285714285716],\n",
       " [846, 3.736842105263158],\n",
       " [847, 1.8571428571428572],\n",
       " [848, 3.4358974358974357],\n",
       " [849, 2.5107632093933465],\n",
       " [850, 3.6666666666666665],\n",
       " [851, 3.4960629921259843],\n",
       " [852, 3.221138211382114],\n",
       " [853, 4.0],\n",
       " [854, 3.625],\n",
       " [858, 4.524966261808367],\n",
       " [859, 2.0],\n",
       " [860, 3.6],\n",
       " [861, 3.5128205128205128],\n",
       " [862, 3.6451612903225805],\n",
       " [863, 3.5],\n",
       " [864, 3.5833333333333335],\n",
       " [865, 2.0],\n",
       " [866, 3.8234265734265733],\n",
       " [867, 2.2083333333333335],\n",
       " [868, 3.0],\n",
       " [869, 3.0952380952380953],\n",
       " [870, 2.183673469387755],\n",
       " [872, 3.0],\n",
       " [874, 3.125],\n",
       " [875, 3.3863636363636362],\n",
       " [876, 2.857142857142857],\n",
       " [877, 3.2916666666666665],\n",
       " [878, 4.0],\n",
       " [879, 2.827004219409283],\n",
       " [880, 2.200617283950617],\n",
       " [881, 2.6233766233766236],\n",
       " [882, 2.711864406779661],\n",
       " [884, 3.0],\n",
       " [885, 2.5813953488372094],\n",
       " [886, 2.9423076923076925],\n",
       " [887, 2.5],\n",
       " [888, 2.2083333333333335],\n",
       " [889, 2.5],\n",
       " [891, 2.360655737704918],\n",
       " [892, 3.861842105263158],\n",
       " [893, 3.6956521739130435],\n",
       " [895, 1.0],\n",
       " [896, 3.4313725490196076],\n",
       " [897, 3.7551020408163267],\n",
       " [898, 4.3006872852233675],\n",
       " [899, 4.2836218375499335],\n",
       " [900, 3.8513119533527695],\n",
       " [901, 3.6436781609195403],\n",
       " [902, 3.908284023668639],\n",
       " [903, 4.27292817679558],\n",
       " [904, 4.476190476190476],\n",
       " [905, 4.280748663101604],\n",
       " [906, 4.096256684491979],\n",
       " [907, 3.9238095238095236],\n",
       " [908, 4.38403041825095],\n",
       " [909, 4.127098321342926],\n",
       " [910, 4.300480769230769],\n",
       " [911, 4.183006535947713],\n",
       " [912, 4.412822049131217],\n",
       " [913, 4.395973154362416],\n",
       " [914, 4.154088050314465],\n",
       " [915, 3.9643835616438357],\n",
       " [916, 4.216470588235294],\n",
       " [917, 3.675324675324675],\n",
       " [918, 3.7936507936507935],\n",
       " [919, 4.247962747380675],\n",
       " [920, 3.9974048442906573],\n",
       " [921, 3.8940397350993377],\n",
       " [922, 4.491489361702127],\n",
       " [923, 4.388888888888889],\n",
       " [924, 4.068764568764569],\n",
       " [925, 3.25],\n",
       " [926, 4.255583126550868],\n",
       " [927, 3.9761904761904763],\n",
       " [928, 4.204663212435233],\n",
       " [929, 3.78494623655914],\n",
       " [930, 4.29438202247191],\n",
       " [931, 3.912621359223301],\n",
       " [932, 3.9523809523809526],\n",
       " [933, 4.10158013544018],\n",
       " [934, 3.6578947368421053],\n",
       " [935, 3.6338028169014085],\n",
       " [936, 4.075757575757576],\n",
       " [937, 3.75],\n",
       " [938, 3.620320855614973],\n",
       " [939, 3.1818181818181817],\n",
       " [940, 3.9735449735449735],\n",
       " [941, 3.704761904761905],\n",
       " [942, 4.2020547945205475],\n",
       " [943, 3.982456140350877],\n",
       " [944, 3.7938144329896906],\n",
       " [945, 4.147410358565737],\n",
       " [946, 3.8509316770186337],\n",
       " [947, 4.1063829787234045],\n",
       " [948, 3.753846153846154],\n",
       " [949, 3.9767441860465116],\n",
       " [950, 4.239726027397261],\n",
       " [951, 4.249370277078086],\n",
       " [952, 3.6022304832713754],\n",
       " [953, 4.299039780521262],\n",
       " [954, 4.240208877284595],\n",
       " [955, 4.169491525423729],\n",
       " [956, 3.55],\n",
       " [957, 3.2432432432432434],\n",
       " [958, 3.3846153846153846],\n",
       " [959, 3.7413793103448274],\n",
       " [960, 3.45],\n",
       " [961, 3.4782608695652173],\n",
       " [962, 3.5454545454545454],\n",
       " [963, 3.574074074074074],\n",
       " [964, 3.392156862745098],\n",
       " [965, 4.075098814229249],\n",
       " [966, 4.0],\n",
       " [967, 3.260869565217391],\n",
       " [968, 3.6713286713286712],\n",
       " [969, 4.251655629139073],\n",
       " [970, 3.4054054054054053],\n",
       " [971, 4.047970479704797],\n",
       " [972, 3.1666666666666665],\n",
       " [973, 3.9146341463414633],\n",
       " [974, 3.75],\n",
       " [975, 1.5],\n",
       " [976, 3.5714285714285716],\n",
       " [977, 2.0],\n",
       " [978, 3.94],\n",
       " [980, 2.8],\n",
       " [981, 2.75],\n",
       " [982, 3.6790123456790123],\n",
       " [984, 2.6666666666666665],\n",
       " [985, 3.75],\n",
       " [986, 3.603448275862069],\n",
       " [987, 2.9],\n",
       " [988, 3.3768115942028984],\n",
       " [989, 5.0],\n",
       " [990, 2.574074074074074],\n",
       " [991, 3.523529411764706],\n",
       " [992, 2.6],\n",
       " [993, 3.111111111111111],\n",
       " [994, 4.095555555555555],\n",
       " [996, 2.90625],\n",
       " [997, 3.357142857142857],\n",
       " [998, 3.010752688172043],\n",
       " [999, 3.2832167832167833],\n",
       " [1000, 3.05],\n",
       " [1002, 4.25],\n",
       " [1003, 2.9421487603305785],\n",
       " [1004, 2.6633663366336635],\n",
       " [1005, 2.3732394366197185],\n",
       " [1006, 3.08974358974359],\n",
       " [1007, 2.978448275862069],\n",
       " [1008, 3.329896907216495],\n",
       " [1009, 3.185567010309278],\n",
       " [1010, 3.268595041322314],\n",
       " [1011, 2.725925925925926],\n",
       " [1012, 3.7043189368770766],\n",
       " [1013, 3.565891472868217],\n",
       " [1014, 3.4044117647058822],\n",
       " [1015, 3.3461538461538463],\n",
       " [1016, 3.217948717948718],\n",
       " [1017, 3.5869565217391304],\n",
       " [1018, 3.252032520325203],\n",
       " [1019, 3.7026086956521738],\n",
       " [1020, 3.239795918367347],\n",
       " [1021, 2.769230769230769],\n",
       " [1022, 3.755632582322357],\n",
       " [1023, 3.986425339366516],\n",
       " [1024, 3.246031746031746],\n",
       " [1025, 3.6109215017064846],\n",
       " [1026, 3.625],\n",
       " [1027, 3.1627906976744184],\n",
       " [1028, 3.894164193867458],\n",
       " [1029, 3.688380281690141],\n",
       " [1030, 3.0773993808049536],\n",
       " [1031, 3.479623824451411],\n",
       " [1032, 3.697142857142857],\n",
       " [1033, 3.4494773519163764],\n",
       " [1034, 3.6449704142011834],\n",
       " [1035, 3.931972789115646],\n",
       " [1036, 4.121848739495798],\n",
       " [1037, 2.6601626016260163],\n",
       " [1038, 3.272727272727273],\n",
       " [1039, 3.6666666666666665],\n",
       " [1040, 3.0],\n",
       " [1041, 4.037974683544304],\n",
       " [1042, 3.481060606060606],\n",
       " [1043, 2.8425925925925926],\n",
       " [1044, 3.2857142857142856],\n",
       " [1046, 4.066666666666666],\n",
       " [1047, 3.4838709677419355],\n",
       " [1049, 3.328159645232816],\n",
       " [1050, 3.8219178082191783],\n",
       " [1051, 3.4183673469387754],\n",
       " [1053, 2.914285714285714],\n",
       " [1054, 3.308641975308642],\n",
       " [1055, 2.736842105263158],\n",
       " [1056, 3.54],\n",
       " [1057, 3.5583941605839415],\n",
       " [1058, 3.272727272727273],\n",
       " [1059, 3.4008350730688934],\n",
       " [1060, 3.94147582697201],\n",
       " [1061, 3.550802139037433],\n",
       " [1062, 2.5],\n",
       " [1063, 3.1538461538461537],\n",
       " [1064, 2.8947368421052633],\n",
       " [1066, 4.1657142857142855],\n",
       " [1067, 3.782608695652174],\n",
       " [1068, 3.6857142857142855],\n",
       " ...]"
      ]
     },
     "execution_count": 105,
     "metadata": {},
     "output_type": "execute_result"
    }
   ],
   "source": [
    "movie_id_list = []\n",
    "for i in movie_id:\n",
    "    ratings_by_movie = np.mean(movie_ratings[movie_ratings[:,1] == i][:,2])\n",
    "    movie_id_list.append([i, ratings_by_movie])\n",
    "\n",
    "movie_id_list"
   ]
  },
  {
   "cell_type": "markdown",
   "id": "ecb3f1ed-9d07-4efd-9dcc-98fff80a573b",
   "metadata": {},
   "source": [
    "### 구한 배열이나 리스트 등의 집합을 파일로 저장하기"
   ]
  },
  {
   "cell_type": "code",
   "execution_count": 194,
   "id": "44305a75-5a33-4275-8ba8-28735980fcfd",
   "metadata": {},
   "outputs": [],
   "source": [
    "# savetxt: 텍스트 기반의 파일 형식으로 저장(csv로 저장하려면 구분자에 콤마를 넣어줘야함.)\n",
    "# 저장할 경로 및 파일명, 실제 데이터, 구분자, 표현방식(.3f는 소수점 3자리까지 표현하라는 뜻)\n",
    "np.savetxt('data/movie_mean.csv', movie_id_list, delimiter=',',fmt='%.3f')"
   ]
  }
 ],
 "metadata": {
  "kernelspec": {
   "display_name": "Python 3 (ipykernel)",
   "language": "python",
   "name": "python3"
  },
  "language_info": {
   "codemirror_mode": {
    "name": "ipython",
    "version": 3
   },
   "file_extension": ".py",
   "mimetype": "text/x-python",
   "name": "python",
   "nbconvert_exporter": "python",
   "pygments_lexer": "ipython3",
   "version": "3.12.4"
  }
 },
 "nbformat": 4,
 "nbformat_minor": 5
}
