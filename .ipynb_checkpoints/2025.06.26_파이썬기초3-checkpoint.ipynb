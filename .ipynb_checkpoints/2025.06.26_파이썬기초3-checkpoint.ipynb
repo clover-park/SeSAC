{
 "cells": [
  {
   "cell_type": "code",
   "execution_count": 3,
   "id": "da90cb9f-7ad9-45a4-830f-faa2ef2e5f39",
   "metadata": {},
   "outputs": [
    {
     "name": "stdout",
     "output_type": "stream",
     "text": [
      "python sucks\n",
      "python sucks\n",
      "python sucks\n",
      "python sucks\n"
     ]
    }
   ],
   "source": [
    "# while 문\n",
    "\n",
    "t = 1\n",
    "while True:\n",
    "    print(\"python sucks\")\n",
    "    t+=1\n",
    "    if t > 4:\n",
    "        break"
   ]
  },
  {
   "cell_type": "code",
   "execution_count": 11,
   "id": "f9592830-8611-483f-865b-9f45cac6a6c2",
   "metadata": {},
   "outputs": [
    {
     "name": "stdin",
     "output_type": "stream",
     "text": [
      "이름 입력>> Toby\n"
     ]
    },
    {
     "name": "stdout",
     "output_type": "stream",
     "text": [
      "Toby naga\n"
     ]
    },
    {
     "name": "stdin",
     "output_type": "stream",
     "text": [
      "이름 입력>> Clover\n"
     ]
    },
    {
     "name": "stdout",
     "output_type": "stream",
     "text": [
      "Clover slayyyy\n"
     ]
    }
   ],
   "source": [
    "while True:\n",
    "    input_name = input(\"이름 입력>>\")\n",
    "    if input_name == \"Clover\":\n",
    "        print(input_name, \"slayyyy\")\n",
    "        break\n",
    "    print(input_name, \"naga\")"
   ]
  },
  {
   "cell_type": "code",
   "execution_count": 23,
   "id": "0b55704f-6065-436a-9125-a50054929630",
   "metadata": {},
   "outputs": [
    {
     "name": "stdin",
     "output_type": "stream",
     "text": [
      "첫 번째 정수 입력>> 3\n",
      "두 번째 정수 입력>> 6\n"
     ]
    },
    {
     "name": "stdout",
     "output_type": "stream",
     "text": [
      "두 정수의 합:  9\n"
     ]
    },
    {
     "name": "stdin",
     "output_type": "stream",
     "text": [
      "첫 번째 정수 입력>> 0\n",
      "두 번째 정수 입력>> 0\n"
     ]
    },
    {
     "name": "stdout",
     "output_type": "stream",
     "text": [
      "프로그램이 종료되었습니다.\n"
     ]
    }
   ],
   "source": [
    "# 셀 이름을 한꺼번에 수정하고 싶으면 해당 셀을 드래그하고 ctrl+shift+l\n",
    "while True:\n",
    "    input_num1 = int(input(\"첫 번째 정수 입력>>\"))\n",
    "    input_num2 = int(input(\"두 번째 정수 입력>>\"))\n",
    "    if input_num1 == 0 and input_num2 == 0:\n",
    "        print(\"프로그램이 종료되었습니다.\")\n",
    "        break\n",
    "    sum = input_num1 + input_num2\n",
    "    print(\"두 정수의 합: \", sum)"
   ]
  },
  {
   "cell_type": "code",
   "execution_count": 29,
   "id": "f965138a-83cc-4479-a602-5f3cec569476",
   "metadata": {},
   "outputs": [
    {
     "name": "stdin",
     "output_type": "stream",
     "text": [
      "현재 몸무게:  80\n",
      "목표 몸무게:  70\n",
      "2주차 감량 몸무게:  6\n",
      "3주차 감량 몸무게:  2\n",
      "4주차 감량 몸무게:  1\n",
      "5주차 감량 몸무게:  5\n"
     ]
    },
    {
     "name": "stdout",
     "output_type": "stream",
     "text": [
      "66kg 달성! 축하합니다!\n"
     ]
    }
   ],
   "source": [
    "current_weight = int(input(\"현재 몸무게: \"))\n",
    "target_weight = int(input(\"목표 몸무게: \"))\n",
    "week = 1\n",
    "\n",
    "while True:\n",
    "    week += 1\n",
    "    lost_weight = int(input(f\"{week}주차 감량 몸무게: \"))\n",
    "    current_weight -= lost_weight\n",
    "    if current_weight <= target_weight:\n",
    "        print(f\"{current_weight}kg 달성! 축하합니다!\")\n",
    "        break"
   ]
  },
  {
   "cell_type": "code",
   "execution_count": 33,
   "id": "1bce5980-ef42-4cbe-961b-52eede1b41ad",
   "metadata": {},
   "outputs": [
    {
     "name": "stdin",
     "output_type": "stream",
     "text": [
      "숫자를 입력하세요: 4\n"
     ]
    },
    {
     "name": "stdout",
     "output_type": "stream",
     "text": [
      "4보다 큰 수입니다.\n"
     ]
    },
    {
     "name": "stdin",
     "output_type": "stream",
     "text": [
      "숫자를 입력하세요: 45\n"
     ]
    },
    {
     "name": "stdout",
     "output_type": "stream",
     "text": [
      "45보다 작은 수입니다.\n"
     ]
    },
    {
     "name": "stdin",
     "output_type": "stream",
     "text": [
      "숫자를 입력하세요: 50\n"
     ]
    },
    {
     "name": "stdout",
     "output_type": "stream",
     "text": [
      "50보다 작은 수입니다.\n"
     ]
    },
    {
     "name": "stdin",
     "output_type": "stream",
     "text": [
      "숫자를 입력하세요: 47\n"
     ]
    },
    {
     "name": "stdout",
     "output_type": "stream",
     "text": [
      "47보다 작은 수입니다.\n"
     ]
    },
    {
     "name": "stdin",
     "output_type": "stream",
     "text": [
      "숫자를 입력하세요: 46\n"
     ]
    },
    {
     "name": "stdout",
     "output_type": "stream",
     "text": [
      "46보다 작은 수입니다.\n"
     ]
    },
    {
     "name": "stdin",
     "output_type": "stream",
     "text": [
      "숫자를 입력하세요: 45\n"
     ]
    },
    {
     "name": "stdout",
     "output_type": "stream",
     "text": [
      "45보다 작은 수입니다.\n"
     ]
    },
    {
     "name": "stdin",
     "output_type": "stream",
     "text": [
      "숫자를 입력하세요: 44\n"
     ]
    },
    {
     "name": "stdout",
     "output_type": "stream",
     "text": [
      "44보다 작은 수입니다.\n"
     ]
    },
    {
     "name": "stdin",
     "output_type": "stream",
     "text": [
      "숫자를 입력하세요: 34\n"
     ]
    },
    {
     "name": "stdout",
     "output_type": "stream",
     "text": [
      "34보다 작은 수입니다.\n"
     ]
    },
    {
     "name": "stdin",
     "output_type": "stream",
     "text": [
      "숫자를 입력하세요: 23\n"
     ]
    },
    {
     "name": "stdout",
     "output_type": "stream",
     "text": [
      "23보다 작은 수입니다.\n"
     ]
    },
    {
     "name": "stdin",
     "output_type": "stream",
     "text": [
      "숫자를 입력하세요: 14\n"
     ]
    },
    {
     "name": "stdout",
     "output_type": "stream",
     "text": [
      "14보다 작은 수입니다.\n"
     ]
    },
    {
     "name": "stdin",
     "output_type": "stream",
     "text": [
      "숫자를 입력하세요: 12\n"
     ]
    },
    {
     "name": "stdout",
     "output_type": "stream",
     "text": [
      "12보다 작은 수입니다.\n"
     ]
    },
    {
     "name": "stdin",
     "output_type": "stream",
     "text": [
      "숫자를 입력하세요: 11\n"
     ]
    },
    {
     "name": "stdout",
     "output_type": "stream",
     "text": [
      "11보다 작은 수입니다.\n"
     ]
    },
    {
     "name": "stdin",
     "output_type": "stream",
     "text": [
      "숫자를 입력하세요: 5\n"
     ]
    },
    {
     "name": "stdout",
     "output_type": "stream",
     "text": [
      "5보다 큰 수입니다.\n"
     ]
    },
    {
     "name": "stdin",
     "output_type": "stream",
     "text": [
      "숫자를 입력하세요: 8\n"
     ]
    },
    {
     "name": "stdout",
     "output_type": "stream",
     "text": [
      "8보다 작은 수입니다.\n"
     ]
    },
    {
     "name": "stdin",
     "output_type": "stream",
     "text": [
      "숫자를 입력하세요: 7\n"
     ]
    },
    {
     "name": "stdout",
     "output_type": "stream",
     "text": [
      "7보다 작은 수입니다.\n"
     ]
    },
    {
     "name": "stdin",
     "output_type": "stream",
     "text": [
      "숫자를 입력하세요: 6\n"
     ]
    },
    {
     "name": "stdout",
     "output_type": "stream",
     "text": [
      "정답을 맞추셨습니다.\n"
     ]
    }
   ],
   "source": [
    "import random\n",
    "num = random.randint(1, 50)\n",
    "\n",
    "while True:\n",
    "    my_guess = int(input(\"숫자를 입력하세요:\"))\n",
    "    if my_guess > num:\n",
    "        print(f\"{my_guess}보다 작은 수입니다.\")\n",
    "    elif my_guess < num:\n",
    "        print(f\"{my_guess}보다 큰 수입니다.\")\n",
    "    else:\n",
    "        print(\"정답을 맞추셨습니다.\")\n",
    "        break"
   ]
  },
  {
   "cell_type": "code",
   "execution_count": 35,
   "id": "b9d1fa88-5a07-44d7-bc47-ae683b3c27e4",
   "metadata": {},
   "outputs": [
    {
     "name": "stdout",
     "output_type": "stream",
     "text": [
      "h\n",
      "e\n",
      "l\n",
      "l\n",
      "o\n"
     ]
    }
   ],
   "source": [
    "hi = \"hello\"\n",
    "\n",
    "for s in hi:\n",
    "    print(s)"
   ]
  },
  {
   "cell_type": "code",
   "execution_count": 41,
   "id": "3318117d-762c-4cc1-9573-197d17303227",
   "metadata": {},
   "outputs": [
    {
     "name": "stdout",
     "output_type": "stream",
     "text": [
      "1번 학생은 합격입니다.\n",
      "2번 학생은 불합격입니다.\n",
      "3번 학생은 합격입니다.\n",
      "4번 학생은 합격입니다.\n",
      "5번 학생은 불합격입니다.\n"
     ]
    }
   ],
   "source": [
    "score_list = [90,45,70,60,55]\n",
    "student_num = 1\n",
    "\n",
    "for score in score_list:\n",
    "    if score >= 60:\n",
    "        result = \"합격\"\n",
    "        print(f\"{student_num}번 학생은 {result}입니다.\")\n",
    "    else:\n",
    "        result = \"불합격\"\n",
    "        print(f\"{student_num}번 학생은 {result}입니다.\")\n",
    "    student_num += 1"
   ]
  },
  {
   "cell_type": "code",
   "execution_count": 9,
   "id": "9f02317d-088c-43ec-a504-69c5bce28920",
   "metadata": {},
   "outputs": [
    {
     "name": "stdout",
     "output_type": "stream",
     "text": [
      "1번은 57점 이며, C등급 입니다.\n",
      "2번은 86점 이며, A등급 입니다.\n",
      "3번은 63점 이며, B등급 입니다.\n",
      "4번은 92점 이며, A등급 입니다.\n",
      "5번은 35점 이며, C등급 입니다.\n",
      "6번은 79점 이며, B등급 입니다.\n"
     ]
    }
   ],
   "source": [
    "# enumerate: 순서가 있는 집합을 반복 시 index와 값을 모두 반환시켜주는 함 (index, 값)이렇게 반환됨.\n",
    "python_score = [57,86,63,92,35,79]\n",
    "\n",
    "for num, i in enumerate(python_score):\n",
    "    if i >= 80:\n",
    "        grade = \"A\"\n",
    "    elif i >= 60:\n",
    "        grade = \"B\"\n",
    "    else:\n",
    "        grade = \"C\"\n",
    "    print(f\"{num+1}번은 {i}점 이며, {grade}등급 입니다.\")"
   ]
  },
  {
   "cell_type": "code",
   "execution_count": 15,
   "id": "0425ff5a-99da-47cd-a8f6-4291b6d6acbe",
   "metadata": {},
   "outputs": [
    {
     "name": "stdout",
     "output_type": "stream",
     "text": [
      "23 24 25 26 27 28 29 30 31 32 33 34 35 36 37 38 39 "
     ]
    }
   ],
   "source": [
    "for i in range(23, 40):\n",
    "    print(i, end=' ')"
   ]
  },
  {
   "cell_type": "code",
   "execution_count": 17,
   "id": "55d3c9fc-02ca-4d06-8ff6-09a56a931a4b",
   "metadata": {},
   "outputs": [
    {
     "name": "stdout",
     "output_type": "stream",
     "text": [
      "97 96 95 94 93 92 91 90 89 88 87 86 85 84 83 82 81 80 79 78 "
     ]
    }
   ],
   "source": [
    "for i in range(97, 77, -1):\n",
    "    print(i, end=' ')"
   ]
  },
  {
   "cell_type": "code",
   "execution_count": 29,
   "id": "8edec2cb-d50f-42bc-9dad-2a26750c5c7f",
   "metadata": {},
   "outputs": [
    {
     "name": "stdout",
     "output_type": "stream",
     "text": [
      "2 4 6 8 10 12 14 16 18 20 22 24 26 28 30 32 34 36 38 40 42 44 46 48 50 52 54 56 58 60 62 64 66 68 70 72 74 76 78 80 82 84 86 88 90 92 94 96 98 100 "
     ]
    }
   ],
   "source": [
    "for i in range(2, 101, 2):\n",
    "    print(i, end=' ')"
   ]
  },
  {
   "cell_type": "code",
   "execution_count": 25,
   "id": "c0c5499a-c806-4bc4-9941-9386166f20b8",
   "metadata": {},
   "outputs": [
    {
     "name": "stdout",
     "output_type": "stream",
     "text": [
      "3 6 9 12 15 18 21 24 27 30 33 36 39 42 45 48 51 54 57 60 63 66 69 72 75 78 81 84 87 90 93 96 99 "
     ]
    }
   ],
   "source": [
    "for i in range(3, 100, 3):\n",
    "    print(i, end=' ')"
   ]
  },
  {
   "cell_type": "code",
   "execution_count": 51,
   "id": "25a788d0-6099-4a7c-9583-e56cba9fdf90",
   "metadata": {},
   "outputs": [
    {
     "name": "stdout",
     "output_type": "stream",
     "text": [
      "99\n",
      "1\n"
     ]
    }
   ],
   "source": [
    "list2 = [4,5,2,1,99,15,2,7,27]\n",
    "max_num = 0\n",
    "min_num = list2[0]\n",
    "\n",
    "for i in list2:\n",
    "    compare_num = i\n",
    "    if max_num < compare_num :\n",
    "        max_num = compare_num\n",
    "    elif min_num > compare_num:\n",
    "        min_num = compare_num\n",
    "print(max_num)\n",
    "print(min_num)"
   ]
  },
  {
   "cell_type": "code",
   "execution_count": 53,
   "id": "3f1c138e-f69d-49e9-9f31-cede934edd0a",
   "metadata": {},
   "outputs": [
    {
     "name": "stdout",
     "output_type": "stream",
     "text": [
      "1683\n"
     ]
    }
   ],
   "source": [
    "t = 0\n",
    "for i in range(3,100,3):\n",
    "    t += i\n",
    "print(t)"
   ]
  },
  {
   "cell_type": "code",
   "execution_count": 55,
   "id": "d8e3fd62-5271-4afa-9268-2ad61979452c",
   "metadata": {},
   "outputs": [
    {
     "name": "stdout",
     "output_type": "stream",
     "text": [
      "2 * 1 = 2\n",
      "2 * 2 = 4\n",
      "2 * 3 = 6\n",
      "2 * 4 = 8\n",
      "2 * 5 = 10\n",
      "2 * 6 = 12\n",
      "2 * 7 = 14\n",
      "2 * 8 = 16\n",
      "2 * 9 = 18\n"
     ]
    }
   ],
   "source": [
    "for i in range(1,10):\n",
    "    print(f'2 * {i} = {2*i}')"
   ]
  },
  {
   "cell_type": "code",
   "execution_count": 93,
   "id": "6210a66b-7309-409f-a4d0-d97c58335175",
   "metadata": {},
   "outputs": [
    {
     "name": "stdout",
     "output_type": "stream",
     "text": [
      "2 * 1 = 2\t2 * 2 = 4\t2 * 3 = 6\t2 * 4 = 8\t2 * 5 = 10\t2 * 6 = 12\t2 * 7 = 14\t2 * 8 = 16\t2 * 9 = 18\t\n",
      "3 * 1 = 3\t3 * 2 = 6\t3 * 3 = 9\t3 * 4 = 12\t3 * 5 = 15\t3 * 6 = 18\t3 * 7 = 21\t3 * 8 = 24\t3 * 9 = 27\t\n",
      "4 * 1 = 4\t4 * 2 = 8\t4 * 3 = 12\t4 * 4 = 16\t4 * 5 = 20\t4 * 6 = 24\t4 * 7 = 28\t4 * 8 = 32\t4 * 9 = 36\t\n",
      "5 * 1 = 5\t5 * 2 = 10\t5 * 3 = 15\t5 * 4 = 20\t5 * 5 = 25\t5 * 6 = 30\t5 * 7 = 35\t5 * 8 = 40\t5 * 9 = 45\t\n",
      "6 * 1 = 6\t6 * 2 = 12\t6 * 3 = 18\t6 * 4 = 24\t6 * 5 = 30\t6 * 6 = 36\t6 * 7 = 42\t6 * 8 = 48\t6 * 9 = 54\t\n",
      "7 * 1 = 7\t7 * 2 = 14\t7 * 3 = 21\t7 * 4 = 28\t7 * 5 = 35\t7 * 6 = 42\t7 * 7 = 49\t7 * 8 = 56\t7 * 9 = 63\t\n",
      "8 * 1 = 8\t8 * 2 = 16\t8 * 3 = 24\t8 * 4 = 32\t8 * 5 = 40\t8 * 6 = 48\t8 * 7 = 56\t8 * 8 = 64\t8 * 9 = 72\t\n",
      "9 * 1 = 9\t9 * 2 = 18\t9 * 3 = 27\t9 * 4 = 36\t9 * 5 = 45\t9 * 6 = 54\t9 * 7 = 63\t9 * 8 = 72\t9 * 9 = 81\t\n"
     ]
    }
   ],
   "source": [
    "for i in range(2,10):\n",
    "    for k in range(1, 10):\n",
    "        print(f'{i} * {k} = {k*i}', end= '\\t')\n",
    "    print()"
   ]
  },
  {
   "cell_type": "code",
   "execution_count": 109,
   "id": "4cf596d6-17a4-4b39-b4a5-f24a710d532b",
   "metadata": {},
   "outputs": [
    {
     "name": "stdout",
     "output_type": "stream",
     "text": [
      "2 * 1 = 2\t3 * 1 = 3\t4 * 1 = 4\t5 * 1 = 5\t6 * 1 = 6\t7 * 1 = 7\t8 * 1 = 8\t9 * 1 = 9\t\n",
      "2 * 2 = 4\t3 * 2 = 6\t4 * 2 = 8\t5 * 2 = 10\t6 * 2 = 12\t7 * 2 = 14\t8 * 2 = 16\t9 * 2 = 18\t\n",
      "2 * 3 = 6\t3 * 3 = 9\t4 * 3 = 12\t5 * 3 = 15\t6 * 3 = 18\t7 * 3 = 21\t8 * 3 = 24\t9 * 3 = 27\t\n",
      "2 * 4 = 8\t3 * 4 = 12\t4 * 4 = 16\t5 * 4 = 20\t6 * 4 = 24\t7 * 4 = 28\t8 * 4 = 32\t9 * 4 = 36\t\n",
      "2 * 5 = 10\t3 * 5 = 15\t4 * 5 = 20\t5 * 5 = 25\t6 * 5 = 30\t7 * 5 = 35\t8 * 5 = 40\t9 * 5 = 45\t\n",
      "2 * 6 = 12\t3 * 6 = 18\t4 * 6 = 24\t5 * 6 = 30\t6 * 6 = 36\t7 * 6 = 42\t8 * 6 = 48\t9 * 6 = 54\t\n",
      "2 * 7 = 14\t3 * 7 = 21\t4 * 7 = 28\t5 * 7 = 35\t6 * 7 = 42\t7 * 7 = 49\t8 * 7 = 56\t9 * 7 = 63\t\n",
      "2 * 8 = 16\t3 * 8 = 24\t4 * 8 = 32\t5 * 8 = 40\t6 * 8 = 48\t7 * 8 = 56\t8 * 8 = 64\t9 * 8 = 72\t\n",
      "2 * 9 = 18\t3 * 9 = 27\t4 * 9 = 36\t5 * 9 = 45\t6 * 9 = 54\t7 * 9 = 63\t8 * 9 = 72\t9 * 9 = 81\t\n"
     ]
    }
   ],
   "source": [
    "for i in range(1,10):\n",
    "    for k in range(2, 10):\n",
    "        print(f'{k} * {i} = {i*k}', end= '\\t')\n",
    "    print()"
   ]
  },
  {
   "cell_type": "code",
   "execution_count": 67,
   "id": "5fd10b36-f5f2-4d46-b6e7-9f91a65c1d69",
   "metadata": {},
   "outputs": [
    {
     "name": "stdin",
     "output_type": "stream",
     "text": [
      "줄 수 입력>> 2\n"
     ]
    },
    {
     "name": "stdout",
     "output_type": "stream",
     "text": [
      "*\n",
      "**\n"
     ]
    }
   ],
   "source": [
    "star = ''\n",
    "input_size = int(input('줄 수 입력>>'))\n",
    "\n",
    "for i in range(1,input_size+1):\n",
    "    star += '*'\n",
    "    print(star)"
   ]
  },
  {
   "cell_type": "code",
   "execution_count": 79,
   "id": "fcffc6d2-4715-46c5-b699-2227e0db4720",
   "metadata": {},
   "outputs": [
    {
     "name": "stdin",
     "output_type": "stream",
     "text": [
      "첫 번째 정수 입력>> 10\n",
      "두 번째 정수 입력>> 20\n",
      "배수 입력>> 2\n"
     ]
    },
    {
     "name": "stdout",
     "output_type": "stream",
     "text": [
      "2의 배수의 합:  90\n"
     ]
    }
   ],
   "source": [
    "first = int(input('첫 번째 정수 입력>>'))\n",
    "second = int(input('두 번째 정수 입력>>'))\n",
    "third = int(input('배수 입력>>'))\n",
    "result = 0\n",
    "\n",
    "for i in range(first, second+1):\n",
    "    if i % third == 0:\n",
    "        result +=i\n",
    "\n",
    "print(f\"{third}의 배수의 합: \",result)"
   ]
  },
  {
   "cell_type": "code",
   "execution_count": 115,
   "id": "7efffc97-c520-4117-9595-c4354988ffea",
   "metadata": {},
   "outputs": [
    {
     "name": "stdout",
     "output_type": "stream",
     "text": [
      "짝수 3개, 홀수 8개\n"
     ]
    }
   ],
   "source": [
    "list1 = [1,30,7,9,17,3,5,23,44, 32, 35]\n",
    "count_even = 0\n",
    "count_odd = 0\n",
    "\n",
    "for i in list1:\n",
    "    if i % 2 ==0:\n",
    "        count_even += 1\n",
    "    else:\n",
    "        count_odd += 1\n",
    "\n",
    "print(f\"짝수 {count_even}개, 홀수 {count_odd}개\")"
   ]
  },
  {
   "cell_type": "code",
   "execution_count": 227,
   "id": "2dba075a-2418-4e33-9b8a-e20aa071aef6",
   "metadata": {},
   "outputs": [
    {
     "name": "stdin",
     "output_type": "stream",
     "text": [
      "OX입력>> OXOXOX\n"
     ]
    },
    {
     "name": "stdout",
     "output_type": "stream",
     "text": [
      "count: 1 score: 1\n",
      "count: 0 score: 1\n",
      "count: 1 score: 2\n",
      "count: 0 score: 2\n",
      "count: 1 score: 3\n",
      "count: 0 score: 3\n",
      "3 점\n"
     ]
    }
   ],
   "source": [
    "answer = input(\"OX입력>>\")\n",
    "answer_sheet = []\n",
    "score = 0\n",
    "countO = 0\n",
    "total = 0\n",
    "\n",
    "for i in answer:\n",
    "    answer_sheet.append(i)\n",
    "\n",
    "for i in answer_sheet:\n",
    "    if i == 'O':\n",
    "        countO += 1\n",
    "        score += countO\n",
    "        total = score\n",
    "        print(\"count:\", countO, \"score:\", score)\n",
    "    else:\n",
    "        countO =  0\n",
    "        print(\"count:\", countO, \"score:\", score)\n",
    "\n",
    "print(total, \"점\")"
   ]
  },
  {
   "cell_type": "code",
   "execution_count": null,
   "id": "73057194-2859-42a7-93e6-98419d0e15af",
   "metadata": {},
   "outputs": [],
   "source": []
  }
 ],
 "metadata": {
  "kernelspec": {
   "display_name": "Python 3 (ipykernel)",
   "language": "python",
   "name": "python3"
  },
  "language_info": {
   "codemirror_mode": {
    "name": "ipython",
    "version": 3
   },
   "file_extension": ".py",
   "mimetype": "text/x-python",
   "name": "python",
   "nbconvert_exporter": "python",
   "pygments_lexer": "ipython3",
   "version": "3.12.4"
  }
 },
 "nbformat": 4,
 "nbformat_minor": 5
}
