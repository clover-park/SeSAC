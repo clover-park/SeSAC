{
 "cells": [
  {
   "cell_type": "markdown",
   "id": "fa6784ce-59f6-4497-9c49-936280020751",
   "metadata": {},
   "source": [
    "## Streamlit\n",
    "### 파이썬에서 지원하는 데이터 기반 대화형 시각화 웹 애플리케이션 제작 라이브러리\n",
    "- 사용자가 실시간으로 데이터를 필터링하고 조작할 수 있으며, 데이터 탐색을 위한 대화형 대시보드를 웹에 구축 가능\n",
    "- 웹 위에서 동작하게끔 만들어졌기 때문에 내부적으로 HTML, CSS코드로 변화되어 입력되는 형태\n",
    "- HTML, CSS 알면 커스터마이징 가능\n",
    "- 작성한 코드를 통해 웹 페이지에 시각화 결과를 띄워주는 방식이기 때문에 단순한 코드 실행으로 결과를 볼 수 없고, 파이썬 모듈(py)로 만들어서 동작시켜줘야함.\n",
    "- 공식 사이트: https://docs.streamlit.io/"
   ]
  },
  {
   "cell_type": "code",
   "execution_count": 4,
   "id": "080e272d-3fae-49de-89bb-d2b919fd7358",
   "metadata": {
    "scrolled": true
   },
   "outputs": [
    {
     "name": "stdout",
     "output_type": "stream",
     "text": [
      "Requirement already satisfied: streamlit in c:\\users\\user\\anaconda3\\lib\\site-packages (1.32.0)\n",
      "Collecting streamlit\n",
      "  Downloading streamlit-1.46.1-py3-none-any.whl.metadata (9.0 kB)\n",
      "Requirement already satisfied: altair<6,>=4.0 in c:\\users\\user\\anaconda3\\lib\\site-packages (from streamlit) (5.0.1)\n",
      "Requirement already satisfied: blinker<2,>=1.5.0 in c:\\users\\user\\anaconda3\\lib\\site-packages (from streamlit) (1.6.2)\n",
      "Requirement already satisfied: cachetools<7,>=4.0 in c:\\users\\user\\anaconda3\\lib\\site-packages (from streamlit) (5.3.3)\n",
      "Requirement already satisfied: click<9,>=7.0 in c:\\users\\user\\anaconda3\\lib\\site-packages (from streamlit) (8.1.7)\n",
      "Requirement already satisfied: numpy<3,>=1.23 in c:\\users\\user\\anaconda3\\lib\\site-packages (from streamlit) (1.26.4)\n",
      "Requirement already satisfied: packaging<26,>=20 in c:\\users\\user\\anaconda3\\lib\\site-packages (from streamlit) (23.2)\n",
      "Requirement already satisfied: pandas<3,>=1.4.0 in c:\\users\\user\\anaconda3\\lib\\site-packages (from streamlit) (2.2.2)\n",
      "Requirement already satisfied: pillow<12,>=7.1.0 in c:\\users\\user\\anaconda3\\lib\\site-packages (from streamlit) (10.3.0)\n",
      "Requirement already satisfied: protobuf<7,>=3.20 in c:\\users\\user\\anaconda3\\lib\\site-packages (from streamlit) (3.20.3)\n",
      "Requirement already satisfied: pyarrow>=7.0 in c:\\users\\user\\anaconda3\\lib\\site-packages (from streamlit) (14.0.2)\n",
      "Requirement already satisfied: requests<3,>=2.27 in c:\\users\\user\\anaconda3\\lib\\site-packages (from streamlit) (2.32.2)\n",
      "Requirement already satisfied: tenacity<10,>=8.1.0 in c:\\users\\user\\anaconda3\\lib\\site-packages (from streamlit) (8.2.2)\n",
      "Requirement already satisfied: toml<2,>=0.10.1 in c:\\users\\user\\anaconda3\\lib\\site-packages (from streamlit) (0.10.2)\n",
      "Requirement already satisfied: typing-extensions<5,>=4.4.0 in c:\\users\\user\\anaconda3\\lib\\site-packages (from streamlit) (4.14.1)\n",
      "Requirement already satisfied: watchdog<7,>=2.1.5 in c:\\users\\user\\anaconda3\\lib\\site-packages (from streamlit) (4.0.1)\n",
      "Requirement already satisfied: gitpython!=3.1.19,<4,>=3.0.7 in c:\\users\\user\\anaconda3\\lib\\site-packages (from streamlit) (3.1.37)\n",
      "Requirement already satisfied: pydeck<1,>=0.8.0b4 in c:\\users\\user\\anaconda3\\lib\\site-packages (from streamlit) (0.8.0)\n",
      "Requirement already satisfied: tornado!=6.5.0,<7,>=6.0.3 in c:\\users\\user\\anaconda3\\lib\\site-packages (from streamlit) (6.4.1)\n",
      "Requirement already satisfied: jinja2 in c:\\users\\user\\anaconda3\\lib\\site-packages (from altair<6,>=4.0->streamlit) (3.1.4)\n",
      "Requirement already satisfied: jsonschema>=3.0 in c:\\users\\user\\anaconda3\\lib\\site-packages (from altair<6,>=4.0->streamlit) (4.19.2)\n",
      "Requirement already satisfied: toolz in c:\\users\\user\\anaconda3\\lib\\site-packages (from altair<6,>=4.0->streamlit) (0.12.0)\n",
      "Requirement already satisfied: colorama in c:\\users\\user\\anaconda3\\lib\\site-packages (from click<9,>=7.0->streamlit) (0.4.6)\n",
      "Requirement already satisfied: gitdb<5,>=4.0.1 in c:\\users\\user\\anaconda3\\lib\\site-packages (from gitpython!=3.1.19,<4,>=3.0.7->streamlit) (4.0.7)\n",
      "Requirement already satisfied: python-dateutil>=2.8.2 in c:\\users\\user\\anaconda3\\lib\\site-packages (from pandas<3,>=1.4.0->streamlit) (2.9.0.post0)\n",
      "Requirement already satisfied: pytz>=2020.1 in c:\\users\\user\\anaconda3\\lib\\site-packages (from pandas<3,>=1.4.0->streamlit) (2024.1)\n",
      "Requirement already satisfied: tzdata>=2022.7 in c:\\users\\user\\anaconda3\\lib\\site-packages (from pandas<3,>=1.4.0->streamlit) (2023.3)\n",
      "Requirement already satisfied: charset-normalizer<4,>=2 in c:\\users\\user\\anaconda3\\lib\\site-packages (from requests<3,>=2.27->streamlit) (2.0.4)\n",
      "Requirement already satisfied: idna<4,>=2.5 in c:\\users\\user\\anaconda3\\lib\\site-packages (from requests<3,>=2.27->streamlit) (3.7)\n",
      "Requirement already satisfied: urllib3<3,>=1.21.1 in c:\\users\\user\\anaconda3\\lib\\site-packages (from requests<3,>=2.27->streamlit) (2.5.0)\n",
      "Requirement already satisfied: certifi>=2017.4.17 in c:\\users\\user\\anaconda3\\lib\\site-packages (from requests<3,>=2.27->streamlit) (2025.6.15)\n",
      "Requirement already satisfied: smmap<5,>=3.0.1 in c:\\users\\user\\anaconda3\\lib\\site-packages (from gitdb<5,>=4.0.1->gitpython!=3.1.19,<4,>=3.0.7->streamlit) (4.0.0)\n",
      "Requirement already satisfied: MarkupSafe>=2.0 in c:\\users\\user\\anaconda3\\lib\\site-packages (from jinja2->altair<6,>=4.0->streamlit) (2.1.3)\n",
      "Requirement already satisfied: attrs>=22.2.0 in c:\\users\\user\\anaconda3\\lib\\site-packages (from jsonschema>=3.0->altair<6,>=4.0->streamlit) (25.3.0)\n",
      "Requirement already satisfied: jsonschema-specifications>=2023.03.6 in c:\\users\\user\\anaconda3\\lib\\site-packages (from jsonschema>=3.0->altair<6,>=4.0->streamlit) (2023.7.1)\n",
      "Requirement already satisfied: referencing>=0.28.4 in c:\\users\\user\\anaconda3\\lib\\site-packages (from jsonschema>=3.0->altair<6,>=4.0->streamlit) (0.30.2)\n",
      "Requirement already satisfied: rpds-py>=0.7.1 in c:\\users\\user\\anaconda3\\lib\\site-packages (from jsonschema>=3.0->altair<6,>=4.0->streamlit) (0.10.6)\n",
      "Requirement already satisfied: six>=1.5 in c:\\users\\user\\anaconda3\\lib\\site-packages (from python-dateutil>=2.8.2->pandas<3,>=1.4.0->streamlit) (1.16.0)\n",
      "Downloading streamlit-1.46.1-py3-none-any.whl (10.1 MB)\n",
      "   ---------------------------------------- 0.0/10.1 MB ? eta -:--:--\n",
      "   ---------------------------------------- 0.0/10.1 MB ? eta -:--:--\n",
      "    --------------------------------------- 0.2/10.1 MB 2.6 MB/s eta 0:00:04\n",
      "   -- ------------------------------------- 0.6/10.1 MB 5.4 MB/s eta 0:00:02\n",
      "   --- ------------------------------------ 0.9/10.1 MB 6.2 MB/s eta 0:00:02\n",
      "   ----- ---------------------------------- 1.4/10.1 MB 6.6 MB/s eta 0:00:02\n",
      "   -------- ------------------------------- 2.0/10.1 MB 8.1 MB/s eta 0:00:01\n",
      "   ----------- ---------------------------- 3.0/10.1 MB 10.0 MB/s eta 0:00:01\n",
      "   ------------ --------------------------- 3.1/10.1 MB 10.6 MB/s eta 0:00:01\n",
      "   ----------------- ---------------------- 4.4/10.1 MB 11.2 MB/s eta 0:00:01\n",
      "   --------------------- ------------------ 5.4/10.1 MB 12.2 MB/s eta 0:00:01\n",
      "   ------------------------ --------------- 6.1/10.1 MB 13.1 MB/s eta 0:00:01\n",
      "   ----------------------------- ---------- 7.3/10.1 MB 13.8 MB/s eta 0:00:01\n",
      "   ------------------------------------- -- 9.5/10.1 MB 16.4 MB/s eta 0:00:01\n",
      "   ---------------------------------------- 10.1/10.1 MB 16.5 MB/s eta 0:00:00\n",
      "Installing collected packages: streamlit\n",
      "  Attempting uninstall: streamlit\n",
      "    Found existing installation: streamlit 1.32.0\n",
      "    Uninstalling streamlit-1.32.0:\n",
      "      Successfully uninstalled streamlit-1.32.0\n",
      "Successfully installed streamlit-1.46.1\n"
     ]
    }
   ],
   "source": [
    "!pip install -U streamlit"
   ]
  },
  {
   "cell_type": "code",
   "execution_count": 6,
   "id": "a8c52469-096e-49dc-96c6-ab21333d08ad",
   "metadata": {},
   "outputs": [],
   "source": [
    "import streamlit as st"
   ]
  },
  {
   "cell_type": "code",
   "execution_count": 8,
   "id": "834b13c3-9e6b-4092-a65f-c3c45139831d",
   "metadata": {},
   "outputs": [
    {
     "data": {
      "text/plain": [
       "'1.46.1'"
      ]
     },
     "execution_count": 8,
     "metadata": {},
     "output_type": "execute_result"
    }
   ],
   "source": [
    "# 버전 확인\n",
    "st.__version__"
   ]
  },
  {
   "cell_type": "markdown",
   "id": "6680dcf3-fc3a-4e95-88ab-b9e79df27295",
   "metadata": {},
   "source": [
    "### 기본 함수 종류\n",
    "#### text와 code 함수는 마크다운 태그를 인식하지 못함.\n",
    "- st.title: 타이틀(大)\n",
    "- st.header: 타이틀(中)\n",
    "- st.subheader: 타이틀(小)\n",
    "- st.text: 일반 텍스트\n",
    "- st.markdown: 마크다운 출력(html, css로 커스터마이징 가능)\n",
    "- st.write: 텍스트나 파이썬 변수/객체 출력\n",
    "- st.latex: 수식 출력\n",
    "- st.code: 코드 출력\n",
    "- st.caption: 짧은 설명문(캡션) 출력"
   ]
  },
  {
   "cell_type": "markdown",
   "id": "b656c971-c4ae-4742-933e-f0e007238de2",
   "metadata": {},
   "source": [
    "- %%는 주피터노트북 매직 명령어로 %%writefile의 의미는 현재 셀의 코드를 파일로 저장시켜주는 명령\n",
    "- 매직 명령어 사용시 해당 코드 왼쪽 혹은 오른쪽에 다른 코드나 주석이 있으면 동작하지 않는다.\n",
    "- 아래 셀에 적은 내용이 module 파일 내에 myApp.py에 저장됨."
   ]
  },
  {
   "cell_type": "code",
   "execution_count": 45,
   "id": "31abb91a-65a6-426c-8c12-69c0b4fe2105",
   "metadata": {},
   "outputs": [
    {
     "name": "stdout",
     "output_type": "stream",
     "text": [
      "Overwriting module/myApp.py\n"
     ]
    }
   ],
   "source": [
    "%%writefile module/myApp.py\n",
    "\n",
    "import streamlit as st\n",
    "import pandas as pd\n",
    "\n",
    "# 기본 함수 사용해보기\n",
    "st.title('This is *title*') # * *는 마크다운 기호로 italic을 적용함. 근데, text와 code 은 이거 적용 안 됨.\n",
    "st.header('This is header')\n",
    "st.subheader('This is subheader')\n",
    "st.text('This is text *blablablablablablblaballba*') # 마크다운 인식 못 함.\n",
    "\n",
    " # 마크다운 출력\n",
    "st.markdown('This is *markdown*') # italic\n",
    "st.markdown('This is **markdown**') # bold\n",
    "st.markdown('This is ***markdown***') # italic + bold\n",
    "st.markdown('~This is markdown~') # strikethrough (취소선) 적용\n",
    "st.markdown('[뉴스 원문 클릭](https://n.news.naver.com/mnews/article/008/0005220971)') # 하이퍼링크 적용\n",
    "st.markdown(':smile: :100: :ocean: :streamlit:') #이모지 적용\n",
    "\n",
    "# 텍스트 및 변수/객체 출력(파이썬의 print문과 유사함)\n",
    "x, y = 1, 2\n",
    "st.write(x,y) # 초록색으로 출력됨.\n",
    "st.write('This is similar to Python print')\n",
    "st.write(f'x = {x}, y = {y}') # 초록색이 아니라 검은색으로 출력됨.\n",
    "\n",
    "df = pd.DataFrame(data = {'칼럼1':[1,2,3], # 숫자는 우측 정렬\n",
    "                          '칼럼2':['a','b','c'], # 문자는 좌측 정렬\n",
    "                          '칼럼3':[True, False, True]}) # True는 웹 상에서 체크표시로 뜨고, False는 빈칸으로 뜸.\n",
    "st.write(df)\n",
    "\n",
    "# 수식 출력\n",
    "# latex 함수에서 '\\'는 특정한 수식을 표현하는 기호인데 파이썬 문자열 이스케이프 코드로 인식되지 않도록 문자열 앞에 r(raw string)을 붙여 방지\n",
    "st.latex('E = mc^2')\n",
    "st.latex(r'Area = \\pi r^2 \\ 입니다.') # \\pi: 파이\n",
    "st.latex(r'\\frac{a}{b} = c') # 분수: \\frac{분자}{분모}\n",
    "st.latex(r'\\sqrt{3}') # 제곱근: \\sqrt{표현식}\n",
    "\n",
    "# 코드 출력(코드 형식으로 출력하지만 실제 코드 내부 연산이 진행되어 결과가 나오지는 않음.) 복사도 할 수 있음.\n",
    "myCode = '''\n",
    "total = 0\n",
    "for i in range(5):\n",
    "    total += i\n",
    "print(total)\n",
    "'''\n",
    "st.code(myCode)\n",
    "\n",
    "# 캡션 출력\n",
    "st.caption('This is **caption**!')"
   ]
  },
  {
   "cell_type": "code",
   "execution_count": 51,
   "id": "1afdc888-0caf-44e5-8228-43e6e6190647",
   "metadata": {},
   "outputs": [
    {
     "name": "stdout",
     "output_type": "stream",
     "text": [
      "Overwriting module/myApp2.py\n"
     ]
    }
   ],
   "source": [
    "%%writefile module/myApp2.py\n",
    "\n",
    "import streamlit as st\n",
    "import pandas as pd\n",
    "\n",
    "x, y = 1, 2\n",
    "df = pd.DataFrame(data = {'칼럼1':[1,2,3],\n",
    "                          '칼럼2':['a','b','c'],\n",
    "                          '칼럼3':[True, False, True]})\n",
    "# write함수 대신에 streamlit 매직커맨드로 동작시킬 수 있음.\n",
    "'this is text' # 그냥 문자열처럼 써도됨;;;\n",
    "x # 그냥 써도 출력이 됨;;;;\n",
    "y\n",
    "'' # 공백용\n",
    "''\n",
    "df\n",
    "\n",
    "# 마크다운 색상 적용\n",
    "'print in :blue[**BLUE**] color'\n",
    "'print in :red[**RED**] color'\n",
    "\n",
    "# 이모지 출력\n",
    "'cool! :sunglasses:'\n",
    "'thumbs up! :thumbsup:'\n",
    "'cheese! :smile:'"
   ]
  },
  {
   "cell_type": "markdown",
   "id": "d01453e0-c7b5-40aa-a3b3-3849ff65a58d",
   "metadata": {},
   "source": [
    "### 데이터 객체 출력하기\n",
    "- dataframe: 데이터프레임 출력\n",
    "- table: 데이터프레임 출력(가로로 넓게 보이고 True, False값이 문자 그대로 보임)\n",
    "- json: JSON 형식으로 출력(웹에서 많이 활용하는 딕셔너리와 유사한 형태의 데이터 포맷)\n",
    "- metric: 특정 데이터의 상태 변화를 보기 쉽게 출력"
   ]
  },
  {
   "cell_type": "code",
   "execution_count": 64,
   "id": "2ab77535-0b4c-4733-8674-575cb1bc7be1",
   "metadata": {},
   "outputs": [
    {
     "name": "stdout",
     "output_type": "stream",
     "text": [
      "Overwriting module/myApp3.py\n"
     ]
    }
   ],
   "source": [
    "%%writefile module/myApp3.py\n",
    "\n",
    "import streamlit as st\n",
    "import pandas as pd\n",
    "\n",
    "# 다양한 방식으로 DF 출력하기(디폴트로 최대 10개까지 한 번에 보여줌.)\n",
    "df = pd.DataFrame(data = {'칼럼1':[1,2,3],\n",
    "                          '칼럼2':['a','b','c'],\n",
    "                          '칼럼3':[True, False, True]})\n",
    "'1. Using magic command'\n",
    "df\n",
    "'2. Using write function -> same result as 1.'\n",
    "st.write(df)\n",
    "'3. Using dataframe function'\n",
    "st.dataframe(df,width = 400)\n",
    "'4. Using table function -> True, False printed as literal'\n",
    "st.table(df)\n",
    "''\n",
    "'---' # 구분선 출력\n",
    "''\n",
    "\n",
    "# JSON 형식으로 출력\n",
    "st.json([{'name':'Clover','age':23,'gender':'female'},\n",
    "         {'name':'Toby','age':22,'gender':'male'}])\n",
    "\n",
    "# 데이터 상태 변화 출력\n",
    "st.metric(label = 'temperature', value = '36°C', delta = '15°C') # value값은 크게 나옴, 변화되는 값은 작게 나옴.\n",
    "st.metric(label = 'Samsung', value = '63,000', delta = '-1000')"
   ]
  },
  {
   "cell_type": "markdown",
   "id": "001e87b9-2855-4f93-8b7d-beabe27dbcc5",
   "metadata": {},
   "source": [
    "### 미디어 출력하기\n",
    "- st.image: 이미지 출력\n",
    "- st.audio: 음성 출력\n",
    "- st.video: 영상 출력"
   ]
  },
  {
   "cell_type": "code",
   "execution_count": 77,
   "id": "85eacbd6-77be-44fd-8fa7-3dcf4ec7e8d2",
   "metadata": {},
   "outputs": [
    {
     "name": "stdout",
     "output_type": "stream",
     "text": [
      "Overwriting module/myApp4.py\n"
     ]
    }
   ],
   "source": [
    "%%writefile module/myApp4.py\n",
    "\n",
    "import streamlit as st\n",
    "\n",
    "'Image of Waitan, Shanghai :cn:'\n",
    "st.image('data/waitan.jpg', width = 500, caption = '外滩')\n",
    "\n",
    "# 음성 출력\n",
    "# 1. open 함수로 파일 불러와서 저장\n",
    "# rb: 읽기 전용\n",
    "with open('data/clockbell.wav','rb') as f:\n",
    "    audio_data = f.read()\n",
    "\n",
    "# 2. 음성 출력\n",
    "'Ringtone'\n",
    "st.audio(audio_data)\n",
    "\n",
    "# 영상 출력\n",
    "with open('data/wave.mp4', 'rb')as f:\n",
    "    video_data = f.read()\n",
    "\n",
    "'Wave Video'\n",
    "st.video(video_data)"
   ]
  },
  {
   "cell_type": "markdown",
   "id": "438a9cc2-e9a0-44b7-8f6c-43e305d24093",
   "metadata": {},
   "source": [
    "### 위젯 사용하기\n",
    "- 유저와 상호작용하면서 유저의 입력을 받아 결과를 출력해주는 도구(대화형 가능)\n",
    "- button\n",
    "- checkbox\n",
    "- radio\n",
    "- selectbox\n",
    "- multiselect\n",
    "- color_picker\n",
    "- select_slider\n",
    "- slider\n",
    "- number_input\n",
    "- text_input\n",
    "- date_input\n",
    "- time_input"
   ]
  },
  {
   "cell_type": "code",
   "execution_count": 35,
   "id": "3ec5f88c-422b-4a48-ad03-910f57094c62",
   "metadata": {},
   "outputs": [
    {
     "name": "stdout",
     "output_type": "stream",
     "text": [
      "Overwriting module/myApp5.py\n"
     ]
    }
   ],
   "source": [
    "%%writefile module/myApp5.py\n",
    "\n",
    "import streamlit as st\n",
    "import pandas as pd\n",
    "import datetime\n",
    "\n",
    "# button\n",
    "# 똑같은 label로 여러개의 버튼을 만들 수 없으며 같은 버튼을 만드려면 key를 다르게 지정\n",
    "st.button(label='click!', key=1)\n",
    "st.button(label='click!', key=2, help='this is a :blue[button]')\n",
    "\n",
    "# 버튼을 눌렀을 때 동작할 기능 설정\n",
    "def buttons(*args):\n",
    "    total = 0\n",
    "    for i in args:\n",
    "        total += i\n",
    "    st.write(f'total: {total}')\n",
    "\n",
    "# on_click: 버튼을 눌렀을 때 동작할 함수를 설정하는 매개변수(뒤의 args의 리스트에 있는 값들이 buttons의 매개변수로 들어감.)\n",
    "st.button(label='click!', key=3, on_click = buttons, args = [1,2,3,4,5] , help='this is a :blue[button]')\n",
    "\n",
    "# 변수에 넣을 수도 있음.\n",
    "button = st.button('click!', key = 4)\n",
    "st.write(button)\n",
    "if button:\n",
    "    st.write(':smile:') # 버튼을 누르면 smile 이모지로 바뀜.\n",
    "else:\n",
    "    st.write(':sunglasses:')\n",
    "\n",
    "''\n",
    "'---'\n",
    "''\n",
    "# checkbox\n",
    "temp = st.checkbox('i agree')\n",
    "st.write(temp)\n",
    "''\n",
    "'---'\n",
    "''\n",
    "# radio\n",
    "radio = st.radio(label = 'choose one', options=['spread','dip'], key = 'a') # 위젯이 달라도 key값이 중복되면 에러 발생 so, a라고 씀.\n",
    "st.write(f'my choice = {radio}')\n",
    "''\n",
    "'---'\n",
    "''\n",
    "# selectbox\n",
    "selectbox = st.selectbox(label = 'choose one', options = ['spread','dip'])\n",
    "st.write(f'my choice = {selectbox}')\n",
    "''\n",
    "'---'\n",
    "''\n",
    "# multiselect\n",
    "multiselect = st.multiselect(label = \"choose today's dinner\", options = ['Pho','Burger','Pasta','Chicken','Ramen'])\n",
    "st.write(f\"today's dinner = {multiselect}\") # 여러개의 값을 리스트 형태로 출력\n",
    "''\n",
    "'---'\n",
    "''\n",
    "# color picker: HEX 컬러코드 값으로 출력됨.\n",
    "# HSL: Hue(색상), Saturation(채도), Lightness(명도)\n",
    "color = st.color_picker('pick a color')\n",
    "st.write(f'color picked = {color}')\n",
    "''\n",
    "'---'\n",
    "''\n",
    "# select slider\n",
    "selectslider = st.select_slider('Would you recommend this page?', ['Highly recommend','recommend','No not really','Will never recommend'])\n",
    "st.write(selectslider)\n",
    "''\n",
    "'---'\n",
    "''\n",
    "# slider: 정수 입력\n",
    "# min_value: 최소값, max_value: 최대값, value:초기값, step: 최소 단위(디폴트는 1)\n",
    "slider = st.slider('Rate this page from 0 to 10', min_value = 0, max_value = 10, value=5, step = 2)\n",
    "st.write(f'rate = {slider}')\n",
    "\n",
    "# number_input\n",
    "num = st.number_input('Write your GPA:', min_value = 0.0, max_value = 4.5, value = 3.0, step = 0.1)\n",
    "st.write(f'GPA = {num}')\n",
    "''\n",
    "'---'\n",
    "''\n",
    "# text_input\n",
    "text = st.text_input('名字：')\n",
    "\n",
    "# time_input\n",
    "d_input = st.date_input('When is your birthday?', max_value = datetime.datetime.now())\n",
    "t_input = st.time_input('What time were you born?', step = datetime.timedelta(hours = 1))\n",
    "st.write(f'my name = {text}, my birthday = {d_input}, birthtime = {t_input}')"
   ]
  },
  {
   "cell_type": "code",
   "execution_count": 37,
   "id": "e468029f-4a0d-4a3d-b840-8cc5758362c0",
   "metadata": {},
   "outputs": [
    {
     "name": "stdout",
     "output_type": "stream",
     "text": [
      "Writing module/myApp6.py\n"
     ]
    }
   ],
   "source": [
    "%%writefile module/myApp6.py\n",
    "\n",
    "import streamlit as st\n",
    "import pandas as pd\n",
    "# PIL: Python Imaging Library: 파이썬에서 이미지 처리를 지원하는 라이브러리\n",
    "from PIL import Image\n",
    "\n",
    "# 카메라 입력\n",
    "# 입력받기 전에는 None이 들어있음(입력 받으면 카메라 입력 객체로 변환됨.)\n",
    "img_input = st.camera_input(\"Let's take a picture! :smile:\")\n",
    "\n",
    "if img_input:\n",
    "    img = Image.open(img_input)\n",
    "    st.image(img, width = 500)"
   ]
  },
  {
   "cell_type": "markdown",
   "id": "857a69c7-99cf-4be7-9df8-859f51afadd1",
   "metadata": {},
   "source": [
    "### 상태 표시하기\n",
    "- progress: 진행 상태 바 출력\n",
    "- balloons/snow: 풍선 및 눈송이 효과\n",
    "- error:오류 메세지\n",
    "- warning: 경고 표시\n",
    "- info: 공지\n",
    "- success: 성공 메세지\n",
    "- spinner: 실행중 표시(원형)"
   ]
  },
  {
   "cell_type": "code",
   "execution_count": 54,
   "id": "2b22a16d-22fc-47a9-bef6-aefc611c59d0",
   "metadata": {},
   "outputs": [
    {
     "name": "stdout",
     "output_type": "stream",
     "text": [
      "Overwriting module/myApp7.py\n"
     ]
    }
   ],
   "source": [
    "%%writefile module/myApp7.py\n",
    "\n",
    "import streamlit as st\n",
    "import time\n",
    "\n",
    "# progress: 진행 상태 바\n",
    "st.write('processing...50%')\n",
    "st.progress(50) # 0~100 사이 정수값\n",
    "\n",
    "# balloons\n",
    "st.balloons()\n",
    "\n",
    "# snow\n",
    "st.snow()\n",
    "\n",
    "# error\n",
    "st.error('error occurred', icon = '⚠️') # icon은 오직 하나만\n",
    "\n",
    "# warning\n",
    "st.warning('Watch out!', icon = '⚠️')\n",
    "\n",
    "# info\n",
    "st.info(\"Today's class is cancelled!\", icon = '🤩')\n",
    "\n",
    "# success\n",
    "st.success('landed successfully!',icon='👍')\n",
    "\n",
    "#spinner\n",
    "# with 문은 특정 코드 블록의 시작과 끝을 정의하고 그 사이에 원하는 작업 및 리소스 관리를 지원함.\n",
    "# 특정 단위의 코드 블록을 내부 로직에 상관없이 반드시 마무리 해야할 때 사용\n",
    "# spinner는 실행 중인 상태를 표시한 후에 완료가 되면 없어져야 하기 때문에 with문과 함께 사용하여 마무리까지 할 수 있게 작업함.\n",
    "with st.spinner('loading...'):\n",
    "    time.sleep(5)\n",
    "    st.success('shutting down', icon='✅')"
   ]
  },
  {
   "cell_type": "markdown",
   "id": "0b1a5e65-cf79-4890-89e9-67badbbc4ea7",
   "metadata": {},
   "source": [
    "## 연습!!!"
   ]
  },
  {
   "cell_type": "code",
   "execution_count": 193,
   "id": "6cc0ad4d-689c-40fc-af4e-617464882bde",
   "metadata": {},
   "outputs": [
    {
     "name": "stdout",
     "output_type": "stream",
     "text": [
      "Overwriting module/examApp.py\n"
     ]
    }
   ],
   "source": [
    "%%writefile module/examApp.py\n",
    "\n",
    "import streamlit as st\n",
    "import pandas as pd\n",
    "import time\n",
    "\n",
    "st.title('My petit Dashboard UWU')\n",
    "st.header('currently working on it!:fire:')\n",
    "st.text('This dashboard is made by Streamlit.')\n",
    "url = 'https://docs.streamlit.io/'\n",
    "st.markdown('**Here** you can try out buch of *Streamlit* functions.')\n",
    "st.markdown('Click [here](url) to find out more.')\n",
    "''\n",
    "'---'\n",
    "df = pd.DataFrame({'products':['A','B','C','D'],\n",
    "                   'sales':[100,150,200,50],\n",
    "                   'growth_loss':['+10%','+5%','+7%','-15%']})\n",
    "st.write(df)\n",
    "\n",
    "st.metric(label = 'max sales',value=max(df['sales']), delta = df[df['growth_loss'] == max(df['sales']['growth_loss'].values[0])])\n",
    "\n",
    "sel_prod = st.selectbox('Choose a product', options = df.products)\n",
    "sale = df[df['products'] == sel_prod]['sales'].values[0]\n",
    "st.write(f'{sel_prod} 의 판매량은 {sale}입니다.')\n",
    "''\n",
    "'---'\n",
    "st.latex(r'l = 2\\pi r')\n",
    "''\n",
    "'---'\n",
    "st.image('data/waitan.jpg', width = 200,caption = '外滩')\n",
    "''\n",
    "'---'\n",
    "st.code('''\n",
    "print('Hello, Streamlit!')\n",
    "''')\n",
    "st.warning('This text is for warning!',icon='⚠️')\n",
    "''\n",
    "'---'\n",
    "button = st.button('success')\n",
    "if button:\n",
    "    st.balloons()\n",
    "    st.write('SUCCESS!!!')\n",
    "''\n",
    "'---'\n",
    "name = st.text_input('write your name:')\n",
    "st.write(f'Hello, {name}!!')\n",
    "''\n",
    "'---'\n",
    "color = st.color_picker('Pick a color!')\n",
    "st.write(f'You picked {color}')\n",
    "''\n",
    "'---'\n",
    "progress = st.progress(0)\n",
    "if st.button(\"진행 버튼\") :\n",
    "    for i in range(11) :\n",
    "        time.sleep(1)\n",
    "        progress.progress(i*10)"
   ]
  },
  {
   "cell_type": "code",
   "execution_count": null,
   "id": "6b70016c-ba43-441f-aa89-b35b928e28d3",
   "metadata": {},
   "outputs": [],
   "source": []
  }
 ],
 "metadata": {
  "kernelspec": {
   "display_name": "Python 3 (ipykernel)",
   "language": "python",
   "name": "python3"
  },
  "language_info": {
   "codemirror_mode": {
    "name": "ipython",
    "version": 3
   },
   "file_extension": ".py",
   "mimetype": "text/x-python",
   "name": "python",
   "nbconvert_exporter": "python",
   "pygments_lexer": "ipython3",
   "version": "3.12.4"
  }
 },
 "nbformat": 4,
 "nbformat_minor": 5
}
