{
 "cells": [
  {
   "cell_type": "markdown",
   "id": "022e7a0b-0770-4f6c-8ea7-2271974897a3",
   "metadata": {},
   "source": [
    "### 캐시(Cache)\n",
    "- 시간과 비용이 많이 들거나 자주 엑세스하는 계산 결과를 저장해둠으로써 웹이나 프로그램이 실행될 때마다 다시 계산할 필요가 없도록 효육화하여 프로그램의 성능을 높이는데 도움을 주는 메커니즘(임지저장소의 개념)\n",
    "- streamlit에서는 @st.cache_data, @st.cache_resource 두 가지 코드로 사용자 정의 함수에 데코레이션된 형태를 적용\n",
    "- cache_data: 자료나 데이터 구조를 반환해주는 함수에 적용 ex) DataFrame, array, list 등\n",
    "- cache_resource: 데이터가 아닌 상대적으로 무거운 리소스를 반환하는 함수에 적용 ex) 인공지능 모델, DB연결 등\n",
    "- 데코레이션된 함수가 호출되면 streamlit은 이전과 동일한 매개변수로 호출되었는지를 확인\n",
    "- 동일한 매개변수라면 미리 계산된 결과를 바로 출력시켜주며, 매개변수나 코드가 변경되거나 세션이 종료된다면 저장된 캐시를 삭제하고 함수를 재실행\n",
    "- Streamlit앱을 실행하는 시스템의 RAM에 임시 보관\n",
    "- 작업에 시간이 많이 걸릴 수 있는 데이터 과학 및 인공지능 분야에서 정보를 저장해두고 활용하기에 유용한 기능\n"
   ]
  },
  {
   "cell_type": "markdown",
   "id": "9cdb3f56-ccdc-4b33-9bdd-6d3081f88c3a",
   "metadata": {},
   "source": [
    "### 아래와 같은 비효율적인 상황을 피하기 위해 사용\n",
    "- 시간이 많이 소요되는 함수가 불필요하게 반복 실행되는 상황\n",
    "- 한 번 만들어 두면 되는 객체가 새로고침할 때마다 재생성되는 상황"
   ]
  },
  {
   "cell_type": "code",
   "execution_count": 1,
   "id": "63e6d0cf-543e-4b2a-acc7-c9ea0d2c2e3e",
   "metadata": {},
   "outputs": [
    {
     "name": "stdout",
     "output_type": "stream",
     "text": [
      "Overwriting module/myApp20.py\n"
     ]
    }
   ],
   "source": [
    "%%writefile module/myApp20.py\n",
    "\n",
    "import streamlit as st\n",
    "import time\n",
    "import pandas as pd\n",
    "\n",
    "st.title('Streamlit cache test')\n",
    "\n",
    "# 사용자 정의 함수에 캐시 선언(데코레이션)\n",
    "@st.cache_data\n",
    "def cal_sum(a,b):\n",
    "    time.sleep(5)\n",
    "    return a+b\n",
    "\n",
    "# 숫자 2개 입력 받기\n",
    "a = st.number_input('첫번째 숫자 입력', min_value = 0, max_value = 10, step = 1)\n",
    "b = st.number_input('두번째 숫자 입력', min_value = 0, max_value = 10, step = 1)\n",
    "\n",
    "# 버튼으로 함수 계산 실행\n",
    "button_start = st.button('start calculate', key = 1)\n",
    "if button_start:\n",
    "    result = cal_sum(a,b)\n",
    "    st.write(f'result: {result}')\n",
    "\n",
    "\n",
    "# 캐시 삭제 버튼 추가\n",
    "# 캐시가 있는 모든 정보 삭제됨;;;;\n",
    "button_clear = st.button('캐시 삭제', key=2)\n",
    "if button_clear:\n",
    "    st.cache_data.clear() # 전체 캐시 삭제\n",
    "    st.write('cache deleted complete!')\n",
    "\n",
    "@st.cache_data\n",
    "def get_data(age):\n",
    "    my_info = {'name':'Clover','age':age,'gender':'female'}\n",
    "    df = pd.DataFrame(my_info, index=['member info'])\n",
    "    time.sleep(3)\n",
    "    return df\n",
    "\"\"\n",
    "myAge = st.slider('input age', 20, 40, 30)\n",
    "\"\"\n",
    "button_age = st.button('input and run!', key = 3)\n",
    "if button_age:\n",
    "    result = get_data(myAge)\n",
    "    st.write(result)\n",
    "\n",
    "# 특정 함수만 캐시 초기화를 하고 싶다면? @st.cache_data가 쓰인 함수의 캐시만 삭제\n",
    "# 위의 cache_data.clear()가 적용된 버튼을 한번 누르면 웹 페이지 내의 모든 캐시가 초기화되기 때문에 불편함.\n",
    "# 버튼 함수 내에 사용자 정의 함수명.clear로 지정 후 아래 조건문에서 .clear()로 실행\n",
    "button_clear2 = st.button('캐시 삭제', key=4, on_click = get_data.clear)\n",
    "if button_clear2:\n",
    "    get_data.clear()\n",
    "    st.write('cache deleted complete!')"
   ]
  },
  {
   "cell_type": "markdown",
   "id": "9a2749ed-fef8-46b3-b6b4-f1e77ceb9bc3",
   "metadata": {},
   "source": [
    "### Form\n",
    "- 위젯을 그룹으로 묶어 여러 입력값을 받아서 저장 후 한 번에 제출하는 용도\n",
    "- 개별 위젯 값이 변경될 때마다 전체 웹사이트가 재실행되는 비효율을 방지하고 여러 위젯들을 그룹화해서 관리\n",
    "- 폼에는 st.button이나 st.download_button은 사용할 수 없음.\n",
    "- st.form_submit_button(최종제출 버튼)은 반드시 하나 이상 만들어야함.\n",
    "- 최종제출 버튼 누르기 전에는 폼에 포함된 다른 값들의 변화가 일어나지 않음.\n",
    "- 폼 내부에 다른 폼이 들어갈 수 없음."
   ]
  },
  {
   "cell_type": "code",
   "execution_count": 12,
   "id": "5695397a-4461-4cb6-a136-33999e6e5f72",
   "metadata": {},
   "outputs": [
    {
     "name": "stdout",
     "output_type": "stream",
     "text": [
      "Overwriting module/myApp21.py\n"
     ]
    }
   ],
   "source": [
    "%%writefile module/myApp21.py\n",
    "\n",
    "import streamlit as st\n",
    "import time\n",
    "import numpy as np\n",
    "import pandas as pd\n",
    "\n",
    "@st.cache_data\n",
    "def get_data(name, age, gender):\n",
    "    my_info = {'name':name,'age':age,'gender': gender}\n",
    "    df = pd.DataFrame(my_info, index=['member info'])\n",
    "    time.sleep(3)\n",
    "    return df\n",
    "\n",
    "# form 미적용\n",
    "# 값을 변경할 때마다 웹사이트가 새로 로딩됨...\n",
    "st.subheader('no form')\n",
    "name1 = st.text_input(\"What's your name?\")\n",
    "age1 = st.slider('How old r you?', 20, 40, 30)\n",
    "gender1 = st.radio('What is you gender?',['M', 'F'])\n",
    "st.write(get_data(name1, age1, gender1))"
   ]
  },
  {
   "cell_type": "code",
   "execution_count": 1,
   "id": "421646d2-f426-412b-affc-cdb05c6ed7af",
   "metadata": {},
   "outputs": [
    {
     "name": "stdout",
     "output_type": "stream",
     "text": [
      "Writing module/myApp21(2).py\n"
     ]
    }
   ],
   "source": [
    "%%writefile module/myApp21(2).py\n",
    "\n",
    "import streamlit as st\n",
    "import time\n",
    "import numpy as np\n",
    "import pandas as pd\n",
    "\n",
    "@st.cache_data\n",
    "def get_data(name, age, gender):\n",
    "    my_info = {'name':name,'age':age,'gender': gender}\n",
    "    df = pd.DataFrame(my_info, index=['member info'])\n",
    "    time.sleep(3)\n",
    "    return df\n",
    "    \n",
    "# form 적용\n",
    "st.subheader('with form')\n",
    "with st.form(key = 'form1', clear_on_submit=True): # clear_on_submit=True: 제출 버튼을 누르면 위젯에 들어있는 값들이 다시 초기값으로 돌아옴.\n",
    "   name2 = st.text_input(\"What's your name?\")\n",
    "   age2 = st.slider('How old r you?', 20, 40, 30)\n",
    "   gender2 = st.radio('What is you gender?',['M', 'F'])\n",
    "   submit_button = st.form_submit_button('submit!!')\n",
    "\n",
    "   if submit_button:\n",
    "       st.write(get_data(name2, age2, gender2))"
   ]
  },
  {
   "cell_type": "code",
   "execution_count": 3,
   "id": "bd34a336-9ba1-43ea-8958-7ddaa49dee4d",
   "metadata": {},
   "outputs": [
    {
     "name": "stdout",
     "output_type": "stream",
     "text": [
      "Writing module/myApp21(3).py\n"
     ]
    }
   ],
   "source": [
    "# form 적용 & form도 버튼을 눌러야 보이게끔 만들기\n",
    "%%writefile module/myApp21(3).py\n",
    "\n",
    "import streamlit as st\n",
    "import time\n",
    "import numpy as np\n",
    "import pandas as pd\n",
    "\n",
    "@st.cache_data\n",
    "def get_data(name, age, gender):\n",
    "    my_info = {'name':name,'age':age,'gender': gender}\n",
    "    df = pd.DataFrame(my_info, index=['member info'])\n",
    "    time.sleep(3)\n",
    "    return df\n",
    "\n",
    "# form과 버튼을 같이 활용하기 위해 세션을 사용하는 사용자 정의 함수\n",
    "# True, False와 같은 논리값들을 세션으로 유지시켜줌으로써 버튼과 폼을 함께 사용하게 구성할 수 있음.\n",
    "def doClicked():\n",
    "    # get: 파이썬 기초의 get을 본따 만든 함수\n",
    "    # session_state에서 key값을 검색하는 함수(key명칭, 해당 key가 없을 때 반환되는 값)\n",
    "    return st.session_state.get('clicked', False)\n",
    "\n",
    "# doClicked의 return값이 True라면\n",
    "# 처음에는 session에 clicked 키 값이 없어서 False가 반환되므로 if문 대신 else문이 실행됨.\n",
    "if doClicked():\n",
    "    with st.form(key = 'form1', clear_on_submit=True):\n",
    "       name2 = st.text_input(\"What's your name?\")\n",
    "       age2 = st.slider('How old r you?', 20, 40, 30)\n",
    "       gender2 = st.radio('What is you gender?',['M', 'F'])\n",
    "       submit_button = st.form_submit_button('submit!!')\n",
    "    \n",
    "       if submit_button:\n",
    "           st.write(get_data(name2, age2, gender2))\n",
    "# doClicked의 return값이 False라면\n",
    "else:\n",
    "    # 폼 보이기 버튼을 누르면 if문이 동작함.\n",
    "    if st.button('show form'):\n",
    "        st.session_state['clicked'] = True # session에 clicked가 없다가 True로 저장됨.\n",
    "        # rerun: app 재실행(웹 브라우저를 끈 것이 아니므로 세션 상태는 유지됨.)\n",
    "        st.rerun()"
   ]
  },
  {
   "cell_type": "code",
   "execution_count": null,
   "id": "5c4209ba-d0f5-4789-a429-8ba3669c9a0c",
   "metadata": {},
   "outputs": [],
   "source": []
  }
 ],
 "metadata": {
  "kernelspec": {
   "display_name": "Python 3 (ipykernel)",
   "language": "python",
   "name": "python3"
  },
  "language_info": {
   "codemirror_mode": {
    "name": "ipython",
    "version": 3
   },
   "file_extension": ".py",
   "mimetype": "text/x-python",
   "name": "python",
   "nbconvert_exporter": "python",
   "pygments_lexer": "ipython3",
   "version": "3.12.4"
  }
 },
 "nbformat": 4,
 "nbformat_minor": 5
}
