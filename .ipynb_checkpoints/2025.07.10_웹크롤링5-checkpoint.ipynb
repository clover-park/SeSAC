{
 "cells": [
  {
   "cell_type": "markdown",
   "id": "f551d869-a797-41aa-85c8-8ecf254f188e",
   "metadata": {},
   "source": [
    "### 뉴발란스 랭킹 신발들의 정보를 수집해보자"
   ]
  },
  {
   "cell_type": "code",
   "execution_count": 1,
   "id": "dbe28eb1-336f-4d76-bbf7-62198d88b9b5",
   "metadata": {},
   "outputs": [],
   "source": [
    "from selenium import webdriver as wb\n",
    "from selenium.webdriver.common.by import By\n",
    "from selenium.webdriver.common.keys import Keys\n",
    "from tqdm import tqdm\n",
    "import pandas as pd\n",
    "import time"
   ]
  },
  {
   "cell_type": "code",
   "execution_count": 3,
   "id": "3467a940-c868-4a71-b15e-2e59f357c7ad",
   "metadata": {},
   "outputs": [],
   "source": [
    "driver = wb.Chrome()\n",
    "driver.maximize_window()\n",
    "time.sleep(2)\n",
    "driver.get('https://www.nbkorea.com/product/featuredList.action?cateGrpCode=250100&cIdx=1385')"
   ]
  },
  {
   "cell_type": "markdown",
   "id": "30bb5770-1cc5-49ca-a862-d2bc67cff719",
   "metadata": {},
   "source": [
    "### 물품의 이미지를 클릭해서 정보가 있는 페이지로 이동"
   ]
  },
  {
   "cell_type": "code",
   "execution_count": 161,
   "id": "90609722-e28e-4652-a7f1-3d50882a3757",
   "metadata": {},
   "outputs": [],
   "source": [
    "img = driver.find_element(By.CSS_SELECTOR,'img#selGoods')"
   ]
  },
  {
   "cell_type": "code",
   "execution_count": 163,
   "id": "b2753a49-8d81-4f68-af65-bdc1b8e57c01",
   "metadata": {},
   "outputs": [],
   "source": [
    "img.click()"
   ]
  },
  {
   "cell_type": "markdown",
   "id": "a77495fb-2936-4e46-a3bf-6818759b2cf8",
   "metadata": {},
   "source": [
    "### 상품 세부사항 크롤링\n",
    "- 상품명\n",
    "- 평점\n",
    "- 구매가능한 사이즈, 구매불가능한 사이즈\n",
    "- 발볼넓이\n",
    "- 리뷰개수(숫자만)"
   ]
  },
  {
   "cell_type": "code",
   "execution_count": 166,
   "id": "2a4344a1-2ed3-4996-b261-203883dd2b15",
   "metadata": {},
   "outputs": [],
   "source": [
    "name = driver.find_element(By.CSS_SELECTOR,'#displayName')\n",
    "rating = driver.find_element(By.CSS_SELECTOR,'.crema_product_reviews_score__container')\n",
    "rating_num = driver.find_element(By.CSS_SELECTOR,'.review.crema-product-reviews-count.crema-applied')\n",
    "size = driver.find_elements(By.CSS_SELECTOR,'#optSizeSection .items > li > input')\n",
    "price = driver.find_element(By.CSS_SELECTOR,'.won')\n",
    "foot_width = driver.find_element(By.CSS_SELECTOR,'#optWidthSection > ul > li > label')"
   ]
  },
  {
   "cell_type": "code",
   "execution_count": 168,
   "id": "d8c6c4fc-c4f2-4c70-b538-61ddf3f8caa8",
   "metadata": {},
   "outputs": [
    {
     "data": {
      "text/plain": [
       "'true'"
      ]
     },
     "execution_count": 168,
     "metadata": {},
     "output_type": "execute_result"
    }
   ],
   "source": [
    "# 사이즈가 input 태그 안에 있는데, 사이즈가 없는 것에는 disabled 속성이 있다.\n",
    "size_avail = driver.find_element(By.CSS_SELECTOR,'#optSizeSection > ul > li > input')\n",
    "# get_attribute: 특정 요소 내 속성을 검색하는 함수\n",
    "# 사이즈가 있는 것들은 아무것도 출력이 안 된다.\n",
    "size_avail.get_attribute('disabled')\n",
    "\n",
    "size_unavail = driver.find_element(By.CSS_SELECTOR,'#size_290')\n",
    "# 290 사이즈는 없기 때문에 true가 출력된다!\n",
    "size_unavail.get_attribute('disabled')"
   ]
  },
  {
   "cell_type": "markdown",
   "id": "2c08d893-7479-4bff-87c9-972cd9b8e9ef",
   "metadata": {},
   "source": [
    "### CSS_SELECTOR로 태그의 속성에 접근하는 방법\n",
    "- 태그명[속성 = '~']"
   ]
  },
  {
   "cell_type": "code",
   "execution_count": 171,
   "id": "7af1aaa9-8028-4b15-a6cb-9c2445d68b6e",
   "metadata": {},
   "outputs": [
    {
     "data": {
      "text/plain": [
       "'290'"
      ]
     },
     "execution_count": 171,
     "metadata": {},
     "output_type": "execute_result"
    }
   ],
   "source": [
    "# <label for=\"size_290\" title=\"290\">290</label>\n",
    "temp = driver.find_element(By.CSS_SELECTOR,'label[for = \"size_290\"]')\n",
    "temp.text"
   ]
  },
  {
   "cell_type": "code",
   "execution_count": 173,
   "id": "57da95c5-1eb8-4048-a569-dd3a23ccc6c0",
   "metadata": {},
   "outputs": [
    {
     "name": "stdout",
     "output_type": "stream",
     "text": [
      "['220', '225', '230', '235', '240', '245', '250', '255', '260', '270', '275', '280']\n",
      "['265', '285', '290']\n"
     ]
    }
   ],
   "source": [
    "size_avail_list, size_unavail_list= [], []\n",
    "\n",
    "for i in size:\n",
    "    input_id = i.get_attribute('id')\n",
    "    # lable태그의 for 속성에 들어갈 size_~는 id값에 동일하게 있으므로 아래에서 활용하기 위해 추출\n",
    "    is_disabled = i.get_attribute('disabled')\n",
    "    # label의 for 속성에 접근\n",
    "    label = driver.find_element(By.CSS_SELECTOR, f'label[for = \"{input_id}\"]')\n",
    "    label_text = label.text.strip()\n",
    "    \n",
    "    if is_disabled:\n",
    "        size_unavail_list.append(label_text)\n",
    "    else:\n",
    "        size_avail_list.append(label_text)\n",
    "\n",
    "print(size_avail_list)\n",
    "print(size_unavail_list)"
   ]
  },
  {
   "cell_type": "code",
   "execution_count": 185,
   "id": "2125635e-5ed3-430f-8f69-8f62a752cf19",
   "metadata": {},
   "outputs": [
    {
     "name": "stdout",
     "output_type": "stream",
     "text": [
      "M1906REH\n",
      "4.9\n",
      "1,312개\n",
      "179,000원\n",
      "\n",
      "\n",
      "D(보통)\n"
     ]
    }
   ],
   "source": [
    "print(name.text)\n",
    "print(rating.text)\n",
    "print(rating_num.text[1:-1] + '개')\n",
    "print(price.text)\n",
    "print(foot_width.text)"
   ]
  },
  {
   "cell_type": "markdown",
   "id": "2971288d-cd7a-4bd6-a6fb-a07484f979e9",
   "metadata": {},
   "source": [
    "### 반복문을 활용해서 상위 4개 신발의 세부사항 수집해서 출력하기"
   ]
  },
  {
   "cell_type": "code",
   "execution_count": 7,
   "id": "dd2b5c4e-ef56-4455-bdb0-ab25f0e184ac",
   "metadata": {
    "scrolled": true
   },
   "outputs": [
    {
     "name": "stderr",
     "output_type": "stream",
     "text": [
      "  0%|                                                                                            | 0/4 [00:00<?, ?it/s]"
     ]
    },
    {
     "name": "stdout",
     "output_type": "stream",
     "text": [
      "M1906REH\n",
      "4.9\n",
      "1,312개\n",
      "179,000원\n",
      "D(보통)\n",
      "['220', '225', '230', '235', '240', '245', '250', '255', '260', '270', '275', '280']\n",
      "['265', '285', '290']\n"
     ]
    },
    {
     "name": "stderr",
     "output_type": "stream",
     "text": [
      " 25%|█████████████████████                                                               | 1/4 [00:07<00:23,  7.80s/it]"
     ]
    },
    {
     "name": "stdout",
     "output_type": "stream",
     "text": [
      "U740NW2 (WHITE SILVER METALLIC)\n",
      "5.0\n",
      "4개\n",
      "139,000원\n",
      "D(보통)\n",
      "['220', '225', '230', '235', '240', '245', '250', '255', '260', '265', '270', '275', '280', '285', '300']\n",
      "['290']\n"
     ]
    },
    {
     "name": "stderr",
     "output_type": "stream",
     "text": [
      " 50%|██████████████████████████████████████████                                          | 2/4 [00:16<00:16,  8.21s/it]"
     ]
    },
    {
     "name": "stdout",
     "output_type": "stream",
     "text": [
      "Kave / SD2401BE\n",
      "4.9\n",
      "130개\n",
      "149,000원\n",
      "M(보통)\n",
      "['230', '240', '250', '260', '270', '280']\n",
      "[]\n"
     ]
    },
    {
     "name": "stderr",
     "output_type": "stream",
     "text": [
      " 75%|███████████████████████████████████████████████████████████████                     | 3/4 [00:23<00:07,  7.55s/it]"
     ]
    },
    {
     "name": "stdout",
     "output_type": "stream",
     "text": [
      "MR530GMT\n",
      "4.9\n",
      "502개\n",
      "129,000원\n",
      "D(보통)\n",
      "['220', '225', '230', '245', '255', '275']\n",
      "['235', '240', '250', '260', '265', '270', '280', '285', '290', '300']\n"
     ]
    },
    {
     "name": "stderr",
     "output_type": "stream",
     "text": [
      "100%|████████████████████████████████████████████████████████████████████████████████████| 4/4 [00:30<00:00,  7.67s/it]\n"
     ]
    }
   ],
   "source": [
    "for i in tqdm(range(4)):\n",
    "    img = driver.find_elements(By.CSS_SELECTOR,'img#selGoods') # 여기다 써야 반복문이 돌아갈 때마다 이미지에 접근한다!\n",
    "    img[i].click()\n",
    "    time.sleep(2)\n",
    "    name = driver.find_element(By.CSS_SELECTOR,'#displayName')\n",
    "    rating = driver.find_element(By.CSS_SELECTOR,'.crema_product_reviews_score__container')\n",
    "    rating_num = driver.find_element(By.CSS_SELECTOR,'.review.crema-product-reviews-count.crema-applied')\n",
    "    size = driver.find_elements(By.CSS_SELECTOR,'#optSizeSection .items > li > input')\n",
    "    price = driver.find_element(By.CSS_SELECTOR,'.won')\n",
    "    foot_width = driver.find_element(By.CSS_SELECTOR,'#optWidthSection > ul > li > label')\n",
    "\n",
    "    size_avail_list, size_unavail_list= [], []\n",
    "\n",
    "    for i in size:\n",
    "        input_id = i.get_attribute('id')\n",
    "        # lable태그의 for 속성에 들어갈 size_~는 id값에 동일하게 있으므로 아래에서 활용하기 위해 추출\n",
    "        is_disabled = i.get_attribute('disabled')\n",
    "        # label의 for 속성에 접근\n",
    "        label = driver.find_element(By.CSS_SELECTOR, f'label[for = \"{input_id}\"]')\n",
    "        label_text = label.text.strip()\n",
    "        \n",
    "        if is_disabled:\n",
    "            size_unavail_list.append(label_text)\n",
    "        else:\n",
    "            size_avail_list.append(label_text)\n",
    "    \n",
    "        \n",
    "    print(name.text)\n",
    "    print(rating.text)\n",
    "    print(rating_num.text[1:-1] + '개')\n",
    "    print(price.text)\n",
    "    print(foot_width.text)\n",
    "    print(size_avail_list)\n",
    "    print(size_unavail_list)\n",
    "    \n",
    "    driver.back()\n",
    "    time.sleep(2)"
   ]
  },
  {
   "cell_type": "code",
   "execution_count": 272,
   "id": "fdb2ea0d-8e21-4c19-b4ed-01b561033246",
   "metadata": {},
   "outputs": [],
   "source": [
    "driver.quit()"
   ]
  },
  {
   "cell_type": "markdown",
   "id": "aab5e36d-2a05-4c2e-be4d-fbe14d1da706",
   "metadata": {},
   "source": [
    "### 한 셀에 모든 코드 넣기\n",
    "- 상위 8개의 신발 품목 데이터를 수집해서 데이터프레임화 시켜보자."
   ]
  },
  {
   "cell_type": "code",
   "execution_count": 55,
   "id": "6bd6207a-0c03-4d2a-b1f2-d5b1514188c6",
   "metadata": {},
   "outputs": [
    {
     "name": "stderr",
     "output_type": "stream",
     "text": [
      "100%|████████████████████████████████████████████████████████████████████████████████████| 8/8 [00:58<00:00,  7.31s/it]\n"
     ]
    },
    {
     "name": "stdout",
     "output_type": "stream",
     "text": [
      "number of data collected:  8 8 8 8 8 8\n"
     ]
    },
    {
     "data": {
      "text/html": [
       "<div>\n",
       "<style scoped>\n",
       "    .dataframe tbody tr th:only-of-type {\n",
       "        vertical-align: middle;\n",
       "    }\n",
       "\n",
       "    .dataframe tbody tr th {\n",
       "        vertical-align: top;\n",
       "    }\n",
       "\n",
       "    .dataframe thead th {\n",
       "        text-align: right;\n",
       "    }\n",
       "</style>\n",
       "<table border=\"1\" class=\"dataframe\">\n",
       "  <thead>\n",
       "    <tr style=\"text-align: right;\">\n",
       "      <th></th>\n",
       "      <th>shoe name</th>\n",
       "      <th>price</th>\n",
       "      <th>ratings</th>\n",
       "      <th>rating count</th>\n",
       "      <th>available size</th>\n",
       "      <th>foot width</th>\n",
       "    </tr>\n",
       "    <tr>\n",
       "      <th>No</th>\n",
       "      <th></th>\n",
       "      <th></th>\n",
       "      <th></th>\n",
       "      <th></th>\n",
       "      <th></th>\n",
       "      <th></th>\n",
       "    </tr>\n",
       "  </thead>\n",
       "  <tbody>\n",
       "    <tr>\n",
       "      <th>1</th>\n",
       "      <td>M1906REH</td>\n",
       "      <td>179,000원</td>\n",
       "      <td>4.9</td>\n",
       "      <td>1,312개</td>\n",
       "      <td>[220, 225, 230, 235, 240, 245, 250, 255, 260, 270, 275, 280]</td>\n",
       "      <td>D(보통)</td>\n",
       "    </tr>\n",
       "    <tr>\n",
       "      <th>2</th>\n",
       "      <td>U740NW2 (WHITE SILVER METALLIC)</td>\n",
       "      <td>139,000원</td>\n",
       "      <td>5.0</td>\n",
       "      <td>4개</td>\n",
       "      <td>[220, 225, 230, 235, 240, 245, 250, 255, 260, 265, 270, 275, 280, 285, 300]</td>\n",
       "      <td>D(보통)</td>\n",
       "    </tr>\n",
       "    <tr>\n",
       "      <th>3</th>\n",
       "      <td>Kave / SD2401BE</td>\n",
       "      <td>149,000원</td>\n",
       "      <td>4.9</td>\n",
       "      <td>130개</td>\n",
       "      <td>[230, 240, 250, 260, 270, 280]</td>\n",
       "      <td>M(보통)</td>\n",
       "    </tr>\n",
       "    <tr>\n",
       "      <th>4</th>\n",
       "      <td>MR530GMT</td>\n",
       "      <td>129,000원</td>\n",
       "      <td>4.9</td>\n",
       "      <td>502개</td>\n",
       "      <td>[220, 225, 230, 235, 245, 255, 275]</td>\n",
       "      <td>D(보통)</td>\n",
       "    </tr>\n",
       "    <tr>\n",
       "      <th>5</th>\n",
       "      <td>프레쉬폼x 1080 V14 (남성, 2E)</td>\n",
       "      <td>199,000원</td>\n",
       "      <td>4.9</td>\n",
       "      <td>587개</td>\n",
       "      <td>[250, 255, 260, 265, 270, 275, 280, 285, 290, 295]</td>\n",
       "      <td>2E(약간 넓음)</td>\n",
       "    </tr>\n",
       "    <tr>\n",
       "      <th>6</th>\n",
       "      <td>MR530DAM</td>\n",
       "      <td>129,000원</td>\n",
       "      <td>4.9</td>\n",
       "      <td>297개</td>\n",
       "      <td>[220, 225, 230, 235, 240]</td>\n",
       "      <td>D(보통)</td>\n",
       "    </tr>\n",
       "    <tr>\n",
       "      <th>7</th>\n",
       "      <td>프레쉬폼x 1080 V14 (남성, 2E)</td>\n",
       "      <td>199,000원</td>\n",
       "      <td>4.9</td>\n",
       "      <td>587개</td>\n",
       "      <td>[250, 255, 260, 265, 270, 275, 280, 285, 290]</td>\n",
       "      <td>2E(약간 넓음)</td>\n",
       "    </tr>\n",
       "    <tr>\n",
       "      <th>8</th>\n",
       "      <td>U740NC2 (NEW SPRUCE CLAY ASH)</td>\n",
       "      <td>139,000원</td>\n",
       "      <td>5.0</td>\n",
       "      <td>4개</td>\n",
       "      <td>[220, 225, 230, 235, 240, 245, 250, 255, 260, 265, 270, 275, 280, 285, 290]</td>\n",
       "      <td>D(보통)</td>\n",
       "    </tr>\n",
       "  </tbody>\n",
       "</table>\n",
       "</div>"
      ],
      "text/plain": [
       "                          shoe name     price ratings rating count  \\\n",
       "No                                                                   \n",
       "1                          M1906REH  179,000원     4.9       1,312개   \n",
       "2   U740NW2 (WHITE SILVER METALLIC)  139,000원     5.0           4개   \n",
       "3                   Kave / SD2401BE  149,000원     4.9         130개   \n",
       "4                          MR530GMT  129,000원     4.9         502개   \n",
       "5           프레쉬폼x 1080 V14 (남성, 2E)  199,000원     4.9         587개   \n",
       "6                          MR530DAM  129,000원     4.9         297개   \n",
       "7           프레쉬폼x 1080 V14 (남성, 2E)  199,000원     4.9         587개   \n",
       "8     U740NC2 (NEW SPRUCE CLAY ASH)  139,000원     5.0           4개   \n",
       "\n",
       "                                                                 available size  \\\n",
       "No                                                                                \n",
       "1                  [220, 225, 230, 235, 240, 245, 250, 255, 260, 270, 275, 280]   \n",
       "2   [220, 225, 230, 235, 240, 245, 250, 255, 260, 265, 270, 275, 280, 285, 300]   \n",
       "3                                                [230, 240, 250, 260, 270, 280]   \n",
       "4                                           [220, 225, 230, 235, 245, 255, 275]   \n",
       "5                            [250, 255, 260, 265, 270, 275, 280, 285, 290, 295]   \n",
       "6                                                     [220, 225, 230, 235, 240]   \n",
       "7                                 [250, 255, 260, 265, 270, 275, 280, 285, 290]   \n",
       "8   [220, 225, 230, 235, 240, 245, 250, 255, 260, 265, 270, 275, 280, 285, 290]   \n",
       "\n",
       "   foot width  \n",
       "No             \n",
       "1       D(보통)  \n",
       "2       D(보통)  \n",
       "3       M(보통)  \n",
       "4       D(보통)  \n",
       "5   2E(약간 넓음)  \n",
       "6       D(보통)  \n",
       "7   2E(약간 넓음)  \n",
       "8       D(보통)  "
      ]
     },
     "execution_count": 55,
     "metadata": {},
     "output_type": "execute_result"
    }
   ],
   "source": [
    "driver = wb.Chrome()\n",
    "driver.maximize_window()\n",
    "driver.get('https://www.nbkorea.com/product/featuredList.action?cateGrpCode=250100&cIdx=1385')\n",
    "time.sleep(2)\n",
    "\n",
    "# 데이터프레임으로 만들 리스트 생성\n",
    "name_list, rating_list, rating_num_list, price_list, size_avail_list, foot_width_list = [],[],[],[],[],[]\n",
    "\n",
    "try:\n",
    "    for i in tqdm(range(8)):\n",
    "        img = driver.find_elements(By.CSS_SELECTOR,'img#selGoods') # 여기다 써야 반복문이 돌아갈 때마다 이미지에 접근한다!\n",
    "        img[i].click()\n",
    "        time.sleep(2)\n",
    "        \n",
    "        name = driver.find_element(By.CSS_SELECTOR,'#displayName')\n",
    "        rating = driver.find_element(By.CSS_SELECTOR,'.crema_product_reviews_score__container')\n",
    "        rating_num = driver.find_element(By.CSS_SELECTOR,'.review.crema-product-reviews-count.crema-applied')\n",
    "        size = driver.find_elements(By.CSS_SELECTOR,'#optSizeSection .items > li > input')\n",
    "        price = driver.find_element(By.CSS_SELECTOR,'.won')\n",
    "        foot_width = driver.find_element(By.CSS_SELECTOR,'#optWidthSection > ul > li > label')\n",
    "\n",
    "        name_list.append(name.text)\n",
    "        rating_list.append(rating.text)\n",
    "        rating_num_list.append(rating_num.text[1:-1] + \"개\")\n",
    "        price_list.append(price.text)\n",
    "        foot_width_list.append(foot_width.text)\n",
    "        \n",
    "        size_avail = []\n",
    "    \n",
    "        for i in size:\n",
    "            input_id = i.get_attribute('id')\n",
    "            # lable태그의 for 속성에 들어갈 size_~는 id값에 동일하게 있으므로 아래에서 활용하기 위해 추출\n",
    "            is_disabled = i.get_attribute('disabled')\n",
    "            # label의 for 속성에 접근\n",
    "            label = driver.find_element(By.CSS_SELECTOR, f'label[for = \"{input_id}\"]')\n",
    "            label_text = label.text.strip()\n",
    "            \n",
    "            if not is_disabled:\n",
    "                size_avail.append(label_text)\n",
    "\n",
    "        size_avail_list.append(size_avail)\n",
    "        driver.back()\n",
    "        time.sleep(2)\n",
    "except:\n",
    "    print('error occurred')\n",
    "\n",
    "print('number of data collected: ', len(name_list),  len(price_list), len(rating_list), len(rating_num_list), len(size_avail_list), len(foot_width_list))\n",
    "\n",
    "driver.quit()\n",
    "\n",
    "shoes_dic = {\"shoe name\": name_list,\n",
    "             \"price\": price_list,\n",
    "             \"ratings\":rating_list,\n",
    "             \"rating count\":rating_num_list,\n",
    "             \"available size\":size_avail_list,\n",
    "             \"foot width\":foot_width_list}\n",
    "shoes_df = pd.DataFrame(shoes_dic)\n",
    "shoes_df.index = range(1,len(name_list)+1)\n",
    "shoes_df.index.name = 'No'\n",
    "shoes_df"
   ]
  },
  {
   "cell_type": "code",
   "execution_count": 53,
   "id": "16c72aff-93c7-463b-926b-9eb167bfce24",
   "metadata": {},
   "outputs": [
    {
     "name": "stderr",
     "output_type": "stream",
     "text": [
      "100%|████████████████████████████████████████████████████████████████████████████████████| 8/8 [00:59<00:00,  7.45s/it]\n"
     ]
    },
    {
     "name": "stdout",
     "output_type": "stream",
     "text": [
      "number of data collected:  8 8 8 8 8\n"
     ]
    },
    {
     "data": {
      "text/html": [
       "<div>\n",
       "<style scoped>\n",
       "    .dataframe tbody tr th:only-of-type {\n",
       "        vertical-align: middle;\n",
       "    }\n",
       "\n",
       "    .dataframe tbody tr th {\n",
       "        vertical-align: top;\n",
       "    }\n",
       "\n",
       "    .dataframe thead th {\n",
       "        text-align: right;\n",
       "    }\n",
       "</style>\n",
       "<table border=\"1\" class=\"dataframe\">\n",
       "  <thead>\n",
       "    <tr style=\"text-align: right;\">\n",
       "      <th></th>\n",
       "      <th>shoe name</th>\n",
       "      <th>price</th>\n",
       "      <th>ratings</th>\n",
       "      <th>rating count</th>\n",
       "      <th>foot width</th>\n",
       "    </tr>\n",
       "    <tr>\n",
       "      <th>No</th>\n",
       "      <th></th>\n",
       "      <th></th>\n",
       "      <th></th>\n",
       "      <th></th>\n",
       "      <th></th>\n",
       "    </tr>\n",
       "  </thead>\n",
       "  <tbody>\n",
       "    <tr>\n",
       "      <th>1</th>\n",
       "      <td>M1906REH</td>\n",
       "      <td>179,000원</td>\n",
       "      <td>4.9</td>\n",
       "      <td>1,312개</td>\n",
       "      <td>D(보통)</td>\n",
       "    </tr>\n",
       "    <tr>\n",
       "      <th>2</th>\n",
       "      <td>U740NW2 (WHITE SILVER METALLIC)</td>\n",
       "      <td>139,000원</td>\n",
       "      <td>5.0</td>\n",
       "      <td>4개</td>\n",
       "      <td>D(보통)</td>\n",
       "    </tr>\n",
       "    <tr>\n",
       "      <th>3</th>\n",
       "      <td>Kave / SD2401BE</td>\n",
       "      <td>149,000원</td>\n",
       "      <td>4.9</td>\n",
       "      <td>130개</td>\n",
       "      <td>M(보통)</td>\n",
       "    </tr>\n",
       "    <tr>\n",
       "      <th>4</th>\n",
       "      <td>MR530GMT</td>\n",
       "      <td>129,000원</td>\n",
       "      <td>4.9</td>\n",
       "      <td>502개</td>\n",
       "      <td>D(보통)</td>\n",
       "    </tr>\n",
       "    <tr>\n",
       "      <th>5</th>\n",
       "      <td>프레쉬폼x 1080 V14 (남성, 2E)</td>\n",
       "      <td>199,000원</td>\n",
       "      <td>4.9</td>\n",
       "      <td>587개</td>\n",
       "      <td>2E(약간 넓음)</td>\n",
       "    </tr>\n",
       "    <tr>\n",
       "      <th>6</th>\n",
       "      <td>MR530DAM</td>\n",
       "      <td>129,000원</td>\n",
       "      <td>4.9</td>\n",
       "      <td>297개</td>\n",
       "      <td>D(보통)</td>\n",
       "    </tr>\n",
       "    <tr>\n",
       "      <th>7</th>\n",
       "      <td>프레쉬폼x 1080 V14 (남성, 2E)</td>\n",
       "      <td>199,000원</td>\n",
       "      <td>4.9</td>\n",
       "      <td>587개</td>\n",
       "      <td>2E(약간 넓음)</td>\n",
       "    </tr>\n",
       "    <tr>\n",
       "      <th>8</th>\n",
       "      <td>U740NC2 (NEW SPRUCE CLAY ASH)</td>\n",
       "      <td>139,000원</td>\n",
       "      <td>5.0</td>\n",
       "      <td>4개</td>\n",
       "      <td>D(보통)</td>\n",
       "    </tr>\n",
       "  </tbody>\n",
       "</table>\n",
       "</div>"
      ],
      "text/plain": [
       "                          shoe name     price ratings rating count foot width\n",
       "No                                                                           \n",
       "1                          M1906REH  179,000원     4.9       1,312개      D(보통)\n",
       "2   U740NW2 (WHITE SILVER METALLIC)  139,000원     5.0           4개      D(보통)\n",
       "3                   Kave / SD2401BE  149,000원     4.9         130개      M(보통)\n",
       "4                          MR530GMT  129,000원     4.9         502개      D(보통)\n",
       "5           프레쉬폼x 1080 V14 (남성, 2E)  199,000원     4.9         587개  2E(약간 넓음)\n",
       "6                          MR530DAM  129,000원     4.9         297개      D(보통)\n",
       "7           프레쉬폼x 1080 V14 (남성, 2E)  199,000원     4.9         587개  2E(약간 넓음)\n",
       "8     U740NC2 (NEW SPRUCE CLAY ASH)  139,000원     5.0           4개      D(보통)"
      ]
     },
     "execution_count": 53,
     "metadata": {},
     "output_type": "execute_result"
    }
   ],
   "source": [
    "driver = wb.Chrome()\n",
    "driver.maximize_window()\n",
    "time.sleep(2)\n",
    "driver.get('https://www.nbkorea.com/product/featuredList.action?cateGrpCode=250100&cIdx=1385')\n",
    "time.sleep(2)\n",
    "\n",
    "# 데이터프레임으로 만들 리스트 생성\n",
    "name_list, rating_list, rating_num_list, price_list, foot_width_list = [],[],[],[],[]\n",
    "\n",
    "try:\n",
    "    for i in tqdm(range(8)):\n",
    "        img = driver.find_elements(By.CSS_SELECTOR,'img#selGoods') # 여기다 써야 반복문이 돌아갈 때마다 이미지에 접근한다!\n",
    "        img[i].click()\n",
    "        time.sleep(2)\n",
    "        \n",
    "        name = driver.find_element(By.CSS_SELECTOR,'#displayName')\n",
    "        name_list.append(name.text)\n",
    "        \n",
    "        rating = driver.find_element(By.CSS_SELECTOR,'.crema_product_reviews_score__container')\n",
    "        rating_list.append(rating.text)\n",
    "        \n",
    "        rating_num = driver.find_element(By.CSS_SELECTOR,'.review.crema-product-reviews-count.crema-applied')\n",
    "        rating_num_list.append(rating_num.text[1:-1] + \"개\")\n",
    "        \n",
    "        price = driver.find_element(By.CSS_SELECTOR,'.won')\n",
    "        price_list.append(price.text)\n",
    "        \n",
    "        foot_width = driver.find_element(By.CSS_SELECTOR,'#optWidthSection > ul > li > label')\n",
    "        foot_width_list.append(foot_width.text)\n",
    "        \n",
    "        driver.back()\n",
    "        time.sleep(2)\n",
    "except:\n",
    "    print('error occurred')\n",
    "\n",
    "print('number of data collected: ', len(name_list), len(rating_list), len(rating_num_list),  len(price_list), len(foot_width_list))\n",
    "\n",
    "driver.quit()\n",
    "\n",
    "shoes_dic = {\"shoe name\": name_list,\n",
    "             \"price\": price_list,\n",
    "             \"ratings\":rating_list,\n",
    "             \"rating count\":rating_num_list,\n",
    "             \"foot width\":foot_width_list}\n",
    "shoes_df = pd.DataFrame(shoes_dic)\n",
    "shoes_df.index = range(1,len(name_list)+1)\n",
    "shoes_df.index.name = 'No'\n",
    "shoes_df"
   ]
  },
  {
   "cell_type": "code",
   "execution_count": 49,
   "id": "59d485e9-f267-490a-bc51-d3a6edba8120",
   "metadata": {},
   "outputs": [
    {
     "name": "stderr",
     "output_type": "stream",
     "text": [
      "100%|████████████████████████████████████████████████████████████████████████████████████| 8/8 [00:58<00:00,  7.34s/it]\n"
     ]
    },
    {
     "name": "stdout",
     "output_type": "stream",
     "text": [
      "수집된 데이터 개수 확인 :\n",
      "8 8 8 8 8\n"
     ]
    },
    {
     "data": {
      "text/html": [
       "<div>\n",
       "<style scoped>\n",
       "    .dataframe tbody tr th:only-of-type {\n",
       "        vertical-align: middle;\n",
       "    }\n",
       "\n",
       "    .dataframe tbody tr th {\n",
       "        vertical-align: top;\n",
       "    }\n",
       "\n",
       "    .dataframe thead th {\n",
       "        text-align: right;\n",
       "    }\n",
       "</style>\n",
       "<table border=\"1\" class=\"dataframe\">\n",
       "  <thead>\n",
       "    <tr style=\"text-align: right;\">\n",
       "      <th></th>\n",
       "      <th>상품명</th>\n",
       "      <th>리뷰 평점</th>\n",
       "      <th>리뷰 개수</th>\n",
       "      <th>구매가능 사이즈</th>\n",
       "      <th>발볼</th>\n",
       "    </tr>\n",
       "    <tr>\n",
       "      <th>No</th>\n",
       "      <th></th>\n",
       "      <th></th>\n",
       "      <th></th>\n",
       "      <th></th>\n",
       "      <th></th>\n",
       "    </tr>\n",
       "  </thead>\n",
       "  <tbody>\n",
       "    <tr>\n",
       "      <th>1</th>\n",
       "      <td>M1906REH</td>\n",
       "      <td>4.9</td>\n",
       "      <td>1,312개</td>\n",
       "      <td>[220, 225, 230, 235, 240, 245, 250, 255, 260, 270, 275, 280]</td>\n",
       "      <td>D(보통)</td>\n",
       "    </tr>\n",
       "    <tr>\n",
       "      <th>2</th>\n",
       "      <td>U740NW2 (WHITE SILVER METALLIC)</td>\n",
       "      <td>5.0</td>\n",
       "      <td>4개</td>\n",
       "      <td>[220, 225, 230, 235, 240, 245, 250, 255, 260, 265, 270, 275, 280, 285, 300]</td>\n",
       "      <td>D(보통)</td>\n",
       "    </tr>\n",
       "    <tr>\n",
       "      <th>3</th>\n",
       "      <td>Kave / SD2401BE</td>\n",
       "      <td>4.9</td>\n",
       "      <td>130개</td>\n",
       "      <td>[230, 240, 250, 260, 270, 280]</td>\n",
       "      <td>M(보통)</td>\n",
       "    </tr>\n",
       "    <tr>\n",
       "      <th>4</th>\n",
       "      <td>MR530GMT</td>\n",
       "      <td>4.9</td>\n",
       "      <td>502개</td>\n",
       "      <td>[220, 225, 230, 235, 245, 255, 275]</td>\n",
       "      <td>D(보통)</td>\n",
       "    </tr>\n",
       "    <tr>\n",
       "      <th>5</th>\n",
       "      <td>프레쉬폼x 1080 V14 (남성, 2E)</td>\n",
       "      <td>4.9</td>\n",
       "      <td>586개</td>\n",
       "      <td>[250, 255, 260, 265, 270, 275, 280, 285, 290, 295]</td>\n",
       "      <td>2E(약간 넓음)</td>\n",
       "    </tr>\n",
       "    <tr>\n",
       "      <th>6</th>\n",
       "      <td>MR530DAM</td>\n",
       "      <td>4.9</td>\n",
       "      <td>297개</td>\n",
       "      <td>[220, 225, 230, 235, 240]</td>\n",
       "      <td>D(보통)</td>\n",
       "    </tr>\n",
       "    <tr>\n",
       "      <th>7</th>\n",
       "      <td>프레쉬폼x 1080 V14 (남성, 2E)</td>\n",
       "      <td>4.9</td>\n",
       "      <td>586개</td>\n",
       "      <td>[250, 255, 260, 265, 270, 275, 280, 285, 290]</td>\n",
       "      <td>2E(약간 넓음)</td>\n",
       "    </tr>\n",
       "    <tr>\n",
       "      <th>8</th>\n",
       "      <td>U740NC2 (NEW SPRUCE CLAY ASH)</td>\n",
       "      <td>5.0</td>\n",
       "      <td>4개</td>\n",
       "      <td>[220, 225, 230, 235, 240, 245, 250, 255, 260, 265, 270, 275, 280, 285, 290]</td>\n",
       "      <td>D(보통)</td>\n",
       "    </tr>\n",
       "  </tbody>\n",
       "</table>\n",
       "</div>"
      ],
      "text/plain": [
       "                                상품명 리뷰 평점   리뷰 개수  \\\n",
       "No                                                  \n",
       "1                          M1906REH   4.9  1,312개   \n",
       "2   U740NW2 (WHITE SILVER METALLIC)   5.0      4개   \n",
       "3                   Kave / SD2401BE   4.9    130개   \n",
       "4                          MR530GMT   4.9    502개   \n",
       "5           프레쉬폼x 1080 V14 (남성, 2E)   4.9    586개   \n",
       "6                          MR530DAM   4.9    297개   \n",
       "7           프레쉬폼x 1080 V14 (남성, 2E)   4.9    586개   \n",
       "8     U740NC2 (NEW SPRUCE CLAY ASH)   5.0      4개   \n",
       "\n",
       "                                                                       구매가능 사이즈  \\\n",
       "No                                                                                \n",
       "1                  [220, 225, 230, 235, 240, 245, 250, 255, 260, 270, 275, 280]   \n",
       "2   [220, 225, 230, 235, 240, 245, 250, 255, 260, 265, 270, 275, 280, 285, 300]   \n",
       "3                                                [230, 240, 250, 260, 270, 280]   \n",
       "4                                           [220, 225, 230, 235, 245, 255, 275]   \n",
       "5                            [250, 255, 260, 265, 270, 275, 280, 285, 290, 295]   \n",
       "6                                                     [220, 225, 230, 235, 240]   \n",
       "7                                 [250, 255, 260, 265, 270, 275, 280, 285, 290]   \n",
       "8   [220, 225, 230, 235, 240, 245, 250, 255, 260, 265, 270, 275, 280, 285, 290]   \n",
       "\n",
       "           발볼  \n",
       "No             \n",
       "1       D(보통)  \n",
       "2       D(보통)  \n",
       "3       M(보통)  \n",
       "4       D(보통)  \n",
       "5   2E(약간 넓음)  \n",
       "6       D(보통)  \n",
       "7   2E(약간 넓음)  \n",
       "8       D(보통)  "
      ]
     },
     "execution_count": 49,
     "metadata": {},
     "output_type": "execute_result"
    }
   ],
   "source": [
    "# 강사님 코드\n",
    "\n",
    "driver = wb.Chrome()\n",
    "driver.maximize_window()\n",
    "time.sleep(2)\n",
    "driver.get(\"https://www.nbkorea.com/product/featuredList.action?cateGrpCode=250100&cIdx=1385\")\n",
    "time.sleep(2)\n",
    "# 각 상품들의 세부정보를 담아줄 빈 리스트 생성\n",
    "title_list, mean_rating_review_list, enabled_size_list, foot_width_list, cnt_reviews_list = [], [], [], [], []\n",
    "try :\n",
    "    for i in tqdm(range(8)) :\n",
    "        imgs = driver.find_elements(By.CSS_SELECTOR, \"a.pro_area > img.img_goods\")\n",
    "        imgs[i].click()\n",
    "        time.sleep(2)\n",
    "        title = driver.find_element(By.CSS_SELECTOR, 'h2.title')\n",
    "        title_list.append(title.text)\n",
    "        mean_rating_review = driver.find_element(By.CSS_SELECTOR, 'div.crema_product_reviews_score__container')\n",
    "        mean_rating_review_list.append(mean_rating_review.text)\n",
    "        size = driver.find_elements(By.CSS_SELECTOR, '#optSizeSection > ul.items > li > input')\n",
    "        enabled_size, disabled_size = [], []\n",
    "        for j in size :\n",
    "            input_id = j.get_attribute(\"id\")\n",
    "            is_disabled = j.get_attribute(\"disabled\")\n",
    "            label = driver.find_element(By.CSS_SELECTOR, f'label[for=\"{input_id}\"]')\n",
    "            label_text = label.text.strip()\n",
    "            if is_disabled :\n",
    "                disabled_size.append(label_text)\n",
    "            else :\n",
    "                enabled_size.append(label_text)\n",
    "        enabled_size_list.append(enabled_size)   # 구매가능한 사이즈는 원래 리스트였으므로 text없이 그냥 리스트로 리스트에 추가\n",
    "        foot_width = driver.find_element(By.CSS_SELECTOR, '#optWidthSection > ul > li > label')\n",
    "        foot_width_list.append(foot_width.text)\n",
    "        cnt_reviews = driver.find_element(By.CSS_SELECTOR, 'a.crema-product-reviews-count.crema-applied')\n",
    "        cnt_reviews_list.append(cnt_reviews.text[1:-1]+'개')\n",
    "        driver.back()\n",
    "        time.sleep(2)\n",
    "except :\n",
    "    print(\"데이터 수집 중 예기치 못한 문제 발생!\")\n",
    "print(\"수집된 데이터 개수 확인 :\")\n",
    "print(len(title_list), len(mean_rating_review_list), len(cnt_reviews_list), len(enabled_size_list), len(foot_width_list))\n",
    "driver.quit()\n",
    "# 데이터 프레임 작업\n",
    "newbal_dict = {\"상품명\":title_list, \"리뷰 평점\":mean_rating_review_list, \"리뷰 개수\":cnt_reviews_list,\n",
    "               \"구매가능 사이즈\":enabled_size_list, \"발볼\":foot_width_list}\n",
    "newbal_df = pd.DataFrame(newbal_dict, index=range(1,len(title_list)+1))\n",
    "newbal_df.index.name = \"No\"\n",
    "pd.set_option('display.max_colwidth', None)\n",
    "newbal_df"
   ]
  },
  {
   "cell_type": "code",
   "execution_count": null,
   "id": "22f2f425-d51e-4ee4-ac14-6493b045cee6",
   "metadata": {},
   "outputs": [],
   "source": []
  }
 ],
 "metadata": {
  "kernelspec": {
   "display_name": "Python 3 (ipykernel)",
   "language": "python",
   "name": "python3"
  },
  "language_info": {
   "codemirror_mode": {
    "name": "ipython",
    "version": 3
   },
   "file_extension": ".py",
   "mimetype": "text/x-python",
   "name": "python",
   "nbconvert_exporter": "python",
   "pygments_lexer": "ipython3",
   "version": "3.12.4"
  }
 },
 "nbformat": 4,
 "nbformat_minor": 5
}
