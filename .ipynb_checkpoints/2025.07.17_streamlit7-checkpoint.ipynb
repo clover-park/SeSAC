{
 "cells": [
  {
   "cell_type": "markdown",
   "id": "0b1bb4d1-4d2b-4b2c-a88e-bbcc1747cb30",
   "metadata": {},
   "source": [
    "## 네이버 검색 API를 활용하여 뉴스를 크롤링하고 본문 키워드를 워드클라우드로 시각화\n",
    "### 네이버 검색 API 활용\n",
    "- API(Application Programming Interface): 두 소프트웨어(사용자, 제공자)가 서로 통신할 수 있게 해주는 메커니즘과 해당 기능을 사용할 수 있게 하는 프로그램\n",
    "- Library와의 차이점은 Library는 특정 기능을 구현하기 위한 코드의 집합으로 내부 코드를 이해하고 사용해야 하지만, API 는 통신이 가능한 상황에서 간단한 명령으로 필요한 기능들을 상대적으로 쉽게 구현할 수 있게 지원하므로 사용하기가 수월함\n",
    "- API는 비용이 드는 경우가 많음. 무료로 쓰는 건 횟수 제한이 있음.\n",
    "- 네이버 개발자 센터 페이지 : https://developers.naver.com/main/\n",
    "- 네이버 API: 뉴스, 백과사전, 블로그, 쇼핑, 웹 문서, 전문지식, 지식IN, 책, 카페 등 분야별로 네이버 검색 결과를 JSON형태로 변환하는 기능을 지원(검색 API의 하루 호출 한도는 25,000회)\n",
    "- JSON(Javascript Object Notation)\n",
    "  - JS객체 문법을 따르는 텍스트 기반의 데이터 포맷으로 여러개의 딕셔너리들이 계층적으로 분포하는 형태,인간이 읽고 쓰기 쉽고, 기계가 구문을 분석하기 쉽게 경량화된 데이터 교환 형식\n",
    "  - 다른 프로그래밍 언어에서도 많이 쓰고, 파이썬에서는 JSON을 딕셔너리로 변환하여 주로 사용함\n",
    "  - 반드시 \"\"로 묶어줘야함."
   ]
  },
  {
   "cell_type": "markdown",
   "id": "9f4a879c-a6d5-4b1e-98bf-e54b058ad13a",
   "metadata": {},
   "source": [
    "### 네이버 검색 API 호출 및 검색 결과 확인"
   ]
  },
  {
   "cell_type": "code",
   "execution_count": 7,
   "id": "ef2799ee-a6a9-4b50-868a-69fc01dcf762",
   "metadata": {},
   "outputs": [
    {
     "name": "stdout",
     "output_type": "stream",
     "text": [
      "my_json 자료형:  <class 'dict'>\n",
      "my_json 키 종류:  dict_keys(['lastBuildDate', 'total', 'start', 'display', 'items'])\n",
      "my_json items 개수:  100\n",
      "첫 번째 뉴스 키 종류 dict_keys(['title', 'originallink', 'link', 'description', 'pubDate'])\n"
     ]
    }
   ],
   "source": [
    "import json\n",
    "import requests as req\n",
    "\n",
    "client_id = 'ZpPuKZQn0p1EAdPUtlRd'\n",
    "client_secret = '9ey2xWS2ZQ'\n",
    "\n",
    "keyword = '경제'\n",
    "display_amount = 100\n",
    "start_position = 1\n",
    "\n",
    "# 기본 url에 각 파라미터들을 쿼리스트링(?로 시작해서 여러 파라미터들을 &로 이어주는 형식) 형식으로 전달\n",
    "# query: 검색어 작성(필수!)\n",
    "# display: 한번에 표시할 검색 결과 개수(기본값:10, 최댓값: 100)\n",
    "# start: 검색 시작 위치(기본값: 1, 최댓값: 1000)\n",
    "url = f'https://openapi.naver.com/v1/search/news.json?query={keyword}&display={display_amount}&start={start_position}'\n",
    "\n",
    "# 네이버 API 호출시 HTTP header에 client_id와 client_secret을 포함해서 전송해야함(네이버 API사용을 위한 유저 인증과정)\n",
    "N_A = {\"X-Naver-Client-Id\":client_id, \"X-Naver-Client-Secret\":client_secret}\n",
    "\n",
    "# 웹 통신 요청\n",
    "res = req.get(url, headers=N_A)\n",
    "\n",
    "# 파싱(text를 json코드로 전환)\n",
    "my_json = json.loads(res.text)\n",
    "\n",
    "print('my_json 자료형: ', type(my_json)) # 딕셔너리\n",
    "print('my_json 키 종류: ', my_json.keys()) # 딕셔너리 키 값들\n",
    "print('my_json items 개수: ', len(my_json['items'])) # 아이템 개수\n",
    "print('첫 번째 뉴스 키 종류', my_json['items'][0].keys())"
   ]
  },
  {
   "cell_type": "code",
   "execution_count": null,
   "id": "103c7c80-5486-4c0c-ba2f-1ab08d624938",
   "metadata": {},
   "outputs": [],
   "source": []
  }
 ],
 "metadata": {
  "kernelspec": {
   "display_name": "Python 3 (ipykernel)",
   "language": "python",
   "name": "python3"
  },
  "language_info": {
   "codemirror_mode": {
    "name": "ipython",
    "version": 3
   },
   "file_extension": ".py",
   "mimetype": "text/x-python",
   "name": "python",
   "nbconvert_exporter": "python",
   "pygments_lexer": "ipython3",
   "version": "3.12.4"
  }
 },
 "nbformat": 4,
 "nbformat_minor": 5
}
