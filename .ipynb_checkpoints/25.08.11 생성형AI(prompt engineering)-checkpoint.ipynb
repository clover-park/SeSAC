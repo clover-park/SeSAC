{
 "cells": [
  {
   "cell_type": "markdown",
   "id": "e7a513b2-4ebd-4afd-bb13-b23527b4ff0b",
   "metadata": {},
   "source": [
    "## 기본적은 prompt 구조 이해\n",
    "prompt에는 3가지 종류의 역할이 존재\n",
    "1. System prompt: 사용자 prompt를 입력받기 이전에 정의되는 전제 및 규칙prompt\n",
    "- user prompt를 GPT모델에게 전달하기 전 관련된 맥락이나 응답 지침 등을 설정하기 위해 사용\n",
    "- 예시: 출력 형태 지정(JSON, 일반 자연어, 파일 등)\n",
    "- 페르소나(투자전문가, 예술가 등) 및 어조 설정(공손하게, 전문적인 등)\n",
    "- 모델이 지켜야 할 규칙들 설정\n",
    "- 기타 base 가 되는 외부 정보 및 지식 주입\n",
    "\n",
    "2. User prompt: 사용자가 GPT모델에게 실제로 전달하는 질문 prompt\n",
    "- \n",
    "3. Assistant prompt: GPT 모델이 응답하는 prompt\n",
    "\n",
    "개발자들이 언어모델의 성능을 최대로 끌어내기 위해 사용자의 질문을 모델이 이해하기 쉽게 변환시켜주는 용도로도 사용하며\n",
    "ChatGPT포함 웬만한 LLM모델 서비스들은 기본적으로 system prompt가 붙어 있음."
   ]
  },
  {
   "cell_type": "code",
   "execution_count": 3,
   "id": "54a73e47-acff-4ed2-88db-0bb99650ce26",
   "metadata": {},
   "outputs": [],
   "source": [
    "from openai import OpenAI\n",
    "from getpass import getpass"
   ]
  },
  {
   "cell_type": "code",
   "execution_count": 5,
   "id": "8669bcf5-4b25-4b0d-a935-877a2f329dbf",
   "metadata": {},
   "outputs": [
    {
     "name": "stdin",
     "output_type": "stream",
     "text": [
      "OpenAI API key :  ········\n"
     ]
    }
   ],
   "source": [
    "MY_API_KEY = getpass.getpass(\"OpenAI API key : \")"
   ]
  },
  {
   "cell_type": "code",
   "execution_count": 7,
   "id": "831b102c-f25a-41c2-b93a-3d1007878a69",
   "metadata": {},
   "outputs": [],
   "source": [
    "client = OpenAI(api_key=MY_API_KEY)"
   ]
  },
  {
   "cell_type": "code",
   "execution_count": 13,
   "id": "690a1aae-32ab-4dc1-bb06-dce7d49f81f7",
   "metadata": {},
   "outputs": [
    {
     "name": "stdout",
     "output_type": "stream",
     "text": [
      "AARRR is a framework used in marketing to help businesses understand and improve their customer journey. It stands for:\n",
      "\n",
      "1. **Acquisition**: Getting new customers to visit your website or use your product.\n",
      "2. **Activation**: Making sure those customers have a good experience and find value in your product.\n",
      "3. **Retention**: Keeping those customers coming back and using your product regularly.\n",
      "4. **Revenue**: Making money from those customers through purchases or subscriptions.\n",
      "5. **Referral**: Encouraging happy customers to tell their friends about your product.\n",
      "\n",
      "By focusing on each step of the AARRR framework, businesses can improve their marketing strategies and grow their customer base.\n"
     ]
    }
   ],
   "source": [
    "completion = client.chat.completions.create(\n",
    "    model = 'gpt-3.5-turbo',\n",
    "    messages = [{'role':'system','content':'You area a marketing expert. You must explain professionally, precisely, and be as easiest as possible as if you are explaining to a primary school student.'},\n",
    "               {'role':'user','content':'What is AARRR?'}],\n",
    "                temperature = 0\n",
    ")\n",
    "print(completion.choices[0].message.content)"
   ]
  },
  {
   "cell_type": "code",
   "execution_count": 17,
   "id": "93052275-1336-4ad3-a173-6499486a0997",
   "metadata": {},
   "outputs": [
    {
     "name": "stdout",
     "output_type": "stream",
     "text": [
      "AARRR is a framework that helps businesses understand and improve their marketing strategies. It stands for Acquisition, Activation, Retention, Revenue, and Referral. \n",
      "\n",
      "- Acquisition: This is when a business attracts new customers to their product or service.\n",
      "- Activation: This is when a new customer tries out the product or service for the first time and has a positive experience.\n",
      "- Retention: This is when a customer continues to use the product or service over time and becomes a loyal customer.\n",
      "- Revenue: This is when a customer makes a purchase or pays for the product or service.\n",
      "- Referral: This is when a satisfied customer recommends the product or service to others.\n",
      "\n",
      "By focusing on each of these steps, businesses can improve their marketing efforts and grow their customer base.\n"
     ]
    }
   ],
   "source": [
    "# system prompt를 지정해줄 수 있지만 user prompt에 내용을 같이 작성해도 무방하다.\n",
    "question = \"\"\"You area a marketing expert. You must explain professionally, precisely, \n",
    "and be as easiest and kindest as possible as if you are explaining to a primary school student.\n",
    "What is AARRR?\"\"\"\n",
    "\n",
    "completion = client.chat.completions.create(\n",
    "    model = 'gpt-3.5-turbo',\n",
    "    messages =[{'role':'user','content':question}],\n",
    "                temperature = 0\n",
    ")\n",
    "print(completion.choices[0].message.content)"
   ]
  },
  {
   "cell_type": "markdown",
   "id": "9e88437c-ebdc-4bcc-ada2-09be0b36c7ff",
   "metadata": {},
   "source": [
    "## Stream 객체\n",
    "- stream = True로 지정시 GPT가 문장을 모두 완성하여 출력하기 전에 각 토큰별로 완성되는데로 바로바로 보게 할 수 있음."
   ]
  },
  {
   "cell_type": "code",
   "execution_count": 23,
   "id": "35f6c7c5-6481-4052-b17d-998506ff8018",
   "metadata": {},
   "outputs": [
    {
     "name": "stdout",
     "output_type": "stream",
     "text": [
      "AARRR is a framework used in digital marketing and product development to measure and optimize the customer journey. It stands for:\n",
      "\n",
      "- Acquisition: Getting users to visit your website or download your app\n",
      "- Activation: Getting users to sign up or create an account\n",
      "- Retention: Keeping users engaged and coming back to your product\n",
      "- Revenue: Generating revenue from users through purchases or subscriptions\n",
      "- Referral: Encouraging users to refer others to your product\n",
      "\n",
      "The AARRR framework helps businesses identify key metrics at each stage of the customer journey and make data-driven decisions to improve their overall performance."
     ]
    }
   ],
   "source": [
    "completion_stream = client.chat.completions.create(\n",
    "    model = 'gpt-3.5-turbo',\n",
    "    messages = [{'role':'user','content':'What is AARRR?'}],\n",
    "                temperature = 0,\n",
    "                stream = True\n",
    ")\n",
    "# stream을 설정하게 되면 출력 형태가 ChatCompletionChunk객체로 변환되고\n",
    "# i를 출력해보면 각 토큰들이 하나씩 생성되어 있음.\n",
    "for i in completion_stream:\n",
    "    content = i.choices[0].delta.content # 실제 응답 토큰 추출\n",
    "    if content is not None: # content에 내용이 있다면\n",
    "        print(content, end='') # 내용을 이어붙여서 출력"
   ]
  },
  {
   "cell_type": "markdown",
   "id": "abecb128-4aa7-42fd-9619-563d918ad1ac",
   "metadata": {},
   "source": [
    "## 프롬프트 엔지니어링에서 기본적으로 생각해야할 점\n",
    "1. GPT모델의 출력값은 입력값에 대한 의존도가 매우 높음\n",
    "   - 잘 입력할 거 같은데...원하는 결과가 안 나왔다면 입력기 잘못된거임. 입력이 모호하거나 응답에 필요한 내용이 빠진 걸 수 있음.\n",
    "2. 자연어 질문을 기반으로 하기 때문에 절대적으로 성능 좋은 prompt를 단정지을 수 없음.\n",
    "    - 입력 문장에 대한 문맥을 파악하고 새로운 문장을 생성할 때 그때그때 내부 연산이 달라질 수 있음.\n",
    "    - 대화에서 성능이 좋다는 건 사용자가 만족해야하는 건데, 이는 매우 주관적임.\n",
    "    - 프롬프트 엔지니어링은 task에 맞는 여러번의 테스트가 필수적이고 이를 통한 반복적이 개선이 필요함."
   ]
  },
  {
   "cell_type": "markdown",
   "id": "056646a8-fd72-40cf-912c-07c28ed37f03",
   "metadata": {},
   "source": [
    "## LLM 평가\n",
    "- 전통적인 Language Model의 평가 지표\n",
    "1. MMLU(Massive Multitask Language Understanding)\n",
    "   - 다양한 분야에 대해 질문 후 정답을 찾아내는 객관식 시험으로 평가\n",
    "2. HellaSwag\n",
    "   - 문장들을 주고 이어지는 마지막 문장으로 가장 적합한 문장들 4개 중 하나를 고르는 문제로 평가\n",
    "3. TruthfulQA\n",
    "   - 할루시네이션 측정용 데이터셋을 활용하며 주어진 문제에 대한 답이 맞는지 정확도를 측정하여 평가\n",
    "\n",
    "-> 위 평가지표들을 사용해서 평가할 수도 있지만 현재 우리가 진행하려는 QA task에 적합하다고 보기에는 애매 so, 다른 평가 기준 설정이 필요함. 일반적으로 실제 자연어 서비스에서는 해당 지표들만으로 점수가 높다고 바로 사용하지는 않고 실제 사용자 평가를 추가적으로 진행 후 적용함."
   ]
  },
  {
   "cell_type": "markdown",
   "id": "896ca6cb-e2ef-4d51-aa89-2f39500174d9",
   "metadata": {},
   "source": [
    "## Q&A task에 적합한 평가 방식\n",
    "1. Human Based Evaluation: 사람이 직접 평가, 성능이 가장 좋음.\n",
    "   - 전문가 블라인드 테스트: 각기 다른 LLM의 여러 답변 중에서 더 좋은 답변을 사람이 선택\n",
    "   - 명확한 결과로 성능을 판단하기 쉬움\n",
    "   - 많은 인력에 따른 비용과 시간이 필요\n",
    "   - LMSys사의 Chatbot Arena 평가\n",
    "     - 대표적인 Human Based 평가 방법 중 하나\n",
    "     - 동일한 질문에 대해 2개의 모델의 답변을 보고 승/패/무 투표 이후 모델명을 공개\n",
    "     - 사이트: https://chat.lmsys.org\n",
    "2. Model Based Evaluation: 다른 LLM이 평가\n",
    "   - 고성능 LLM을 통해 평가하는 방법(일반적으로 GPT-4o이상 급)\n",
    "   - 평가 방식에는 3가지가 존재\n",
    "     1. PairWise Comparison: 2개의 평가받은 모델에 같은 질문을 하고, 고성능 모델이 2개의 답변을 받아 둘 중 어떤 답변이 더 좋은지 또는 무승부인지 출력\n",
    "     2. Single Answer Grading: 질문과 답변이 있을 때 답변에 점수를 매기는 것\n",
    "     3. Reference-Guided Grading: 예시 답변을 주고 이와 비교하여 +, -로 상대적인 점수를 매김.\n",
    "3. Code Base Evaluation: 코드와 지표로 평가\n",
    "   - 우리에게 익숙한 코드/로직을 통한 평가법\n",
    "   - Accuracy, Precision, Recall, F1Score\n",
    "   - ROUGE(Recall-Oriented Understudy for Gisting Evaluation): 요약 및 자연어 생성을 평가\n",
    "   - BLUE(Bilingual Evaluation Understudy): 번역, 자연어 생성 등을 평가\n",
    "   - Human Based나 Model Based에 비해 실제 사용자의 만족과는 다소 거리가 있을 수 있음."
   ]
  },
  {
   "cell_type": "markdown",
   "id": "1ff077c7-5e69-4a59-bfac-8d548d53d924",
   "metadata": {},
   "source": [
    "## LLM benchmark 플랫폼: 인공지능 모델, 특히 LLM의 성능의 평가하기 이해 설계된 시스템\n",
    "1. MT-bench\n",
    "   - multi-turn 대화 능력을 평가하는 벤티마트(평가 시스템)\n",
    "   - 사용자의 지시를 정확하게 따르고 여러 차례의 이어지는 대화에서 일관된 응답을 제공하는 모델의 능력을 테스트\n",
    "   - 먼저 58명의 전문가가 모델의 응답을 평가하고 LLM을 심판으로 사용하여 사람의 평가와 일치하는지 검증\n",
    "   - multi-turn 대화: 한번의 질의응답이 아닌 이어지는 여러 질문들에 얼마나 잘 응답하는지를 평가하기 위해 사용\n",
    "   - 8개의 카테고리(작문, 역할놀이, 추출, 추론, 수학, 코딩, STEM, 인문 및 사회과학)의 80개의 고품질 질문으로 구성되어 있고 각 질문은 여러 차례의 응답을 요구하여 모델의 대화 지속능력을 평가\n",
    "2. "
   ]
  },
  {
   "cell_type": "markdown",
   "id": "30459e8e-350b-48da-bada-1547adf77862",
   "metadata": {},
   "source": [
    "### 논문을 근거로 해당 논문의 평가용 프롬프트를 사용하여 모델의 성능을 평가해보자.\n",
    "- gpt3.5와 gpt4의 응답을 비교해서 gpt4o에게 더 나은 응답이 무엇인지 질의하는 식"
   ]
  },
  {
   "cell_type": "code",
   "execution_count": 37,
   "id": "7346c5be-3ec8-4488-9671-7b5a04edb8de",
   "metadata": {},
   "outputs": [],
   "source": [
    "question = \"Why did dodo birds go extinct?\""
   ]
  },
  {
   "cell_type": "code",
   "execution_count": 39,
   "id": "38414ffa-bd41-4dd7-85b9-26166adb30ee",
   "metadata": {},
   "outputs": [
    {
     "name": "stdout",
     "output_type": "stream",
     "text": [
      "Dodo birds went extinct primarily due to human activities. When humans first arrived on the island of Mauritius in the 16th century, they brought with them invasive species such as rats, pigs, and monkeys that preyed on dodo eggs and competed with them for food. Additionally, humans hunted dodo birds for food and their feathers, which led to a rapid decline in their population. By the late 17th century, the dodo bird had become extinct.\n"
     ]
    }
   ],
   "source": [
    "completion = client.chat.completions.create(\n",
    "    model = 'gpt-3.5-turbo',\n",
    "    messages = [{'role':'user','content':question}],\n",
    "                temperature = 0\n",
    ")\n",
    "\n",
    "answer_a = completion.choices[0].message.content\n",
    "print(answer_a)"
   ]
  },
  {
   "cell_type": "code",
   "execution_count": 41,
   "id": "96af57a5-e6f2-4e87-aae8-04215cc43e59",
   "metadata": {},
   "outputs": [
    {
     "name": "stdout",
     "output_type": "stream",
     "text": [
      "Dodo birds, native to the island of Mauritius in the Indian Ocean, went extinct in the late 17th century, with the last widely accepted sighting occurring around 1662. The extinction of the dodo bird is primarily attributed to human activity. Here are the main factors that contributed to their extinction:\n",
      "\n",
      "1. **Human Hunting**: When Dutch sailors discovered Mauritius in 1598, they found that dodo birds were easy to catch because the birds had no natural fear of humans. Dodos were hunted for their meat by sailors and settlers.\n",
      "\n",
      "2. **Introduced Species**: Along with humans, other species such as pigs, rats, and monkeys were introduced to Mauritius. These animals competed with dodos for food resources and also preyed on their eggs and young, which were laid on the ground.\n",
      "\n",
      "3. **Habitat Destruction**: The clearing of forests for agriculture and settlement destroyed the natural habitat of the dodo, reducing the areas where they could live and find food.\n",
      "\n",
      "4. **Lack of Fear**: The dodo's lack of natural predators before human arrival meant that it had not developed fear responses, making it particularly vulnerable to hunting and predation by introduced species.\n",
      "\n",
      "The combination of these factors led to the rapid decline and eventual extinction of the dodo within less than a century after its discovery by Europeans. The dodo has since become a symbol of human-induced extinction and a reminder of the impact humans can have on other species.\n"
     ]
    }
   ],
   "source": [
    "completion2 = client.chat.completions.create(\n",
    "    model = 'gpt-4-turbo',\n",
    "    messages = [{'role':'user','content':question}],\n",
    "                temperature = 0\n",
    ")\n",
    "\n",
    "answer_b = completion2.choices[0].message.content\n",
    "print(answer_b)"
   ]
  },
  {
   "cell_type": "code",
   "execution_count": 43,
   "id": "bae9475f-699b-424c-935c-86b7d46f7225",
   "metadata": {},
   "outputs": [
    {
     "name": "stdout",
     "output_type": "stream",
     "text": [
      "[System]\n",
      "Please act as an impartial judge and evaluate the quality of the responses provided by two\n",
      "AI assistants to the user question displayed below. You should choose the assistant that\n",
      "follows the user's instructions and answers the user's question better. Your evaluation\n",
      "should consider factors such as the helpfulness, relevance, accuracy, depth, creativity,\n",
      "and level of detail of their responses. Begin your evaluation by comparing the two\n",
      "responses and provide a short explanation. Avoid any position biases and ensure that the\n",
      "order in which the responses were presented does not influence your decision. Do not allow\n",
      "the length of the responses to influence your evaluation. Do not favor certain names of\n",
      "the assistants. Be as objective as possible. After providing your explanation, output your\n",
      "final verdict by strictly following this format: \"[[A]]\" if assistant A is better, \"[[B]]\"\n",
      "if assistant B is better, and \"[[C]]\" for a tie.\n",
      "\n",
      "[User Question]\n",
      "Why did dodo birds go extinct?\n",
      "\n",
      "[The Start of Assistant A's Answer]\n",
      "Dodo birds went extinct primarily due to human activities. When humans first arrived on the island of Mauritius in the 16th century, they brought with them invasive species such as rats, pigs, and monkeys that preyed on dodo eggs and competed with them for food. Additionally, humans hunted dodo birds for food and their feathers, which led to a rapid decline in their population. By the late 17th century, the dodo bird had become extinct.\n",
      "[The End of Assistant A's Answer]\n",
      "\n",
      "[The Start of Assistant B's Answer]\n",
      "Dodo birds, native to the island of Mauritius in the Indian Ocean, went extinct in the late 17th century, with the last widely accepted sighting occurring around 1662. The extinction of the dodo bird is primarily attributed to human activity. Here are the main factors that contributed to their extinction:\n",
      "\n",
      "1. **Human Hunting**: When Dutch sailors discovered Mauritius in 1598, they found that dodo birds were easy to catch because the birds had no natural fear of humans. Dodos were hunted for their meat by sailors and settlers.\n",
      "\n",
      "2. **Introduced Species**: Along with humans, other species such as pigs, rats, and monkeys were introduced to Mauritius. These animals competed with dodos for food resources and also preyed on their eggs and young, which were laid on the ground.\n",
      "\n",
      "3. **Habitat Destruction**: The clearing of forests for agriculture and settlement destroyed the natural habitat of the dodo, reducing the areas where they could live and find food.\n",
      "\n",
      "4. **Lack of Fear**: The dodo's lack of natural predators before human arrival meant that it had not developed fear responses, making it particularly vulnerable to hunting and predation by introduced species.\n",
      "\n",
      "The combination of these factors led to the rapid decline and eventual extinction of the dodo within less than a century after its discovery by Europeans. The dodo has since become a symbol of human-induced extinction and a reminder of the impact humans can have on other species.\n",
      "[The End of Assistant B's Answer]\n"
     ]
    }
   ],
   "source": [
    "# MT-bech 논문의 평가용 프롬프트\n",
    "prompt = f\"\"\"[System]\n",
    "Please act as an impartial judge and evaluate the quality of the responses provided by two\n",
    "AI assistants to the user question displayed below. You should choose the assistant that\n",
    "follows the user's instructions and answers the user's question better. Your evaluation\n",
    "should consider factors such as the helpfulness, relevance, accuracy, depth, creativity,\n",
    "and level of detail of their responses. Begin your evaluation by comparing the two\n",
    "responses and provide a short explanation. Avoid any position biases and ensure that the\n",
    "order in which the responses were presented does not influence your decision. Do not allow\n",
    "the length of the responses to influence your evaluation. Do not favor certain names of\n",
    "the assistants. Be as objective as possible. After providing your explanation, output your\n",
    "final verdict by strictly following this format: \"[[A]]\" if assistant A is better, \"[[B]]\"\n",
    "if assistant B is better, and \"[[C]]\" for a tie.\n",
    "\n",
    "[User Question]\n",
    "{question}\n",
    "\n",
    "[The Start of Assistant A's Answer]\n",
    "{answer_a}\n",
    "[The End of Assistant A's Answer]\n",
    "\n",
    "[The Start of Assistant B's Answer]\n",
    "{answer_b}\n",
    "[The End of Assistant B's Answer]\"\"\"\n",
    "\n",
    "print(prompt)"
   ]
  },
  {
   "cell_type": "code",
   "execution_count": 45,
   "id": "134dc90e-6b14-4765-ab76-6652ec97b9a0",
   "metadata": {},
   "outputs": [
    {
     "name": "stdout",
     "output_type": "stream",
     "text": [
      "Both Assistant A and Assistant B provide explanations for the extinction of the dodo bird, attributing it primarily to human activities. However, there are differences in the depth and detail of their responses.\n",
      "\n",
      "Assistant A gives a concise explanation, mentioning the introduction of invasive species, human hunting, and the timeline of extinction. The response is accurate but lacks depth in terms of specific details about the factors leading to extinction.\n",
      "\n",
      "Assistant B, on the other hand, offers a more detailed response. It not only mentions human hunting and the introduction of invasive species but also elaborates on habitat destruction and the dodo's lack of fear as contributing factors. Additionally, Assistant B provides a brief historical context and explains the symbolic significance of the dodo's extinction.\n",
      "\n",
      "Overall, Assistant B's response is more comprehensive, providing a richer context and a more thorough explanation of the factors leading to the dodo's extinction.\n",
      "\n",
      "[[B]]\n"
     ]
    }
   ],
   "source": [
    "# gpt-4o 모델로 앞의 두 모델을 평가\n",
    "completion3 = client.chat.completions.create(\n",
    "    model = 'gpt-4o',\n",
    "    messages = [{'role':'user','content':prompt}],\n",
    "                temperature = 0\n",
    ")\n",
    "print(completion3.choices[0].message.content)"
   ]
  },
  {
   "cell_type": "code",
   "execution_count": 49,
   "id": "b6b0f4cd-a863-4941-a70a-b9b69bddcb89",
   "metadata": {},
   "outputs": [
    {
     "name": "stdout",
     "output_type": "stream",
     "text": [
      "Assistant B provides a more comprehensive and accurate explanation. It covers multiple contributing factors (hunting, introduced species, habitat destruction, and behavioral vulnerability), includes relevant context (location and timeline), and offers specific details like ground-nesting eggs. Assistant A gives a brief summary but omits habitat loss and includes a questionable claim about hunting for feathers. Overall, B is more thorough and precise.\n",
      "\n",
      "[[B]]\n"
     ]
    }
   ],
   "source": [
    "# gpt-5 모델로 앞의 두 모델을 평가\n",
    "# gpt-5는 추론 모델이라 temperature 사용 못 함. 시간 오래 걸림.\n",
    "completion4 = client.chat.completions.create(\n",
    "    model = 'gpt-5',\n",
    "    messages = [{'role':'user','content':prompt}]\n",
    ")\n",
    "print(completion4.choices[0].message.content)"
   ]
  },
  {
   "cell_type": "markdown",
   "id": "ca87f799-4fd7-4c8d-b263-b57005facfa6",
   "metadata": {},
   "source": [
    "## 장단점 비교\n",
    "1. Human Based Evaluation\n",
    "   - 통제된 환경을 가정했을 때 사람이 직접 평가하는 방법이라 안정적이고 신뢰가 높음.\n",
    "   - 다만 평가하는 인원이 불특정 다수일 경우 약간의 노이즈가 발생할 수 있음.\n",
    "   - 전문 분야의 경우 해당 전문가가 아닌 일반인이 평가할 경우 정확도 및 속도가 낮아질 수 있음.\n",
    "2. Model Based Evaluation\n",
    "   - 사람의 평가와 어느정도 유사한 수준의 평가를 내릴 수 있음.\n",
    "   - 평가를 위해 API 호출 횟수 및 토크 수가 늘어나는데 이는 평가 데이터가 굉장히 많다면 수백만원 이상은 금방 넘어갈 수 있어서 비용에 대한 부분을 생각해야함.\n",
    "3. Code Based Evaluation\n",
    "   - 위 방법들에 대해서 비용이 훨씬 적지만 task에 따라서 활용할 수 있는 범위가 제한적\n",
    "   - 사람이 만족할만한 답변을 선택하는데 있어서 신회도가 상대적으로 떨어지는 편\n",
    "## 결론\n",
    "- 각 task에 적합한 전문 인력들이 평가하는 방법이 가장 좋음\n",
    "- 그러나 현실적, 효율성 문제로 모델이 평가하는 방법도 충분히 좋음\n",
    "- 정량적 평가와 정성적 평가를 모두 진행하는 게 가장 이성적인 케이스\n",
    "- 실제 서비스로 봤을 때 언어 모델의 최종 평가 지표를 결국 사용자의 만족이 가장 중요함."
   ]
  },
  {
   "cell_type": "markdown",
   "id": "851b2761-8b85-4271-ad36-a02623e5e641",
   "metadata": {},
   "source": [
    "## prompt 엔지니어링 고급 기법 적용\n",
    "1. Few-shot: 참고할 수 있는 문제-정답 예시나 사례들을 프롬프트에 추가하여 질문\n",
    "2. Chain-of-thought: Few-shot에 추가로 문제 해결과정을 단계별로 모델에게 알려주면서 질문"
   ]
  },
  {
   "cell_type": "markdown",
   "id": "9b2e9ec1-29a5-472a-9b29-6cf5a84adb89",
   "metadata": {},
   "source": [
    "### zero-shot\n",
    "- 질문에 아무런 예시가 없는 상태"
   ]
  },
  {
   "cell_type": "code",
   "execution_count": 54,
   "id": "a8f96212-fc85-4df6-94fd-5ffb08522f25",
   "metadata": {},
   "outputs": [
    {
     "name": "stdout",
     "output_type": "stream",
     "text": [
      "Harper Lee wrote the book 'To Kill a Mockingbird'.\n"
     ]
    }
   ],
   "source": [
    "prompt = \"Q: Who wrote the book 'To Kill a Mockingbird'?\"\n",
    "\n",
    "completion = client.chat.completions.create(\n",
    "    model = 'gpt-3.5-turbo',\n",
    "    messages = [{'role':'user','content':prompt}],\n",
    "                temperature = 0\n",
    ")\n",
    "\n",
    "print(completion.choices[0].message.content)"
   ]
  },
  {
   "cell_type": "markdown",
   "id": "4e5f181c-28a0-4a85-b821-a5dcd7261f5a",
   "metadata": {},
   "source": [
    "## Few-shot\n",
    "- 질의-응답 예시 쌍을 1개 이상 프롬프트에 포함"
   ]
  },
  {
   "cell_type": "code",
   "execution_count": 57,
   "id": "8387fca4-0640-4c3a-923c-4896957a8b96",
   "metadata": {},
   "outputs": [
    {
     "name": "stdout",
     "output_type": "stream",
     "text": [
      "A: Harper Lee\n"
     ]
    }
   ],
   "source": [
    "prompt = \"\"\"\n",
    "Answer these question:\n",
    "Q: Who wrote the book 'To Kill a Mockingbird'?\n",
    "\n",
    "Below is an example for your reference.\n",
    "Q: Who sang 'Espresso'?\n",
    "A: Sabrina Carpenter\n",
    "\"\"\"\n",
    "# few-shot예시로 Espresso라는 노래를 부른 가수가 누군지 물어보고 응답은 사람 이름만 하도록 지정\n",
    "\n",
    "completion = client.chat.completions.create(\n",
    "    model = 'gpt-3.5-turbo',\n",
    "    messages = [{'role':'user','content':prompt}],\n",
    "                temperature = 0\n",
    ")\n",
    "\n",
    "print(completion.choices[0].message.content)"
   ]
  },
  {
   "cell_type": "markdown",
   "id": "c899b3fa-a109-4ad4-b2fa-73e6f8856444",
   "metadata": {},
   "source": [
    "## Few-shot 장단점\n",
    "- 질문과 응답 예시만 넣어주면 되기 때문에 응답이 존재하는 모든 케이스에 적용이 가능함.\n",
    "- but, 요약과 같은 task에서는 prompt의 예시가 굉장히 길어질 수 있어서 추론 속도나 비용에 영향을 줄 수 있음."
   ]
  },
  {
   "cell_type": "markdown",
   "id": "fec62f18-0d39-4cfe-a4a0-7f30690c23e8",
   "metadata": {},
   "source": [
    "## Chain-of-thought\n",
    "- 마이크로소프트의 예시 프롬프트 사용\n",
    "- 중간과정들을 알려주면서 프롬프트를 작성하면 어떻게 나올지"
   ]
  },
  {
   "cell_type": "code",
   "execution_count": 64,
   "id": "91cdc983-4cd5-4044-8599-f078fc69d199",
   "metadata": {},
   "outputs": [
    {
     "name": "stdout",
     "output_type": "stream",
     "text": [
      "Clover originally had 5 mangos. After throwing 3 mangos, she has 5 - 3 = 2 mangos left.\n",
      "After giving 2 mangos to Felix, she has 2 - 2 = 0 mangos left.\n",
      "When Felix gives one mango back, Clover now has 0 + 1 = 1 mango. \n",
      "\n",
      "Therefore, Clover has 1 mango.\n"
     ]
    }
   ],
   "source": [
    "prompt = \"\"\"\n",
    "Clover has 5 mangos, throws 3 mangos, gives 2 to Felix and Felix gives one back,\n",
    "how many mangos does Clover have?\"\"\"\n",
    "\n",
    "completion = client.chat.completions.create(\n",
    "    model = 'gpt-3.5-turbo',\n",
    "    messages = [{'role':'user','content':prompt}],\n",
    "                temperature = 0\n",
    ")\n",
    "\n",
    "print(completion.choices[0].message.content)\n",
    "# 답은 1이 나와야함. 잘 나옴!!!:)"
   ]
  },
  {
   "cell_type": "code",
   "execution_count": 80,
   "id": "ff943bbd-9c9a-437c-84c9-3b5f3d9d7e9e",
   "metadata": {},
   "outputs": [
    {
     "name": "stdout",
     "output_type": "stream",
     "text": [
      "Clover has 5 mangos.\n",
      "5 - 3 = 2\n",
      "2 - 2 = 0\n",
      "0 + 1 = 1\n",
      "\n",
      "Clover has 1 mango.\n"
     ]
    }
   ],
   "source": [
    "prompt = \"\"\"\n",
    "[Question]\n",
    "Clover has 5 mangos, throws 3 mangos, gives 2 mangos to Felix and Felix gives one mango back,\n",
    "how many mangos does Clover have?\n",
    "\n",
    "Below are two examples for your reference.\n",
    "[reference]\n",
    "Anika has 7 mangos, throws 1 mango gives 4 mangos to Minho,\n",
    "and Minho gives one back.:\n",
    "7 - 1 = 6\n",
    "6 - 4 = 2\n",
    "2 + 1 = 3\n",
    "\n",
    "Han has 6 mangos, throws 3 mangos, gives 1 mango to Ian,\n",
    "and Ian gives 2 back.:\n",
    "6 - 3 = 3\n",
    "3 - 1 = 2\n",
    "2 + 2 = 4\n",
    "\"\"\"\n",
    "\n",
    "completion = client.chat.completions.create(\n",
    "    model = 'gpt-3.5-turbo',\n",
    "    messages = [{'role':'user','content':prompt}],\n",
    "                temperature = 0\n",
    ")\n",
    "\n",
    "print(completion.choices[0].message.content)"
   ]
  },
  {
   "cell_type": "markdown",
   "id": "91150a01-86bc-4ea9-befd-0b04322abddf",
   "metadata": {},
   "source": [
    "## 다른 프롬프트 고도화 예시\n",
    "- KMMLU논문의 예시 프롬프트 템플릿 사용"
   ]
  },
  {
   "cell_type": "code",
   "execution_count": 83,
   "id": "14b6cda5-b014-472b-9b09-5234fdee75ac",
   "metadata": {},
   "outputs": [],
   "source": [
    "# 실제 정답은\n",
    "question = 'x, y가 세 부등식 y ≤ x+3, y ≤ -4x+3, y ≥ 0을 만족할 때, x+y의 최댓값을 M, 최솟값을 m이라 하면 M-m의 값은?'\n",
    "\n",
    "A = 4\n",
    "B = 6\n",
    "C = 8\n",
    "D = 10"
   ]
  },
  {
   "cell_type": "code",
   "execution_count": 85,
   "id": "c5285e5c-1d59-40c0-a4c9-471afeb9af26",
   "metadata": {},
   "outputs": [
    {
     "name": "stdout",
     "output_type": "stream",
     "text": [
      "C. 8\n"
     ]
    }
   ],
   "source": [
    "prompt = f\"\"\"\n",
    "{question}\n",
    "A. {A}\n",
    "B. {B}\n",
    "C. {C}\n",
    "D. {D}\n",
    "Answer :\n",
    "\"\"\"\n",
    "completion = client.chat.completions.create(\n",
    "    model = 'gpt-3.5-turbo',\n",
    "    messages = [{'role':'user','content':prompt}],\n",
    "                temperature = 0\n",
    ")\n",
    "\n",
    "print(completion.choices[0].message.content)\n",
    "# 답이 B인데 C라고 답함."
   ]
  },
  {
   "cell_type": "markdown",
   "id": "4fa10cad-e3ce-44ba-8267-7e7b8b9de7ed",
   "metadata": {},
   "source": [
    "### GPT-3.5모델로 고도화 시켜보기\n",
    "- 페르소나 적용\n",
    "- 영문으로 prompt 작성\n",
    "- 효과적인 prompt 작성"
   ]
  },
  {
   "cell_type": "code",
   "execution_count": 88,
   "id": "cece8d8b-6a3f-4484-a610-714763457526",
   "metadata": {},
   "outputs": [
    {
     "name": "stdout",
     "output_type": "stream",
     "text": [
      "C. 8\n"
     ]
    }
   ],
   "source": [
    "# 페르소나 부여\n",
    "prompt = f\"\"\"\n",
    "You are a professional in Mathematics. Below is a given math question in Korean.\n",
    "\n",
    "{question}\n",
    "A. {A}\n",
    "B. {B}\n",
    "C. {C}\n",
    "D. {D}\n",
    "\n",
    "Answer :\n",
    "\"\"\"\n",
    "completion = client.chat.completions.create(\n",
    "    model = 'gpt-3.5-turbo',\n",
    "    messages = [{'role':'user','content':prompt}],\n",
    "                temperature = 0\n",
    ")\n",
    "\n",
    "print(completion.choices[0].message.content)\n",
    "# 아직도 C라고 잘못 답함;;;;;;"
   ]
  },
  {
   "cell_type": "code",
   "execution_count": 90,
   "id": "81639772-358a-4e97-a4e1-7ef2efc27e1a",
   "metadata": {},
   "outputs": [
    {
     "name": "stdout",
     "output_type": "stream",
     "text": [
      "C. 8\n",
      "\n",
      "선분 y ≤ x+3와 y ≤ -4x+3의 교점을 찾으면 된다. 두 선분의 교점은 (-1, 2)이다. 이 교점과 y ≥ 0을 만족하는 영역에서 x+y의 최댓값과 최솟값을 찾으면 된다. 최댓값은 (3, 0)에서 나타나고 최솟값은 (-1, 2)에서 나타난다. 따라서 M-m = 3-(-1) + 0-2 = 4+2 = 6이므로 정답은 8이다.\n"
     ]
    }
   ],
   "source": [
    "# 페르소나 부여 + 효과적인 프롬프트 작성\n",
    "prompt = f\"\"\"\n",
    "You are a professional in Mathematics. Below is a given math question in Korean.\n",
    "You have to think carefully and step by step about the question\n",
    "and choose one out of four given possible answers.\n",
    "Only one of them is true. And you have to explain to me why it is the answer in Korean.\n",
    "{question}\n",
    "A. {A}\n",
    "B. {B}\n",
    "C. {C}\n",
    "D. {D}\n",
    "\n",
    "Answer :\n",
    "\"\"\"\n",
    "completion = client.chat.completions.create(\n",
    "    model = 'gpt-3.5-turbo',\n",
    "    messages = [{'role':'user','content':prompt}],\n",
    "                temperature = 0\n",
    ")\n",
    "\n",
    "print(completion.choices[0].message.content)\n",
    "# 아직도 C라고 잘못 답함;;;;;;"
   ]
  },
  {
   "cell_type": "code",
   "execution_count": 92,
   "id": "eec60fe1-28e7-4fbc-aee7-87660fce4666",
   "metadata": {},
   "outputs": [
    {
     "name": "stdout",
     "output_type": "stream",
     "text": [
      "B\n"
     ]
    }
   ],
   "source": [
    "# 페르소나 부여 + 효과적인 프롬프트 작성\n",
    "prompt = f\"\"\"You are a Professional in Mathematics.\n",
    "\n",
    "1. Internally, perform accurate mathematical reasoning, but do not include any solution steps or explanations in the output.\n",
    "2. The answer must be exactly one uppercase letter (A/B/C/D). Do not include any extra text, punctuation, or quotation marks.\n",
    "3. For any reason, if the result does not match any of the given choices, output None\n",
    "\n",
    "{question}\n",
    "A. {A}\n",
    "B. {B}\n",
    "C. {C}\n",
    "D. {D}\n",
    "Answer：\n",
    "\"\"\"\n",
    "completion = client.chat.completions.create(\n",
    "    model = 'gpt-3.5-turbo',\n",
    "    messages = [{'role':'user','content':prompt}],\n",
    "                temperature = 0\n",
    ")\n",
    "\n",
    "print(completion.choices[0].message.content)\n",
    "# 이제서야 B라고 제대로 나옴"
   ]
  },
  {
   "cell_type": "markdown",
   "id": "b9cc44b4-aa43-4fcb-8409-1ec9df98aeca",
   "metadata": {},
   "source": [
    "### 프롬프트 엔지니어링 특징\n",
    "- 추가 모델 학습이 없음에도 성능 개선의 가능성이 있기 때문에 가성비가 굉장히 좋음.\n",
    "- 더 좋은 모델을 사용하면 프롬프트 엔지니어링 없이도 해결할 수 있는 경우가 있지만 비용 측면을 무시 못하기 때문에 맨 먼저 프롬프트 엔지니어링으로 성능 향상을 시도해보는 게 좋음.\n",
    "- 프롬프트 엔지니어링으로도 해결 안 되면 이후에 이어질 RAG 및 Fine-tuning 등으로 성능을 더 향상시킬 수 있음."
   ]
  },
  {
   "cell_type": "code",
   "execution_count": null,
   "id": "8a69101b-aa3d-4e76-9507-8c36be2544a2",
   "metadata": {},
   "outputs": [],
   "source": []
  }
 ],
 "metadata": {
  "kernelspec": {
   "display_name": "Python 3 (ipykernel)",
   "language": "python",
   "name": "python3"
  },
  "language_info": {
   "codemirror_mode": {
    "name": "ipython",
    "version": 3
   },
   "file_extension": ".py",
   "mimetype": "text/x-python",
   "name": "python",
   "nbconvert_exporter": "python",
   "pygments_lexer": "ipython3",
   "version": "3.12.4"
  }
 },
 "nbformat": 4,
 "nbformat_minor": 5
}
