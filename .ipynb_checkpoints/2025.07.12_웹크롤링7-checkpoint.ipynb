{
 "cells": [
  {
   "cell_type": "markdown",
   "id": "fc1c5dbd-931c-4321-9073-7ddacede0601",
   "metadata": {},
   "source": [
    "## 네이버에서 이미지 데이터 크롤링하기"
   ]
  },
  {
   "cell_type": "code",
   "execution_count": 11,
   "id": "0ea08931-e71e-4f17-b12a-332414410fad",
   "metadata": {},
   "outputs": [],
   "source": [
    "from selenium import webdriver as wb\n",
    "from selenium.webdriver.common.by import By\n",
    "from selenium.webdriver.common.keys import Keys\n",
    "from tqdm import tqdm\n",
    "import pandas as pd\n",
    "import time\n",
    "# os: 팦일 및 폴더 시스템 관리 라이브러리\n",
    "import os\n",
    "# urlretrieve: url 경로를 통해 데이터를 파일로 다운로드 시켜주는 함수\n",
    "from urllib.request import urlretrieve"
   ]
  },
  {
   "cell_type": "markdown",
   "id": "489d6520-e2e9-4e23-b9b6-09dcf3354657",
   "metadata": {},
   "source": [
    "### 수집된 이미지가 저장될 폴더 설정\n",
    "- 폴더가 없으면 생성되도록 지정"
   ]
  },
  {
   "cell_type": "code",
   "execution_count": 14,
   "id": "5356e136-9f0e-4861-a887-37b991a5df19",
   "metadata": {},
   "outputs": [
    {
     "ename": "FileExistsError",
     "evalue": "[WinError 183] 파일이 이미 있으므로 만들 수 없습니다: 'downloaded image'",
     "output_type": "error",
     "traceback": [
      "\u001b[1;31m---------------------------------------------------------------------------\u001b[0m",
      "\u001b[1;31mFileExistsError\u001b[0m                           Traceback (most recent call last)",
      "Cell \u001b[1;32mIn[14], line 9\u001b[0m\n\u001b[0;32m      1\u001b[0m \u001b[38;5;66;03m# 자주 사용하는 리눅스 명령\u001b[39;00m\n\u001b[0;32m      2\u001b[0m \u001b[38;5;66;03m# cd: 경로변경\u001b[39;00m\n\u001b[0;32m      3\u001b[0m \u001b[38;5;66;03m# ls: 파일명 확인\u001b[39;00m\n\u001b[1;32m   (...)\u001b[0m\n\u001b[0;32m      6\u001b[0m \n\u001b[0;32m      7\u001b[0m \u001b[38;5;66;03m# path.isdir: 해당 경로에 지정한 명칭의 폴더가 있는지 확인하는 함수(isdir은 리눅스 명령의 ls와 동일)\u001b[39;00m\n\u001b[0;32m      8\u001b[0m \u001b[38;5;28;01mif\u001b[39;00m \u001b[38;5;129;01mnot\u001b[39;00m os\u001b[38;5;241m.\u001b[39mpath\u001b[38;5;241m.\u001b[39misdir(\u001b[38;5;124m\"\u001b[39m\u001b[38;5;124mdowloaded image\u001b[39m\u001b[38;5;124m\"\u001b[39m): \u001b[38;5;66;03m# dowloaded image라는 폴더가 없다면\u001b[39;00m\n\u001b[1;32m----> 9\u001b[0m     os\u001b[38;5;241m.\u001b[39mmkdir(\u001b[38;5;124m'\u001b[39m\u001b[38;5;124mdownloaded image\u001b[39m\u001b[38;5;124m'\u001b[39m) \u001b[38;5;66;03m# dowloaded image 폴더를 만들어라.\u001b[39;00m\n\u001b[0;32m     10\u001b[0m     \u001b[38;5;28mprint\u001b[39m(\u001b[38;5;124m'\u001b[39m\u001b[38;5;124mmake folder\u001b[39m\u001b[38;5;124m'\u001b[39m)\n\u001b[0;32m     11\u001b[0m \u001b[38;5;28;01melse\u001b[39;00m:\n",
      "\u001b[1;31mFileExistsError\u001b[0m: [WinError 183] 파일이 이미 있으므로 만들 수 없습니다: 'downloaded image'"
     ]
    }
   ],
   "source": [
    "# 자주 사용하는 리눅스 명령\n",
    "# cd: 경로변경\n",
    "# ls: 파일명 확인\n",
    "# rm: 지우기\n",
    "# mkdir: 폴더 생성\n",
    "\n",
    "# path.isdir: 해당 경로에 지정한 명칭의 폴더가 있는지 확인하는 함수(isdir은 리눅스 명령의 ls와 동일)\n",
    "if not os.path.isdir(\"dowloaded image\"): # dowloaded image라는 폴더가 없다면\n",
    "    os.mkdir('downloaded image') # dowloaded image 폴더를 만들어라.\n",
    "    print('make folder')\n",
    "else:\n",
    "    print('already made')"
   ]
  },
  {
   "cell_type": "code",
   "execution_count": 18,
   "id": "6c150829-cb9e-4bbe-a543-a76425fe1b6f",
   "metadata": {},
   "outputs": [],
   "source": [
    "driver = wb.Chrome()\n",
    "driver.maximize_window()\n",
    "time.sleep(2)\n",
    "\n",
    "# url이 너무 길어지면 '\\'로 개행할 수 있음.\n",
    "driver.get('https://search.naver.com/search.naver?ssc=tab.image.all&where=image&\\\n",
    "sm=tab_jum&query=%EB%B9%A4%EC%AE%B8%ED%86%A0%EB%81%BC')"
   ]
  },
  {
   "cell_type": "markdown",
   "id": "271ad134-1af6-45dd-a2e3-a0b5b3dc4db0",
   "metadata": {},
   "source": [
    "### 각 이미지에 접근하기"
   ]
  },
  {
   "cell_type": "code",
   "execution_count": 25,
   "id": "6549f613-1b05-41db-b3ad-7321478a077b",
   "metadata": {},
   "outputs": [
    {
     "data": {
      "text/plain": [
       "128"
      ]
     },
     "execution_count": 25,
     "metadata": {},
     "output_type": "execute_result"
    }
   ],
   "source": [
    "imgs = driver.find_elements(By.CSS_SELECTOR ,'._fe_image_tab_content_thumbnail_image')\n",
    "len(imgs)"
   ]
  },
  {
   "cell_type": "markdown",
   "id": "98cf8ed3-9c14-4e24-a305-f34426f4a945",
   "metadata": {},
   "source": [
    "- 웹 상의 이미지는 img태그 안에 src 속성에 서버에서 관리하는 원본 이미지의 주소가 있음!"
   ]
  },
  {
   "cell_type": "code",
   "execution_count": 34,
   "id": "3c6b7f0b-5597-4a75-9bad-a257a0a2e3ff",
   "metadata": {},
   "outputs": [
    {
     "data": {
      "text/plain": [
       "'https://search.pstatic.net/common/?src=http%3A%2F%2Fblogfiles.naver.net%2FMjAyNTAyMDNfMTg2%2FMDAxNzM4NTE3MTM0Mjk3.PTPX-K71ZgLmUzJRllnRmP3KiUTZ6Uc92oxvVAK_8wEg.rcMOjpWW8rJODlZerQgoSOf7Rqq73AG3Htk__bxviz4g.JPEG%2F1738517134502.jpg&type=a340'"
      ]
     },
     "execution_count": 34,
     "metadata": {},
     "output_type": "execute_result"
    }
   ],
   "source": [
    "imgs[4].get_attribute('src')"
   ]
  },
  {
   "cell_type": "code",
   "execution_count": 40,
   "id": "4f47284d-6d30-48f0-8434-cbc2abf29bae",
   "metadata": {},
   "outputs": [
    {
     "data": {
      "text/plain": [
       "['https://search.pstatic.net/sunny/?src=https%3A%2F%2Fimage.aladin.co.kr%2Fproduct%2F35301%2F80%2Fcover500%2Fk122035973_1.jpg&type=a340',\n",
       " 'https://search.pstatic.net/common/?src=http%3A%2F%2Fblogfiles.naver.net%2FMjAyMzA5MTJfMjM0%2FMDAxNjk0NDU1MTc3MTAz.i_Q5kHJlY_wA9RAWaAXSs1yvdiIvAeAKPAA1XoaJnAkg.f0fTD7hRa6yRKu9JiZVuSLa4M1YdFFkdLq2OF4FAqUsg.JPEG.nhj98%2FIMG_8055.JPG&type=a340',\n",
       " 'https://search.pstatic.net/common/?src=http%3A%2F%2Fblogfiles.naver.net%2FMjAyNDA0MTVfMjc2%2FMDAxNzEzMTc2NzU5NDUy.k0UN1r7PTz-lkbz0pDhM3vnez-q6ubJBT0O_v4ff23gg.oRQ4nX3Ti5efJXw3j9S-vTo5F2CizsLnBXbUTtk0vfAg.JPEG%2FIMG_9527.JPG&type=a340',\n",
       " 'https://search.pstatic.net/common/?src=https%3A%2F%2Fshopping-phinf.pstatic.net%2Fmain_8784738%2F87847389124.jpg&type=f372_372',\n",
       " 'https://search.pstatic.net/common/?src=http%3A%2F%2Fblogfiles.naver.net%2FMjAyNTAyMDNfMTg2%2FMDAxNzM4NTE3MTM0Mjk3.PTPX-K71ZgLmUzJRllnRmP3KiUTZ6Uc92oxvVAK_8wEg.rcMOjpWW8rJODlZerQgoSOf7Rqq73AG3Htk__bxviz4g.JPEG%2F1738517134502.jpg&type=a340',\n",
       " 'https://search.pstatic.net/common/?src=http%3A%2F%2Fblogfiles.naver.net%2FMjAyMzA2MDdfOTQg%2FMDAxNjg2MDY2MTE4MDg2.br3sFxEjneXWN0FFpvj09xME9ZqMBI9ucWiZjUuNdp8g.8zZJUeiOeFftLs6YBCP-PQH19Lg_HyL47SSm3I6VrQYg.JPEG.morning_ginger%2FIMG_7066.jpg&type=l340_165',\n",
       " 'https://search.pstatic.net/common/?src=http%3A%2F%2Fblogfiles.naver.net%2FMjAyMzEyMTRfNTYg%2FMDAxNzAyNTE3OTYxMDQ5.Hl4jpemO3X6e8519zFEJm7AZhK8WR93P-UhZRycZF-4g.fnI-6zDVK8VpB1zPGkMnX_zVS0o4Gl_NGwinzVwBDmkg.JPEG.hodo345%2F%253F%258B%25A4%253F%259A%25B4%25EB%25A1%259C%25EB%2593%259C.jpg&type=a340',\n",
       " 'https://search.pstatic.net/common/?src=https%3A%2F%2Fshopping-phinf.pstatic.net%2Fmain_8797072%2F87970725046.jpg&type=f372_372',\n",
       " 'https://search.pstatic.net/common/?src=http%3A%2F%2Fblogfiles.naver.net%2FMjAxOTA3MjFfMjQz%2FMDAxNTYzNjg5NDg0OTY2.R_krXS-2r-kK31jnEPMGy9BlV_igD0ojMpj1O-VPigMg.Y5KDT7nwDV5g15W8k2EpGPzyxuXmaRfAmIHEnDLGVXYg.JPEG.iam_nothing%2FScreenshot_2019-07-21-10-51-38_edit.jpg&type=a340',\n",
       " 'https://search.pstatic.net/common/?src=http%3A%2F%2Fblogfiles.naver.net%2FMjAyMzA4MDhfMjE5%2FMDAxNjkxNDk0MjAyNTAy.zSvaXl9lIN6sBQ0ndG0RlNY3hjG8NJmzbQbLaelaowMg.FdJpiBePpe4TtTg-bqtKx3QmcuKaL7tEOiSZJFaYUgYg.JPEG.wcn06046%2Foutput_1040765165.jpg&type=a340',\n",
       " 'https://search.pstatic.net/common/?src=http%3A%2F%2Fblogfiles.naver.net%2FMjAyNDEyMTFfMjcy%2FMDAxNzMzOTExOTIxOTEw.gh98XYAMzxNCJO7TN4SFcHGNo99PpiSWQb8zyjqusxQg.5qX1miNzierZ2X_QzlJ--Itc9KCxb3EFn1w66bIL_U8g.JPEG%2F20241210_182356.jpg&type=a340',\n",
       " 'https://search.pstatic.net/common/?src=https%3A%2F%2Fshopping-phinf.pstatic.net%2Fmain_8767750%2F87677509389.jpg&type=f372_372',\n",
       " 'https://search.pstatic.net/common/?src=http%3A%2F%2Fblogfiles.naver.net%2FMjAyNDA5MDNfNjIg%2FMDAxNzI1MzY4ODU1NTU3.ciINzqo0VhXj6b7KjmEzt9e5T31YtcugQTP1HkFpVBog.wF872Yi8RRCqR-s-TZZTtqyFyVkK3B881ZEiStiO_O4g.JPEG%2FIMG_0945.jpg&type=a340',\n",
       " 'https://search.pstatic.net/common/?src=http%3A%2F%2Fblogfiles.naver.net%2FMjAyMzEwMTFfMzYg%2FMDAxNjk3MDIxOTMyNzg2.8aF5oBixhjdD4d4H-yKrdk7Us2gOZ-w573-I16wL43og.QAHMKS9Xjxtc5ilrVk7Z_r9Gz2IUux0fdgkSCzfD8f4g.JPEG.surisurimaseul%2FIMG_1686.JPG&type=a340',\n",
       " 'https://search.pstatic.net/common/?src=http%3A%2F%2Fblogfiles.naver.net%2FMjAyMzA5MThfMjg1%2FMDAxNjk1MDIxODA3ODM1.cvstsXUAaMjpmRwMD14lfvFPPvi-z-NXTM9zjmyc6Fog.fJsSiT35VqevZc0Nv7e4smqc0pAE-5bLt4kES0JAFg8g.JPEG.nhj98%2Foutput_137853661.jpg&type=a340',\n",
       " 'https://search.pstatic.net/common/?src=https%3A%2F%2Fshopping-phinf.pstatic.net%2Fmain_4423498%2F44234980736.jpg&type=f372_372',\n",
       " 'https://search.pstatic.net/common/?src=http%3A%2F%2Fblogfiles.naver.net%2FMjAyNDEyMDRfNzAg%2FMDAxNzMzMzEwODg5MDg3.rgs0hJFRTodz41uSl4Wi_tjpo-Ehz3qeY07C3vlNjbQg.gEY5fN5PSjs3eKmPRxUYVVIjxvxT-1Iyj_eg8D9IT3Eg.JPEG%2F900%25A3%25DF20241204%25A3%25DF195400.jpg&type=a340',\n",
       " 'https://search.pstatic.net/common/?src=http%3A%2F%2Fshopping.phinf.naver.net%2Fmain_4788216%2F47882163706.20240521161430.jpg&type=a340',\n",
       " 'https://search.pstatic.net/common/?src=http%3A%2F%2Fshop1.phinf.naver.net%2F20240227_300%2F1709040951415TJeyT_JPEG%2F110176785232422729_1797007830.jpg&type=a340',\n",
       " 'https://search.pstatic.net/common/?src=https%3A%2F%2Fshopping-phinf.pstatic.net%2Fmain_8894470%2F88944701273.jpg&type=f372_372',\n",
       " 'https://search.pstatic.net/common/?src=http%3A%2F%2Fblogfiles.naver.net%2FMjAyNDExMDFfMTc5%2FMDAxNzMwNDI2OTUzNzMw.qUMj-zh0lIKqwlucQD5X0uznhkc97GDg_m6t5pp7IS8g.PRLEmjvlIRM6jkEw0tAyPQ3lh1tlA7ulJoxHYjTv8g0g.PNG%2F%25BA%25FE%25C2%25E9%25C5%25E4%25B3%25A2.png&type=a340',\n",
       " 'https://search.pstatic.net/common/?src=http%3A%2F%2Fblogfiles.naver.net%2FMjAyNDAxMTFfMjMy%2FMDAxNzA0OTU5MDAwNjg4.9cWghwgp7UIWm63NucKoTemzYpLTOPjDwcMiqrdDOJMg.aqyeawn1GFJSm2vvchf2dLg3nSzjoDJDgcg7sRSYu8cg.GIF.ghkdwjdtka%2F6939e9abebb326865a2676af4ae40cc7f43ad912ad8dd55b04db6a64cddaf76d.gif&type=a340',\n",
       " 'https://search.pstatic.net/common/?src=http%3A%2F%2Fblogfiles.naver.net%2FMjAyNTA0MDNfMjI0%2FMDAxNzQzNjEzNDA5NDc0.-W5rp4u-POEiHShA7FISQEFFl7ZRP6furyzPUpsnVtMg.ssFdYUEKgPAt5-LTL0RUfDL5QwFsorinyF6Ck8rhqz0g.JPEG%2Foutput_3765701881.jpg&type=a340',\n",
       " 'https://search.pstatic.net/common/?src=https%3A%2F%2Fshopping-phinf.pstatic.net%2Fmain_8749782%2F87497826725.jpg&type=f372_372',\n",
       " 'https://search.pstatic.net/common/?src=http%3A%2F%2Fblogfiles.naver.net%2FMjAyMzA3MDdfMjk5%2FMDAxNjg4NzA2NzI0Njk1.lF7_PT_uToGUh0O9wxn3St89ECrNoeUUFKwYAhQu8eMg.MHe7WMOQSD9cmVqGibRQnb7oAaYpQvlljDjJPyACLGUg.JPEG.lecreme_%2F%25B3%25BB%25C0%25DA%25B8%25AE%25BE%25DF.jpg&type=a340',\n",
       " 'https://search.pstatic.net/common/?src=http%3A%2F%2Fblogfiles.naver.net%2FMjAyMzEyMTZfMTQy%2FMDAxNzAyNjgzNTc0OTky.yoE9YiSPf3quWtICWJb2P53VX72pcR-mLr5MCRtj1I0g.NgObtwQqmYlKVNT6vtoTeQpCnMm0WI4TXT2bMylBWyUg.JPEG.juuco%2FIMG_2171.jpg&type=a340',\n",
       " 'https://search.pstatic.net/common/?src=http%3A%2F%2Fblogfiles.naver.net%2FMjAyMzExMjdfMjQy%2FMDAxNzAxMDcyMDg2ODk5.yeuY0eXgq4RT7vIqjF7X89EsTwcpdozEFfRWvZKW_KMg.zEeNZhinQwKXsLcLRk8M7LAYEH2E5M2fdpIxuOQe60og.JPEG.dgkim4073%2F%25C4%25B8%25C3%25B33.JPG&type=a340',\n",
       " 'https://search.pstatic.net/common/?src=https%3A%2F%2Fshopping-phinf.pstatic.net%2Fmain_8666223%2F86662233139.jpg&type=f372_372',\n",
       " 'https://search.pstatic.net/common/?src=http%3A%2F%2Fblogfiles.naver.net%2FMjAyMzA5MjhfMTc5%2FMDAxNjk1ODI5OTQ3Mzk1.GjgKJet-Od4XHSaDWArQyqLfQHic0XepOi7Jot9Mh5kg.XVM0j52qiwCoG7vSfKv614ZEXNXOFiA4dfezioUOLCsg.JPEG.papimon82%2FIMG_7144.jpg&type=a340',\n",
       " 'https://search.pstatic.net/common/?src=http%3A%2F%2Fblogfiles.naver.net%2FMjAyMzEwMTNfNjIg%2FMDAxNjk3MTgzNzgxMjc5.pke0G89xYhs64DJ-DtXM1WL2XngEUAL9sMM7qFQ5Qtwg.hpq0n7sb-yqP1colol5Tho7BeHoUA--wzCtaxNisDckg.JPEG.rmawl3184%2FIMG_5024.JPG&type=a340',\n",
       " 'https://search.pstatic.net/common/?src=http%3A%2F%2Fblogfiles.naver.net%2FMjAyNDAyMjBfMyAg%2FMDAxNzA4MzYyNTIwODU4.lHwglIAOAF8JDHibgjl1dHjWqOSIUshuME9-fXiCghkg.dnl6_s1KICobltfWBhdLlkJwSebFPsp7zUq20n2Eyr4g.JPEG%2FIMG_4001.JPG&type=a340',\n",
       " 'https://search.pstatic.net/common/?src=https%3A%2F%2Fshopping-phinf.pstatic.net%2Fmain_8937419%2F89374195186.jpg&type=f372_372',\n",
       " 'https://search.pstatic.net/common/?src=http%3A%2F%2Fblogfiles.naver.net%2FMjAyMzA2MjhfNzAg%2FMDAxNjg3ODgxNTk1MjI2.IdCh5hIbe3x7-1fSEUtKmTxsezEu5W-nW8KbqcQaUG4g.1lSbJMnTqLv5GNYWdK0CZf4o_mvfiV9teILVQrlh98sg.JPEG.jieuni0609%2F%25B4%25D9%25BF%25EE%25B7%25CE%25B5%25E5.jpg&type=a340',\n",
       " 'https://search.pstatic.net/common/?src=http%3A%2F%2Fblogfiles.naver.net%2FMjAyMzA2MDhfMjI5%2FMDAxNjg2MTkzMDI4MjIz.3EmQ5ygELgkg7jbhOZC8QA97aLnfWJpO9O7QGTesdzcg.SKVqG5DpUGKZaB9Jk7E5G8xu7jSg9ETVG1UURYngPJ4g.JPEG.okkksj%2FIMG_3028.jpg&type=a340',\n",
       " 'https://search.pstatic.net/common/?src=http%3A%2F%2Fblogfiles.naver.net%2FMjAyNDAyMjBfNTgg%2FMDAxNzA4Mzg0MDMzMjcx.CMLFY8QcKXBzt2g9XEo1ZLAR_tSKXmEtipZyjiGZASAg.wM6K6kf_cwLIHmQ8GkpCD82xBnMklNz9TKdl_7WTQacg.JPEG%2FIMG_2443.jpg&type=a340',\n",
       " 'https://search.pstatic.net/common/?src=http%3A%2F%2Fshop1.phinf.naver.net%2F20240411_37%2F17127629463464zsp1_PNG%2F40671531320735107_23848086.png&type=a340',\n",
       " 'https://search.pstatic.net/common/?src=http%3A%2F%2Fblogfiles.naver.net%2FMjAyNDAyMDdfMTQ4%2FMDAxNzA3MjY5NjQ3NzA3.Y84ax7rNdrF9bnmipG5HCOPSlxzHwt9rymWM7ZOR3C0g.fzKvLac7TN8FQIvh3BlfmKAg7hEk9bR9dwxA9ArfhPsg.PNG.tmfdk3108%2Fimage.png&type=a340',\n",
       " 'https://search.pstatic.net/sunny/?src=https%3A%2F%2Fi1.ruliweb.com%2Fimg%2F22%2F05%2F23%2F180f0ad82d052192a.png&type=a340',\n",
       " 'https://search.pstatic.net/common/?src=http%3A%2F%2Fblogfiles.naver.net%2FMjAyMzA2MDlfNTYg%2FMDAxNjg2MjkzMDg3Mjgy.LJnllMQPVTtglpPzMRC2xM8xuN2UIUrkn_XicPOdKygg.OUWq_xq9Ra3iNhn4B-JH18dc0JnHkkyAmNDlLKK61gog.JPEG.happpie22%2FIMG_4615.JPG&type=a340',\n",
       " 'https://search.pstatic.net/common/?src=http%3A%2F%2Fshop1.phinf.naver.net%2F20230818_102%2F1692337382269ncr8H_JPEG%2F38192490086283292_1413771459.jpg&type=a340',\n",
       " 'https://search.pstatic.net/common/?src=http%3A%2F%2Fshop1.phinf.naver.net%2F20241205_282%2F1733394917717vY2VE_JPEG%2F15125232554697747_1278066683.jpg&type=a340',\n",
       " 'https://search.pstatic.net/common/?src=http%3A%2F%2Fblogfiles.naver.net%2FMjAyNDAxMjRfMjUw%2FMDAxNzA2MDg4MjAxMTg1.ik2NyMMbYSxTjtf85sNjS_qKNlyaJ-uQwlr7hb0pFgQg.wfQNaB-ox1YmsOmSxN82RAkulDqa8ZUk3TythNZzuKAg.JPEG.bonitadasom94%2Foutput_1476160759.jpg&type=a340',\n",
       " 'https://search.pstatic.net/sunny/?src=https%3A%2F%2Fimage.aladin.co.kr%2Fproduct%2F35301%2F80%2Fletslook%2FK122035973_bl.jpg%3FRS%3D0&type=a340',\n",
       " 'https://search.pstatic.net/common/?src=http%3A%2F%2Fblogfiles.naver.net%2FMjAyMzA2MzBfMzYg%2FMDAxNjg4MDk4MjY3NzEz.10NEPB0-L350gRPuJPnY0rgfiCP_z6G1Q-ZjjzNtN2kg.Php0DBzPozUJZ1WIjMK52OWasE-WuiwXg5phVovZ8MYg.JPEG.chozlove%2FKakaoTalk_20230630_125522670_02.jpg&type=a340',\n",
       " 'https://search.pstatic.net/common/?src=http%3A%2F%2Fshop1.phinf.naver.net%2F20240608_136%2F1717833449682ySFKF_JPEG%2F118969345418737250_661524743.jpg&type=a340',\n",
       " 'https://search.pstatic.net/common/?src=http%3A%2F%2Fblogfiles.naver.net%2FMjAyNDEyMjhfMTY5%2FMDAxNzM1MzY1NTM2Nzcx.uoBlN2obnwnUiiLn9vgt8mdBdjff0sgRSPq9STfjJRog.Ipz739gVZ69zTJBYNILVQg896fgujEClxOejplMTAYsg.JPEG%2Fdc1a33d3-1b3f-4c5c-9ea9-c0860c7f7873.jpg&type=a340',\n",
       " 'https://search.pstatic.net/common/?src=http%3A%2F%2Fblogfiles.naver.net%2FMjAyMzA5MTdfNDkg%2FMDAxNjk0ODg0NzM1Nzk5.hfMw7598kwZnelSZI1EcZOicUgyUnJhtsk0tE8ojlRkg.nEYvm7Ag6ClAPqlux1GFyx9IrhVsBdgDPI-asCgwBzcg.PNG.hyunsur4559%2FcommonIcoTheme.png&type=a340',\n",
       " 'https://search.pstatic.net/common/?src=http%3A%2F%2Fblogfiles.naver.net%2FMjAyMzEyMDVfMjE1%2FMDAxNzAxNzYxMjU1MjM1.8Hxff3bXYbTYHyM1MGTHOBqm_V-8r4RGyTQTKh-U_cwg.V7NSZ6cjw3Me5ibDoCqg7OkXemDmHw9MXsBXo48b5Tkg.JPEG.rmawl3184%2Foutput_904738320.jpg&type=a340',\n",
       " 'https://search.pstatic.net/common/?src=http%3A%2F%2Fblogfiles.naver.net%2FMjAyMzEyMzBfNDUg%2FMDAxNzAzOTQ4MjQzMzM3.mHnN645J-k_b13leEx79XgQyzFZ5iLk3bG6_31NFzPcg.KrwAVReIUwgn2wTUdKnoxJdOdLq7OdS7wSRYboI2XVUg.PNG.duathcjdfyd%2Fimage.png&type=a340',\n",
       " 'https://search.pstatic.net/common/?src=http%3A%2F%2Fshop1.phinf.naver.net%2F20240717_201%2F17211872217570blIR_PNG%2F68244187038249834_236584270.png&type=a340',\n",
       " 'https://search.pstatic.net/common/?src=http%3A%2F%2Fblogfiles.naver.net%2FMjAyNDA0MDVfMjE0%2FMDAxNzEyMzAxNDI3NDAx.RtIrkgix-MSqNoPFwdRI9u3bb0E002AXoggQLRCTunog.f5gj4QXN-TqKPttfGPslRDIsO-ooTWVGFZg7sF1hMlAg.JPEG%2F20240322_rabbit_mo_01.jpg&type=a340',\n",
       " 'https://search.pstatic.net/common/?src=http%3A%2F%2Fblogfiles.naver.net%2FMjAyNDA2MTdfNjQg%2FMDAxNzE4NjM1MTU4ODgz.WE38VlsO1Aqdyx9pCH8RvU4sFqVoV6sqle2njL5HWcgg.ebF-mPxGa-cgzAVnp8A9HPDE2WL9ga1PVBY1tmR-A5sg.JPEG%2F04_o.jpg&type=a340',\n",
       " 'https://search.pstatic.net/sunny/?src=http%3A%2F%2Fthumbnail.10x10.co.kr%2Fwebimage%2Fimage%2Fbasic600%2F637%2FB006373252.jpg%3Fcmd%3Dthumb%26w%3D500%26h%3D500%26fit%3Dtrue%26ws%3Dfalse&type=a340',\n",
       " 'https://search.pstatic.net/common/?src=http%3A%2F%2Fblogfiles.naver.net%2FMjAyMzEyMTRfMjg1%2FMDAxNzAyNTA5NTg2MzE2.sYZ0eCz8jHIjBMnFKkfWb9NY-bKVvVRcH9BR9CQ2wKwg.DvruSynXSfBRkG3ZYRglr3NATkUt1bm3WGGKBvPBTvwg.JPEG.yreumm%2F%25BA%25FE%25C2%25E91.JPG&type=a340',\n",
       " 'https://search.pstatic.net/common/?src=http%3A%2F%2Fblogfiles.naver.net%2FMjAyMzEyMTdfMTQz%2FMDAxNzAyODIyNjExOTA0.OPYAiPtgu1lI22vvC0kPODpQvPgzXKR_fVrTy7lZrKYg.qLZmcEFbDWVH5-dCx6zlFQg2KYp96FME3NNaTcM5bPIg.JPEG.i_ye_%2F9C2E01C8-D099-4CCF-AE48-D523A065D330_1_102_o.jpeg&type=a340',\n",
       " 'https://search.pstatic.net/common/?src=http%3A%2F%2Fblogfiles.naver.net%2FMjAyNTAxMDdfNzUg%2FMDAxNzM2MTgwMjk5ODM4.NerZxbSKr2L35-sToaMKF6SbTOxfKYwjn4BkZ5gw4WYg.zIByoCw6p1dJoE8lsjAgN_bcvZTCD5dYfM6Dwo72p4Qg.JPEG%2F900%25A3%25DF20250107%25A3%25DF011202.jpg&type=a340',\n",
       " 'https://search.pstatic.net/common/?src=http%3A%2F%2Fblogfiles.naver.net%2FMjAyMzA2MjFfMiAg%2FMDAxNjg3MzE3NDM3MzI0.Kp1VgXY7acnglOrsA3pL9-uKApfZjoog_aCypVglwBkg.OdLt-ZsOxM_5t3Nd5WW2iahG3fZulXHroB2UrmQFirsg.JPEG.11pigs11%2FFykJ8zlaIAEmhJW.jpg&type=a340',\n",
       " 'https://search.pstatic.net/common/?src=http%3A%2F%2Fshopping.phinf.naver.net%2Fmain_4707860%2F47078604444.20240415222419.jpg&type=a340',\n",
       " 'https://search.pstatic.net/sunny/?src=http%3A%2F%2Ffile3.instiz.net%2Fdata%2Fcached_img%2Fupload%2F2025%2F02%2F06%2F19%2F93329419aaeec3e58c47b99dd73d5ff7.jpg&type=a340',\n",
       " 'https://search.pstatic.net/common/?src=http%3A%2F%2Fblogfiles.naver.net%2FMjAyMzA2MjRfMjIw%2FMDAxNjg3NTk4Nzg4MzE0.8e26vDYT7nB1kS_SQdrjBkueMGWgcWg97zaHM_FJNGYg.FT78YnjBkMIYqBFOn-6EK7rVg0T1vcFtzKBfwmCbqEcg.JPEG.hhl3877%2FIMG_5252.jpg&type=l340_165',\n",
       " 'https://search.pstatic.net/common/?src=http%3A%2F%2Fblogfiles.naver.net%2FMjAyMzA3MDZfMjky%2FMDAxNjg4NjUxMzY0NTUz.HikwujxuSEUxE8tjLgnKdnFkbbh8smTtNfSnM9TOxykg.XG2iy8bzVmJzfhkgQiCkOLzLrnMFY8Nj7IcEpWdVho8g.JPEG.hykg2317%2Foutput_2884910797.jpg&type=a340',\n",
       " 'https://search.pstatic.net/common/?src=http%3A%2F%2Fshopping.phinf.naver.net%2Fmain_5461008%2F54610086701.1.20250507090907.jpg&type=a340',\n",
       " 'https://search.pstatic.net/common/?src=http%3A%2F%2Fshop1.phinf.naver.net%2F20240222_80%2F1708584420038DOB3B_JPEG%2F109720315771289439_898730680.jpg&type=a340',\n",
       " 'https://search.pstatic.net/common/?src=http%3A%2F%2Fblogfiles.naver.net%2FMjAyNDAxMDJfMjEz%2FMDAxNzA0MTk4NTI1MzQy.RJGI3fZ8CUIONMEHiuAgNcMPuK-XDBM7CLYAu_DuSogg.2nh8N5953prfi4I6Dk2SYIEWegeDzCdIVNYF_jtI8GYg.JPEG.rtw990927%2FIMG_6319.jpg&type=a340',\n",
       " 'data:image/gif;base64,R0lGODlhAQABAIAAAAAAAP///yH5BAEAAAAALAAAAAABAAEAAAIBRAA7',\n",
       " 'data:image/gif;base64,R0lGODlhAQABAIAAAAAAAP///yH5BAEAAAAALAAAAAABAAEAAAIBRAA7',\n",
       " 'data:image/gif;base64,R0lGODlhAQABAIAAAAAAAP///yH5BAEAAAAALAAAAAABAAEAAAIBRAA7',\n",
       " 'data:image/gif;base64,R0lGODlhAQABAIAAAAAAAP///yH5BAEAAAAALAAAAAABAAEAAAIBRAA7',\n",
       " 'data:image/gif;base64,R0lGODlhAQABAIAAAAAAAP///yH5BAEAAAAALAAAAAABAAEAAAIBRAA7',\n",
       " 'data:image/gif;base64,R0lGODlhAQABAIAAAAAAAP///yH5BAEAAAAALAAAAAABAAEAAAIBRAA7',\n",
       " 'data:image/gif;base64,R0lGODlhAQABAIAAAAAAAP///yH5BAEAAAAALAAAAAABAAEAAAIBRAA7',\n",
       " 'data:image/gif;base64,R0lGODlhAQABAIAAAAAAAP///yH5BAEAAAAALAAAAAABAAEAAAIBRAA7',\n",
       " 'data:image/gif;base64,R0lGODlhAQABAIAAAAAAAP///yH5BAEAAAAALAAAAAABAAEAAAIBRAA7',\n",
       " 'data:image/gif;base64,R0lGODlhAQABAIAAAAAAAP///yH5BAEAAAAALAAAAAABAAEAAAIBRAA7',\n",
       " 'data:image/gif;base64,R0lGODlhAQABAIAAAAAAAP///yH5BAEAAAAALAAAAAABAAEAAAIBRAA7',\n",
       " 'data:image/gif;base64,R0lGODlhAQABAIAAAAAAAP///yH5BAEAAAAALAAAAAABAAEAAAIBRAA7',\n",
       " 'data:image/gif;base64,R0lGODlhAQABAIAAAAAAAP///yH5BAEAAAAALAAAAAABAAEAAAIBRAA7',\n",
       " 'data:image/gif;base64,R0lGODlhAQABAIAAAAAAAP///yH5BAEAAAAALAAAAAABAAEAAAIBRAA7',\n",
       " 'data:image/gif;base64,R0lGODlhAQABAIAAAAAAAP///yH5BAEAAAAALAAAAAABAAEAAAIBRAA7',\n",
       " 'data:image/gif;base64,R0lGODlhAQABAIAAAAAAAP///yH5BAEAAAAALAAAAAABAAEAAAIBRAA7',\n",
       " 'data:image/gif;base64,R0lGODlhAQABAIAAAAAAAP///yH5BAEAAAAALAAAAAABAAEAAAIBRAA7',\n",
       " 'data:image/gif;base64,R0lGODlhAQABAIAAAAAAAP///yH5BAEAAAAALAAAAAABAAEAAAIBRAA7',\n",
       " 'data:image/gif;base64,R0lGODlhAQABAIAAAAAAAP///yH5BAEAAAAALAAAAAABAAEAAAIBRAA7',\n",
       " 'data:image/gif;base64,R0lGODlhAQABAIAAAAAAAP///yH5BAEAAAAALAAAAAABAAEAAAIBRAA7',\n",
       " 'data:image/gif;base64,R0lGODlhAQABAIAAAAAAAP///yH5BAEAAAAALAAAAAABAAEAAAIBRAA7',\n",
       " 'data:image/gif;base64,R0lGODlhAQABAIAAAAAAAP///yH5BAEAAAAALAAAAAABAAEAAAIBRAA7',\n",
       " 'data:image/gif;base64,R0lGODlhAQABAIAAAAAAAP///yH5BAEAAAAALAAAAAABAAEAAAIBRAA7',\n",
       " 'data:image/gif;base64,R0lGODlhAQABAIAAAAAAAP///yH5BAEAAAAALAAAAAABAAEAAAIBRAA7',\n",
       " 'data:image/gif;base64,R0lGODlhAQABAIAAAAAAAP///yH5BAEAAAAALAAAAAABAAEAAAIBRAA7',\n",
       " 'data:image/gif;base64,R0lGODlhAQABAIAAAAAAAP///yH5BAEAAAAALAAAAAABAAEAAAIBRAA7',\n",
       " 'data:image/gif;base64,R0lGODlhAQABAIAAAAAAAP///yH5BAEAAAAALAAAAAABAAEAAAIBRAA7',\n",
       " 'data:image/gif;base64,R0lGODlhAQABAIAAAAAAAP///yH5BAEAAAAALAAAAAABAAEAAAIBRAA7',\n",
       " 'data:image/gif;base64,R0lGODlhAQABAIAAAAAAAP///yH5BAEAAAAALAAAAAABAAEAAAIBRAA7',\n",
       " 'data:image/gif;base64,R0lGODlhAQABAIAAAAAAAP///yH5BAEAAAAALAAAAAABAAEAAAIBRAA7',\n",
       " 'data:image/gif;base64,R0lGODlhAQABAIAAAAAAAP///yH5BAEAAAAALAAAAAABAAEAAAIBRAA7',\n",
       " 'data:image/gif;base64,R0lGODlhAQABAIAAAAAAAP///yH5BAEAAAAALAAAAAABAAEAAAIBRAA7',\n",
       " 'data:image/gif;base64,R0lGODlhAQABAIAAAAAAAP///yH5BAEAAAAALAAAAAABAAEAAAIBRAA7',\n",
       " 'data:image/gif;base64,R0lGODlhAQABAIAAAAAAAP///yH5BAEAAAAALAAAAAABAAEAAAIBRAA7',\n",
       " 'data:image/gif;base64,R0lGODlhAQABAIAAAAAAAP///yH5BAEAAAAALAAAAAABAAEAAAIBRAA7',\n",
       " 'data:image/gif;base64,R0lGODlhAQABAIAAAAAAAP///yH5BAEAAAAALAAAAAABAAEAAAIBRAA7',\n",
       " 'data:image/gif;base64,R0lGODlhAQABAIAAAAAAAP///yH5BAEAAAAALAAAAAABAAEAAAIBRAA7',\n",
       " 'data:image/gif;base64,R0lGODlhAQABAIAAAAAAAP///yH5BAEAAAAALAAAAAABAAEAAAIBRAA7',\n",
       " 'data:image/gif;base64,R0lGODlhAQABAIAAAAAAAP///yH5BAEAAAAALAAAAAABAAEAAAIBRAA7',\n",
       " 'data:image/gif;base64,R0lGODlhAQABAIAAAAAAAP///yH5BAEAAAAALAAAAAABAAEAAAIBRAA7',\n",
       " 'data:image/gif;base64,R0lGODlhAQABAIAAAAAAAP///yH5BAEAAAAALAAAAAABAAEAAAIBRAA7',\n",
       " 'data:image/gif;base64,R0lGODlhAQABAIAAAAAAAP///yH5BAEAAAAALAAAAAABAAEAAAIBRAA7',\n",
       " 'data:image/gif;base64,R0lGODlhAQABAIAAAAAAAP///yH5BAEAAAAALAAAAAABAAEAAAIBRAA7',\n",
       " 'data:image/gif;base64,R0lGODlhAQABAIAAAAAAAP///yH5BAEAAAAALAAAAAABAAEAAAIBRAA7',\n",
       " 'data:image/gif;base64,R0lGODlhAQABAIAAAAAAAP///yH5BAEAAAAALAAAAAABAAEAAAIBRAA7',\n",
       " 'data:image/gif;base64,R0lGODlhAQABAIAAAAAAAP///yH5BAEAAAAALAAAAAABAAEAAAIBRAA7',\n",
       " 'data:image/gif;base64,R0lGODlhAQABAIAAAAAAAP///yH5BAEAAAAALAAAAAABAAEAAAIBRAA7',\n",
       " 'data:image/gif;base64,R0lGODlhAQABAIAAAAAAAP///yH5BAEAAAAALAAAAAABAAEAAAIBRAA7',\n",
       " 'data:image/gif;base64,R0lGODlhAQABAIAAAAAAAP///yH5BAEAAAAALAAAAAABAAEAAAIBRAA7',\n",
       " 'data:image/gif;base64,R0lGODlhAQABAIAAAAAAAP///yH5BAEAAAAALAAAAAABAAEAAAIBRAA7',\n",
       " 'data:image/gif;base64,R0lGODlhAQABAIAAAAAAAP///yH5BAEAAAAALAAAAAABAAEAAAIBRAA7',\n",
       " 'data:image/gif;base64,R0lGODlhAQABAIAAAAAAAP///yH5BAEAAAAALAAAAAABAAEAAAIBRAA7',\n",
       " 'data:image/gif;base64,R0lGODlhAQABAIAAAAAAAP///yH5BAEAAAAALAAAAAABAAEAAAIBRAA7',\n",
       " 'data:image/gif;base64,R0lGODlhAQABAIAAAAAAAP///yH5BAEAAAAALAAAAAABAAEAAAIBRAA7',\n",
       " 'data:image/gif;base64,R0lGODlhAQABAIAAAAAAAP///yH5BAEAAAAALAAAAAABAAEAAAIBRAA7',\n",
       " 'data:image/gif;base64,R0lGODlhAQABAIAAAAAAAP///yH5BAEAAAAALAAAAAABAAEAAAIBRAA7',\n",
       " 'data:image/gif;base64,R0lGODlhAQABAIAAAAAAAP///yH5BAEAAAAALAAAAAABAAEAAAIBRAA7',\n",
       " 'data:image/gif;base64,R0lGODlhAQABAIAAAAAAAP///yH5BAEAAAAALAAAAAABAAEAAAIBRAA7',\n",
       " 'data:image/gif;base64,R0lGODlhAQABAIAAAAAAAP///yH5BAEAAAAALAAAAAABAAEAAAIBRAA7',\n",
       " 'data:image/gif;base64,R0lGODlhAQABAIAAAAAAAP///yH5BAEAAAAALAAAAAABAAEAAAIBRAA7',\n",
       " 'data:image/gif;base64,R0lGODlhAQABAIAAAAAAAP///yH5BAEAAAAALAAAAAABAAEAAAIBRAA7',\n",
       " 'data:image/gif;base64,R0lGODlhAQABAIAAAAAAAP///yH5BAEAAAAALAAAAAABAAEAAAIBRAA7',\n",
       " 'data:image/gif;base64,R0lGODlhAQABAIAAAAAAAP///yH5BAEAAAAALAAAAAABAAEAAAIBRAA7',\n",
       " 'data:image/gif;base64,R0lGODlhAQABAIAAAAAAAP///yH5BAEAAAAALAAAAAABAAEAAAIBRAA7']"
      ]
     },
     "execution_count": 40,
     "metadata": {},
     "output_type": "execute_result"
    }
   ],
   "source": [
    "imgs_src = []\n",
    "for i in range(len(imgs)):\n",
    "    imgs_src.append(imgs[i].get_attribute('src'))\n",
    "\n",
    "imgs_src"
   ]
  },
  {
   "cell_type": "markdown",
   "id": "68488e80-27e0-409a-bf65-4f7b4818e58e",
   "metadata": {},
   "source": [
    "### 각 이미지의 원천 주소를 통해 파일로 다운로드 받기"
   ]
  },
  {
   "cell_type": "code",
   "execution_count": 43,
   "id": "4740a228-9242-4c0e-b82c-9397c683c755",
   "metadata": {},
   "outputs": [
    {
     "name": "stderr",
     "output_type": "stream",
     "text": [
      "128it [00:01, 78.20it/s] \n"
     ]
    }
   ],
   "source": [
    "for cnt, i in tqdm(enumerate(imgs_src)): # i는 src\n",
    "    # urlretrieve(url, 다운로드받을 경로 및 파일명 + 확장자명)\n",
    "    urlretrieve(i, 'downloaded image/' + str(cnt+1) + '.jpg')\n",
    "    time_sleep(1)"
   ]
  },
  {
   "cell_type": "markdown",
   "id": "db3af839-af4e-4946-85a5-7c7893b39bb7",
   "metadata": {},
   "source": [
    "- 만든 경로에 이미지 파일이 들어갔지만 그 중 꺠지거나 이미지를 불러올 수 없는 경우가 있음.\n",
    "- 수집된 HTML요소 중 뒤쪽 요소들은 이미지 src 값을 전부 출력시키지 않을 수 있으며 이는 이미지 용량 및 네트워크 속도 문제 때문일 수 있음.\n",
    "- 충분한 시간 텀을 줘서 이미지가 로드 되는 것을 기다린 후 크롤링해야하며 그럼에도 불구하고 수집이 불가한 이미지들은 관리자가 막아둔 것일 수 있음."
   ]
  },
  {
   "cell_type": "markdown",
   "id": "cfc4a412-4e0f-4971-9059-0ea4d3ffed32",
   "metadata": {},
   "source": [
    "### 전체 코드를 한 셀에!"
   ]
  },
  {
   "cell_type": "code",
   "execution_count": 49,
   "id": "bb151d07-15cd-4c73-a668-59d122b5cae8",
   "metadata": {},
   "outputs": [
    {
     "name": "stderr",
     "output_type": "stream",
     "text": [
      "100%|████████████████████████████████████████████████████████████████████████████████████| 4/4 [00:08<00:00,  2.08s/it]\n",
      "100%|███████████████████████████████████████████████████████████████████████████████| 416/416 [00:01<00:00, 255.18it/s]\n",
      "416it [07:17,  1.05s/it]"
     ]
    },
    {
     "name": "stdout",
     "output_type": "stream",
     "text": [
      "successfully done:)\n"
     ]
    },
    {
     "name": "stderr",
     "output_type": "stream",
     "text": [
      "\n"
     ]
    }
   ],
   "source": [
    "driver = wb.Chrome()\n",
    "driver.maximize_window()\n",
    "time.sleep(2)\n",
    "\n",
    "driver.get('https://search.naver.com/search.naver?ssc=tab.image.all&where=image&\\\n",
    "sm=tab_jum&query=%EB%B9%A4%EC%AE%B8%ED%86%A0%EB%81%BC')\n",
    "time.sleep(2)\n",
    "\n",
    "\n",
    "\n",
    "imgs_src = []\n",
    "\n",
    "try:\n",
    "    # 1. 시간 텀을 줘서 스크롤 내리기를 반복\n",
    "    # _ 는 변수를 쓰지 않겠다는 뜻\n",
    "    for _ in tqdm(range(4)):\n",
    "        body = driver.find_element(By.TAG_NAME,'body')\n",
    "        body.send_keys(Keys.END)\n",
    "        time.sleep(2)\n",
    "\n",
    "    imgs = driver.find_elements(By.CSS_SELECTOR ,'._fe_image_tab_content_thumbnail_image')\n",
    "\n",
    "        \n",
    "    # 2. 수집된 요소의 src값을 추출하여 빈 리스트에 저장\n",
    "    for i in tqdm(range(len(imgs))):\n",
    "        imgs_src.append(imgs[i].get_attribute('src'))\n",
    "    \n",
    "    for cnt, i in tqdm(enumerate(imgs_src)): # i는 src\n",
    "        # urlretrieve(url, 다운로드받을 경로 및 파일명 + 확장자명)\n",
    "        urlretrieve(i, 'downloaded image/' + str(cnt+1) + '.jpg')\n",
    "        time.sleep(1)\n",
    "    print('successfully done:)')\n",
    "except:\n",
    "    print('unexpected error occurred:(')"
   ]
  },
  {
   "cell_type": "markdown",
   "id": "e9ae008a-dc48-43ff-8f3f-a1fcfb69edf6",
   "metadata": {},
   "source": [
    "### 결론\n",
    "- 대체적으로 크롤링 및 파일 다운로드가 잘 진행되나, 네이버의 경우 데이터에 대한 보안이나 접근제한이 꽤 높기도 하고 네트워크 속도의 문제로 스크롤 된 수 모든 src 값을 다 출력하지 않는 경우도 있어서 모든 파일이 다 완벽하게 저장되지 않을 수 있음\n",
    "\n",
    "### 그 외 데이터가 전부 수집되지 않는 여러가지 이유\n",
    "1. 웹 페이지 자체의 실시간 변동이 심한 경우\n",
    "- 빈번한 업데이트, 업로드, 삭제 등으로 수집하려는 대상이 동작 중 변경될 수 있음.\n",
    "2. 웹 페이지 별로 구조가 상이한 경우\n",
    "- 반응형 웹과 같이 상황에 따라 구조가 변하는 경우 요소가 있다가 없어지거나 하는 현상이 발생할 수 있음.\n",
    "3. 크롤링 코드 동작시 충분한 시간 텀을 주지 않는 경우\n",
    "- 웹 페이지의 이미지가 다 로딩되기 전에 코드가 동작되면 인식 못함.\n",
    "- 스크롤 수 img태그는 HTML에 있지만 실제 이미지 주소는 아직 브라우저에 로딩되지 않았을 수 있음.\n",
    "4. 수집하려는 데이터가 웹에 부족한 경우\n",
    "- 특정 희귀 검색어의 경우 웹에 업로드된 이미지가 적어서 수집이 많이 안 됨.\n",
    "\n"
   ]
  },
  {
   "cell_type": "code",
   "execution_count": null,
   "id": "fc7386f0-7134-469f-9d69-3a2e8773b754",
   "metadata": {},
   "outputs": [],
   "source": []
  }
 ],
 "metadata": {
  "kernelspec": {
   "display_name": "Python 3 (ipykernel)",
   "language": "python",
   "name": "python3"
  },
  "language_info": {
   "codemirror_mode": {
    "name": "ipython",
    "version": 3
   },
   "file_extension": ".py",
   "mimetype": "text/x-python",
   "name": "python",
   "nbconvert_exporter": "python",
   "pygments_lexer": "ipython3",
   "version": "3.12.4"
  }
 },
 "nbformat": 4,
 "nbformat_minor": 5
}
