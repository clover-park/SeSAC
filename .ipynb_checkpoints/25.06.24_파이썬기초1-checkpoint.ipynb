{
 "cells": [
  {
   "cell_type": "markdown",
   "id": "8ca1eb38-3ee9-4df2-82aa-4c3341f76815",
   "metadata": {},
   "source": [
    "# 여기는 마크다운 공간입니다.\n",
    "## 여기는 마크다운 공간입니다.\n",
    "### 여기는 마크다운 공간입니다.\n",
    "### 대괄호 안에 있는 숫자는 실행된 순서\n",
    "### view -> table of contents 누르면 왼쪽에 마크다운 모아서 볼 수 있음."
   ]
  },
  {
   "cell_type": "code",
   "execution_count": 19,
   "id": "91e601a9-57ce-44dc-935c-0fff019161a0",
   "metadata": {},
   "outputs": [
    {
     "name": "stdout",
     "output_type": "stream",
     "text": [
      "hello world\n"
     ]
    }
   ],
   "source": [
    "# 주석은 이렇게\n",
    "# 내가 이걸 또 하다니\n",
    "print('hello world')"
   ]
  },
  {
   "cell_type": "markdown",
   "id": "23b37e72-bcf7-4f84-8495-c1e1fab8d00a",
   "metadata": {},
   "source": [
    "[이것은 하이퍼링크입니다.](https://www.hufs.ac.kr/hufs/index.do)✅"
   ]
  },
  {
   "cell_type": "code",
   "execution_count": 21,
   "id": "f8db0498-85cf-4e8f-8d31-fa134a4f52f2",
   "metadata": {},
   "outputs": [],
   "source": [
    "num1=13\n",
    "num2=25\n",
    "# 이렇게도 가능: num1, num2 = 13, 25\n",
    "num2=77"
   ]
  },
  {
   "cell_type": "code",
   "execution_count": 23,
   "id": "4a522bb1-2b32-487e-98e1-56ff0c144682",
   "metadata": {},
   "outputs": [
    {
     "data": {
      "text/plain": [
       "77"
      ]
     },
     "execution_count": 23,
     "metadata": {},
     "output_type": "execute_result"
    }
   ],
   "source": [
    "num2"
   ]
  },
  {
   "cell_type": "code",
   "execution_count": 31,
   "id": "983b16cc-4c50-48c6-9b59-6c3e874a74d0",
   "metadata": {},
   "outputs": [
    {
     "data": {
      "text/plain": [
       "int"
      ]
     },
     "execution_count": 31,
     "metadata": {},
     "output_type": "execute_result"
    }
   ],
   "source": [
    "type(num2)"
   ]
  },
  {
   "cell_type": "code",
   "execution_count": 33,
   "id": "b65235e0-79aa-4ffd-9afd-0fd98229410e",
   "metadata": {},
   "outputs": [],
   "source": [
    "num3=3.1234\n",
    "num4=1.25\n",
    "num4=3.12"
   ]
  },
  {
   "cell_type": "code",
   "execution_count": 35,
   "id": "cd0c7e25-6b19-4c24-9e71-b015495a317d",
   "metadata": {},
   "outputs": [
    {
     "data": {
      "text/plain": [
       "3.12"
      ]
     },
     "execution_count": 35,
     "metadata": {},
     "output_type": "execute_result"
    }
   ],
   "source": [
    "num4"
   ]
  },
  {
   "cell_type": "code",
   "execution_count": 37,
   "id": "8d2288f9-4855-4336-b7cb-f5e6e6006828",
   "metadata": {},
   "outputs": [
    {
     "data": {
      "text/plain": [
       "float"
      ]
     },
     "execution_count": 37,
     "metadata": {},
     "output_type": "execute_result"
    }
   ],
   "source": [
    "type(num4)"
   ]
  },
  {
   "cell_type": "code",
   "execution_count": 43,
   "id": "4a5bd132-3d57-4524-bd30-8bb17509b59e",
   "metadata": {},
   "outputs": [
    {
     "data": {
      "text/plain": [
       "'easy python'"
      ]
     },
     "execution_count": 43,
     "metadata": {},
     "output_type": "execute_result"
    }
   ],
   "source": [
    "str1=\"funny python\"\n",
    "str2=\"easy python\"\n",
    "str1 # 이건 출력이 안 됨.\n",
    "# 변수명만 써서 출력할 경우 맨 마지막 변수의 결과만 출력됨.\n",
    "# 변수 여러개를 출력하고 싶으면 print()를 써야함. \n",
    "str2"
   ]
  },
  {
   "cell_type": "code",
   "execution_count": 41,
   "id": "1456a37f-6985-49f0-924e-af278f3194dd",
   "metadata": {},
   "outputs": [
    {
     "data": {
      "text/plain": [
       "str"
      ]
     },
     "execution_count": 41,
     "metadata": {},
     "output_type": "execute_result"
    }
   ],
   "source": [
    "type(str2)"
   ]
  },
  {
   "cell_type": "code",
   "execution_count": 45,
   "id": "a21f8ebc-d89e-4672-8b88-3d2b7c9cb65a",
   "metadata": {},
   "outputs": [
    {
     "data": {
      "text/plain": [
       "['False',\n",
       " 'None',\n",
       " 'True',\n",
       " 'and',\n",
       " 'as',\n",
       " 'assert',\n",
       " 'async',\n",
       " 'await',\n",
       " 'break',\n",
       " 'class',\n",
       " 'continue',\n",
       " 'def',\n",
       " 'del',\n",
       " 'elif',\n",
       " 'else',\n",
       " 'except',\n",
       " 'finally',\n",
       " 'for',\n",
       " 'from',\n",
       " 'global',\n",
       " 'if',\n",
       " 'import',\n",
       " 'in',\n",
       " 'is',\n",
       " 'lambda',\n",
       " 'nonlocal',\n",
       " 'not',\n",
       " 'or',\n",
       " 'pass',\n",
       " 'raise',\n",
       " 'return',\n",
       " 'try',\n",
       " 'while',\n",
       " 'with',\n",
       " 'yield']"
      ]
     },
     "execution_count": 45,
     "metadata": {},
     "output_type": "execute_result"
    }
   ],
   "source": [
    "# 파이썬 예약어를 확인하는 방법\n",
    "# 예약어는 변수명으로 쓸 수 없음.\n",
    "import keyword\n",
    "keyword.kwlist"
   ]
  },
  {
   "cell_type": "code",
   "execution_count": 47,
   "id": "57633d20-854d-4071-be78-b75035a4c3ae",
   "metadata": {},
   "outputs": [],
   "source": [
    "# 변수명 추천 사이트: https://www.curioustore.com/#!/\n",
    "# 변수명의 첫 글자는 가급적 소문자\n",
    "# 외울 필요 없음. 그때그때 찾아가면서 쓰면 됨."
   ]
  },
  {
   "cell_type": "code",
   "execution_count": 49,
   "id": "c257be3b-a45f-485c-9a79-130d3b229499",
   "metadata": {},
   "outputs": [
    {
     "name": "stdout",
     "output_type": "stream",
     "text": [
      "300\n"
     ]
    }
   ],
   "source": [
    "x = 100\n",
    "y = 200\n",
    "sum = x + y # \n",
    "print(sum)"
   ]
  },
  {
   "cell_type": "code",
   "execution_count": 51,
   "id": "e26030ca-0abd-4b04-bcae-229f37e0970b",
   "metadata": {},
   "outputs": [
    {
     "ename": "TypeError",
     "evalue": "'int' object is not callable",
     "output_type": "error",
     "traceback": [
      "\u001b[1;31m---------------------------------------------------------------------------\u001b[0m",
      "\u001b[1;31mTypeError\u001b[0m                                 Traceback (most recent call last)",
      "Cell \u001b[1;32mIn[51], line 1\u001b[0m\n\u001b[1;32m----> 1\u001b[0m \u001b[38;5;28msum\u001b[39m([\u001b[38;5;241m1\u001b[39m,\u001b[38;5;241m2\u001b[39m,\u001b[38;5;241m3\u001b[39m])\n",
      "\u001b[1;31mTypeError\u001b[0m: 'int' object is not callable"
     ]
    }
   ],
   "source": [
    "# 위에거 실행하고 이거 실행하면 오류남. sum이 int이기 때문에\n",
    "sum([1,2,3])"
   ]
  },
  {
   "cell_type": "code",
   "execution_count": 57,
   "id": "8aec28de-c87f-4740-85e2-1334ae61402f",
   "metadata": {},
   "outputs": [
    {
     "data": {
      "text/plain": [
       "(\"she's gone\", \"she's gone\")"
      ]
     },
     "execution_count": 57,
     "metadata": {},
     "output_type": "execute_result"
    }
   ],
   "source": [
    "# 작은 따옴표 쓰는 방법\n",
    "# \\n은 줄을 바꿔줌.\n",
    "\n",
    "s1 = \"she's gone\"\n",
    "s2 = \"she\\'s gone\"\n",
    "s1, s2"
   ]
  },
  {
   "cell_type": "code",
   "execution_count": 55,
   "id": "c735ea69-260d-40f8-96e3-2cb42afb0469",
   "metadata": {},
   "outputs": [
    {
     "data": {
      "text/plain": [
       "'write whatever you want'"
      ]
     },
     "execution_count": 55,
     "metadata": {},
     "output_type": "execute_result"
    }
   ],
   "source": [
    "# \"\"\"따옴표 3개 쓰기 = 자바스크립트 백틱 쓰기\"\"\"\n",
    "\"\"\"\n",
    "여러 줄 주석을 이렇게도 쓴다???\n",
    "\"\"\"\n",
    "s3 = \"\"\"write whatever you want\"\"\"\n",
    "s3"
   ]
  },
  {
   "cell_type": "code",
   "execution_count": 5,
   "id": "4f3fdaa4-d7d3-47c0-a0a2-798b42df574f",
   "metadata": {},
   "outputs": [
    {
     "name": "stdout",
     "output_type": "stream",
     "text": [
      "is SW\n",
      "is SW\n",
      "is SW\n",
      "My name is SW\n",
      "My name is SW\n"
     ]
    }
   ],
   "source": [
    "s = \"My name is SW\"\n",
    "print(s[8:13])\n",
    "print(s[-5:])\n",
    "print(s[8:])\n",
    "print(s)\n",
    "print(s[:])"
   ]
  },
  {
   "cell_type": "code",
   "execution_count": 9,
   "id": "5732f4e5-99b5-4d7d-8b44-31d8a77f78d0",
   "metadata": {},
   "outputs": [
    {
     "name": "stdout",
     "output_type": "stream",
     "text": [
      "날짜 : 2020년 3월 3일\n",
      "날씨 : 맑음\n"
     ]
    }
   ],
   "source": [
    "s = \"2020년 3월 3일의 날씨는 맑음입니다.\"\n",
    "print(\"날짜 : \" + s[:11])\n",
    "print(\"날씨 : \" + s[17:19])"
   ]
  },
  {
   "cell_type": "code",
   "execution_count": 15,
   "id": "436ba409-e126-447d-a4ca-aae23ec79596",
   "metadata": {},
   "outputs": [
    {
     "name": "stdout",
     "output_type": "stream",
     "text": [
      "my birthday is June 27.\n"
     ]
    }
   ],
   "source": [
    "month = \"June\"\n",
    "day = 27\n",
    "print(\"my birthday is {} {}.\".format(month, day))"
   ]
  },
  {
   "cell_type": "code",
   "execution_count": 21,
   "id": "4a7de2eb-7185-4652-84a4-5f134677a54a",
   "metadata": {},
   "outputs": [
    {
     "name": "stdout",
     "output_type": "stream",
     "text": [
      "100와 200의 합은 300입니다.\n",
      "100와 200의 합은 300입니다.\n"
     ]
    }
   ],
   "source": [
    "x = 100\n",
    "y = 200\n",
    "sum2 = x + y\n",
    "print(\"{}와 {}의 합은 {}입니다.\".format(x, y, sum2))\n",
    "print(f\"{x}와 {y}의 합은 {sum2}입니다.\")"
   ]
  },
  {
   "cell_type": "code",
   "execution_count": 45,
   "id": "86c77b12-07e7-48ca-8117-6ac157398122",
   "metadata": {},
   "outputs": [
    {
     "data": {
      "text/plain": [
       "3"
      ]
     },
     "execution_count": 45,
     "metadata": {},
     "output_type": "execute_result"
    }
   ],
   "source": [
    "sentence = \"   the air conditioner is not working...!!! Help!!!   \"\n",
    "sentence.count(\"e\")\n"
   ]
  },
  {
   "cell_type": "code",
   "execution_count": 47,
   "id": "fb6ab0f0-e85d-44a7-8cbb-cad1af150e62",
   "metadata": {},
   "outputs": [
    {
     "data": {
      "text/plain": [
       "'   the air conditioner is not working...!!! WTF!!!   '"
      ]
     },
     "execution_count": 47,
     "metadata": {},
     "output_type": "execute_result"
    }
   ],
   "source": [
    "sentence.replace(\"Help\", \"WTF\")"
   ]
  },
  {
   "cell_type": "code",
   "execution_count": 49,
   "id": "6a978f77-56a4-4249-8a73-3f1d49ea65c1",
   "metadata": {},
   "outputs": [
    {
     "data": {
      "text/plain": [
       "['   the air conditioner is not working', ' Help!!!   ']"
      ]
     },
     "execution_count": 49,
     "metadata": {},
     "output_type": "execute_result"
    }
   ],
   "source": [
    "sentence.split(\"...!!!\")"
   ]
  },
  {
   "cell_type": "code",
   "execution_count": 51,
   "id": "98668113-1799-4641-b0e6-adaf4c3f7c51",
   "metadata": {},
   "outputs": [
    {
     "data": {
      "text/plain": [
       "['',\n",
       " '',\n",
       " '',\n",
       " 'the',\n",
       " 'air',\n",
       " 'conditioner',\n",
       " 'is',\n",
       " 'not',\n",
       " 'working...!!!',\n",
       " 'Help!!!',\n",
       " '',\n",
       " '',\n",
       " '']"
      ]
     },
     "execution_count": 51,
     "metadata": {},
     "output_type": "execute_result"
    }
   ],
   "source": [
    "sentence.split(\" \")"
   ]
  },
  {
   "cell_type": "code",
   "execution_count": 53,
   "id": "fed56543-bf62-4894-a414-b324c29fefd2",
   "metadata": {},
   "outputs": [
    {
     "data": {
      "text/plain": [
       "'In this weather,    the air conditioner is not working...!!! Help!!!   '"
      ]
     },
     "execution_count": 53,
     "metadata": {},
     "output_type": "execute_result"
    }
   ],
   "source": [
    "word1 = \"In this weather,\"\n",
    "\" \".join([word1, sentence])"
   ]
  },
  {
   "cell_type": "code",
   "execution_count": 55,
   "id": "c9d63de5-d5b2-4c05-badb-e8a82e585cca",
   "metadata": {},
   "outputs": [
    {
     "data": {
      "text/plain": [
       "'the air conditioner is not working...!!! Help!!!'"
      ]
     },
     "execution_count": 55,
     "metadata": {},
     "output_type": "execute_result"
    }
   ],
   "source": [
    "# strip은 양쪽 끝 공백 제거\n",
    "sentence.strip()"
   ]
  },
  {
   "cell_type": "code",
   "execution_count": 64,
   "id": "a1df2b31-18e3-462c-9cf9-a22dd6b9045e",
   "metadata": {},
   "outputs": [
    {
     "name": "stdout",
     "output_type": "stream",
     "text": [
      "10/7 = 1.4285714285714286\n"
     ]
    }
   ],
   "source": [
    "n1 = 10\n",
    "n2 = 7\n",
    "print(f'{n1}/{n2} = {n1/n2}')"
   ]
  },
  {
   "cell_type": "code",
   "execution_count": 66,
   "id": "5e01787d-6f16-479e-add7-267bc7e5fd14",
   "metadata": {},
   "outputs": [
    {
     "name": "stdout",
     "output_type": "stream",
     "text": [
      " 1.429\n"
     ]
    }
   ],
   "source": [
    "print(f'{n1/n2 : .3f}') # 소수점 3째자리까지 출력"
   ]
  },
  {
   "cell_type": "code",
   "execution_count": 72,
   "id": "0814d33a-6f21-481e-bf69-a300cbd95ab3",
   "metadata": {},
   "outputs": [
    {
     "name": "stdout",
     "output_type": "stream",
     "text": [
      "더하기 결과 : 26\n",
      "빼기 결과 : 20\n",
      "곱하기 결과 : 69\n",
      "나누기 결과 : 7.666666666666667\n"
     ]
    }
   ],
   "source": [
    "N1 = 23\n",
    "N2 = 3\n",
    "print(f\"더하기 결과 : {N1 + N2}\")\n",
    "print(f\"빼기 결과 : {N1 - N2}\")\n",
    "print(f\"곱하기 결과 : {N1 * N2}\")\n",
    "print(f\"나누기 결과 : {N1 / N2}\")"
   ]
  },
  {
   "cell_type": "code",
   "execution_count": 1,
   "id": "4d733563-e7d5-4a36-b391-a54c02421208",
   "metadata": {},
   "outputs": [
    {
     "name": "stdin",
     "output_type": "stream",
     "text": [
      "정수를 입력하세요>>  7\n",
      "정수를 입력하세요>>  3\n"
     ]
    },
    {
     "name": "stdout",
     "output_type": "stream",
     "text": [
      "더하기 결과 : 10\n",
      "빼기 결과 : 4\n",
      "곱하기 결과 : 21\n",
      "평균 : 5.0\n"
     ]
    }
   ],
   "source": [
    "# 값 입력받기, 숫자로 써도 문자열로 저장됨.\n",
    "input_num1 = int(input('정수를 입력하세요>> '))\n",
    "input_num2 = int(input('정수를 입력하세요>> '))\n",
    "print(f'더하기 결과 : {input_num1 + input_num2}')\n",
    "print(f'빼기 결과 : {input_num1 - input_num2}')\n",
    "print(f'곱하기 결과 : {input_num1 * input_num2}')\n",
    "print(f'평균 : {(input_num1 + input_num2)/2}')"
   ]
  },
  {
   "cell_type": "code",
   "execution_count": 80,
   "id": "1bd50652-4eba-4400-910e-c3fc860914c0",
   "metadata": {},
   "outputs": [
    {
     "data": {
      "text/plain": [
       "23343"
      ]
     },
     "execution_count": 80,
     "metadata": {},
     "output_type": "execute_result"
    }
   ],
   "source": [
    "input_num"
   ]
  },
  {
   "cell_type": "code",
   "execution_count": 29,
   "id": "eee4c099-8cf5-454c-bf09-3704668ed8cd",
   "metadata": {},
   "outputs": [
    {
     "name": "stdin",
     "output_type": "stream",
     "text": [
      "초 입력>>  3723\n"
     ]
    },
    {
     "name": "stdout",
     "output_type": "stream",
     "text": [
      "1시간 2분 3초\n"
     ]
    }
   ],
   "source": [
    "time = int(input(\"초 입력>> \"))\n",
    "hour = time//(60*60)\n",
    "minute = (time%(60*60))//60\n",
    "second = time%60\n",
    "print(\"{}시간 {}분 {}초\".format(hour, minute, second))"
   ]
  },
  {
   "cell_type": "code",
   "execution_count": 31,
   "id": "10c6fc87-b648-4991-9b27-b54c90e5463f",
   "metadata": {},
   "outputs": [
    {
     "name": "stdin",
     "output_type": "stream",
     "text": [
      "정수 입력>> 3\n",
      "지수 입력>> 3\n"
     ]
    },
    {
     "name": "stdout",
     "output_type": "stream",
     "text": [
      "3의 3승은 27입니다.\n"
     ]
    }
   ],
   "source": [
    "num = int(input(\"정수 입력>>\"))\n",
    "power = int(input(\"지수 입력>>\"))\n",
    "print(\"{}의 {}승은 {}입니다.\".format(num, power, num**power))"
   ]
  },
  {
   "cell_type": "code",
   "execution_count": 3,
   "id": "8afc37ce-3b82-4a52-856a-0e22d8bc3cf5",
   "metadata": {},
   "outputs": [
    {
     "name": "stdout",
     "output_type": "stream",
     "text": [
      "a:6, b:4\n",
      "False\n",
      "True\n",
      "False\n",
      "True\n"
     ]
    }
   ],
   "source": [
    "import random\n",
    "\n",
    "a = random.randint(1,10)\n",
    "b = random.randint(1,10)\n",
    "print(\"a:{}, b:{}\".format(a,b))\n",
    "\n",
    "print(a<b)\n",
    "print(a>b)\n",
    "print(a==b)\n",
    "print(a!=b)"
   ]
  },
  {
   "cell_type": "code",
   "execution_count": 5,
   "id": "27dd7c0e-3066-4d26-8a09-369e0cf21caf",
   "metadata": {},
   "outputs": [
    {
     "data": {
      "text/plain": [
       "'합격'"
      ]
     },
     "execution_count": 5,
     "metadata": {},
     "output_type": "execute_result"
    }
   ],
   "source": [
    "score = 80\n",
    "\"합격\" if score>=60 else \"불합격\"\n",
    "# true면 왼쪽 꺼, false면 오른쪽 꺼 출력"
   ]
  },
  {
   "cell_type": "code",
   "execution_count": 7,
   "id": "cecb3557-502a-45f3-8dea-f8fef11ecd09",
   "metadata": {},
   "outputs": [
    {
     "name": "stdin",
     "output_type": "stream",
     "text": [
      "정수입력>> 3\n",
      "정수입력>> 10\n"
     ]
    },
    {
     "data": {
      "text/plain": [
       "'b: 10'"
      ]
     },
     "execution_count": 7,
     "metadata": {},
     "output_type": "execute_result"
    }
   ],
   "source": [
    "a = int(input(\"정수입력>>\"))\n",
    "b = int(input(\"정수입력>>\"))\n",
    "\n",
    "f\"a: {a}\"if a>b else f\"b: {b}\"\n",
    "f\"b: {b}\"if a<b else f\"a: {a}\""
   ]
  },
  {
   "cell_type": "code",
   "execution_count": 15,
   "id": "e733889d-501d-444e-974b-3a6d0e6d35b1",
   "metadata": {},
   "outputs": [
    {
     "name": "stdin",
     "output_type": "stream",
     "text": [
      "첫 번째 정수 입력>> 5\n",
      "두 번째 정수 입력>> 10\n"
     ]
    },
    {
     "data": {
      "text/plain": [
       "'두 수의 차 : 5'"
      ]
     },
     "execution_count": 15,
     "metadata": {},
     "output_type": "execute_result"
    }
   ],
   "source": [
    "a = int(input(\"첫 번째 정수 입력>>\"))\n",
    "b = int(input(\"두 번째 정수 입력>>\"))\n",
    "f\"두 수의 차 : {a-b}\" if a>b else f\"두 수의 차 : {b-a}\""
   ]
  },
  {
   "cell_type": "code",
   "execution_count": 19,
   "id": "d1a194f3-bde9-4442-92bd-47b45feac083",
   "metadata": {},
   "outputs": [
    {
     "name": "stdin",
     "output_type": "stream",
     "text": [
      "정수 입력>> 22\n"
     ]
    },
    {
     "data": {
      "text/plain": [
       "'22는 짝수입니다.'"
      ]
     },
     "execution_count": 19,
     "metadata": {},
     "output_type": "execute_result"
    }
   ],
   "source": [
    "a = int(input(\"정수 입력>>\"))\n",
    "\n",
    "f\"{a}는 짝수입니다.\" if a%2==0 else f\"{a}는 홀수입니다.\""
   ]
  }
 ],
 "metadata": {
  "kernelspec": {
   "display_name": "Python 3 (ipykernel)",
   "language": "python",
   "name": "python3"
  },
  "language_info": {
   "codemirror_mode": {
    "name": "ipython",
    "version": 3
   },
   "file_extension": ".py",
   "mimetype": "text/x-python",
   "name": "python",
   "nbconvert_exporter": "python",
   "pygments_lexer": "ipython3",
   "version": "3.12.4"
  }
 },
 "nbformat": 4,
 "nbformat_minor": 5
}
