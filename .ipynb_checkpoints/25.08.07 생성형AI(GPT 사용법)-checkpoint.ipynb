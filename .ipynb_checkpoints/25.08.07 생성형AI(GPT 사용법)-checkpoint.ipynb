{
 "cells": [
  {
   "cell_type": "markdown",
   "id": "12fdf045-110b-4eeb-8d65-1454f7d4ea10",
   "metadata": {},
   "source": [
    "# **GPT API 사용법 드가자**"
   ]
  },
  {
   "cell_type": "markdown",
   "id": "735d85db-ab91-4ce7-b7fc-00dd7ec321db",
   "metadata": {},
   "source": [
    "## API\n",
    "- Application Programming Interface\n",
    "- 프로그램과 프로그램이 대화하는 방법\n",
    "- 다른 서비스나 프로그램의 기능을 네 프로그램에 쉽게 가져다 쓰기 위해 사용\n",
    "\n",
    "## GPT API\n",
    "- OpenAI의 GPT 모델을 내 프로그램에서 사용할 수 있도록 제공하는 API\n",
    "- GPT 모델 종류: gpt-4o, gpt-4o-mini, gpt-3.5-turbo\n",
    "- 텍스트 생성, 번역, 요약, 질문-답변, 분류 등 지원"
   ]
  },
  {
   "cell_type": "code",
   "execution_count": 2,
   "id": "49cae223-6f0b-41a9-b6fc-6645613b3fe8",
   "metadata": {
    "scrolled": true
   },
   "outputs": [
    {
     "name": "stdout",
     "output_type": "stream",
     "text": [
      "Collecting openai\n",
      "  Downloading openai-1.99.1-py3-none-any.whl.metadata (29 kB)\n",
      "Requirement already satisfied: anyio<5,>=3.5.0 in c:\\users\\user\\anaconda3\\lib\\site-packages (from openai) (4.2.0)\n",
      "Requirement already satisfied: distro<2,>=1.7.0 in c:\\users\\user\\anaconda3\\lib\\site-packages (from openai) (1.9.0)\n",
      "Requirement already satisfied: httpx<1,>=0.23.0 in c:\\users\\user\\anaconda3\\lib\\site-packages (from openai) (0.27.0)\n",
      "Collecting jiter<1,>=0.4.0 (from openai)\n",
      "  Downloading jiter-0.10.0-cp312-cp312-win_amd64.whl.metadata (5.3 kB)\n",
      "Requirement already satisfied: pydantic<3,>=1.9.0 in c:\\users\\user\\anaconda3\\lib\\site-packages (from openai) (2.5.3)\n",
      "Requirement already satisfied: sniffio in c:\\users\\user\\anaconda3\\lib\\site-packages (from openai) (1.3.0)\n",
      "Requirement already satisfied: tqdm>4 in c:\\users\\user\\anaconda3\\lib\\site-packages (from openai) (4.66.4)\n",
      "Requirement already satisfied: typing-extensions<5,>=4.11 in c:\\users\\user\\anaconda3\\lib\\site-packages (from openai) (4.14.1)\n",
      "Requirement already satisfied: idna>=2.8 in c:\\users\\user\\anaconda3\\lib\\site-packages (from anyio<5,>=3.5.0->openai) (3.7)\n",
      "Requirement already satisfied: certifi in c:\\users\\user\\anaconda3\\lib\\site-packages (from httpx<1,>=0.23.0->openai) (2025.6.15)\n",
      "Requirement already satisfied: httpcore==1.* in c:\\users\\user\\anaconda3\\lib\\site-packages (from httpx<1,>=0.23.0->openai) (1.0.2)\n",
      "Requirement already satisfied: h11<0.15,>=0.13 in c:\\users\\user\\anaconda3\\lib\\site-packages (from httpcore==1.*->httpx<1,>=0.23.0->openai) (0.14.0)\n",
      "Requirement already satisfied: annotated-types>=0.4.0 in c:\\users\\user\\anaconda3\\lib\\site-packages (from pydantic<3,>=1.9.0->openai) (0.6.0)\n",
      "Requirement already satisfied: pydantic-core==2.14.6 in c:\\users\\user\\anaconda3\\lib\\site-packages (from pydantic<3,>=1.9.0->openai) (2.14.6)\n",
      "Requirement already satisfied: colorama in c:\\users\\user\\anaconda3\\lib\\site-packages (from tqdm>4->openai) (0.4.6)\n",
      "Downloading openai-1.99.1-py3-none-any.whl (767 kB)\n",
      "   ---------------------------------------- 0.0/767.8 kB ? eta -:--:--\n",
      "   -- ------------------------------------- 41.0/767.8 kB 2.0 MB/s eta 0:00:01\n",
      "   --------------------------------------  757.8/767.8 kB 12.1 MB/s eta 0:00:01\n",
      "   ---------------------------------------- 767.8/767.8 kB 9.7 MB/s eta 0:00:00\n",
      "Downloading jiter-0.10.0-cp312-cp312-win_amd64.whl (206 kB)\n",
      "   ---------------------------------------- 0.0/206.2 kB ? eta -:--:--\n",
      "   --------------------------------------- 206.2/206.2 kB 12.2 MB/s eta 0:00:00\n",
      "Installing collected packages: jiter, openai\n",
      "Successfully installed jiter-0.10.0 openai-1.99.1\n"
     ]
    }
   ],
   "source": [
    "# !pip install openai"
   ]
  },
  {
   "cell_type": "code",
   "execution_count": 12,
   "id": "992bdbd5-6430-4c4c-b0e9-d9297132fe9c",
   "metadata": {},
   "outputs": [],
   "source": [
    "from openai import OpenAI\n",
    "# 보안 정보를 화면에 표시없이 입력받을 때 사용하는 함수\n",
    "from getpass import getpass"
   ]
  },
  {
   "cell_type": "markdown",
   "id": "23c18a00-cc81-4072-8c9e-cc9c67a3a707",
   "metadata": {},
   "source": [
    "## 1) API Key 설정\n",
    "- API Key는 잘못 유출되면 엄청난 금전적 손실을 볼 수 있으므로 감춰서 사용하기\n",
    "### getpass\n",
    "- 터미널에 입력한 글자를 화면에 표시하지 않고 안전하게 비밀 값을 입력받을 때 사용\n",
    "- API 키 받을 때 딱 좋음.\n"
   ]
  },
  {
   "cell_type": "code",
   "execution_count": 14,
   "id": "2fba9930-cccb-4ae6-aa2f-1d9cf4cffdb4",
   "metadata": {},
   "outputs": [
    {
     "name": "stdin",
     "output_type": "stream",
     "text": [
      "OpenAi Key:  ········\n"
     ]
    }
   ],
   "source": [
    "My_API_KEY = getpass.getpass(\"OpenAi Key: \")"
   ]
  },
  {
   "cell_type": "markdown",
   "id": "351ae840-d798-4d27-b049-455828474b08",
   "metadata": {},
   "source": [
    "## 2) OpenAI 객체 생성\n",
    "- client = OpenAI(api_key = My_API_KEY)\n",
    "  - api_key 매개변수에 getpass()로 입력받은 키를 직접 넣어서 인증\n",
    "  - 이후 client 객체로 GPT API를 호출할 수 있음."
   ]
  },
  {
   "cell_type": "code",
   "execution_count": 16,
   "id": "70fcdeac-79bb-4b03-a37e-259666ee03c5",
   "metadata": {},
   "outputs": [],
   "source": [
    "client = OpenAI(api_key = My_API_KEY)"
   ]
  },
  {
   "cell_type": "markdown",
   "id": "75df9327-49c4-430d-9683-7b4570853989",
   "metadata": {},
   "source": [
    "## 3) GPT 채팅 모델 불러와서 질문 해보기\n",
    "- .chat.completions.create: OpenAI의 채팅 API 생성\n",
    "  - .chat: 대화 형식의 프롬프트를 주고받겠다는 뜻\n",
    "    - GPT는 사실 여러 가지 모드가 있음.\n",
    "      - 대화(Chat) 모드 → 질문과 대답 주고받기\n",
    "      - 이미지 모드 → 그림 만들기\n",
    "      - 오디오 모드 → 음성 만들거나 음성 인식하기\n",
    "  - .completion(완성하기): 내 프롬프트를 보고 완성(completion)된 답변을 생성해달라는 의미\n",
    "  - .create: 새 응답을 생성하라는 뜻의 메소드. 서버에 요청을 보내서 GPT 모델이 답을 create 하게 함.\n",
    "- parameter\n",
    "  - model: 답변을 생성할 GPT 버전 하나 고르기\n",
    "  - messages: GPT에게 보내는 대화 내용\n",
    "    - {role: 'user', ...}: 이건 내가 한 말이라는 뜻\n",
    "    - {..., content: question}: 내가 하고 싶은 질문\n",
    "  - max_tokens: GPT가 대답할 때 최대 글자 수 제한. 너무 길게 떠들지 말라는 뜻^^\n",
    "  - temperature: GPT의 재미, 창의성 정도를 정하는 변수 (0~2)\n",
    "    - 0: 진지하고 똑같은 대답을 함.\n",
    "    - 2: 상상력 풍부하고 다양하게 대답함.\n",
    "    - 0.8이 디폴트임."
   ]
  },
  {
   "cell_type": "code",
   "execution_count": 30,
   "id": "8251d26f-c743-41fb-b7b6-c64e493c1a89",
   "metadata": {},
   "outputs": [
    {
     "data": {
      "text/plain": [
       "ChatCompletion(id='chatcmpl-C1nFFOa0mX4sM2HbyLfVbkFBdSK8v', choices=[Choice(finish_reason='stop', index=0, logprobs=None, message=ChatCompletionMessage(content=\"Hello! I'm just here, ready to chat and help with anything you need. How can I assist you today?\", refusal=None, role='assistant', annotations=[], audio=None, function_call=None, tool_calls=None))], created=1754543661, model='gpt-3.5-turbo-0125', object='chat.completion', service_tier='default', system_fingerprint=None, usage=CompletionUsage(completion_tokens=24, prompt_tokens=13, total_tokens=37, completion_tokens_details=CompletionTokensDetails(accepted_prediction_tokens=0, audio_tokens=0, reasoning_tokens=0, rejected_prediction_tokens=0), prompt_tokens_details=PromptTokensDetails(audio_tokens=0, cached_tokens=0)))"
      ]
     },
     "execution_count": 30,
     "metadata": {},
     "output_type": "execute_result"
    }
   ],
   "source": [
    "question = \"Hi! What's up?\"\n",
    "\n",
    "response = client.chat.completions.create(model = \"gpt-3.5-turbo\",\n",
    "                                          messages = [{'role':'user','content':question}],\n",
    "                                          max_tokens = 150,\n",
    "                                          temperature = 0)\n",
    "response"
   ]
  },
  {
   "cell_type": "code",
   "execution_count": 32,
   "id": "62fae271-f232-43c5-b065-03787b399fc0",
   "metadata": {},
   "outputs": [
    {
     "data": {
      "text/plain": [
       "openai.types.chat.chat_completion.ChatCompletion"
      ]
     },
     "execution_count": 32,
     "metadata": {},
     "output_type": "execute_result"
    }
   ],
   "source": [
    "type(response)"
   ]
  },
  {
   "cell_type": "markdown",
   "id": "b293f060-5f96-480a-bcc8-f7cef8ea3602",
   "metadata": {},
   "source": [
    "## 4) 답변 꺼내기\n",
    "- response에는 GPT가 보내준 모든 정보가 들어있음. GPT의 대답, 대답 만든 시간, 대답 길이 등 메타데이터가 다 들어있음.\n",
    "- response.id\n",
    "  - 요청·응답에 붙는 고유 id번호\n",
    "  - 로그 남기기, 디버깅(문제 생겼을 때 찾기)할 때 유용\n",
    "- response.choices\n",
    "  - 모델이 만든 답 후보들의 리스트\n",
    "  - 옵션에 따라 여러 개의 답을 한 번에 뽑을 수도 있어서\n",
    "- response.choices[0].message\n",
    "  - 첫 번째 답의 본문 객체\n",
    "  - role, content가 안에 있는데, content에 답변이 있음!!!✨\n",
    "- response.choices[0].message.role\n",
    "  - 모델이 응답할 때 role은 항상 assistant로 출력됨.\n",
    "  - 우리가 질문할 때는 user로 질문해야함.\n",
    "- response.choices[0].message.content: 내가 한 질문에 대한 GPT의 답변"
   ]
  },
  {
   "cell_type": "code",
   "execution_count": 34,
   "id": "07ad8af5-24ee-47cf-ade4-263947378943",
   "metadata": {},
   "outputs": [
    {
     "data": {
      "text/plain": [
       "'chatcmpl-C1nFFOa0mX4sM2HbyLfVbkFBdSK8v'"
      ]
     },
     "execution_count": 34,
     "metadata": {},
     "output_type": "execute_result"
    }
   ],
   "source": [
    "response.id"
   ]
  },
  {
   "cell_type": "code",
   "execution_count": 36,
   "id": "30e1e191-a675-439b-b756-cafe79733c05",
   "metadata": {},
   "outputs": [
    {
     "data": {
      "text/plain": [
       "[Choice(finish_reason='stop', index=0, logprobs=None, message=ChatCompletionMessage(content=\"Hello! I'm just here, ready to chat and help with anything you need. How can I assist you today?\", refusal=None, role='assistant', annotations=[], audio=None, function_call=None, tool_calls=None))]"
      ]
     },
     "execution_count": 36,
     "metadata": {},
     "output_type": "execute_result"
    }
   ],
   "source": [
    "response.choices # 리스트 형태"
   ]
  },
  {
   "cell_type": "code",
   "execution_count": 40,
   "id": "bb4ac364-e8ae-49a1-a217-ac625c4a4838",
   "metadata": {},
   "outputs": [
    {
     "data": {
      "text/plain": [
       "ChatCompletionMessage(content=\"Hello! I'm just here, ready to chat and help with anything you need. How can I assist you today?\", refusal=None, role='assistant', annotations=[], audio=None, function_call=None, tool_calls=None)"
      ]
     },
     "execution_count": 40,
     "metadata": {},
     "output_type": "execute_result"
    }
   ],
   "source": [
    "response.choices[0].message"
   ]
  },
  {
   "cell_type": "code",
   "execution_count": 42,
   "id": "6e410290-dd92-43a0-af73-1f5a9569f030",
   "metadata": {},
   "outputs": [
    {
     "data": {
      "text/plain": [
       "'assistant'"
      ]
     },
     "execution_count": 42,
     "metadata": {},
     "output_type": "execute_result"
    }
   ],
   "source": [
    "response.choices[0].message.role # 계속 .으로 접근"
   ]
  },
  {
   "cell_type": "code",
   "execution_count": 44,
   "id": "010ba241-a67b-4a4a-b4bb-3f53af6d510a",
   "metadata": {},
   "outputs": [
    {
     "data": {
      "text/plain": [
       "\"Hello! I'm just here, ready to chat and help with anything you need. How can I assist you today?\""
      ]
     },
     "execution_count": 44,
     "metadata": {},
     "output_type": "execute_result"
    }
   ],
   "source": [
    "response.choices[0].message.content # 응답 텍스트 출력"
   ]
  },
  {
   "cell_type": "markdown",
   "id": "0f58b15f-81a5-485e-a5d4-8d5d23ebdaf5",
   "metadata": {},
   "source": [
    "## ⚠️자주 발생하는 코드 에러\n",
    "- RateLimitError: 이제 그만! 오늘 쓸 수 있는 코인을 다 썼어!!!\n",
    "  - API 크레딧 사용 한도를 초과한 경우\n",
    "  - API는 하루나 1분 단위로 부를 수 있는 횟수 또는 쓸 수 있는 크레딧 양이 정해져 있음.\n",
    "  - 해결방법: 시간이 지나서 한도가 초기화될 때까지 기다리기, API 호출 횟수 줄이기\n",
    "- InvalidRequestError: GPT한테 보낸 요청 내용에 오류가 있을 때\n",
    "  - 모델 이름을 잘못 썼다던가 메세지 형식이 잘못되었다던가...\n",
    "- APIConnectionError: 전화가 안 터져서 연결이 안 돼\n",
    "  - API서버와의 연결 문제를 발생한 경우 ex) 인터넷이 끊김. 서버가 잠시 다운 됨.\n",
    "  - 해결방법: 인터넷 연결 확인, 잠시 후 다시 시도\n",
    "- OpenAIError: 정확히는 모르겠지만 에러가 남.\n",
    "  - 기타 openai 라이브러리 사용시 발생하는 에러"
   ]
  },
  {
   "cell_type": "code",
   "execution_count": 57,
   "id": "ea7d0afc-8214-41a9-90a1-d8c1034d07c9",
   "metadata": {},
   "outputs": [
    {
     "name": "stdout",
     "output_type": "stream",
     "text": [
      "SSE, SSR, and SST are terms commonly used in statistics to describe the variation in a dataset.\n",
      "\n",
      "1. SSE (Sum of Squared Errors): SSE is a measure of the variation within a dataset that is not explained by a statistical model. It is calculated by summing the squared differences between the observed values and the predicted values from the model.\n",
      "\n",
      "2. SSR (Sum of Squared Regression): SSR is a measure of the variation in a dataset that is explained by a statistical model. It is calculated by summing the squared differences between the predicted values from the model and the mean of the observed values.\n",
      "\n",
      "3. SST (Total Sum of Squares): SST is the total variation in a dataset and is calculated by summing the squared differences between the observed values and the mean of the observed values. It is equal to the sum of SSE and SSR.\n",
      "\n",
      "These terms are commonly used in regression analysis to assess the goodness of fit of a model and to determine how much of the variation in the data can be explained by the model.\n"
     ]
    }
   ],
   "source": [
    "question = \"What's SSE, SSR, SST???\"\n",
    "\n",
    "response = client.chat.completions.create(model = \"gpt-3.5-turbo\",\n",
    "                                          messages = [{'role':'user','content':question}],\n",
    "                                          temperature = 0)\n",
    "print(response.choices[0].message.content)"
   ]
  },
  {
   "cell_type": "code",
   "execution_count": 59,
   "id": "785a766e-d4cc-44ae-b2df-2b73dfa581b6",
   "metadata": {},
   "outputs": [
    {
     "name": "stdout",
     "output_type": "stream",
     "text": [
      "I'm sorry, but as an AI language model, I do not have the ability to visualize data. However, I can help analyze and interpret data if you provide me with the necessary information.\n"
     ]
    }
   ],
   "source": [
    "# 없는 데이터에 대한 요청\n",
    "question = \"Can you visualize last year's sales data???\"\n",
    "\n",
    "response = client.chat.completions.create(model = \"gpt-3.5-turbo\",\n",
    "                                          messages = [{'role':'user','content':question}],\n",
    "                                          temperature = 0)\n",
    "print(response.choices[0].message.content)"
   ]
  },
  {
   "cell_type": "code",
   "execution_count": 61,
   "id": "c4479cd0-6537-435b-a9ef-6d0ff62125ff",
   "metadata": {},
   "outputs": [
    {
     "name": "stdout",
     "output_type": "stream",
     "text": [
      "I'm unable to visualize data directly as I don't have access to external databases or files, and I can't create visual content. However, I can guide you on how to visualize your sales data using tools like Microsoft Excel, Google Sheets, or data visualization software like Tableau or Power BI.\n",
      "\n",
      "Here's a basic guide on how you can visualize sales data using Excel:\n",
      "\n",
      "1. **Organize Your Data**: Ensure your sales data is organized in a spreadsheet with columns for relevant information such as Date, Product, Sales Amount, Region, etc.\n",
      "\n",
      "2. **Select Your Data**: Highlight the data you want to visualize.\n",
      "\n",
      "3. **Insert a Chart**:\n",
      "   - Go to the \"Insert\" tab in Excel.\n",
      "   - Choose the type of chart that best represents your data. Common choices for sales data include Line Charts (for trends over time), Bar Charts (for comparing categories), or Pie Charts (for showing proportions).\n",
      "\n",
      "4. **Customize Your Chart**:\n",
      "   - Add titles and labels to make your chart easy to understand.\n",
      "   - Use different colors to differentiate data series.\n",
      "   - Adjust the axes if necessary to better display your data.\n",
      "\n",
      "5. **Analyze Trends**: Look for patterns such as seasonal trends, growth over time, or differences between categories.\n",
      "\n",
      "If you have access to more advanced tools like Tableau or Power BI, you can create more interactive and complex visualizations. These tools allow for dynamic filtering, drill-downs, and more sophisticated data analysis.\n",
      "\n",
      "If you have specific questions or need further assistance with a particular tool, feel free to ask!\n"
     ]
    }
   ],
   "source": [
    "# 없는 데이터에 대한 요청\n",
    "question = \"Can you visualize last year's sales data???\"\n",
    "\n",
    "response = client.chat.completions.create(model = \"gpt-4o\", # 상위 모델의 성능이 뛰어남!!\n",
    "                                          messages = [{'role':'user','content':question}],\n",
    "                                          temperature = 0)\n",
    "print(response.choices[0].message.content)\n",
    "# 현재는 ChatGPT 서비스를 이용하는 게 아니라 API로 로컬에서 동작시키기 때문에 직접 시각화된 이미지가 나오지는 않고 코드로 제공함."
   ]
  },
  {
   "cell_type": "code",
   "execution_count": 67,
   "id": "23b47bf0-fa3a-4842-8337-6b6dc9f73876",
   "metadata": {},
   "outputs": [
    {
     "name": "stdout",
     "output_type": "stream",
     "text": [
      "1. Cost: One of the major factors that leads people to unsubscribe from platforms like Netflix is the cost. As subscription fees continue to rise, some users may find it difficult to justify the expense, especially if they are not using the platform frequently or if they can find similar content for free elsewhere.\n",
      "\n",
      "2. Lack of content: Another reason people may unsubscribe from platforms like Netflix is if they feel that the content available is not worth the subscription fee. If users are not finding shows or movies that interest them, they may choose to cancel their subscription and look for entertainment elsewhere.\n",
      "\n",
      "3. Competition: With the rise of other streaming platforms like Amazon Prime, Hulu, Disney+, and HBO Max, users may choose to unsubscribe from Netflix in favor of a different platform that offers content they prefer or that is more affordable.\n",
      "\n",
      "4. Technical issues: If users experience frequent technical issues such as buffering, poor video quality, or difficulty navigating the platform, they may become frustrated and decide to cancel their subscription.\n",
      "\n",
      "5. Changing preferences: People's entertainment preferences can change over time, and what once appealed to them on Netflix may no longer hold their interest. As a result, they may choose to unsubscribe in search of new content that better aligns with their current tastes.\n",
      "\n",
      "6. Personal reasons: There may be personal reasons that lead individuals to unsubscribe from Netflix, such as a change in financial circumstances, a desire to reduce screen time, or a decision to prioritize other activities or hobbies.\n"
     ]
    }
   ],
   "source": [
    "# 없는 데이터에 대한 요청\n",
    "question = \"What major factors are there that leads people to unsucscribe platforms like Netflix???\"\n",
    "\n",
    "response = client.chat.completions.create(model = \"gpt-3.5-turbo\",\n",
    "                                          messages = [{'role':'user','content':question}],\n",
    "                                          temperature = 0)\n",
    "print(response.choices[0].message.content)"
   ]
  },
  {
   "cell_type": "markdown",
   "id": "dbe97ea2-6559-4375-9456-af518d88aadb",
   "metadata": {},
   "source": [
    "## 입력된 파일에 대한 분석 요청"
   ]
  },
  {
   "cell_type": "code",
   "execution_count": 22,
   "id": "7a718e04-bbe3-4fb1-a815-91f7d80b1271",
   "metadata": {},
   "outputs": [],
   "source": [
    "# 파일 위치를 data 매개변수에, 질문을 question에, 모델명을 model에 넣기\n",
    "def analysis_data(data, question, model):\n",
    "    prompt = f\"Data: {data}, Question: {question}\" # data에는 파일 경로가 들어감.\n",
    "    response = client.chat.completions.create(model = model,\n",
    "                                          messages = [{'role':'user','content':prompt}],\n",
    "                                          temperature = 0)\n",
    "    return response.choices[0].message.content"
   ]
  },
  {
   "cell_type": "code",
   "execution_count": 24,
   "id": "7840731d-c49e-42e9-9cdb-ace498c04433",
   "metadata": {},
   "outputs": [
    {
     "name": "stdout",
     "output_type": "stream",
     "text": [
      "To determine the number of people in each BMI category from the CSV file `bmi_500.csv`, you would typically need to load the data and then count the occurrences of each label. Since I can't directly access files, I'll guide you on how to do this using Python with the pandas library:\n",
      "\n",
      "1. **Load the CSV file**: Use pandas to read the CSV file into a DataFrame.\n",
      "2. **Count the occurrences of each label**: Use the `value_counts()` function to count how many times each label appears.\n",
      "\n",
      "Here's a sample code snippet to achieve this:\n",
      "\n",
      "```python\n",
      "import pandas as pd\n",
      "\n",
      "# Load the CSV file into a DataFrame\n",
      "df = pd.read_csv('data/bmi_500.csv')\n",
      "\n",
      "# Count the occurrences of each label\n",
      "label_counts = df['label'].value_counts()\n",
      "\n",
      "# Print the counts for each label\n",
      "print(label_counts)\n",
      "```\n",
      "\n",
      "This code will output the number of people in each BMI category, assuming the column containing the BMI labels is named 'label'. If the column name is different, you should replace `'label'` with the correct column name. The output will list the categories from 'Extremely Weak' to 'Extreme Obesity' along with their respective counts.\n"
     ]
    }
   ],
   "source": [
    "data = \"data/bmi_500.csv\"\n",
    "question = \"\"\"This is a csv file that contains height, weight, gender, label(bmi data) of 500 people.\n",
    "I want you to tell me number of people of each labels from 'Extremely Weak' to 'Extreme Obesity'.\"\"\"\n",
    "model = \"gpt-4o\"\n",
    "\n",
    "result = analysis_data(data, question, model)\n",
    "print(result)"
   ]
  },
  {
   "cell_type": "markdown",
   "id": "b2329c59-5aca-4af5-b381-285e017cdee1",
   "metadata": {},
   "source": [
    "## Recap\n",
    "- API로 만든 프로그램을 각자 자기 컴퓨터에서 실행한다고 했을 때, 사람마다 설치된 파이썬 버전, 라이브러리, 운영체제, 화면 환경이 다르기 때문에, 시각화(그래프, 차트) 같은 걸 보여주는 코드를 모든 환경에서 돌아갈 수 있는 형태로 짜서 공유하는 경우가 많다.\\\n",
    "➡️누구나 쓸 수 있는 표준 코드로 만들어야 한다.\n",
    "- ChapGPT 웹 버전 3.5 무료 버전은 파일 입력 기능이 없지만, GPT API의 3.5버전은 로컬 pc의 파일을 읽어올 수 있음.\n",
    "- gpt-4나 gpt-4o처럼 상위 버전 모델이 보통 더 똑똑하고 답변 품질이 좋지만, AI모든 응답이 정확성을 담보로 하지 않기 때문에 100% 믿으면 안 됨."
   ]
  },
  {
   "cell_type": "code",
   "execution_count": null,
   "id": "751e7f7a-e956-46c4-983d-d78fbaf7614b",
   "metadata": {},
   "outputs": [],
   "source": []
  }
 ],
 "metadata": {
  "kernelspec": {
   "display_name": "Python 3 (ipykernel)",
   "language": "python",
   "name": "python3"
  },
  "language_info": {
   "codemirror_mode": {
    "name": "ipython",
    "version": 3
   },
   "file_extension": ".py",
   "mimetype": "text/x-python",
   "name": "python",
   "nbconvert_exporter": "python",
   "pygments_lexer": "ipython3",
   "version": "3.12.4"
  }
 },
 "nbformat": 4,
 "nbformat_minor": 5
}
