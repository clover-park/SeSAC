{
 "cells": [
  {
   "cell_type": "markdown",
   "id": "31dda9ba-4d3e-45a2-91df-87f3741ccf38",
   "metadata": {},
   "source": [
    "### 특정 키워드로 유튜브 검색 후 영상 제목과 조회수를 크롤링 해보자.\n",
    "- 썸네일 크기가 작은 영상들 제외하고 메인 영상들만 수집하기"
   ]
  },
  {
   "cell_type": "code",
   "execution_count": 1,
   "id": "6b04bbae-8968-446c-bf69-a9f5a76bbb05",
   "metadata": {},
   "outputs": [],
   "source": [
    "from selenium import webdriver as wb\n",
    "from selenium.webdriver.common.by import By\n",
    "from selenium.webdriver.common.keys import Keys\n",
    "from tqdm import tqdm\n",
    "import pandas as pd\n",
    "import time"
   ]
  },
  {
   "cell_type": "code",
   "execution_count": 3,
   "id": "0101a767-dcf7-48bb-9687-942ac1971006",
   "metadata": {},
   "outputs": [
    {
     "name": "stdin",
     "output_type": "stream",
     "text": [
      "what do you want to searh? : 뉴스\n"
     ]
    }
   ],
   "source": [
    "driver = wb.Chrome()\n",
    "driver.maximize_window()\n",
    "keyword = input('what do you want to searh? :')\n",
    "driver.get(f'https://www.youtube.com/results?search_query={keyword}')"
   ]
  },
  {
   "cell_type": "markdown",
   "id": "98efb562-262a-4bb8-a346-9815777b8a51",
   "metadata": {},
   "source": [
    "### 메인 영상 제목 가져오기\n",
    "- 작은 영상들, 쇼츠 말고 메인 영상"
   ]
  },
  {
   "cell_type": "code",
   "execution_count": 79,
   "id": "e33a4c9f-ff6f-4379-b4fe-65066d489bde",
   "metadata": {
    "scrolled": true
   },
   "outputs": [
    {
     "name": "stdout",
     "output_type": "stream",
     "text": [
      "number of videos:  20\n",
      "2025년 7월 10일 (목) 오늘의 주요 뉴스 #Shorts\n",
      "민주당 \"체포동의안 오면 다 가결 시킬 것\"‥ #Shorts (MBC뉴스)\n",
      "[속보] 재구속 윤 전대통령 '내란재판' 불출석 - [MBC 뉴스속보] MBC뉴스 2025년 07월 10일\n",
      "윤 전 대통령 구속영장 발부 - \"증거 인멸 염려\" - [LIVE] MBC 뉴스특보 2025년 07월 10일\n",
      "[풀영상] 뉴스광장 : 윤석열 전 대통령 재구속…“증거인멸 염려” - 2025년 7월 10일(목) / KBS\n",
      "'321호' 법정의 윤석열‥다시 '구속' 기로에 - [LIVE] MBC 뉴스데스크 2025년 07월 09일\n",
      "SBS 모닝와이드 | 7/10(목) - 윤석열 전 대통령 재구속…3대 특검 수사 본격화 外\n",
      "넉 달 만에 재구속‥\"외환 혐의 등 수사 탄력\" - [LIVE] MBC 뉴스투데이 2025년 7월 10일\n",
      "\"발부하면 법원 쳐들어간다\"…뙤약볕 아래 \"기각!\" 격앙 / JTBC 뉴스룸\n",
      "[뉴스쏙] 이러다 40도 간다…\"더워서 못산다 출근 안할란다\"｜'대기 불안정' 기습 폭우도 예보…역대급 무더위에 여기저기 난리통 /연합뉴스TV(YonhapnewsTV)\n",
      "[윤석열 구속영장심사] 7월 9일 (수) JTBC 뉴스특보 풀영상 / JTBC News\n",
      "이 시각 윤석열 전대통령 구속영장 심사 상황..尹 '운명의 날' 재구속 기로 - [끝까지LIVE] MBC 중계방송 2025년 07월 09일\n",
      "[오늘 이 뉴스] 오늘 밤은 감방? 자택? 기로..영장심사 딱 맞춰 나타난 尹 (2025.07.09/MBC뉴스)\n",
      "🔴LIVE '윤 구속' 반대 집회 현장 | \"영장 기각돼야 .. 보수 지지자 4천 명 모인다\" | SBS 실시간 라이브\n",
      "[속보] 김건희 특검 \"김여사 집사 4월 출국..여권 무효화 조치\" - [현장PLAY] MBC뉴스 2025년 07월 09일\n",
      "[오늘 이 뉴스] \"아직도 헌법 위에 있는 줄\"..'尹 태도' 본 변호사 '분노' (2025.07.09/MBC뉴스)\n",
      "[속보] 법원, 윤석열 전 대통령 구속영장 발부 / 연합뉴스TV (YonhapnewsTV)\n",
      "[오늘 이 뉴스] \"세계에서 가장 위험한 나라\"..'K방산' 각별한 의미 부여 (2025.07.08/MBC뉴스)\n",
      "[오늘 이 뉴스] \"국무회의 올 자격도 없어\" 말귀 못 알아듣자 '직격' (2025.07.09/MBC뉴스)\n",
      "[오늘 이 뉴스] \"눈시울 뜨거울 정도로 감사\" 대통령 만나 인사하다 울컥 (2025.07.09/MBC뉴스)\n"
     ]
    }
   ],
   "source": [
    "videos = driver.find_elements(By.CSS_SELECTOR,'#video-title > yt-formatted-string')\n",
    "print('number of videos: ', len(videos))\n",
    "for i in videos:\n",
    "    print(i.text)"
   ]
  },
  {
   "cell_type": "markdown",
   "id": "6412635a-8554-45fb-b2c1-e4050fd81ed7",
   "metadata": {},
   "source": [
    "### 조회수 정보 가져오기\n",
    "- '시청 중' 정보도 같이!"
   ]
  },
  {
   "cell_type": "code",
   "execution_count": 15,
   "id": "02e2b500-c937-4628-95be-a33ac53e0e4d",
   "metadata": {},
   "outputs": [
    {
     "name": "stdout",
     "output_type": "stream",
     "text": [
      "number of views:  40\n"
     ]
    },
    {
     "ename": "AttributeError",
     "evalue": "'str' object has no attribute 'contains'",
     "output_type": "error",
     "traceback": [
      "\u001b[1;31m---------------------------------------------------------------------------\u001b[0m",
      "\u001b[1;31mAttributeError\u001b[0m                            Traceback (most recent call last)",
      "Cell \u001b[1;32mIn[15], line 5\u001b[0m\n\u001b[0;32m      3\u001b[0m \u001b[38;5;28;01mfor\u001b[39;00m i \u001b[38;5;129;01min\u001b[39;00m views:\n\u001b[0;32m      4\u001b[0m     \u001b[38;5;28mstr\u001b[39m \u001b[38;5;241m=\u001b[39m i\u001b[38;5;241m.\u001b[39mtext\n\u001b[1;32m----> 5\u001b[0m     \u001b[38;5;28;01mif\u001b[39;00m \u001b[38;5;28mstr\u001b[39m\u001b[38;5;241m.\u001b[39mcontains(\u001b[38;5;124m'\u001b[39m\u001b[38;5;124m시청 중\u001b[39m\u001b[38;5;124m'\u001b[39m):\n\u001b[0;32m      6\u001b[0m         \u001b[38;5;28mstr\u001b[39m \u001b[38;5;241m=\u001b[39m \u001b[38;5;28mstr\u001b[39m\u001b[38;5;241m.\u001b[39mrstrip(\u001b[38;5;124m'\u001b[39m\u001b[38;5;124m시청 중\u001b[39m\u001b[38;5;124m'\u001b[39m)\n\u001b[0;32m      7\u001b[0m     \u001b[38;5;28mprint\u001b[39m(\u001b[38;5;28mstr\u001b[39m)\n",
      "\u001b[1;31mAttributeError\u001b[0m: 'str' object has no attribute 'contains'"
     ]
    }
   ],
   "source": [
    "views = driver.find_elements(By.CSS_SELECTOR,'#metadata-line > span:nth-child(3)')\n",
    "print('number of views: ', len(views))\n",
    "for i in views:\n",
    "    str = i.text\n",
    "    if str.contains('시청 중'):\n",
    "        str = str.rstrip('시청 중')\n",
    "    print(str)"
   ]
  },
  {
   "cell_type": "markdown",
   "id": "b3df6253-1479-4530-9542-dc26882873c6",
   "metadata": {},
   "source": [
    "### 유튜브 웹 페이지의 특성상 검색이나 검색 시점에 따라서 출력되는 영상의 포맷이나 형태가 다 달라짐(변동성이 매우 큰 웹 페이지)\n",
    "- 메인 영상과 주요 뉴스와 쇼츠 출력 형태가 다 다른데 영상 전체를 감싸는 태그의 내주 구조가 동일한\n",
    "- 따라서 정확하게 원하는 부분에만 접근하기 위해서는 3종류의 영상의 차이가 발생하는 부분을 잘 찾아내는 것이 중요\n",
    "- 메인 영상: ytd-video-renderer\n",
    "- 주요 영상: ytd-grid-video-renderer\n",
    "- 쇼츠: ytd-reel-item-renderer"
   ]
  },
  {
   "cell_type": "markdown",
   "id": "557cc3da-f434-445d-997a-4677402fabbb",
   "metadata": {},
   "source": [
    "### while문으로 스크롤 해서 더 많은 제목과 조회수 정보를 가져오고 정확히 영상 50개의 데이터만 출력하기"
   ]
  },
  {
   "cell_type": "code",
   "execution_count": 17,
   "id": "343762fc-de3e-4569-a195-1af8f05b8650",
   "metadata": {},
   "outputs": [
    {
     "name": "stdout",
     "output_type": "stream",
     "text": [
      "total count of videos:  50\n",
      "total count of views:  45\n"
     ]
    }
   ],
   "source": [
    "videos_list_html, views_list_html = [],[]\n",
    "\n",
    "while len(videos_list_html) < 50:\n",
    "    body = driver.find_element(By.TAG_NAME,'body')\n",
    "    body.send_keys(Keys.END)\n",
    "    time.sleep(3)\n",
    "    \n",
    "    videos = driver.find_elements(By.CSS_SELECTOR,'#video-title > yt-formatted-string')\n",
    "    views = driver.find_elements(By.CSS_SELECTOR,'#metadata-line > span:nth-child(3)')\n",
    "\n",
    "    # 영상 제목 가져오기\n",
    "    new_videos = [v.text for v in videos]\n",
    "    new_views = [v.text for v in views]\n",
    "    \n",
    "    # 누적 저장 (중복 제거)\n",
    "    for v in new_videos:\n",
    "        if v not in videos_list_html and v.strip() != '':\n",
    "            videos_list_html.append(v)\n",
    "\n",
    "    for v in new_views:\n",
    "        if v not in views_list_html and v.strip() != '':\n",
    "            views_list_html.append(v)\n",
    "\n",
    "\n",
    "# 50개까지만 잘라서 리스트로 생성\n",
    "videos_list = videos_list_html[:50]\n",
    "views_list = views_list_html[:50]\n",
    "\n",
    "print('total count of videos: ', len(videos_list))\n",
    "print('total count of views: ', len(views_list))"
   ]
  },
  {
   "cell_type": "code",
   "execution_count": 19,
   "id": "5c30c81b-b099-40a3-bdde-cdaa578d4148",
   "metadata": {},
   "outputs": [
    {
     "ename": "ValueError",
     "evalue": "Length of values (45) does not match length of index (50)",
     "output_type": "error",
     "traceback": [
      "\u001b[1;31m---------------------------------------------------------------------------\u001b[0m",
      "\u001b[1;31mValueError\u001b[0m                                Traceback (most recent call last)",
      "Cell \u001b[1;32mIn[19], line 1\u001b[0m\n\u001b[1;32m----> 1\u001b[0m yt_df \u001b[38;5;241m=\u001b[39m pd\u001b[38;5;241m.\u001b[39mDataFrame({\u001b[38;5;124m'\u001b[39m\u001b[38;5;124mvideo title\u001b[39m\u001b[38;5;124m'\u001b[39m:videos_list,\u001b[38;5;124m'\u001b[39m\u001b[38;5;124mviews\u001b[39m\u001b[38;5;124m'\u001b[39m:views_list}, index \u001b[38;5;241m=\u001b[39m \u001b[38;5;28mrange\u001b[39m(\u001b[38;5;241m1\u001b[39m,\u001b[38;5;28mlen\u001b[39m(videos_list)\u001b[38;5;241m+\u001b[39m\u001b[38;5;241m1\u001b[39m))\n",
      "File \u001b[1;32m~\\anaconda3\\Lib\\site-packages\\pandas\\core\\frame.py:778\u001b[0m, in \u001b[0;36mDataFrame.__init__\u001b[1;34m(self, data, index, columns, dtype, copy)\u001b[0m\n\u001b[0;32m    772\u001b[0m     mgr \u001b[38;5;241m=\u001b[39m \u001b[38;5;28mself\u001b[39m\u001b[38;5;241m.\u001b[39m_init_mgr(\n\u001b[0;32m    773\u001b[0m         data, axes\u001b[38;5;241m=\u001b[39m{\u001b[38;5;124m\"\u001b[39m\u001b[38;5;124mindex\u001b[39m\u001b[38;5;124m\"\u001b[39m: index, \u001b[38;5;124m\"\u001b[39m\u001b[38;5;124mcolumns\u001b[39m\u001b[38;5;124m\"\u001b[39m: columns}, dtype\u001b[38;5;241m=\u001b[39mdtype, copy\u001b[38;5;241m=\u001b[39mcopy\n\u001b[0;32m    774\u001b[0m     )\n\u001b[0;32m    776\u001b[0m \u001b[38;5;28;01melif\u001b[39;00m \u001b[38;5;28misinstance\u001b[39m(data, \u001b[38;5;28mdict\u001b[39m):\n\u001b[0;32m    777\u001b[0m     \u001b[38;5;66;03m# GH#38939 de facto copy defaults to False only in non-dict cases\u001b[39;00m\n\u001b[1;32m--> 778\u001b[0m     mgr \u001b[38;5;241m=\u001b[39m dict_to_mgr(data, index, columns, dtype\u001b[38;5;241m=\u001b[39mdtype, copy\u001b[38;5;241m=\u001b[39mcopy, typ\u001b[38;5;241m=\u001b[39mmanager)\n\u001b[0;32m    779\u001b[0m \u001b[38;5;28;01melif\u001b[39;00m \u001b[38;5;28misinstance\u001b[39m(data, ma\u001b[38;5;241m.\u001b[39mMaskedArray):\n\u001b[0;32m    780\u001b[0m     \u001b[38;5;28;01mfrom\u001b[39;00m \u001b[38;5;21;01mnumpy\u001b[39;00m\u001b[38;5;21;01m.\u001b[39;00m\u001b[38;5;21;01mma\u001b[39;00m \u001b[38;5;28;01mimport\u001b[39;00m mrecords\n",
      "File \u001b[1;32m~\\anaconda3\\Lib\\site-packages\\pandas\\core\\internals\\construction.py:503\u001b[0m, in \u001b[0;36mdict_to_mgr\u001b[1;34m(data, index, columns, dtype, typ, copy)\u001b[0m\n\u001b[0;32m    499\u001b[0m     \u001b[38;5;28;01melse\u001b[39;00m:\n\u001b[0;32m    500\u001b[0m         \u001b[38;5;66;03m# dtype check to exclude e.g. range objects, scalars\u001b[39;00m\n\u001b[0;32m    501\u001b[0m         arrays \u001b[38;5;241m=\u001b[39m [x\u001b[38;5;241m.\u001b[39mcopy() \u001b[38;5;28;01mif\u001b[39;00m \u001b[38;5;28mhasattr\u001b[39m(x, \u001b[38;5;124m\"\u001b[39m\u001b[38;5;124mdtype\u001b[39m\u001b[38;5;124m\"\u001b[39m) \u001b[38;5;28;01melse\u001b[39;00m x \u001b[38;5;28;01mfor\u001b[39;00m x \u001b[38;5;129;01min\u001b[39;00m arrays]\n\u001b[1;32m--> 503\u001b[0m \u001b[38;5;28;01mreturn\u001b[39;00m arrays_to_mgr(arrays, columns, index, dtype\u001b[38;5;241m=\u001b[39mdtype, typ\u001b[38;5;241m=\u001b[39mtyp, consolidate\u001b[38;5;241m=\u001b[39mcopy)\n",
      "File \u001b[1;32m~\\anaconda3\\Lib\\site-packages\\pandas\\core\\internals\\construction.py:119\u001b[0m, in \u001b[0;36marrays_to_mgr\u001b[1;34m(arrays, columns, index, dtype, verify_integrity, typ, consolidate)\u001b[0m\n\u001b[0;32m    116\u001b[0m         index \u001b[38;5;241m=\u001b[39m ensure_index(index)\n\u001b[0;32m    118\u001b[0m     \u001b[38;5;66;03m# don't force copy because getting jammed in an ndarray anyway\u001b[39;00m\n\u001b[1;32m--> 119\u001b[0m     arrays, refs \u001b[38;5;241m=\u001b[39m _homogenize(arrays, index, dtype)\n\u001b[0;32m    120\u001b[0m     \u001b[38;5;66;03m# _homogenize ensures\u001b[39;00m\n\u001b[0;32m    121\u001b[0m     \u001b[38;5;66;03m#  - all(len(x) == len(index) for x in arrays)\u001b[39;00m\n\u001b[0;32m    122\u001b[0m     \u001b[38;5;66;03m#  - all(x.ndim == 1 for x in arrays)\u001b[39;00m\n\u001b[1;32m   (...)\u001b[0m\n\u001b[0;32m    125\u001b[0m \n\u001b[0;32m    126\u001b[0m \u001b[38;5;28;01melse\u001b[39;00m:\n\u001b[0;32m    127\u001b[0m     index \u001b[38;5;241m=\u001b[39m ensure_index(index)\n",
      "File \u001b[1;32m~\\anaconda3\\Lib\\site-packages\\pandas\\core\\internals\\construction.py:630\u001b[0m, in \u001b[0;36m_homogenize\u001b[1;34m(data, index, dtype)\u001b[0m\n\u001b[0;32m    627\u001b[0m         val \u001b[38;5;241m=\u001b[39m lib\u001b[38;5;241m.\u001b[39mfast_multiget(val, oindex\u001b[38;5;241m.\u001b[39m_values, default\u001b[38;5;241m=\u001b[39mnp\u001b[38;5;241m.\u001b[39mnan)\n\u001b[0;32m    629\u001b[0m     val \u001b[38;5;241m=\u001b[39m sanitize_array(val, index, dtype\u001b[38;5;241m=\u001b[39mdtype, copy\u001b[38;5;241m=\u001b[39m\u001b[38;5;28;01mFalse\u001b[39;00m)\n\u001b[1;32m--> 630\u001b[0m     com\u001b[38;5;241m.\u001b[39mrequire_length_match(val, index)\n\u001b[0;32m    631\u001b[0m     refs\u001b[38;5;241m.\u001b[39mappend(\u001b[38;5;28;01mNone\u001b[39;00m)\n\u001b[0;32m    633\u001b[0m homogenized\u001b[38;5;241m.\u001b[39mappend(val)\n",
      "File \u001b[1;32m~\\anaconda3\\Lib\\site-packages\\pandas\\core\\common.py:573\u001b[0m, in \u001b[0;36mrequire_length_match\u001b[1;34m(data, index)\u001b[0m\n\u001b[0;32m    569\u001b[0m \u001b[38;5;250m\u001b[39m\u001b[38;5;124;03m\"\"\"\u001b[39;00m\n\u001b[0;32m    570\u001b[0m \u001b[38;5;124;03mCheck the length of data matches the length of the index.\u001b[39;00m\n\u001b[0;32m    571\u001b[0m \u001b[38;5;124;03m\"\"\"\u001b[39;00m\n\u001b[0;32m    572\u001b[0m \u001b[38;5;28;01mif\u001b[39;00m \u001b[38;5;28mlen\u001b[39m(data) \u001b[38;5;241m!=\u001b[39m \u001b[38;5;28mlen\u001b[39m(index):\n\u001b[1;32m--> 573\u001b[0m     \u001b[38;5;28;01mraise\u001b[39;00m \u001b[38;5;167;01mValueError\u001b[39;00m(\n\u001b[0;32m    574\u001b[0m         \u001b[38;5;124m\"\u001b[39m\u001b[38;5;124mLength of values \u001b[39m\u001b[38;5;124m\"\u001b[39m\n\u001b[0;32m    575\u001b[0m         \u001b[38;5;124mf\u001b[39m\u001b[38;5;124m\"\u001b[39m\u001b[38;5;124m(\u001b[39m\u001b[38;5;132;01m{\u001b[39;00m\u001b[38;5;28mlen\u001b[39m(data)\u001b[38;5;132;01m}\u001b[39;00m\u001b[38;5;124m) \u001b[39m\u001b[38;5;124m\"\u001b[39m\n\u001b[0;32m    576\u001b[0m         \u001b[38;5;124m\"\u001b[39m\u001b[38;5;124mdoes not match length of index \u001b[39m\u001b[38;5;124m\"\u001b[39m\n\u001b[0;32m    577\u001b[0m         \u001b[38;5;124mf\u001b[39m\u001b[38;5;124m\"\u001b[39m\u001b[38;5;124m(\u001b[39m\u001b[38;5;132;01m{\u001b[39;00m\u001b[38;5;28mlen\u001b[39m(index)\u001b[38;5;132;01m}\u001b[39;00m\u001b[38;5;124m)\u001b[39m\u001b[38;5;124m\"\u001b[39m\n\u001b[0;32m    578\u001b[0m     )\n",
      "\u001b[1;31mValueError\u001b[0m: Length of values (45) does not match length of index (50)"
     ]
    }
   ],
   "source": [
    "yt_df = pd.DataFrame({'video title':videos_list,'views':views_list}, index = range(1,len(videos_list)+1))"
   ]
  },
  {
   "cell_type": "code",
   "execution_count": 125,
   "id": "825e6081-12bb-4c7e-bf60-6d35288d14ae",
   "metadata": {},
   "outputs": [],
   "source": [
    "driver.quit()"
   ]
  },
  {
   "cell_type": "code",
   "execution_count": null,
   "id": "1b90e47b-37b3-4b1a-b59a-8f49cf83864b",
   "metadata": {},
   "outputs": [],
   "source": []
  }
 ],
 "metadata": {
  "kernelspec": {
   "display_name": "Python 3 (ipykernel)",
   "language": "python",
   "name": "python3"
  },
  "language_info": {
   "codemirror_mode": {
    "name": "ipython",
    "version": 3
   },
   "file_extension": ".py",
   "mimetype": "text/x-python",
   "name": "python",
   "nbconvert_exporter": "python",
   "pygments_lexer": "ipython3",
   "version": "3.12.4"
  }
 },
 "nbformat": 4,
 "nbformat_minor": 5
}
