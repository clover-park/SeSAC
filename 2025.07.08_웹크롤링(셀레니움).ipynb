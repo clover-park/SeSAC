{
 "cells": [
  {
   "cell_type": "markdown",
   "id": "42065704-bc0d-4e21-b924-dea323ec2b88",
   "metadata": {},
   "source": [
    "# **Selenium**\n",
    "- 동적 크롤링이 가능\n",
    "- 파이썬 코드를 통해 사람이 할 수 있는 웹 브라우저의 기능을 제어할 수 있음.\n",
    "- 사람이 실제로 인터넷을 사용하는 것과 동일한 순서대로 코드를 작성해야함.\n",
    "- selenium 은 동적 페이지에서도 동작하기 위해 페이지가 바뀌는 순간 모든 데이터가 초기화 되므로 페이지의 변화에 맞게 코드를 작성해서 접근해야함."
   ]
  },
  {
   "cell_type": "code",
   "execution_count": 1,
   "id": "e458d9f4-ea6f-462d-a42e-26e38c28e0d0",
   "metadata": {
    "scrolled": true
   },
   "outputs": [
    {
     "name": "stdout",
     "output_type": "stream",
     "text": [
      "Collecting selenium\n",
      "  Downloading selenium-4.34.1-py3-none-any.whl.metadata (7.5 kB)\n",
      "Collecting urllib3~=2.5.0 (from urllib3[socks]~=2.5.0->selenium)\n",
      "  Downloading urllib3-2.5.0-py3-none-any.whl.metadata (6.5 kB)\n",
      "Collecting trio~=0.30.0 (from selenium)\n",
      "  Downloading trio-0.30.0-py3-none-any.whl.metadata (8.5 kB)\n",
      "Collecting trio-websocket~=0.12.2 (from selenium)\n",
      "  Downloading trio_websocket-0.12.2-py3-none-any.whl.metadata (5.1 kB)\n",
      "Collecting certifi>=2025.6.15 (from selenium)\n",
      "  Downloading certifi-2025.6.15-py3-none-any.whl.metadata (2.4 kB)\n",
      "Collecting typing_extensions~=4.14.0 (from selenium)\n",
      "  Downloading typing_extensions-4.14.1-py3-none-any.whl.metadata (3.0 kB)\n",
      "Requirement already satisfied: websocket-client~=1.8.0 in c:\\users\\user\\anaconda3\\lib\\site-packages (from selenium) (1.8.0)\n",
      "Collecting attrs>=23.2.0 (from trio~=0.30.0->selenium)\n",
      "  Using cached attrs-25.3.0-py3-none-any.whl.metadata (10 kB)\n",
      "Requirement already satisfied: sortedcontainers in c:\\users\\user\\anaconda3\\lib\\site-packages (from trio~=0.30.0->selenium) (2.4.0)\n",
      "Requirement already satisfied: idna in c:\\users\\user\\anaconda3\\lib\\site-packages (from trio~=0.30.0->selenium) (3.7)\n",
      "Collecting outcome (from trio~=0.30.0->selenium)\n",
      "  Using cached outcome-1.3.0.post0-py2.py3-none-any.whl.metadata (2.6 kB)\n",
      "Requirement already satisfied: sniffio>=1.3.0 in c:\\users\\user\\anaconda3\\lib\\site-packages (from trio~=0.30.0->selenium) (1.3.0)\n",
      "Requirement already satisfied: cffi>=1.14 in c:\\users\\user\\anaconda3\\lib\\site-packages (from trio~=0.30.0->selenium) (1.16.0)\n",
      "Collecting wsproto>=0.14 (from trio-websocket~=0.12.2->selenium)\n",
      "  Using cached wsproto-1.2.0-py3-none-any.whl.metadata (5.6 kB)\n",
      "Requirement already satisfied: pysocks!=1.5.7,<2.0,>=1.5.6 in c:\\users\\user\\anaconda3\\lib\\site-packages (from urllib3[socks]~=2.5.0->selenium) (1.7.1)\n",
      "Requirement already satisfied: pycparser in c:\\users\\user\\anaconda3\\lib\\site-packages (from cffi>=1.14->trio~=0.30.0->selenium) (2.21)\n",
      "Requirement already satisfied: h11<1,>=0.9.0 in c:\\users\\user\\anaconda3\\lib\\site-packages (from wsproto>=0.14->trio-websocket~=0.12.2->selenium) (0.14.0)\n",
      "Downloading selenium-4.34.1-py3-none-any.whl (9.4 MB)\n",
      "   ---------------------------------------- 0.0/9.4 MB ? eta -:--:--\n",
      "   - -------------------------------------- 0.3/9.4 MB 8.6 MB/s eta 0:00:02\n",
      "   --- ------------------------------------ 0.7/9.4 MB 9.2 MB/s eta 0:00:01\n",
      "   ------ --------------------------------- 1.4/9.4 MB 10.0 MB/s eta 0:00:01\n",
      "   --------- ------------------------------ 2.3/9.4 MB 13.3 MB/s eta 0:00:01\n",
      "   -------------- ------------------------- 3.4/9.4 MB 15.4 MB/s eta 0:00:01\n",
      "   ------------------- -------------------- 4.6/9.4 MB 17.2 MB/s eta 0:00:01\n",
      "   -------------------------- ------------- 6.3/9.4 MB 19.2 MB/s eta 0:00:01\n",
      "   ------------------------------------ --- 8.6/9.4 MB 22.9 MB/s eta 0:00:01\n",
      "   ---------------------------------------- 9.4/9.4 MB 22.3 MB/s eta 0:00:00\n",
      "Downloading certifi-2025.6.15-py3-none-any.whl (157 kB)\n",
      "   ---------------------------------------- 0.0/157.7 kB ? eta -:--:--\n",
      "   ---------------------------------------- 157.7/157.7 kB 9.8 MB/s eta 0:00:00\n",
      "Downloading trio-0.30.0-py3-none-any.whl (499 kB)\n",
      "   ---------------------------------------- 0.0/499.2 kB ? eta -:--:--\n",
      "   --------------------------------------- 499.2/499.2 kB 30.6 MB/s eta 0:00:00\n",
      "Downloading trio_websocket-0.12.2-py3-none-any.whl (21 kB)\n",
      "Downloading typing_extensions-4.14.1-py3-none-any.whl (43 kB)\n",
      "   ---------------------------------------- 0.0/43.9 kB ? eta -:--:--\n",
      "   ---------------------------------------- 43.9/43.9 kB ? eta 0:00:00\n",
      "Downloading urllib3-2.5.0-py3-none-any.whl (129 kB)\n",
      "   ---------------------------------------- 0.0/129.8 kB ? eta -:--:--\n",
      "   ---------------------------------------- 129.8/129.8 kB 7.5 MB/s eta 0:00:00\n",
      "Using cached attrs-25.3.0-py3-none-any.whl (63 kB)\n",
      "Using cached outcome-1.3.0.post0-py2.py3-none-any.whl (10 kB)\n",
      "Using cached wsproto-1.2.0-py3-none-any.whl (24 kB)\n",
      "Installing collected packages: wsproto, urllib3, typing_extensions, certifi, attrs, outcome, trio, trio-websocket, selenium\n",
      "  Attempting uninstall: urllib3\n",
      "    Found existing installation: urllib3 2.2.2\n",
      "    Uninstalling urllib3-2.2.2:\n",
      "      Successfully uninstalled urllib3-2.2.2\n",
      "  Attempting uninstall: typing_extensions\n",
      "    Found existing installation: typing_extensions 4.11.0\n",
      "    Uninstalling typing_extensions-4.11.0:\n",
      "      Successfully uninstalled typing_extensions-4.11.0\n",
      "  Attempting uninstall: certifi\n",
      "    Found existing installation: certifi 2024.8.30\n",
      "    Uninstalling certifi-2024.8.30:\n",
      "      Successfully uninstalled certifi-2024.8.30\n",
      "  Attempting uninstall: attrs\n",
      "    Found existing installation: attrs 23.1.0\n",
      "    Uninstalling attrs-23.1.0:\n",
      "      Successfully uninstalled attrs-23.1.0\n",
      "Successfully installed attrs-25.3.0 certifi-2025.6.15 outcome-1.3.0.post0 selenium-4.34.1 trio-0.30.0 trio-websocket-0.12.2 typing_extensions-4.14.1 urllib3-2.5.0 wsproto-1.2.0\n"
     ]
    }
   ],
   "source": [
    "!pip install selenium"
   ]
  },
  {
   "cell_type": "code",
   "execution_count": 139,
   "id": "1ee811c3-bef4-4322-8415-225ef14d8d0b",
   "metadata": {},
   "outputs": [],
   "source": [
    "# webdriver: 웹을 통제하는 기능을 가진 모듈\n",
    "from selenium import webdriver as wb\n",
    "import pandas as pd"
   ]
  },
  {
   "cell_type": "markdown",
   "id": "1ed40ca1-9535-4560-9d0e-ffa55a82742a",
   "metadata": {},
   "source": [
    "## 크롬 브라우저 실행"
   ]
  },
  {
   "cell_type": "code",
   "execution_count": 7,
   "id": "a3236849-8e47-4a1a-a876-7649ca556da9",
   "metadata": {},
   "outputs": [],
   "source": [
    "driver = wb.Chrome() # 이거 실행하면 새로운 크롬 창이 하나 뜸. 창 끄면 안 됨!"
   ]
  },
  {
   "cell_type": "markdown",
   "id": "6b7dd00c-aa01-436c-998e-f05c2e472c9c",
   "metadata": {},
   "source": [
    "## 네이버 페이지로 이동"
   ]
  },
  {
   "cell_type": "code",
   "execution_count": 10,
   "id": "583662b3-7f96-46dc-9d95-4ec4b73af30f",
   "metadata": {},
   "outputs": [],
   "source": [
    "# get: 웹 페이지 이동 함수\n",
    "# driver: 객체는 기본적으로 크롬 브라우저로써 동작하므로 인증을 내포하고 있어 headers 설정 불필요\n",
    "# bs에서 사용했던 bs객체화 시켜줄 필요가 없음.\n",
    "driver.get('https://naver.com') # 이거 실행하면 크롬창이 네이버로 이동함."
   ]
  },
  {
   "cell_type": "markdown",
   "id": "55bfafe1-3e83-45d9-94dc-7cff068bbdc7",
   "metadata": {},
   "source": [
    "## 검색창에 특정 단어 입력\n",
    "- 컴퓨터에게 검색창을 먼저 찾게해야하는데, 검색창에 대한 태그나 선택자를 알아야 접근 가능함."
   ]
  },
  {
   "cell_type": "code",
   "execution_count": 21,
   "id": "88a8786a-3123-4165-8ca0-c8a70b26e620",
   "metadata": {},
   "outputs": [],
   "source": [
    "# By: seleium에서 선택자를 구분해주는 함수\n",
    "from selenium.webdriver.common.by import By\n",
    "\n",
    "# find_element: selenium에서 웹의 특정 요소를 찾아주는 함수(여러개를 찾고 싶으면 fine_elements 사용)\n",
    "# CSS_SELECTOR: CSS선택자를 찾아주는 인자\n",
    "search = driver.find_element(By.CSS_SELECTOR,'#query') #(By.ID,'query')라고 써도 됨.\n",
    "# 변화없음. 그냥 검색창에 접근만 함."
   ]
  },
  {
   "cell_type": "code",
   "execution_count": 23,
   "id": "8cb08027-3877-41c4-b196-600ea6c8d645",
   "metadata": {},
   "outputs": [],
   "source": [
    "# send_keys: 특정 문자를 입력시켜주는 함수\n",
    "search.send_keys('손흥민')"
   ]
  },
  {
   "cell_type": "markdown",
   "id": "51547f1a-dd09-4745-aab5-680923268372",
   "metadata": {},
   "source": [
    "## ENTER 키 눌러서 검색하기"
   ]
  },
  {
   "cell_type": "code",
   "execution_count": 26,
   "id": "24bdf6ae-a9ce-4215-92e7-c7b8252f0e51",
   "metadata": {},
   "outputs": [],
   "source": [
    "# Keys: 키보드를 통해 값을 입력할 때 사용하는 함수(키보드 역할)\n",
    "from selenium.webdriver.common.keys import Keys"
   ]
  },
  {
   "cell_type": "code",
   "execution_count": 29,
   "id": "3ad0f6f1-87ed-4d9a-a5c5-0a1033466644",
   "metadata": {},
   "outputs": [],
   "source": [
    "# Keys.하고 탭 키 누르면 자동완성으로 사용가능한 키들을 다 볼 수 있음.\n",
    "search.send_keys(Keys.ENTER) # 손흥민이 검색된 페이지로 이동"
   ]
  },
  {
   "cell_type": "markdown",
   "id": "4504d89b-3596-421c-8e51-a81113c35c41",
   "metadata": {},
   "source": [
    "## 뒤로가기"
   ]
  },
  {
   "cell_type": "code",
   "execution_count": 32,
   "id": "9748a16a-eff1-4727-88dc-01ae0f8fda24",
   "metadata": {},
   "outputs": [],
   "source": [
    "# 뒤로가기 버튼은 HTML 요소가 아니라 브라우저의 고유 기능이므로 driver에서 동작시킴. 뒤로가기, 앞으로 가기, 새로고침 등\n",
    "driver.back() # 다시 네이버로 돌아감."
   ]
  },
  {
   "cell_type": "markdown",
   "id": "3d2ce988-c728-4705-a3a6-2db043b6f242",
   "metadata": {},
   "source": [
    "## 돋보기 버튼은 눌러서 검색하기"
   ]
  },
  {
   "cell_type": "code",
   "execution_count": 39,
   "id": "2a5f5279-c7df-4a9d-afa4-651b2443d6cc",
   "metadata": {},
   "outputs": [],
   "source": [
    "# 브라우저 검색창에 접근\n",
    "search = driver.find_element(By.CSS_SELECTOR,'#query')\n",
    "\n",
    "# 검색창에 키워드 작성\n",
    "search.send_keys('오늘의 날씨')"
   ]
  },
  {
   "cell_type": "code",
   "execution_count": 45,
   "id": "f37e3cd2-8a5d-4c59-a0fe-bdaccc66bb81",
   "metadata": {},
   "outputs": [],
   "source": [
    "# ID값으로 돋보기 버튼에 접근\n",
    "btn = driver.find_element(By.ID,'search-btn')"
   ]
  },
  {
   "cell_type": "code",
   "execution_count": 47,
   "id": "957e3499-30b3-4fb7-b092-1838cd7faf56",
   "metadata": {},
   "outputs": [],
   "source": [
    "# 해당 요소 클릭\n",
    "btn.click() # 오늘의 날씨가 검색된 페이지로 이동됨."
   ]
  },
  {
   "cell_type": "markdown",
   "id": "6f377f45-c56a-4ccf-b0d0-f2861ed03cbb",
   "metadata": {},
   "source": [
    "## XPATH로 절대 경로값을 사용\n",
    "- XPATH는 원하는 요소에 정확히 접근하기 위해 절대적인 경로를 가져오는 명령\n",
    "- 한나의 요소에 정확히 접근할 때 사용하려면 편리하나, 여러개의 요소에 접근해야하거나 웹 페이지가 유동적으로 많이 변화하는 환경에서는 효율이 떨어져서 상황에 맞게 적절하게 사용해야함.\n",
    "- 변동사항이 적은 개별 요소를 추출할 때 유용함."
   ]
  },
  {
   "cell_type": "code",
   "execution_count": 51,
   "id": "74811836-bc36-45e6-8653-3827748745d4",
   "metadata": {},
   "outputs": [],
   "source": [
    "driver.back()"
   ]
  },
  {
   "cell_type": "code",
   "execution_count": 53,
   "id": "5d2c700f-5a7a-4b4e-b30b-f5747cc24f4b",
   "metadata": {},
   "outputs": [],
   "source": [
    "search = driver.find_element(By.CSS_SELECTOR,'#query')\n",
    "\n",
    "search.send_keys('오늘의 날씨')"
   ]
  },
  {
   "cell_type": "code",
   "execution_count": 55,
   "id": "04142bd9-1f25-499b-a900-483adbb3e0c1",
   "metadata": {},
   "outputs": [],
   "source": [
    "btn = driver.find_element(By.XPATH,'//*[@id=\"search-btn\"]')\n",
    "# 개발자도구로 돋보기 아이콘 찾아서 그 HTML 태그를 오른쪽으로 클릭해 XPATH 복사 누르면됨.\n",
    "btn.click()"
   ]
  },
  {
   "cell_type": "markdown",
   "id": "aa75ebfa-1f91-44cf-9c7b-25dbaf1e8ae9",
   "metadata": {},
   "source": [
    "## 스크롤 기능 사용하기\n",
    "- 일반적으로 웹 페이지 내의 컨텐츠들은 body 태그 안에다 작성\n",
    "- 스크롤 하기 위해서는 스크롤이 가능한 body 태그 자체에 접근한 뒤 스크롤 기능을 활용"
   ]
  },
  {
   "cell_type": "code",
   "execution_count": 58,
   "id": "55d26b1a-c467-490d-a5f1-3c8b3053f516",
   "metadata": {},
   "outputs": [],
   "source": [
    "body = driver.find_element(By.TAG_NAME,'body') # 태그명으로 접근\n",
    "# find_element(By.CSS_SELECTOR, 'body.wrap-new.api_animation')\n",
    "\n",
    "# END: 키보드로 스크롤을 끝까지 내리는 명령\n",
    "# DOWN: 아래방향으로 한번 스크롤됨.\n",
    "# 스크롤하면 끝없이 나오는 페이지는 반복문을 쓰던가 얼마만 스크롤 할 건지 정해야함.\n",
    "body.send_keys(Keys.END)"
   ]
  },
  {
   "cell_type": "markdown",
   "id": "25a558f8-5986-4023-9f68-0a97ed054f4e",
   "metadata": {},
   "source": [
    "## 브라우저 창 닫기"
   ]
  },
  {
   "cell_type": "code",
   "execution_count": 61,
   "id": "1c72aeea-5dc5-453d-bb8a-1d600f237a61",
   "metadata": {},
   "outputs": [],
   "source": [
    "# close: 창을 닫는데, 메모리는 그대로 남아있음.\n",
    "driver.close()"
   ]
  },
  {
   "cell_type": "code",
   "execution_count": 63,
   "id": "b6bd4568-e16a-4055-96ea-a6cb93fc5a9f",
   "metadata": {},
   "outputs": [],
   "source": [
    "# quit: 모든 창을 닫고 브라우저를 최종 종료(메모리도 모두 삭제)\n",
    "driver.quit()"
   ]
  },
  {
   "cell_type": "markdown",
   "id": "dddd98d4-2dd1-4a28-b38e-79287f3f3008",
   "metadata": {},
   "source": [
    "### 네이버 검색\n",
    "1. 크롬 브라우저 켜기\n",
    "2. 네이버로 접속\n",
    "3. CSS 선택자로 검색창 접근 후 원하는 검색어 입력\n",
    "4. 돋보기 검색 아이콘 클릭\n",
    "5. 스크롤 끝까지 내리기\n",
    "6. 뒤로가기 버튼 눌러서 다시 메인으로 이동\n",
    "7. 크롬창 종료(메모리까지 삭제)"
   ]
  },
  {
   "cell_type": "code",
   "execution_count": 242,
   "id": "09a79cd1-a21b-4e04-8169-08b85762972c",
   "metadata": {},
   "outputs": [],
   "source": [
    "driver = wb.Chrome()"
   ]
  },
  {
   "cell_type": "code",
   "execution_count": 244,
   "id": "d215e65f-682c-48b5-a096-1990f228ffef",
   "metadata": {},
   "outputs": [],
   "source": [
    "driver.get('https://naver.com')"
   ]
  },
  {
   "cell_type": "code",
   "execution_count": 246,
   "id": "ff702cf8-77a5-485c-b3ae-317ed36e1578",
   "metadata": {},
   "outputs": [],
   "source": [
    "search = driver.find_element(By.ID,'query')"
   ]
  },
  {
   "cell_type": "code",
   "execution_count": 248,
   "id": "79bb4c65-12c0-40ef-ac5e-9c643dd11433",
   "metadata": {},
   "outputs": [],
   "source": [
    "search.send_keys('도널드 트럼프')"
   ]
  },
  {
   "cell_type": "code",
   "execution_count": 250,
   "id": "eb588c21-f015-44a8-b38a-50337b006374",
   "metadata": {},
   "outputs": [],
   "source": [
    "search_btn = driver.find_element(By.ID,'search-btn')"
   ]
  },
  {
   "cell_type": "code",
   "execution_count": 252,
   "id": "fd222602-444d-45df-a84c-446d5c173d9d",
   "metadata": {},
   "outputs": [],
   "source": [
    "search_btn.click()"
   ]
  },
  {
   "cell_type": "code",
   "execution_count": 254,
   "id": "cae3df49-a047-49b8-9a59-5b5ac2302890",
   "metadata": {},
   "outputs": [],
   "source": [
    "body = driver.find_element(By.TAG_NAME,'body')"
   ]
  },
  {
   "cell_type": "code",
   "execution_count": 256,
   "id": "876be9f1-e837-4d6a-906b-99810a777902",
   "metadata": {},
   "outputs": [],
   "source": [
    "body.send_keys(Keys.END)"
   ]
  },
  {
   "cell_type": "code",
   "execution_count": 258,
   "id": "dfb43866-c5c3-49fb-8088-2184993154b1",
   "metadata": {},
   "outputs": [],
   "source": [
    "driver.back()"
   ]
  },
  {
   "cell_type": "code",
   "execution_count": 86,
   "id": "01dfea9e-da2e-427a-8ae4-aa2f156c15e2",
   "metadata": {},
   "outputs": [],
   "source": [
    "driver.quit()"
   ]
  },
  {
   "cell_type": "markdown",
   "id": "bc37580f-a19f-4493-8212-1fa36adc9c34",
   "metadata": {},
   "source": [
    "### 네이버 검색 심화\n",
    "1. 크롬 브라우저 켜기\n",
    "2. 네이버로 접속\n",
    "3. CSS 선택자로 검색창 접근 -> 원하는 검색어 입력\n",
    "4. ENTER 키 사용해서 검색\n",
    "5. 검색 후 상단 '이미지' 탭 클릭\n",
    "6. 뒤로가기\n",
    "7. '뉴스'탭 클릭해서 들어가기(CSS선택자로 경로 잡을 것)\n",
    "8. Selenium 코드를 활용하여 뉴스 기사 제목만 크롤링하기\n",
    "9. 크롤링된 기사를 No 1번부터 인덱스로 설정해서 DF로 만들기\n",
    "10. 뒤로가기 두번 실행해서 다시 네이버 메인으로 이동\n",
    "11. 크롬창 종료(메모리 삭제)"
   ]
  },
  {
   "cell_type": "code",
   "execution_count": 282,
   "id": "16eeec1d-9aab-41a7-9e61-95ad27eb22a0",
   "metadata": {},
   "outputs": [],
   "source": [
    "#1\n",
    "driver = wb.Chrome()"
   ]
  },
  {
   "cell_type": "code",
   "execution_count": 284,
   "id": "20476253-d06d-4690-8ece-69e7b3f9e9dc",
   "metadata": {},
   "outputs": [],
   "source": [
    "#2\n",
    "driver.get('https://naver.com')"
   ]
  },
  {
   "cell_type": "code",
   "execution_count": 286,
   "id": "48a10b96-c58c-4917-871d-0f13ee2f51d3",
   "metadata": {},
   "outputs": [],
   "source": [
    "#3\n",
    "find = driver.find_element(By.ID,'query')\n",
    "find.send_keys('손흥민')"
   ]
  },
  {
   "cell_type": "code",
   "execution_count": 288,
   "id": "b9dbe870-fcf6-45ba-9ac0-a0f3361d17b2",
   "metadata": {},
   "outputs": [],
   "source": [
    "#4\n",
    "find.send_keys(Keys.ENTER)"
   ]
  },
  {
   "cell_type": "code",
   "execution_count": 264,
   "id": "e8516b00-da19-448a-94c5-6bf5a2583f41",
   "metadata": {},
   "outputs": [],
   "source": [
    "#5\n",
    "image = driver.find_element(By.XPATH,'//*[@id=\"lnb\"]/div[1]/div/div[1]/div/div[1]/div[2]/a')"
   ]
  },
  {
   "cell_type": "code",
   "execution_count": 266,
   "id": "dd53f7ea-ee72-44f3-8542-6b33bc9e1991",
   "metadata": {},
   "outputs": [],
   "source": [
    "#5\n",
    "image.click()"
   ]
  },
  {
   "cell_type": "code",
   "execution_count": 268,
   "id": "0253e66c-b788-4319-b3b9-92ccf517e68e",
   "metadata": {},
   "outputs": [],
   "source": [
    "#6\n",
    "driver.back()"
   ]
  },
  {
   "cell_type": "code",
   "execution_count": 290,
   "id": "4a2e7467-90a5-4883-b565-8e638f405136",
   "metadata": {},
   "outputs": [],
   "source": [
    "#7\n",
    "news = driver.find_element(By.CSS_SELECTOR,'.tab:nth-child(1)')\n",
    "news.click()"
   ]
  },
  {
   "cell_type": "code",
   "execution_count": 292,
   "id": "834accaa-7417-4ddd-9a77-175c322b2379",
   "metadata": {},
   "outputs": [],
   "source": [
    "#8\n",
    "body = driver.find_element(By.TAG_NAME,'body')\n",
    "body.send_keys(Keys.END)"
   ]
  },
  {
   "cell_type": "code",
   "execution_count": 294,
   "id": "c04ea7b1-6c1d-4c29-bc8f-18b4e1d1d73d",
   "metadata": {
    "scrolled": true
   },
   "outputs": [
    {
     "data": {
      "text/plain": [
       "['“캡틴 축하해” 33세 생일 맞은 손흥민… 이적설은 여전',\n",
       " '손흥민, 떠날까 남을까…토트넘의 복잡한 계산법',\n",
       " '영국 매체 \"토트넘의 왼쪽 날개 주전은 여전히 손흥민\"',\n",
       " '싸이 의정부 ‘흠뻑쇼’, 손흥민도 봤다',\n",
       " \"'33세 생일 하루 남은' 손흥민, 싸이 콘서트서 머리 식혔다\",\n",
       " '영국 매체 \"손흥민, LAFC 제의 거절…사우디 클럽 관심은 계속\"',\n",
       " \"양민혁은 생존 경쟁, '프리시즌 스타트!!' 손흥민은 거취 면담 앞둬\",\n",
       " \"'이럴 수가' 손흥민 매각→토트넘 새 주장 선임 시나리오 등장…프랭크...\",\n",
       " '이동경, 환상 감아차기 슛 \"손흥민과 비교? 이제 한 골인 걸요\"',\n",
       " '‘손흥민 효과 노리나’ 메가MGC커피, 대세 아이돌 라이즈 발탁',\n",
       " '손흥민의 행선지는 사우디? 미국? 토트넘 잔류도 열렸다',\n",
       " '“손흥민 향한 사우디 관심 남아있다, 거취 본격화”…김민재·이강인은...',\n",
       " \"손흥민, '흠뻑쇼' 생애 첫 관람…싸이 만났다\",\n",
       " \"'참 호감이네' 포로, 손흥민 세리머니부터 양민혁 챙기기까지...친한파...\",\n",
       " '손흥민 대체자로 지목된 쿠두스…토트넘·웨스트햄 간 협상 계속',\n",
       " 'CEO가 손흥민 찐팬, 에어아시아 16조원 투자 새 항공기 도입',\n",
       " \"'싸이 흠뻑쇼 첫 관람' 손흥민, 감독 면담하고 韓 투어까지…당장 토트...\",\n",
       " '\\'손흥민 이적\\' 생각 말고 남아달라는 아우성, \"여전히 토트넘에서 선발...',\n",
       " '\\'손흥민 이적 일단 멈춰!\\' 토트넘이 망설이는 이유는 분명, \"엄청난 액수...',\n",
       " '[속보] ‘10년 동행 마침표’ 손흥민, 토트넘 떠난다…다만 LA FC 이적은...']"
      ]
     },
     "execution_count": 294,
     "metadata": {},
     "output_type": "execute_result"
    }
   ],
   "source": [
    "#9\n",
    "headline_list = []\n",
    "headlines = driver.find_elements(By.CSS_SELECTOR,'.sds-comps-text.sds-comps-text-ellipsis.sds-comps-text-ellipsis-1.sds-comps-text-type-headline1')\n",
    "\n",
    "for i in headlines:\n",
    "    headline = i.text\n",
    "    headline_list.append(headline)\n",
    "\n",
    "headline_list"
   ]
  },
  {
   "cell_type": "code",
   "execution_count": 296,
   "id": "1f0bc3d7-ff69-43d1-a176-4b27ce217608",
   "metadata": {
    "scrolled": true
   },
   "outputs": [
    {
     "data": {
      "text/html": [
       "<div>\n",
       "<style scoped>\n",
       "    .dataframe tbody tr th:only-of-type {\n",
       "        vertical-align: middle;\n",
       "    }\n",
       "\n",
       "    .dataframe tbody tr th {\n",
       "        vertical-align: top;\n",
       "    }\n",
       "\n",
       "    .dataframe thead th {\n",
       "        text-align: right;\n",
       "    }\n",
       "</style>\n",
       "<table border=\"1\" class=\"dataframe\">\n",
       "  <thead>\n",
       "    <tr style=\"text-align: right;\">\n",
       "      <th></th>\n",
       "      <th>headline</th>\n",
       "    </tr>\n",
       "    <tr>\n",
       "      <th>No</th>\n",
       "      <th></th>\n",
       "    </tr>\n",
       "  </thead>\n",
       "  <tbody>\n",
       "    <tr>\n",
       "      <th>1</th>\n",
       "      <td>“캡틴 축하해” 33세 생일 맞은 손흥민… 이적설은 여전</td>\n",
       "    </tr>\n",
       "    <tr>\n",
       "      <th>2</th>\n",
       "      <td>손흥민, 떠날까 남을까…토트넘의 복잡한 계산법</td>\n",
       "    </tr>\n",
       "    <tr>\n",
       "      <th>3</th>\n",
       "      <td>영국 매체 \"토트넘의 왼쪽 날개 주전은 여전히 손흥민\"</td>\n",
       "    </tr>\n",
       "    <tr>\n",
       "      <th>4</th>\n",
       "      <td>싸이 의정부 ‘흠뻑쇼’, 손흥민도 봤다</td>\n",
       "    </tr>\n",
       "    <tr>\n",
       "      <th>5</th>\n",
       "      <td>'33세 생일 하루 남은' 손흥민, 싸이 콘서트서 머리 식혔다</td>\n",
       "    </tr>\n",
       "    <tr>\n",
       "      <th>6</th>\n",
       "      <td>영국 매체 \"손흥민, LAFC 제의 거절…사우디 클럽 관심은 계속\"</td>\n",
       "    </tr>\n",
       "    <tr>\n",
       "      <th>7</th>\n",
       "      <td>양민혁은 생존 경쟁, '프리시즌 스타트!!' 손흥민은 거취 면담 앞둬</td>\n",
       "    </tr>\n",
       "    <tr>\n",
       "      <th>8</th>\n",
       "      <td>'이럴 수가' 손흥민 매각→토트넘 새 주장 선임 시나리오 등장…프랭크...</td>\n",
       "    </tr>\n",
       "    <tr>\n",
       "      <th>9</th>\n",
       "      <td>이동경, 환상 감아차기 슛 \"손흥민과 비교? 이제 한 골인 걸요\"</td>\n",
       "    </tr>\n",
       "    <tr>\n",
       "      <th>10</th>\n",
       "      <td>‘손흥민 효과 노리나’ 메가MGC커피, 대세 아이돌 라이즈 발탁</td>\n",
       "    </tr>\n",
       "    <tr>\n",
       "      <th>11</th>\n",
       "      <td>손흥민의 행선지는 사우디? 미국? 토트넘 잔류도 열렸다</td>\n",
       "    </tr>\n",
       "    <tr>\n",
       "      <th>12</th>\n",
       "      <td>“손흥민 향한 사우디 관심 남아있다, 거취 본격화”…김민재·이강인은...</td>\n",
       "    </tr>\n",
       "    <tr>\n",
       "      <th>13</th>\n",
       "      <td>손흥민, '흠뻑쇼' 생애 첫 관람…싸이 만났다</td>\n",
       "    </tr>\n",
       "    <tr>\n",
       "      <th>14</th>\n",
       "      <td>'참 호감이네' 포로, 손흥민 세리머니부터 양민혁 챙기기까지...친한파...</td>\n",
       "    </tr>\n",
       "    <tr>\n",
       "      <th>15</th>\n",
       "      <td>손흥민 대체자로 지목된 쿠두스…토트넘·웨스트햄 간 협상 계속</td>\n",
       "    </tr>\n",
       "    <tr>\n",
       "      <th>16</th>\n",
       "      <td>CEO가 손흥민 찐팬, 에어아시아 16조원 투자 새 항공기 도입</td>\n",
       "    </tr>\n",
       "    <tr>\n",
       "      <th>17</th>\n",
       "      <td>'싸이 흠뻑쇼 첫 관람' 손흥민, 감독 면담하고 韓 투어까지…당장 토트...</td>\n",
       "    </tr>\n",
       "    <tr>\n",
       "      <th>18</th>\n",
       "      <td>'손흥민 이적' 생각 말고 남아달라는 아우성, \"여전히 토트넘에서 선발...</td>\n",
       "    </tr>\n",
       "    <tr>\n",
       "      <th>19</th>\n",
       "      <td>'손흥민 이적 일단 멈춰!' 토트넘이 망설이는 이유는 분명, \"엄청난 액수...</td>\n",
       "    </tr>\n",
       "    <tr>\n",
       "      <th>20</th>\n",
       "      <td>[속보] ‘10년 동행 마침표’ 손흥민, 토트넘 떠난다…다만 LA FC 이적은...</td>\n",
       "    </tr>\n",
       "  </tbody>\n",
       "</table>\n",
       "</div>"
      ],
      "text/plain": [
       "                                          headline\n",
       "No                                                \n",
       "1                  “캡틴 축하해” 33세 생일 맞은 손흥민… 이적설은 여전\n",
       "2                        손흥민, 떠날까 남을까…토트넘의 복잡한 계산법\n",
       "3                   영국 매체 \"토트넘의 왼쪽 날개 주전은 여전히 손흥민\"\n",
       "4                            싸이 의정부 ‘흠뻑쇼’, 손흥민도 봤다\n",
       "5               '33세 생일 하루 남은' 손흥민, 싸이 콘서트서 머리 식혔다\n",
       "6            영국 매체 \"손흥민, LAFC 제의 거절…사우디 클럽 관심은 계속\"\n",
       "7           양민혁은 생존 경쟁, '프리시즌 스타트!!' 손흥민은 거취 면담 앞둬\n",
       "8        '이럴 수가' 손흥민 매각→토트넘 새 주장 선임 시나리오 등장…프랭크...\n",
       "9             이동경, 환상 감아차기 슛 \"손흥민과 비교? 이제 한 골인 걸요\"\n",
       "10             ‘손흥민 효과 노리나’ 메가MGC커피, 대세 아이돌 라이즈 발탁\n",
       "11                  손흥민의 행선지는 사우디? 미국? 토트넘 잔류도 열렸다\n",
       "12        “손흥민 향한 사우디 관심 남아있다, 거취 본격화”…김민재·이강인은...\n",
       "13                       손흥민, '흠뻑쇼' 생애 첫 관람…싸이 만났다\n",
       "14      '참 호감이네' 포로, 손흥민 세리머니부터 양민혁 챙기기까지...친한파...\n",
       "15               손흥민 대체자로 지목된 쿠두스…토트넘·웨스트햄 간 협상 계속\n",
       "16             CEO가 손흥민 찐팬, 에어아시아 16조원 투자 새 항공기 도입\n",
       "17      '싸이 흠뻑쇼 첫 관람' 손흥민, 감독 면담하고 韓 투어까지…당장 토트...\n",
       "18      '손흥민 이적' 생각 말고 남아달라는 아우성, \"여전히 토트넘에서 선발...\n",
       "19    '손흥민 이적 일단 멈춰!' 토트넘이 망설이는 이유는 분명, \"엄청난 액수...\n",
       "20  [속보] ‘10년 동행 마침표’ 손흥민, 토트넘 떠난다…다만 LA FC 이적은..."
      ]
     },
     "execution_count": 296,
     "metadata": {},
     "output_type": "execute_result"
    }
   ],
   "source": [
    "#10\n",
    "headline_dic = {'headline':headline_list}\n",
    "headline_df = pd.DataFrame(headline_dic, index = range(1,len(headline_list)+1))\n",
    "headline_df.index.name = 'No'\n",
    "headline_df"
   ]
  },
  {
   "cell_type": "code",
   "execution_count": 298,
   "id": "56a43953-5ae8-4d85-b4fd-0472765989e4",
   "metadata": {},
   "outputs": [],
   "source": [
    "#10\n",
    "driver.back()\n",
    "driver.back()"
   ]
  },
  {
   "cell_type": "code",
   "execution_count": 300,
   "id": "af722d04-1754-44fe-aad3-52e7d91c694d",
   "metadata": {},
   "outputs": [],
   "source": [
    "#11\n",
    "driver.quit()"
   ]
  },
  {
   "cell_type": "code",
   "execution_count": null,
   "id": "b3066308-ab29-4d03-9bd2-3aa868ca565e",
   "metadata": {},
   "outputs": [],
   "source": []
  }
 ],
 "metadata": {
  "kernelspec": {
   "display_name": "Python 3 (ipykernel)",
   "language": "python",
   "name": "python3"
  },
  "language_info": {
   "codemirror_mode": {
    "name": "ipython",
    "version": 3
   },
   "file_extension": ".py",
   "mimetype": "text/x-python",
   "name": "python",
   "nbconvert_exporter": "python",
   "pygments_lexer": "ipython3",
   "version": "3.12.4"
  }
 },
 "nbformat": 4,
 "nbformat_minor": 5
}
