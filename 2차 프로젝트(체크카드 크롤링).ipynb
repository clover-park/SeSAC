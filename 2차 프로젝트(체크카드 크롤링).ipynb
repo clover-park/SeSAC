{
 "cells": [
  {
   "cell_type": "code",
   "execution_count": 48,
   "id": "97eb8a4f-3ec9-4d34-af99-7bfdbf10f3c0",
   "metadata": {},
   "outputs": [],
   "source": [
    "from selenium import webdriver as wb\n",
    "from selenium.webdriver.common.by import By\n",
    "from selenium.webdriver.common.keys import Keys\n",
    "from selenium.webdriver.support.ui import WebDriverWait\n",
    "from selenium.webdriver.support import expected_conditions as EC\n",
    "from tqdm import tqdm\n",
    "import time"
   ]
  },
  {
   "cell_type": "markdown",
   "id": "fdab605a-fbd8-40ad-ad52-9ab4865b1e0b",
   "metadata": {},
   "source": [
    "## 크롬창 띄우고 카드 사이트 접속"
   ]
  },
  {
   "cell_type": "code",
   "execution_count": 51,
   "id": "9b6c1655-d987-4567-9df6-028b51338532",
   "metadata": {},
   "outputs": [],
   "source": [
    "driver = wb.Chrome()"
   ]
  },
  {
   "cell_type": "code",
   "execution_count": 53,
   "id": "a8f6ac3f-3a44-4cb5-aaa9-463c8a6ef354",
   "metadata": {},
   "outputs": [],
   "source": [
    "driver.get('https://www.card-gorilla.com/card?cate=CRD')"
   ]
  },
  {
   "cell_type": "markdown",
   "id": "a1e1c52e-b720-4200-8666-3b6a8e82850f",
   "metadata": {},
   "source": [
    "## 체크카드 버튼 누르기"
   ]
  },
  {
   "cell_type": "code",
   "execution_count": 56,
   "id": "246b8da3-6469-4fc8-98b8-3448b49dcb6b",
   "metadata": {},
   "outputs": [
    {
     "data": {
      "text/plain": [
       "'체크카드'"
      ]
     },
     "execution_count": 56,
     "metadata": {},
     "output_type": "execute_result"
    }
   ],
   "source": [
    "debit_card = driver.find_element(By.CSS_SELECTOR, '#q-app > section > div.card > section > div > div.card_list > div.title > a:nth-child(2)')\n",
    "debit_card.text"
   ]
  },
  {
   "cell_type": "code",
   "execution_count": 58,
   "id": "293419ba-153a-48f1-807b-b32a9e0ff57d",
   "metadata": {},
   "outputs": [],
   "source": [
    "debit_card.click()"
   ]
  },
  {
   "cell_type": "markdown",
   "id": "08da3970-6be6-4df5-823c-df8300eb329b",
   "metadata": {},
   "source": [
    "## 더보기 버튼 누른 후 체크카드 이름, 은행사, 혜택, 해외겸용 유무, 전월실적 유무 수집"
   ]
  },
  {
   "cell_type": "code",
   "execution_count": 52,
   "id": "62e35a06-dbad-4242-9d82-5c3af3edcdea",
   "metadata": {},
   "outputs": [],
   "source": [
    "card_brand = driver.find_elements(By.CSS_SELECTOR, '.card_corp')\n",
    "benefits = driver.find_elements(By.CSS_SELECTOR, '.bnf1')\n",
    "oversea_pay = driver.find_elements(By.CSS_SELECTOR, '.in_out')\n",
    "previous_spending = driver.find_elements(By.CSS_SELECTOR, 'q-app > section > div.card_detail.fr-view > section > div > article.card_top > div > div > div.bnf2 > dl:nth-child(2)')"
   ]
  },
  {
   "cell_type": "code",
   "execution_count": null,
   "id": "bb677c38-cfa7-430d-8c40-18e0129f6d8a",
   "metadata": {},
   "outputs": [],
   "source": [
    "try:\n",
    "    while True:\n",
    "        look_more = driver.find_element(By.CSS_SELECTOR, '.lst_more')\n",
    "        look_more.click()\n",
    "        time.sleep(2)\n",
    "except:\n",
    "    print(\"That's all there is.\")"
   ]
  },
  {
   "cell_type": "markdown",
   "id": "3ce7f967-4b9b-4400-8a52-e329f8943c54",
   "metadata": {},
   "source": [
    "## 카드 컨테이너 접근, 신규발급 중단 카드 제외"
   ]
  },
  {
   "cell_type": "code",
   "execution_count": 14,
   "id": "544ce62e-3910-4135-9199-b32998be58d2",
   "metadata": {},
   "outputs": [
    {
     "name": "stdout",
     "output_type": "stream",
     "text": [
      "유효 카드: 360\n"
     ]
    }
   ],
   "source": [
    "valid_cards = [\n",
    "    c for c in driver.find_elements(By.CSS_SELECTOR, \".card-container\")\n",
    "    if not c.find_elements(By.CSS_SELECTOR, \".txt_stop\")\n",
    "]\n",
    "\n",
    "print(\"유효 카드:\", len(valid_cards))"
   ]
  },
  {
   "cell_type": "code",
   "execution_count": 24,
   "id": "286d8cb7-c9d2-4e9a-9c4c-ff730e33399c",
   "metadata": {},
   "outputs": [
    {
     "data": {
      "text/plain": [
       "'최대\\n1.1% 무제한 캐시백\\n자주 쓰는 곳에서\\n5% 캐시백\\n3번 결제할 때마다\\n1,000원 무제한 캐시백'"
      ]
     },
     "execution_count": 24,
     "metadata": {},
     "output_type": "execute_result"
    }
   ],
   "source": [
    "benefit = driver.find_elements(By.CSS_SELECTOR, '.sale')\n",
    "benefit[0].text"
   ]
  },
  {
   "cell_type": "code",
   "execution_count": 46,
   "id": "2f79c573-53d6-4255-9c70-a97582ef9575",
   "metadata": {},
   "outputs": [
    {
     "name": "stderr",
     "output_type": "stream",
     "text": [
      "  0%|                                                                                          | 0/360 [00:00<?, ?it/s]\n"
     ]
    },
    {
     "ename": "InvalidSessionIdException",
     "evalue": "Message: invalid session id: session deleted as the browser has closed the connection\nfrom disconnected: not connected to DevTools\n  (Session info: chrome=138.0.7204.184); For documentation on this error, please visit: https://www.selenium.dev/documentation/webdriver/troubleshooting/errors#invalidsessionidexception\nStacktrace:\n\tGetHandleVerifier [0x0x7ff7e434e415+77285]\n\tGetHandleVerifier [0x0x7ff7e434e470+77376]\n\t(No symbol) [0x0x7ff7e4119a6a]\n\t(No symbol) [0x0x7ff7e4105cf5]\n\t(No symbol) [0x0x7ff7e412a7fa]\n\t(No symbol) [0x0x7ff7e419fc05]\n\t(No symbol) [0x0x7ff7e41c0192]\n\t(No symbol) [0x0x7ff7e41983e3]\n\t(No symbol) [0x0x7ff7e4161521]\n\t(No symbol) [0x0x7ff7e41622b3]\n\tGetHandleVerifier [0x0x7ff7e4631efd+3107021]\n\tGetHandleVerifier [0x0x7ff7e462c29d+3083373]\n\tGetHandleVerifier [0x0x7ff7e464bedd+3213485]\n\tGetHandleVerifier [0x0x7ff7e436884e+184862]\n\tGetHandleVerifier [0x0x7ff7e437055f+216879]\n\tGetHandleVerifier [0x0x7ff7e4357084+113236]\n\tGetHandleVerifier [0x0x7ff7e4357239+113673]\n\tGetHandleVerifier [0x0x7ff7e433e298+11368]\n\tBaseThreadInitThunk [0x0x7ff95654e8d7+23]\n\tRtlUserThreadStart [0x0x7ff957b3c34c+44]\n",
     "output_type": "error",
     "traceback": [
      "\u001b[1;31m---------------------------------------------------------------------------\u001b[0m",
      "\u001b[1;31mInvalidSessionIdException\u001b[0m                 Traceback (most recent call last)",
      "Cell \u001b[1;32mIn[46], line 3\u001b[0m\n\u001b[0;32m      1\u001b[0m card_data \u001b[38;5;241m=\u001b[39m []\n\u001b[0;32m      2\u001b[0m \u001b[38;5;28;01mfor\u001b[39;00m card \u001b[38;5;129;01min\u001b[39;00m tqdm(\u001b[38;5;28mrange\u001b[39m(\u001b[38;5;28mlen\u001b[39m(valid_cards))):\n\u001b[1;32m----> 3\u001b[0m     card_name \u001b[38;5;241m=\u001b[39m driver\u001b[38;5;241m.\u001b[39mfind_elements(By\u001b[38;5;241m.\u001b[39mCSS_SELECTOR, \u001b[38;5;124m'\u001b[39m\u001b[38;5;124m.card_name\u001b[39m\u001b[38;5;124m'\u001b[39m)\n\u001b[0;32m      4\u001b[0m     card_brand \u001b[38;5;241m=\u001b[39m driver\u001b[38;5;241m.\u001b[39mfind_elements(By\u001b[38;5;241m.\u001b[39mCSS_SELECTOR, \u001b[38;5;124m'\u001b[39m\u001b[38;5;124m.card_corp\u001b[39m\u001b[38;5;124m'\u001b[39m)\n\u001b[0;32m      5\u001b[0m     benefit \u001b[38;5;241m=\u001b[39m driver\u001b[38;5;241m.\u001b[39mfind_elements(By\u001b[38;5;241m.\u001b[39mCSS_SELECTOR, \u001b[38;5;124m'\u001b[39m\u001b[38;5;124m.sale p\u001b[39m\u001b[38;5;124m'\u001b[39m)\n",
      "File \u001b[1;32m~\\anaconda3\\Lib\\site-packages\\selenium\\webdriver\\remote\\webdriver.py:963\u001b[0m, in \u001b[0;36mWebDriver.find_elements\u001b[1;34m(self, by, value)\u001b[0m\n\u001b[0;32m    959\u001b[0m     \u001b[38;5;28;01mreturn\u001b[39;00m \u001b[38;5;28mself\u001b[39m\u001b[38;5;241m.\u001b[39mexecute_script(find_element_js, by\u001b[38;5;241m.\u001b[39mto_dict())\n\u001b[0;32m    961\u001b[0m \u001b[38;5;66;03m# Return empty list if driver returns null\u001b[39;00m\n\u001b[0;32m    962\u001b[0m \u001b[38;5;66;03m# See https://github.com/SeleniumHQ/selenium/issues/4555\u001b[39;00m\n\u001b[1;32m--> 963\u001b[0m \u001b[38;5;28;01mreturn\u001b[39;00m \u001b[38;5;28mself\u001b[39m\u001b[38;5;241m.\u001b[39mexecute(Command\u001b[38;5;241m.\u001b[39mFIND_ELEMENTS, {\u001b[38;5;124m\"\u001b[39m\u001b[38;5;124musing\u001b[39m\u001b[38;5;124m\"\u001b[39m: by, \u001b[38;5;124m\"\u001b[39m\u001b[38;5;124mvalue\u001b[39m\u001b[38;5;124m\"\u001b[39m: value})[\u001b[38;5;124m\"\u001b[39m\u001b[38;5;124mvalue\u001b[39m\u001b[38;5;124m\"\u001b[39m] \u001b[38;5;129;01mor\u001b[39;00m []\n",
      "File \u001b[1;32m~\\anaconda3\\Lib\\site-packages\\selenium\\webdriver\\remote\\webdriver.py:454\u001b[0m, in \u001b[0;36mWebDriver.execute\u001b[1;34m(self, driver_command, params)\u001b[0m\n\u001b[0;32m    451\u001b[0m response \u001b[38;5;241m=\u001b[39m cast(RemoteConnection, \u001b[38;5;28mself\u001b[39m\u001b[38;5;241m.\u001b[39mcommand_executor)\u001b[38;5;241m.\u001b[39mexecute(driver_command, params)\n\u001b[0;32m    453\u001b[0m \u001b[38;5;28;01mif\u001b[39;00m response:\n\u001b[1;32m--> 454\u001b[0m     \u001b[38;5;28mself\u001b[39m\u001b[38;5;241m.\u001b[39merror_handler\u001b[38;5;241m.\u001b[39mcheck_response(response)\n\u001b[0;32m    455\u001b[0m     response[\u001b[38;5;124m\"\u001b[39m\u001b[38;5;124mvalue\u001b[39m\u001b[38;5;124m\"\u001b[39m] \u001b[38;5;241m=\u001b[39m \u001b[38;5;28mself\u001b[39m\u001b[38;5;241m.\u001b[39m_unwrap_value(response\u001b[38;5;241m.\u001b[39mget(\u001b[38;5;124m\"\u001b[39m\u001b[38;5;124mvalue\u001b[39m\u001b[38;5;124m\"\u001b[39m, \u001b[38;5;28;01mNone\u001b[39;00m))\n\u001b[0;32m    456\u001b[0m     \u001b[38;5;28;01mreturn\u001b[39;00m response\n",
      "File \u001b[1;32m~\\anaconda3\\Lib\\site-packages\\selenium\\webdriver\\remote\\errorhandler.py:232\u001b[0m, in \u001b[0;36mErrorHandler.check_response\u001b[1;34m(self, response)\u001b[0m\n\u001b[0;32m    230\u001b[0m         alert_text \u001b[38;5;241m=\u001b[39m value[\u001b[38;5;124m\"\u001b[39m\u001b[38;5;124malert\u001b[39m\u001b[38;5;124m\"\u001b[39m]\u001b[38;5;241m.\u001b[39mget(\u001b[38;5;124m\"\u001b[39m\u001b[38;5;124mtext\u001b[39m\u001b[38;5;124m\"\u001b[39m)\n\u001b[0;32m    231\u001b[0m     \u001b[38;5;28;01mraise\u001b[39;00m exception_class(message, screen, stacktrace, alert_text)  \u001b[38;5;66;03m# type: ignore[call-arg]  # mypy is not smart enough here\u001b[39;00m\n\u001b[1;32m--> 232\u001b[0m \u001b[38;5;28;01mraise\u001b[39;00m exception_class(message, screen, stacktrace)\n",
      "\u001b[1;31mInvalidSessionIdException\u001b[0m: Message: invalid session id: session deleted as the browser has closed the connection\nfrom disconnected: not connected to DevTools\n  (Session info: chrome=138.0.7204.184); For documentation on this error, please visit: https://www.selenium.dev/documentation/webdriver/troubleshooting/errors#invalidsessionidexception\nStacktrace:\n\tGetHandleVerifier [0x0x7ff7e434e415+77285]\n\tGetHandleVerifier [0x0x7ff7e434e470+77376]\n\t(No symbol) [0x0x7ff7e4119a6a]\n\t(No symbol) [0x0x7ff7e4105cf5]\n\t(No symbol) [0x0x7ff7e412a7fa]\n\t(No symbol) [0x0x7ff7e419fc05]\n\t(No symbol) [0x0x7ff7e41c0192]\n\t(No symbol) [0x0x7ff7e41983e3]\n\t(No symbol) [0x0x7ff7e4161521]\n\t(No symbol) [0x0x7ff7e41622b3]\n\tGetHandleVerifier [0x0x7ff7e4631efd+3107021]\n\tGetHandleVerifier [0x0x7ff7e462c29d+3083373]\n\tGetHandleVerifier [0x0x7ff7e464bedd+3213485]\n\tGetHandleVerifier [0x0x7ff7e436884e+184862]\n\tGetHandleVerifier [0x0x7ff7e437055f+216879]\n\tGetHandleVerifier [0x0x7ff7e4357084+113236]\n\tGetHandleVerifier [0x0x7ff7e4357239+113673]\n\tGetHandleVerifier [0x0x7ff7e433e298+11368]\n\tBaseThreadInitThunk [0x0x7ff95654e8d7+23]\n\tRtlUserThreadStart [0x0x7ff957b3c34c+44]\n"
     ]
    }
   ],
   "source": [
    "card_data = []\n",
    "for card in tqdm(range(len(valid_cards))):\n",
    "    card_name = driver.find_elements(By.CSS_SELECTOR, '.card_name')\n",
    "    card_brand = driver.find_elements(By.CSS_SELECTOR, '.card_corp')\n",
    "    benefit = driver.find_elements(By.CSS_SELECTOR, '.sale p')\n",
    "    oversea_pay = driver.find_elements(By.CSS_SELECTOR, '.in_for')\n",
    "    prev_spend = driver.find_elements(By.CSS_SELECTOR, '.l_mth')\n",
    "\n",
    "    card_data.append({\n",
    "    \"card_name\": card_name[card].text,\n",
    "    \"card_brand\": card_brand[card].text,\n",
    "    \"benefits_raw\": benefit[card].text.replace('\\n',''),\n",
    "    \"oversea_pay\": oversea_pay[card].text,\n",
    "    \"prev_spend\":prev_spend[card].text\n",
    "    })\n",
    "\n",
    "print(len(card_data), \"개 수집\")\n",
    "card_data"
   ]
  },
  {
   "cell_type": "code",
   "execution_count": 89,
   "id": "561fd3d0-2a6e-4d4e-9c09-1ec991172125",
   "metadata": {},
   "outputs": [
    {
     "name": "stdout",
     "output_type": "stream",
     "text": [
      "451\n",
      "451\n",
      "451\n",
      "451\n",
      "451\n"
     ]
    }
   ],
   "source": [
    "print(len(card_name_list))\n",
    "print(len(card_brand_list))\n",
    "print(len(benefit_list))\n",
    "print(len(oversea_pay_list))\n",
    "print(len(previous_spending_list))"
   ]
  },
  {
   "cell_type": "markdown",
   "id": "4cc9f57e-bbb1-4acd-aaa9-efce55d058be",
   "metadata": {},
   "source": [
    "## JSON 파일로 내보내기"
   ]
  },
  {
   "cell_type": "code",
   "execution_count": 92,
   "id": "6ea8c7b6-5758-4a42-b645-ef295752312d",
   "metadata": {},
   "outputs": [],
   "source": [
    "import json"
   ]
  },
  {
   "cell_type": "code",
   "execution_count": null,
   "id": "5acc259b-01b3-43ad-a8e9-4ac2a0f7766e",
   "metadata": {},
   "outputs": [],
   "source": [
    "with open(\"card_names.json\",'w', encoding='utf-8') as f:\n",
    "    "
   ]
  }
 ],
 "metadata": {
  "kernelspec": {
   "display_name": "Python 3 (ipykernel)",
   "language": "python",
   "name": "python3"
  },
  "language_info": {
   "codemirror_mode": {
    "name": "ipython",
    "version": 3
   },
   "file_extension": ".py",
   "mimetype": "text/x-python",
   "name": "python",
   "nbconvert_exporter": "python",
   "pygments_lexer": "ipython3",
   "version": "3.12.4"
  }
 },
 "nbformat": 4,
 "nbformat_minor": 5
}
