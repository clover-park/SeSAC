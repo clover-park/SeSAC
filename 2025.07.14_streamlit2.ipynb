{
 "cells": [
  {
   "cell_type": "markdown",
   "id": "8d9a1815-9d42-435b-a376-884453b7f851",
   "metadata": {},
   "source": [
    "## 화면 레이아웃 설정\n",
    "- sidebar: 왼쪽 사이드바 설정\n",
    "- columns: 칼럼 공간 설정\n",
    "- tab: 탭 공간 설정(특정 탭을 선택하면 화면에 해당 탭 내용만 보임)\n",
    "- expander: 사용자가 클릭하여 확장하거나 축소할 수 있는 섹션 설정\n",
    "- empty: 페이지의 특정 위치에 하나의 요소를 출력할 수 있는 독립적인 공간 설정\n",
    "  - 새 요소를 추가하면 기존 요소가 대체되므로 가장 최신의 업데이트를 출력하는 게 포커스임\n",
    "  - 단일 콘텐츠를 동적으로 업데이트하고 표시하는데 유용함.\n",
    "- container: 특정 위치에 여러개의 요소를 출력할 공간 설정\n",
    "  - 여러 요소를 그룹화하고 나중에 업데이트하여 표시하는 방식\n",
    "  - 새 요소를 추가하면 기존 요소를 바꾸지 않고 단순히 컨테이너에 추가하므로 누적된 정보 집합을 출력하는데 포커스를 맞춤."
   ]
  },
  {
   "cell_type": "markdown",
   "id": "9c067f0c-bb78-418a-9671-e22c32346d5a",
   "metadata": {},
   "source": [
    "### 사이드바 설정"
   ]
  },
  {
   "cell_type": "code",
   "execution_count": 21,
   "id": "c0e5f590-5ea2-46ad-9050-a02460d39073",
   "metadata": {},
   "outputs": [
    {
     "name": "stdout",
     "output_type": "stream",
     "text": [
      "Overwriting module/myApp9.py\n"
     ]
    }
   ],
   "source": [
    "%%writefile module/myApp9.py\n",
    "\n",
    "import streamlit as st\n",
    "\n",
    "st.title('This is the main page')\n",
    "'---' # 이건 메인페이지 구분선\n",
    "# with문을 활용해서 사이드바, 컬럼 설정할 수 있음!!!\n",
    "with st.sidebar:\n",
    "    # 사이드바 생성\n",
    "    st.sidebar.title('This is a sidebar.')\n",
    "    st.sidebar.header('You can write a header.')\n",
    "    st.sidebar.subheader('Also a subheader!')\n",
    "\n",
    "    st.sidebar.write('---') # 이건 사이드바 구분선\n",
    "    select = st.sidebar.selectbox('select one',['spread','dip'])\n",
    "    st.sidebar.write(f'you chose {select}')\n",
    "\n",
    "# 컬럼 생성\n",
    "col1, col2, col3 = st.columns([1,2,1]) # 만들고자하는 컬럼 객체 수에 맞게 정수 입력\n",
    "# 아니면 리스트로 컬럼의 너비 비율을 지정할 수 있음.\n",
    "# col1, col2, col3, _ = st.columns([1,1,1,5]) 이렇게 쓸 수도 있음.\n",
    "with col1:\n",
    "    # divider: 구분선 색 지정\n",
    "    st.header('column1', divider='orange')\n",
    "    st.image('data/disneyland.jpg')\n",
    "    st.caption('迪斯尼，上海')\n",
    "with col2:\n",
    "    # divider: 구분선 색 지정\n",
    "    st.header('column2', divider='blue')\n",
    "    st.image('data/thegreatwall.jpg')\n",
    "    st.caption('长城，北京')\n",
    "with col3:\n",
    "    # divider: 구분선 색 지정\n",
    "    st.header('column3', divider='rainbow')\n",
    "    st.image('data/waitan.jpg')\n",
    "    st.caption('外滩，上海')"
   ]
  },
  {
   "cell_type": "code",
   "execution_count": 23,
   "id": "8dea3eee-1702-49c6-8368-7db5fa1213bd",
   "metadata": {},
   "outputs": [
    {
     "name": "stdout",
     "output_type": "stream",
     "text": [
      "Writing module/myApp10.py\n"
     ]
    }
   ],
   "source": [
    "%%writefile module/myApp10.py\n",
    "\n",
    "import streamlit as st\n",
    "\n",
    "tab1, tab2, tab3 = st.tabs(['迪斯尼','长城', '外滩']) # 이걸 클릭해야 이미지가 보이는 구조\n",
    "with tab1:\n",
    "    # divider: 구분선 색 지정\n",
    "    st.header('tab1', divider='orange')\n",
    "    st.image('data/disneyland.jpg')\n",
    "\n",
    "with tab2:\n",
    "    # divider: 구분선 색 지정\n",
    "    st.header('tab2', divider='blue')\n",
    "    st.image('data/thegreatwall.jpg')\n",
    "\n",
    "with tab3:\n",
    "    # divider: 구분선 색 지정\n",
    "    st.header('tab3', divider='rainbow')\n",
    "    st.image('data/waitan.jpg')"
   ]
  },
  {
   "cell_type": "markdown",
   "id": "5c134521-9176-4e87-9d09-813767499e70",
   "metadata": {},
   "source": [
    "### column, tab 조합하여 사용하기"
   ]
  },
  {
   "cell_type": "code",
   "execution_count": 1,
   "id": "346a56e0-8a53-445a-a652-966d4491197d",
   "metadata": {},
   "outputs": [
    {
     "name": "stdout",
     "output_type": "stream",
     "text": [
      "Overwriting module/myApp11.py\n"
     ]
    }
   ],
   "source": [
    "%%writefile module/myApp11.py\n",
    "\n",
    "import streamlit as st\n",
    "\n",
    "tab1, tab2 = st.tabs(['上海','北京'])\n",
    "\n",
    "with tab1:\n",
    "    col1, col2, col3 = st.columns(3)\n",
    "    with col1:\n",
    "        st.header('L_column1', divider='orange')\n",
    "        st.image('data/disneyland.jpg')\n",
    "        st.caption('迪斯尼，上海')\n",
    "    with col2:\n",
    "    # divider: 구분선 색 지정\n",
    "        st.header('L_column2', divider='blue')\n",
    "        st.image('data/dorm.jpg')\n",
    "        st.caption('宿舍，上海')\n",
    "    with col3:\n",
    "    # divider: 구분선 색 지정\n",
    "        st.header('L_column3', divider='rainbow')\n",
    "        st.image('data/waitan.jpg')\n",
    "        st.caption('外滩，上海')\n",
    "\n",
    "with tab2:\n",
    "    col1, col2, col3 = st.columns(3)\n",
    "    with col1:\n",
    "        st.header('R_column1', divider='orange')\n",
    "        st.image('data/disneyland.jpg')\n",
    "        st.caption('迪斯尼，上海')\n",
    "    with col2:\n",
    "    # divider: 구분선 색 지정\n",
    "        st.header('R_column2', divider='blue')\n",
    "        st.image('data/thegreatwall.jpg')\n",
    "        st.caption('长城，北京')\n",
    "    with col3:\n",
    "    # divider: 구분선 색 지정\n",
    "        st.header('R_column3', divider='rainbow')\n",
    "        st.image('data/waitan.jpg')\n",
    "        st.caption('外滩，上海')"
   ]
  },
  {
   "cell_type": "markdown",
   "id": "04905366-f20d-4349-8881-52efba12f67a",
   "metadata": {},
   "source": [
    "## expander\n",
    "- 사용자가 클릭해서 확장하거나 축소할 수 있는 섹션"
   ]
  },
  {
   "cell_type": "code",
   "execution_count": 4,
   "id": "3e91d2ff-2818-4a81-adff-6ad6b02e7321",
   "metadata": {},
   "outputs": [
    {
     "name": "stdout",
     "output_type": "stream",
     "text": [
      "Writing module/myApp12.py\n"
     ]
    }
   ],
   "source": [
    "%%writefile module/myApp12.py\n",
    "\n",
    "import streamlit as st\n",
    "\n",
    "# 화살표를 눌러야 텍스트랑 이미지가 보임.\n",
    "with st.expander('expander1'):\n",
    "    st.write('外滩')\n",
    "    st.image('data/waitan.jpg',width=400)\n",
    "with st.expander('expander2'):\n",
    "    st.write('宿舍')\n",
    "    st.image('data/dorm.jpg',width=400)\n",
    "with st.expander('expander3'):\n",
    "    st.write('迪斯尼')\n",
    "    st.image('data/disneyland.jpg',width=400)"
   ]
  },
  {
   "cell_type": "markdown",
   "id": "8b16478d-9e31-4617-82cd-0366dbce41be",
   "metadata": {},
   "source": [
    "### empty\n",
    "- 레이아웃에 빈 공간을 만드는 개념으로 생성요소의 실행 결과를 계속 업데이트하며 최종 결과만 출력 like 덮어쓰기\n",
    "- 단일 콘텐츠를 동적으로 업데이트하고 표시하는데 유용함."
   ]
  },
  {
   "cell_type": "code",
   "execution_count": 11,
   "id": "0633764f-9e38-40e9-b1ca-accf6d10aae1",
   "metadata": {},
   "outputs": [
    {
     "name": "stdout",
     "output_type": "stream",
     "text": [
      "Overwriting module/myApp13.py\n"
     ]
    }
   ],
   "source": [
    "%%writefile module/myApp13.py\n",
    "\n",
    "import streamlit as st\n",
    "import time\n",
    "\n",
    "emp = st.empty()\n",
    "emp.write('This is empty.')\n",
    "\n",
    "c1, c2, _, _ = st.columns([1,1,1,4])\n",
    "start = c1.button('start', key=1) # 버튼을 누르면 true가 됨.\n",
    "clear = c2.button('restart', key=2)\n",
    "\n",
    "\n",
    "# start 버튼을 눌렀을 때 empty 공간에 카운트다운이 1초 간격으로 진행되는 코드\n",
    "if start:\n",
    "    with emp:\n",
    "        for i in range(6):\n",
    "            cnt = 5 - i\n",
    "            emp.write(f'countdown {cnt}sec')\n",
    "            time.sleep(1)\n",
    "        emp.write('countdown inside an empty complete!') # with문에 종속된 상태로는 emp, st둘 다 사용가능\n",
    "\n",
    "# clear 버튼을 누르면 해당 공간에 있는 내용들을 비워주는 코드\n",
    "if clear:\n",
    "    emp.empty() # empty 내용 초기화\n",
    "    emp.write('This is empty.') # 맨 처음 출력문 그대로 재출력"
   ]
  },
  {
   "cell_type": "markdown",
   "id": "91ae79bc-8335-4478-898a-db253cd61810",
   "metadata": {},
   "source": [
    "### container 사용\n",
    "- 요소의 실행 결과들을 모두 포함하여 누적 출력\n",
    "- 새 요소를 추가하면 기존 요소를 대체하지 않고 계속 컨테이너에 추가"
   ]
  },
  {
   "cell_type": "code",
   "execution_count": 17,
   "id": "fe02e070-c1fa-4567-8980-600c425989a9",
   "metadata": {},
   "outputs": [
    {
     "name": "stdout",
     "output_type": "stream",
     "text": [
      "Overwriting module/myApp14.py\n"
     ]
    }
   ],
   "source": [
    "%%writefile module/myApp14.py\n",
    "\n",
    "import streamlit as st\n",
    "import time\n",
    "\n",
    "cont = st.container()\n",
    "cont.write('This is container.')\n",
    "\n",
    "c1, c2, _, _ = st.columns([1,1,1,4])\n",
    "start = c1.button('start', key=1) # 버튼을 누르면 true가 됨.\n",
    "clear = c2.button('restart', key=2)\n",
    "\n",
    "\n",
    "# start 버튼을 눌렀을 때 empty 공간에 카운트다운이 1초 간격으로 진행되는 코드\n",
    "if start:\n",
    "    with cont:\n",
    "        for i in range(6):\n",
    "            cnt = 5 - i\n",
    "            cont.write(f'countdown {cnt}sec')\n",
    "            time.sleep(1)\n",
    "        cont.write('countdown inside an empty complete!')\n",
    "\n",
    "# clear 버튼을 누르면 해당 공간에 있는 내용들을 비워주는 코드\n",
    "if clear:\n",
    "    cont.container() # container는 초기화를 시켜도 내부값을 완전히 다 없애지 못하고 with문 밖에 있는 write문의 문자열은 남아있음."
   ]
  },
  {
   "cell_type": "markdown",
   "id": "ef750500-ac17-4958-82ff-0fc7d12647fb",
   "metadata": {},
   "source": [
    "### 파일 업로드, 다운로드\n",
    "- file_uploader: 파일 업로드\n",
    "- download_button: 파일 다운로드"
   ]
  },
  {
   "cell_type": "code",
   "execution_count": 40,
   "id": "487c9706-1726-43ad-b8ad-85300f8ad50a",
   "metadata": {},
   "outputs": [
    {
     "name": "stdout",
     "output_type": "stream",
     "text": [
      "Overwriting module/myApp15.py\n"
     ]
    }
   ],
   "source": [
    "%%writefile module/myApp15.py\n",
    "\n",
    "import streamlit as st\n",
    "import pandas as pd\n",
    "\n",
    "# csv 파일 업로드 후 데이터 값 자체 출력(code 함수로 출력)\n",
    "myFile1 = st.file_uploader('1. choose .csv file: ', type=['csv'], key=1)\n",
    "cont1 = st.container()\n",
    "\n",
    "if myFile1: # 파일을 입력받았을 때\n",
    "    cont1.write('file uploaded') # 이 텍스트 출력\n",
    "    # file_uploader 객체의 read메소드로 파일을 읽고\n",
    "    # decode 메소드로 디코딩(텍스트에서 코드로)진행\n",
    "    code = myFile1.read().decode('euc-kr')\n",
    "    cont1.code(code) # cont1에 내용 출력\n",
    "''\n",
    "'---'\n",
    "''\n",
    "myFile2 = st.file_uploader('2. choose .py file: ', type=['py'], key=2)\n",
    "cont2 = st.container()\n",
    "\n",
    "if myFile2:\n",
    "    cont2.write('file uploaded')\n",
    "    code = myFile2.read().decode('utf-8')\n",
    "    cont2.code(code)\n",
    "''\n",
    "'---'\n",
    "''\n",
    "# csv 파일 업로드 후 df로 출력\n",
    "myFile3 = st.file_uploader('3. choose .csv file: ', type=['csv'], key=3)\n",
    "cont3 = st.container()\n",
    "\n",
    "if myFile3:\n",
    "    cont3.write('file uploaded')\n",
    "    df = pd.read_csv(myFile3, encoding='euc-kr')\n",
    "    cont3.write(df)\n",
    "\n",
    "# 여러개 파일 동시에 올리기(파일 이름 및 용량 출력까지!)\n",
    "# type 지정 불필요, accept_multiple_files = True\n",
    "myFiles = st.file_uploader('4. choose multiple files: ', accept_multiple_files = True)\n",
    "cont4 = st.container()\n",
    "\n",
    "if myFiles:\n",
    "    cont4.write('file uploaded')\n",
    "    # name: file_uploader객체가 가진 파일 이름 반환 메소드\n",
    "    file_names = [i.name for i in myFiles] # 한 줄 for문\n",
    "    # size: file_uploader 객체가 가진 파일 용량 반환 메소드(Byte단위로 출력)\n",
    "    file_sizes = [str(i.size) for i in myFiles] # join을 쓰기 위해 str로 형변환\n",
    "    \n",
    "    # join: 리스트 형태보다는 한 줄 문자열로 출력시키기\n",
    "    cont4.write(f'- file names: {\", \".join(file_names)}')\n",
    "    cont4.write(f'- file sizes: {\", \".join(file_sizes)}')\n",
    "\n",
    "# 파일 다운로드\n",
    "df = pd.DataFrame(data = {'col1': [1,2,3],\n",
    "                          'col2': ['a', 'b', 'c'],\n",
    "                          'col3': [True,False,True]})\n",
    "st.dataframe(df)\n",
    "data = df.to_csv(encoding = 'utf-8')\n",
    "\n",
    "# download 버튼(문구, 실제 데이터, 데이터가 저장될 경로 및 파일명)\n",
    "# 저장 위치는 브라우저에서 설정한 위치로 다운로드\n",
    "st.download_button('download file', data, 'data/myDF.csv')"
   ]
  },
  {
   "cell_type": "code",
   "execution_count": null,
   "id": "b7a82091-b753-4e60-9b1a-5318059ca440",
   "metadata": {},
   "outputs": [],
   "source": []
  }
 ],
 "metadata": {
  "kernelspec": {
   "display_name": "Python 3 (ipykernel)",
   "language": "python",
   "name": "python3"
  },
  "language_info": {
   "codemirror_mode": {
    "name": "ipython",
    "version": 3
   },
   "file_extension": ".py",
   "mimetype": "text/x-python",
   "name": "python",
   "nbconvert_exporter": "python",
   "pygments_lexer": "ipython3",
   "version": "3.12.4"
  }
 },
 "nbformat": 4,
 "nbformat_minor": 5
}
