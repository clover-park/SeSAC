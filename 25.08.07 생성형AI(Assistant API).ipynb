{
 "cells": [
  {
   "cell_type": "markdown",
   "id": "66f0a20c-b61e-4fc0-af43-6af4716a194c",
   "metadata": {},
   "source": [
    "## OpenAI의 Assistants API를 사용해서 PPT 파일 생성하기\n",
    "### Assistants API\n",
    "  - 작업을 대신 해주는 똑똑한 비서(Assistant)를 앱 안에 넣는 방법\n",
    "  - 비서에게 모델, 규칙(설명서), 도구를 미리 달아주고, 대화(스레드)를 시작해서 일을 시킬 수 있음.\n",
    "  - 대화 및 파일생성, 코드 명령 수행, 데이터 거맥 등 특정한 task에 특화되어 학습된 자연어 기반 생성형 AI API\n",
    "- OpenAI의 일반적인 Chat AI처럼 대화형 서비스도 제공하지만, Assistants는 특정 작업에 특화하여 지원하거나 자동화에 중점을 둠으로써 챗봇, 가상비서, 자동응답시스템 개발 등에 필요한 작업들에 포커스를 맞춰서 활용 가능\n",
    "- OpenAI platform의 API reference의 assistants 탭에서 더 많은 기능 확인 가능"
   ]
  },
  {
   "cell_type": "code",
   "execution_count": 3,
   "id": "7ba62ea4-adf2-4ea2-9768-0972a8f3ce96",
   "metadata": {},
   "outputs": [],
   "source": [
    "from openai import OpenAI\n",
    "from getpass import getpass\n",
    "import time"
   ]
  },
  {
   "cell_type": "code",
   "execution_count": 5,
   "id": "3d90cf51-b731-42fb-9d1e-0ea43f67d3b3",
   "metadata": {},
   "outputs": [
    {
     "name": "stdin",
     "output_type": "stream",
     "text": [
      "OpenAI API Key:  ········\n"
     ]
    }
   ],
   "source": [
    "MY_API_KEY = getpass.getpass(\"OpenAI API Key: \")"
   ]
  },
  {
   "cell_type": "code",
   "execution_count": 43,
   "id": "dd9f82ae-6000-48dc-9205-cf04cb961327",
   "metadata": {},
   "outputs": [],
   "source": [
    "client = OpenAI(api_key = MY_API_KEY)"
   ]
  },
  {
   "cell_type": "markdown",
   "id": "0ea6e6af-e019-4ed5-b6c3-6599ae9370e9",
   "metadata": {},
   "source": [
    "## 1) assistant, thread, message, run 4가지 객체 생성\n",
    "- assistant\n",
    "  - 어떤 모델로, 어떤 규칙으로, 무슨 도구를 쓸지 정함.\n",
    "  - client.beta.assistants.create(...)로 생성\n",
    "- thread\n",
    "  - Assistants API에서 하나의 대화 흐름을 관리하는 컨테이너 or 대화방(대화기록이 계속 쌓임.)\n",
    "  - client.beta.threads.create()로 생성\n",
    "- messsage\n",
    "    - 사용자/비서가 남기는 실제 말\n",
    "    - client.beta.threads.messages.create()로 생성\n",
    "- run\n",
    "  - 비서야, 이 대화(Thread)를 처리해! 하고 작동시키는 트리거. 비서는 필요하면 도구를 써서 결과를 만든다.\n",
    "  - client.beta.threads.runs.create()로 생성\n",
    "### 비서가 쓸 수 있는 도구❓❓\n",
    "- Code Interpreter\n",
    "  - 비서가 파이썬 코드를 직접 실행할 수 있음.\n",
    "  - 데이터 분석, 차트 그리기, 그리고 파일 생성(CSV, 이미지, PDF 등) 도 가능\n",
    "- File Search(지식 파일 검색)\n",
    "  - 내가 올린 자료들(벡터 스토어)에 대해 찾아보고 근거를 뽑을 수 있음.\n",
    "- Function Calling(함수 호출)\n",
    "  - 비서가 네가 정의해둔 외부 함수(예: DB 조회, 사내 API 호출)를 필요할 때 골라 호출\n",
    "### 비서를 왜 쓰는데❓❓\n",
    "- 멀티스텝 자동화\n",
    "  - 파일 받고 → 코드 돌리고 → 파일 만들어 돌려주기 같은 복잡한 과정을 비서가 스스로 처리\n",
    "- 대화 상태 유지\n",
    "  - Thread가 자동으로 히스토리를 관리하니, 프롬프트를 매번 길게 재전달할 필요가 줄어듦.\n",
    "- 파일 입·출력 내장\n",
    "  - 업로드한 파일을 읽고, 분석 결과를 파일로 만들어 돌려줄 수 있음.\n",
    "### 진행 프로세스\n",
    "  1. assistant 세부사항 정의\n",
    "     - 어떤 모델을 쓸지\n",
    "     - 프롬프트 작성\n",
    "     - 필요한 도구 지정  \n",
    "  2. assistant 객체 생성\n",
    "  3. thread 및 message 객체 생성\n",
    "  4. thread 실행(run)\n",
    "     - 어떤 assistant를 쓸 건지 연결\n",
    "     - run이 완료되면 메세지를 가져와서 비서의 응답 확인\n",
    "     - 파일을 만들었다면 다운로드도 가능"
   ]
  },
  {
   "cell_type": "markdown",
   "id": "47513cbb-df85-4c1f-8626-f2ec349b356c",
   "metadata": {},
   "source": [
    "### 1) assistant의 역할 및 전제 정의(role에서 system과 유사한 기능)"
   ]
  },
  {
   "cell_type": "code",
   "execution_count": 46,
   "id": "a4fbde22-5ae2-423f-86f5-ae5dd01691f0",
   "metadata": {},
   "outputs": [],
   "source": [
    "assistant_instruction = \"\"\"\n",
    "I need to make a PPT presentation file regarding Taylor Swift. You are an expert of the music industry and you exceed at creating PowerPoint files.\n",
    "It should be written in precise fonts and in Korean. Each page needs a 40points big title, 20points big content. I need 3 slide in total. \n",
    "\"\"\"\n",
    "\n",
    "# 원하는 요청에 대한 자연어 질문 작성\n",
    "prompt_user = \"\"\"\n",
    "Make a presentation file about Taylor Swift. Explain concretely abount her career, music style, famous songs, and the reason why she's so famous.\n",
    "\"\"\""
   ]
  },
  {
   "cell_type": "markdown",
   "id": "2fb6fd4f-fd93-46a6-ae10-8ac6fa3ebb31",
   "metadata": {},
   "source": [
    "### .beta\n",
    "- 베타(시험판) 영역이라는 뜻\n",
    "- client.beta 아래에 있는 기능들은 새로운 API 버전(v2 등)이나 미리보기 기능을 쓰도록 붙여 둔 별도 통로\n",
    "- 그래서 가끔 이름/동작이 바뀌거나 옮겨갈 수 있음.\n",
    "-  Assistants(비서), Threads(대화방), Runs(실행), Code Interpreter 같은 에이전트형 기능이 여기에 묶여 있음!"
   ]
  },
  {
   "cell_type": "markdown",
   "id": "e3f40516-205e-4fea-9a11-501e6c746764",
   "metadata": {},
   "source": [
    "### 2) assistant 객체 생성"
   ]
  },
  {
   "cell_type": "code",
   "execution_count": 48,
   "id": "775669cc-abd0-4dfd-aed7-8b1025237d0f",
   "metadata": {},
   "outputs": [
    {
     "data": {
      "text/plain": [
       "Assistant(id='asst_gsYZVflbtURA5Etlr7uG1pSq', created_at=1754553431, description=None, instructions='\\nI need to make a PPT presentation file regarding Taylor Swift. You are an expert of the music industry and you exceed at creating PowerPoint files.\\nIt should be written in precise fonts and in Korean. Each page needs a 40points big title, 20points big content. I need 3 slide in total. \\n', metadata={}, model='gpt-4o', name='My assistant', object='assistant', tools=[CodeInterpreterTool(type='code_interpreter')], response_format='auto', temperature=1.0, tool_resources=ToolResources(code_interpreter=ToolResourcesCodeInterpreter(file_ids=[]), file_search=None), top_p=1.0, reasoning_effort=None)"
      ]
     },
     "execution_count": 48,
     "metadata": {},
     "output_type": "execute_result"
    }
   ],
   "source": [
    "assistant = client.beta.assistants.create(name = \"My assistant\", # 이름은 원하는대로 작성\n",
    "                                          instructions = assistant_instruction, # 사전에 작성한 지침\n",
    "                                          tools = [{\"type\":\"code_interpreter\"}], # Assistant API이 동작 방식 설정(code_interpreter, function, file_search 중에 하나)\n",
    "                                          model = \"gpt-4o\")\n",
    "assistant"
   ]
  },
  {
   "cell_type": "code",
   "execution_count": 50,
   "id": "f4557f48-b54a-40f8-8de9-320e30e14756",
   "metadata": {},
   "outputs": [],
   "source": [
    "# 경고 미출력하는 코드\n",
    "# 코드 실행에 꼭 필요한 건 아니지만 깔끔한 콘솔 유지를 위해 종종 넣음.\n",
    "import warnings\n",
    "warnings.filterwarnings(action = 'ignore')"
   ]
  },
  {
   "cell_type": "markdown",
   "id": "b53b2a24-3e7f-4c06-a253-e21b949a9efa",
   "metadata": {},
   "source": [
    "### 3) thread 및 message 객체 생성\n",
    "thread 객체 생성 = 대화방 생성"
   ]
  },
  {
   "cell_type": "code",
   "execution_count": 52,
   "id": "11e0ca37-d915-4ae8-916b-83281f18af37",
   "metadata": {},
   "outputs": [],
   "source": [
    "thread = client.beta.threads.create()\n",
    "\n",
    "# 메세지 객체 생성\n",
    "message = client.beta.threads.messages.create(thread_id = thread.id, # 이 메세지가 들어갈 대화방 지정\n",
    "                                              role = \"user\", # 사람이 보낸 메세지라는 뜻\n",
    "                                              content = prompt_user # 내가 쓴 Taylor Swift PPT 요청문\n",
    "                                             )"
   ]
  },
  {
   "cell_type": "markdown",
   "id": "75fb94ec-1e5e-48df-9799-76abdef693be",
   "metadata": {},
   "source": [
    "### role: 누가 메세지를 보냈는지 표시\n",
    "- user: 사람이 보냄.\n",
    "- assistant: 비서(AI)가 보냄.\n",
    "- system: 비서의 행동 규칙"
   ]
  },
  {
   "cell_type": "markdown",
   "id": "d2d5e1bc-248d-4b7e-b7e5-163e7b48abf8",
   "metadata": {},
   "source": [
    "### 4) run (=thread 실행)\n",
    "- 이 대화(thread)를 내가 만든 assistant에게 실제로 처리하라고 지시하는 단계\n",
    "- LLM으로 사용자의 요청이 넘어감.\n",
    "- thread_id → 어떤 대화방을 처리할지 지정\n",
    "- assistant_id → 어떤 비서를 쓸지 지정\n",
    "- thread는 사용자가 요청을 입력했을 때 시작되고 모델의 응답이 끝나면 종료됨.\n",
    "- 생성형 모델이 사용자의 요청을 인지하고 결과물을 생성하기 위해서는 어느정도의 시간이 필요함(복잡할수록 더욱 많은 시간이 필요함)"
   ]
  },
  {
   "cell_type": "code",
   "execution_count": 54,
   "id": "fababe9b-5fef-4754-baf9-d25c1df13fa2",
   "metadata": {},
   "outputs": [],
   "source": [
    "run = client.beta.threads.runs.create(thread_id = thread.id,\n",
    "                                      assistant_id = assistant.id)"
   ]
  },
  {
   "cell_type": "markdown",
   "id": "bee431d1-2c46-4988-a6e3-a86601d31eec",
   "metadata": {},
   "source": [
    "## assistant의 응답에 대한 진행상황 확인용 코드\n",
    "- 이미 존재하는 객체를 다시 불러오는 역할\n",
    "- 객체의 현재 상태나 정보를 다시 요청하는 메소드\n",
    "- 매번 retrieve를 호출해서 run_retrieve.status 값을 확인\n",
    "  - retrieve: 스레드의 실행 상태나 실행 후 결과를 검색하는데 사용되는 함수. client.beta.threads.runs.retrieve()로 실행. thread.id, run.id 필요\n",
    "    - \"in_progress\" → 실행 중\n",
    "    - \"completed\" → 완료됨\n",
    "    - \"failed\" → 실패함\n",
    "    - cancelled, expired 도 나올 수 있음."
   ]
  },
  {
   "cell_type": "code",
   "execution_count": 58,
   "id": "885a23a2-fb80-4fde-98e5-5fa6e338ebc5",
   "metadata": {},
   "outputs": [
    {
     "name": "stdout",
     "output_type": "stream",
     "text": [
      "in_progress\n",
      "in_progress\n",
      "in_progress\n",
      "in_progress\n",
      "in_progress\n",
      "in_progress\n",
      "in_progress\n",
      "in_progress\n",
      "in_progress\n",
      "COMPLETE!\n"
     ]
    }
   ],
   "source": [
    "while True:\n",
    "    run_retrieve = client.beta.threads.runs.retrieve(thread_id = thread.id, # 스레드 객체의 id\n",
    "                                                      run_id = run.id) # 스레드 실행 객체의 id\n",
    "    # 실행완료인 경우 COMPLETE! 출력\n",
    "    if run_retrieve.status == 'completed':\n",
    "        print('COMPLETE!')\n",
    "        break\n",
    "    # 작업이 실행 중이거나 실패한 경우\n",
    "    else:\n",
    "        print(run_retrieve.status) # 해당 상태 출력\n",
    "        time.sleep(3) # 3초 텀을 두고 상태를 계속해서 출력"
   ]
  },
  {
   "cell_type": "markdown",
   "id": "8d14e571-4d2e-4d01-8c77-7e770e0a29ad",
   "metadata": {},
   "source": [
    "## thread 안에 있는 메세지(대화 내용)을 가져와서 원하는 부분만 뽑아서 살펴보기"
   ]
  },
  {
   "cell_type": "code",
   "execution_count": 60,
   "id": "3e6f642c-5455-4ea7-85f2-8bb705761e54",
   "metadata": {},
   "outputs": [
    {
     "data": {
      "text/plain": [
       "Message(id='msg_P4gHpO08OVE72D96y89xxrCa', assistant_id=None, attachments=[], completed_at=None, content=[TextContentBlock(text=Text(annotations=[], value=\"\\nMake a presentation file about Taylor Swift. Explain concretely abount her career, music style, famous songs, and the reason why she's so famous.\\n\"), type='text')], created_at=1754553435, incomplete_at=None, incomplete_details=None, metadata={}, object='thread.message', role='user', run_id=None, status=None, thread_id='thread_wRPbsmPqP8088jxd88NTk7n9')"
      ]
     },
     "execution_count": 60,
     "metadata": {},
     "output_type": "execute_result"
    }
   ],
   "source": [
    "# 특정 thread(대화방)에 쌓인 모든 메시지 목록을 가져옴\n",
    "# message.list: 특정 스레드에서 오고간 메세지에 대한 정보를 출력하는 함수\n",
    "messages = client.beta.threads.messages.list(thread_id = thread.id)\n",
    "message"
   ]
  },
  {
   "cell_type": "code",
   "execution_count": 62,
   "id": "d48665de-a172-41c9-9b6d-6019ac8cebbc",
   "metadata": {},
   "outputs": [
    {
     "data": {
      "text/plain": [
       "Message(id='msg_P4gHpO08OVE72D96y89xxrCa', assistant_id=None, attachments=[], completed_at=None, content=[TextContentBlock(text=Text(annotations=[], value=\"\\nMake a presentation file about Taylor Swift. Explain concretely abount her career, music style, famous songs, and the reason why she's so famous.\\n\"), type='text')], created_at=1754553435, incomplete_at=None, incomplete_details=None, metadata={}, object='thread.message', role='user', run_id=None, status=None, thread_id='thread_wRPbsmPqP8088jxd88NTk7n9')"
      ]
     },
     "execution_count": 62,
     "metadata": {},
     "output_type": "execute_result"
    }
   ],
   "source": [
    "# 대화에서 가장 최근 메시지임. 보통 Assistant의 최신 응답\n",
    "messages.data[-1]"
   ]
  },
  {
   "cell_type": "code",
   "execution_count": 64,
   "id": "8bdf872f-06db-410a-a391-67c47c283bd4",
   "metadata": {},
   "outputs": [
    {
     "data": {
      "text/plain": [
       "\"The third and final slide discussing the reasons for Taylor Swift's fame has been added to the presentation. You can download the complete PowerPoint presentation using the link below:\\n\\n[Taylor_Swift_Presentation.pptx](sandbox:/mnt/data/Taylor_Swift_Presentation.pptx)\""
      ]
     },
     "execution_count": 64,
     "metadata": {},
     "output_type": "execute_result"
    }
   ],
   "source": [
    "# 첫 번째 메시지: 대화에서 가장 오래된 것, 보통 사용자가 처음 보낸 요청\n",
    "# .text.value → 그 콘텐츠가 텍스트일 경우, 실제 문자열 내용을 꺼냄.\n",
    "# 결과로 순수 텍스트 문자열이 나옴.\n",
    "messages.data[0].content[0].text.value"
   ]
  },
  {
   "cell_type": "markdown",
   "id": "b09638ae-1aa0-4118-a3c4-7219b933f51d",
   "metadata": {},
   "source": [
    "## annotations: 텍스트 안에서 특별한 태그·링크·참조 같은 부가정보 목록\n",
    "- annotaions[0] → 그 중 첫 번째 annotation을 가져옴.\n",
    "- annotations가 비어있으면 뭔가 잘못 된 거임.\n",
    "- file_path=FilePath(....,file_id='file-6XShLZAFiwVXjJZeGsrUsV'): 파일의 OpenAI Files API 고유 ID. Assistant로 생성한 PPT 파일의 서버상의 식별자!!!✨"
   ]
  },
  {
   "cell_type": "code",
   "execution_count": 68,
   "id": "a0f034b2-15fa-46da-bc06-3321d1f382b0",
   "metadata": {},
   "outputs": [
    {
     "data": {
      "text/plain": [
       "FilePathAnnotation(end_index=267, file_path=FilePath(file_id='file-6XShLZAFiwVXjJZeGsrUsV'), start_index=219, text='sandbox:/mnt/data/Taylor_Swift_Presentation.pptx', type='file_path')"
      ]
     },
     "execution_count": 68,
     "metadata": {},
     "output_type": "execute_result"
    }
   ],
   "source": [
    "messages.data[0].content[0].text.annotations[0]"
   ]
  },
  {
   "cell_type": "markdown",
   "id": "a93890e9-a824-4456-84fb-c49130462bc8",
   "metadata": {},
   "source": [
    "## 5) 완료된 작업에 대한 정보 추출 및 실제 파일로 내보내기\n",
    "- GPT가 만든 PPT 파일을 서버에서 꺼내서, 내 컴퓨터에 저장\n",
    "- .file_path.file_id로 그 annotation이 가리키는 파일 ID 찾기\n",
    "- client.files: 파일 관리\n",
    "- .with_raw_response: 가공되지 않은 형태로 파일 받기\n",
    "- .retrieve_content(file_id_path): 서버에서 그 파일의 실제 내용을 다운로드"
   ]
  },
  {
   "cell_type": "code",
   "execution_count": 72,
   "id": "97e32410-3537-4c64-bca6-ad353cfdb051",
   "metadata": {},
   "outputs": [
    {
     "data": {
      "text/plain": [
       "'file-6XShLZAFiwVXjJZeGsrUsV'"
      ]
     },
     "execution_count": 72,
     "metadata": {},
     "output_type": "execute_result"
    }
   ],
   "source": [
    "file_id_path = messages.data[0].content[0].text.annotations[0].file_path.file_id\n",
    "file_id_path\n",
    "# assistant가 생성한 파일 id가 'file-6XShLZAFiwVXjJZeGsrUsV'임."
   ]
  },
  {
   "cell_type": "code",
   "execution_count": 74,
   "id": "e91483d2-36f2-41ee-a895-c262f748cc46",
   "metadata": {},
   "outputs": [
    {
     "data": {
      "text/plain": [
       "<APIResponse [200 OK] type=<class 'str'>>"
      ]
     },
     "execution_count": 74,
     "metadata": {},
     "output_type": "execute_result"
    }
   ],
   "source": [
    "file_contents = client.files.with_raw_response.retrieve_content(file_id_path)\n",
    "file_contents"
   ]
  },
  {
   "cell_type": "markdown",
   "id": "091e83f0-63cc-4dd2-a7ea-2352f4e5db45",
   "metadata": {},
   "source": [
    "### <APIResponse [200 OK] type=<class 'str'>> 이게 뭔 뜻이냐\n",
    "- 200 → 요청이 정상적으로 성공했다는 의미\n",
    "- OK → 상태 코드에 붙는 설명(성공)\n",
    "- type=<class 'str'>는 응답 본문이 문자열 형태로 저장돼 있다는 의미\n",
    "- 근데 PPT, PDF 같은 바이너리 파일을 받을 때는 문자열이 아니라 **바이트(bytes)**로 다뤄야 안전\n",
    "- 이 상태에서 바로 쓰기(f.write(...))를 하면, 바이너리 파일이 깨질 수 있음.\n",
    "\n",
    "### .content를 사용하면, 바이트 데이터로 받을 수 있음!!!\n",
    "👀 서버에서 받은 PPT 내용을 내 컴퓨터에 PPT_001.pptx라는 이름으로 저장하는 법:\n",
    "- 내 컴퓨터에 PPT_001.pptx라는 파일을 **쓰기 모드(wb)**로 열기\n",
    "- wb = write binary, PPT처럼 텍스트가 아닌 파일을 저장할 때 필요\n",
    "- f.write(file_contents.content) → 다운로드해 온 파일 내용을 그대로 써서 저장"
   ]
  },
  {
   "cell_type": "code",
   "execution_count": 78,
   "id": "3eff5c7c-66e4-4bfb-85eb-183f57d1249e",
   "metadata": {},
   "outputs": [],
   "source": [
    "with open('PPT_001.pptx','wb') as f:\n",
    "    f.write(file_contents.content)"
   ]
  },
  {
   "cell_type": "markdown",
   "id": "4c683842-92cd-44dd-bb25-eb1bc27cb068",
   "metadata": {},
   "source": [
    "## Recap\n",
    "- 간단한 요청을 진행했기 때문에 결과물의 퀄리티는 높지 않지만 Assistant API를 활용하면 일반 대화형 API로 하기 힘든 파일 제작 등 특정 task에 특화된 응답과 결과를 얻을 수 있음."
   ]
  },
  {
   "cell_type": "code",
   "execution_count": null,
   "id": "b18a06b8-b7de-45db-b4dc-4b46c288800b",
   "metadata": {},
   "outputs": [],
   "source": []
  }
 ],
 "metadata": {
  "kernelspec": {
   "display_name": "Python 3 (ipykernel)",
   "language": "python",
   "name": "python3"
  },
  "language_info": {
   "codemirror_mode": {
    "name": "ipython",
    "version": 3
   },
   "file_extension": ".py",
   "mimetype": "text/x-python",
   "name": "python",
   "nbconvert_exporter": "python",
   "pygments_lexer": "ipython3",
   "version": "3.12.4"
  }
 },
 "nbformat": 4,
 "nbformat_minor": 5
}
