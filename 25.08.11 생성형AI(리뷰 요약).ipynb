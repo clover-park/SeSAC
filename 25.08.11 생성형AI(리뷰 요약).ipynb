{
 "cells": [
  {
   "cell_type": "markdown",
   "id": "3a6c2137-eb4c-4ef2-9078-dad5cddc1f10",
   "metadata": {},
   "source": [
    "# 야놀자 숙소 리뷰 요약을 위한 GPT 모델 만들기\n",
    "- 리뷰 요약을 위한 모델을 GPT-3.5로 만들고 GPT-4의 성능을 넘을 수 있게 고도하 시키기"
   ]
  },
  {
   "cell_type": "markdown",
   "id": "69ac9b6e-1dfb-41a4-ae70-4abc0cdeb674",
   "metadata": {},
   "source": [
    "## 1. API Key 및 기본 설정"
   ]
  },
  {
   "cell_type": "code",
   "execution_count": 1,
   "id": "6b423dec-e916-4ca2-b090-0d693c44527d",
   "metadata": {},
   "outputs": [],
   "source": [
    "import os\n",
    "import json\n",
    "import numpy as np\n",
    "import pandas as pd\n",
    "import seaborn as sns\n",
    "from tqdm import tqdm\n",
    "from openai import OpenAI\n",
    "from getpass import getpass"
   ]
  },
  {
   "cell_type": "code",
   "execution_count": 3,
   "id": "bd9a1990-81e0-49cb-bdd3-d69ef02f17d8",
   "metadata": {},
   "outputs": [
    {
     "name": "stdin",
     "output_type": "stream",
     "text": [
      "OpenAI API key :  ········\n"
     ]
    }
   ],
   "source": [
    "MY_API_KEY = getpass.getpass(\"OpenAI API key : \")"
   ]
  },
  {
   "cell_type": "code",
   "execution_count": 5,
   "id": "f5e15194-73c3-40ab-a695-481a652329f8",
   "metadata": {},
   "outputs": [],
   "source": [
    "client = OpenAI(api_key=MY_API_KEY)"
   ]
  },
  {
   "cell_type": "markdown",
   "id": "cca23478-a4af-4c32-b895-55fc58ade9f0",
   "metadata": {},
   "source": [
    "## 데이터 전처리\n",
    "- 프롬프트 입력 및 모델 평가를 위해 JSON 형태의 파일에서 리뷰를 구분할 수 있게 문자열로 만들어주기"
   ]
  },
  {
   "cell_type": "markdown",
   "id": "1dd75ec5-0046-4a67-b254-58d40e00f4f2",
   "metadata": {},
   "source": [
    "### 1) 수집한 리뷰 JSON 파일 로드\n",
    "- 야놀자 홈페이지에서 '신라스테이 역삼'호텔에 대한 리뷰를 20 스크롤 정도 크롤링한 데이터"
   ]
  },
  {
   "cell_type": "code",
   "execution_count": 9,
   "id": "4b5a288e-6022-441b-a4b6-317cc2ff37c7",
   "metadata": {},
   "outputs": [
    {
     "name": "stdout",
     "output_type": "stream",
     "text": [
      "420\n"
     ]
    },
    {
     "data": {
      "text/plain": [
       "[{'review': '고민하다가 조식포함으로 결정했는데 좋은 선택이었습니다. 같이간 이들도 만족스러워했어요. 조식도 좋았고 시설, 서비스, 청결도 나무랄데가 없었네요.',\n",
       "  'stars': 5,\n",
       "  'date': '2024.06.03'},\n",
       " {'review': '커피쿠폰도 받았구 깨끗하고 교회뷰도 이뻤어요!!!', 'stars': 5, 'date': '2022.11.20'},\n",
       " {'review': '잊을수없는 추억을 남겼어요 너무너무 좋았어요\\r\\n여자친구 몰래 프로포즈를 준비하게되었는데\\r\\n프론트 체크인 도와주셨던 직원분께 양해를 구하고\\r\\n선물을 미리 맡겨주셨고 프로포즈셋팅까지 완벽하게 진행될 수 있도록 정말 많은 도움 주셨어요\\r\\n바쁘신 와중에도 제가 계획한대로 체크인도 도와주셨고 딜라이브 ott까지 챙겨주시는 섬세함에 감동받았습니다 나중에 기념일때 다시한번 꼭 방문하겠습니다 성함을 기억했어야 하는데 젊은 남직원분\\r\\n다음번 방문때 감사인사 드리겠습니다\\r\\n훌륭한 룸컨디션도 칭찬합니다',\n",
       "  'stars': 5,\n",
       "  'date': '2022.10.17'},\n",
       " {'review': '조식이 맛있어요!!다양하게 종류도 많구요 캠페인중이여서 할인도 해서 먹었는데 맛있습니다\\n직원분들 친절하고 대응도 잘해주세요',\n",
       "  'stars': 5,\n",
       "  'date': '1일 전'},\n",
       " {'review': '가족들이 간다고 해서 진짜 폭풍 검색해서 알아봐드렸는데 좋아하셔서 좋았습니다 :) 신라스테이는 어딜 가도 좋은것 같아요',\n",
       "  'stars': 5,\n",
       "  'date': '3일 전'},\n",
       " {'review': '프론트 직원분들이 친절하셔서 좋아요', 'stars': 5, 'date': '3일 전'},\n",
       " {'review': '아주좋아요오오옹오ㅗ옹', 'stars': 5, 'date': '2024.10.08'},\n",
       " {'review': '청결하고 좋습니다 특히 조식이 맛있었어요', 'stars': 5, 'date': '2024.10.08'},\n",
       " {'review': '깨끗하고 친잘하고 교통편도 편리해요\\n그래서 출장중엔 종종 이용합니다',\n",
       "  'stars': 5,\n",
       "  'date': '2024.10.08'},\n",
       " {'review': '잘자고 가요오오 ~~', 'stars': 4, 'date': '2024.10.07'}]"
      ]
     },
     "execution_count": 9,
     "metadata": {},
     "output_type": "execute_result"
    }
   ],
   "source": [
    "with open(\"data/ya_review_sinla.json\", \"r\", encoding=\"utf-8\") as f:\n",
    "    # json.load: JSON 파일 불러오기\n",
    "    review_list = json.load(f)\n",
    "print(len(review_list))\n",
    "review_list[:10]"
   ]
  },
  {
   "cell_type": "markdown",
   "id": "26a85cf8-efde-4f60-b93a-cb4e34c9830b",
   "metadata": {},
   "source": [
    "### 2) 높은 평점 기준 정의(야놀자 리뷰 요약 중에 높은 평점 요약만 사용)\n",
    "전체 평점이 4.7점이므로 높은 평점은 5점으로 정의\n",
    "- 높은 평점: 별 5개 \n",
    "- 낮은 평점: 별 4개 이하"
   ]
  },
  {
   "cell_type": "code",
   "execution_count": 12,
   "id": "013da1b8-0410-44dd-a620-21ed326abbff",
   "metadata": {},
   "outputs": [],
   "source": [
    "# 리스트 내부의 딕셔너리 key값(star)로 value(실제 점수)추출 수 빈 리스트에 넣기\n",
    "star_list = [i['stars'] for i in review_list]"
   ]
  },
  {
   "cell_type": "code",
   "execution_count": 14,
   "id": "408d2f09-ad1e-48cf-984a-b660de048401",
   "metadata": {},
   "outputs": [
    {
     "data": {
      "text/plain": [
       "4.754761904761905"
      ]
     },
     "execution_count": 14,
     "metadata": {},
     "output_type": "execute_result"
    }
   ],
   "source": [
    "np.mean(star_list)"
   ]
  },
  {
   "cell_type": "code",
   "execution_count": 16,
   "id": "0c2c713d-57ee-49f2-8eb4-a9f83b927f80",
   "metadata": {},
   "outputs": [
    {
     "data": {
      "text/plain": [
       "<Axes: ylabel='count'>"
      ]
     },
     "execution_count": 16,
     "metadata": {},
     "output_type": "execute_result"
    },
    {
     "data": {
      "image/png": "[encoded data removed]",
      "text/plain": [
       "<Figure size 640x480 with 1 Axes>"
      ]
     },
     "metadata": {},
     "output_type": "display_data"
    }
   ],
   "source": [
    "sns.countplot(x = star_list)"
   ]
  },
  {
   "cell_type": "markdown",
   "id": "f5fa2be6-5925-4220-bb37-e4b21b9d3e6c",
   "metadata": {},
   "source": [
    "### 3) 높은 평점 리뷰 저장"
   ]
  },
  {
   "cell_type": "code",
   "execution_count": 19,
   "id": "0fa99dc7-121a-4d4b-b2a0-e94daa82da13",
   "metadata": {},
   "outputs": [
    {
     "name": "stdout",
     "output_type": "stream",
     "text": [
      "['[REVIEW_START]고민하다가 조식포함으로 결정했는데 좋은 선택이었습니다. 같이간 이들도 만족스러워했어요. 조식도 좋았고 시설, 서비스, 청결도 나무랄데가 없었네요.[REVIEW_END]', '[REVIEW_START]커피쿠폰도 받았구 깨끗하고 교회뷰도 이뻤어요!!![REVIEW_END]', '[REVIEW_START]잊을수없는 추억을 남겼어요 너무너무 좋았어요\\r\\n여자친구 몰래 프로포즈를 준비하게되었는데\\r\\n프론트 체크인 도와주셨던 직원분께 양해를 구하고\\r\\n선물을 미리 맡겨주셨고 프로포즈셋팅까지 완벽하게 진행될 수 있도록 정말 많은 도움 주셨어요\\r\\n바쁘신 와중에도 제가 계획한대로 체크인도 도와주셨고 딜라이브 ott까지 챙겨주시는 섬세함에 감동받았습니다 나중에 기념일때 다시한번 꼭 방문하겠습니다 성함을 기억했어야 하는데 젊은 남직원분\\r\\n다음번 방문때 감사인사 드리겠습니다\\r\\n훌륭한 룸컨디션도 칭찬합니다[REVIEW_END]', '[REVIEW_START]조식이 맛있어요!!다양하게 종류도 많구요 캠페인중이여서 할인도 해서 먹었는데 맛있습니다\\n직원분들 친절하고 대응도 잘해주세요[REVIEW_END]', '[REVIEW_START]가족들이 간다고 해서 진짜 폭풍 검색해서 알아봐드렸는데 좋아하셔서 좋았습니다 :) 신라스테이는 어딜 가도 좋은것 같아요[REVIEW_END]']\n"
     ]
    }
   ],
   "source": [
    "reviews_high = []\n",
    "for i in review_list:\n",
    "    if i['stars'] == 5:\n",
    "        # LLM 학습에 사용되고 있는 스페션 토큰(START, END) 형식으로 한 리뷰의 시작과 끝은 구분하여\n",
    "        # 모델이 더 잘 이해할 수 있도록 설정\n",
    "        reviews_high.append('[REVIEW_START]' + i['review'] + '[REVIEW_END]')\n",
    "\n",
    "print(reviews_high[:5])"
   ]
  },
  {
   "cell_type": "code",
   "execution_count": 21,
   "id": "162f96f1-e2a1-4cc2-98f1-ec436c2f30c8",
   "metadata": {},
   "outputs": [
    {
     "name": "stdout",
     "output_type": "stream",
     "text": [
      "[REVIEW_START]고민하다가 조식포함으로 결정했는데 좋은 선택이었습니다. 같이간 이들도 만족스러워했어요. 조식도 좋았고 시설, 서비스, 청결도 나무랄데가 없었네요.[REVIEW_END]\n",
      "[REVIEW_START]커피쿠폰도 받았구 깨끗하고 교회뷰도 이뻤어요!!![REVIEW_END]\n",
      "[REVIEW_START]잊을수없는 추억을 남겼어요 너무너무 좋았어요\n",
      "여자친구 몰래 프로포즈를 준비하게되었는데\n",
      "프론트 체크인 도와주셨던 직원분께 양해를 구하고\n",
      "선물을 미리 맡겨주셨고 프로포즈셋팅까지 완벽하게 진행될 수 있도록 정말 많은 도움 주셨어요\n",
      "바쁘신 와중에도 제가 계획한대로 체크인도 도와주셨고 딜라이브 ott까지 챙겨주시는 섬세함에 감동받았습니다 나중에 기념일때 다시한번 꼭 방문하겠습니다 성함을 기억했어야 하는데 젊은 남직원분\n",
      "다음번 방문때 감사인사 드리겠습니다\n",
      "훌륭한 룸컨디션도 칭찬합니다[REVIEW_END]\n",
      "[REVIEW_START]조식이 맛있어요!!다양하게 종류도 많구요 캠페\n"
     ]
    }
   ],
   "source": [
    "# 리스트로 나오는데 prompt에 넣으려면 문자열로 넣어야해서 join함수로 문자열로 합치기\n",
    "reviews_high_text = '\\n'.join(reviews_high)\n",
    "print(reviews_high_text[:500])"
   ]
  },
  {
   "cell_type": "markdown",
   "id": "7e7cdfeb-17e1-4f43-bf6e-72c249e927c2",
   "metadata": {},
   "source": [
    "## 4) 리뷰의 기간을 6개월로 설정하고 모든 전처리 단계를 함수화 시켜두기\n",
    "- 야놀자 홈페이지에서 요약한 후기는 최근 6개얼간의 후기로 요약한 결과\n",
    "- 우리 데이터는 24년 10월 16일에 수집된 데이터로 그 날 이전의 데이터들을 포함하고 있음.\n",
    "- so, 그 날부터 이전 6개월간의 동일한 기간의 데이터를 추출"
   ]
  },
  {
   "cell_type": "code",
   "execution_count": 24,
   "id": "228cd689-6119-4c8a-a95c-fe62f3f3b0c6",
   "metadata": {},
   "outputs": [],
   "source": [
    "import datetime\n",
    "# dateutil: 다양한 형식의 날짜와 시간 문자열을 파싱하고 처리할 수 있는 모듈\n",
    "# parser: 문자열에서 날짜와 시간 정보를 자동으로 인식하여 코드로 파싱하는 함수\n",
    "\n",
    "from dateutil import parser"
   ]
  },
  {
   "cell_type": "code",
   "execution_count": 26,
   "id": "06c2ff47-e0e6-4144-8619-c9723d6a6701",
   "metadata": {},
   "outputs": [],
   "source": [
    "# 리뷰 데이터 전처리 함수 만들기\n",
    "def preprocess_reviews(path = \"data/ya_review_sinla.json\"):\n",
    "    with open(path, \"r\", encoding=\"utf-8\") as f:\n",
    "        review_list = json.load(f)\n",
    "    reviews_high = []\n",
    "    # 기간 및 날짜 처리\n",
    "    base_date = datetime.datetime(2024, 10, 16)\n",
    "    \n",
    "    # timedelta: 날짜 또는 시간 간의 차이를 구해주는 함수\n",
    "    # 매개변수는 weeks, days, hours, minutes, seconds\n",
    "    # base_date에서 최근 6개월(24주)간의 데이터의 기준 날짜를 설정\n",
    "    date_boundary = base_date - datetime.timedelta(weeks=24)\n",
    "\n",
    "    for i in review_list:\n",
    "        # 각 리뷰의 날짜를 문자열로 변수에 저장\n",
    "        review_date_str = i['date']\n",
    "        try:\n",
    "            # parser: 문자열을 날짜 타입으로 변경시켜주는 함수\n",
    "            review_date = parser.parse(review_date_str)\n",
    "            # 만약 ValueError, TypeError가 발생한다면(년월일로 표시되지 않은 값들은 parse 함수 사용시 에러 발생)\n",
    "        except (ValueError, TypeError):\n",
    "            # '~일 전'이라는 리뷰들은 최근 6개월 내에 반드시 포함되기 때문에 그냥 현재 날짜로 변경해도 무방\n",
    "            review_date = base_date\n",
    "        # 해당 리뷰의 날짜가 6개월 전 날짜보다 작다면 후속 작업 없이 넘어감.\n",
    "        if  review_date < date_boundary:\n",
    "            continue\n",
    "        if i['stars'] == 5:\n",
    "            reviews_high.append('[REVIEW_START]' + i['review'] + '[REVIEW_END]')\n",
    "        reviews_high_text = '\\n'.join(reviews_high)\n",
    "    return reviews_high_text # 모든 전처리가 끝난 리뷰 데이터 문자열 반환"
   ]
  },
  {
   "cell_type": "code",
   "execution_count": 28,
   "id": "136c48dd-7ed6-4a64-9570-62ec3fa6f78d",
   "metadata": {},
   "outputs": [
    {
     "data": {
      "text/plain": [
       "datetime.datetime(2024, 10, 16, 0, 0)"
      ]
     },
     "execution_count": 28,
     "metadata": {},
     "output_type": "execute_result"
    }
   ],
   "source": [
    "datetime.datetime(2024, 10, 16)"
   ]
  },
  {
   "cell_type": "markdown",
   "id": "06846dcf-11f6-4d3a-b9d4-ca713963273c",
   "metadata": {},
   "source": [
    "### 3. 리뷰 문장 요약을 위한 Baseline 모델 개발\n",
    "- base 모델(gpt-3.5)의 요약이 야놀자 후기 요약 문장(gpt-4)에 근접하게 성능을 향상시켜보는 것이 우리의 목표"
   ]
  },
  {
   "cell_type": "code",
   "execution_count": 31,
   "id": "505e5159-a4c5-417b-832c-2359bc7c05cf",
   "metadata": {},
   "outputs": [],
   "source": [
    "reviews = preprocess_reviews() # 디폴트 경로는 신라호텔 데이터의 경로"
   ]
  },
  {
   "cell_type": "code",
   "execution_count": 33,
   "id": "a6d852e9-5ce5-4e9b-8696-85ed175cdd00",
   "metadata": {},
   "outputs": [
    {
     "data": {
      "text/plain": [
       "6916"
      ]
     },
     "execution_count": 33,
     "metadata": {},
     "output_type": "execute_result"
    }
   ],
   "source": [
    "len(reviews)"
   ]
  },
  {
   "cell_type": "code",
   "execution_count": 35,
   "id": "eee44f04-02d9-49a6-9239-91f5cf282425",
   "metadata": {},
   "outputs": [],
   "source": [
    "# 기준이 되는 베이스 프롬프트를 시작으로 점점 고도화 시켜나갈 예정\n",
    "PROMPT_BASELINE = \"아래 숙소 리뷰에 대해 5문장 이내로 요약해주라.\""
   ]
  },
  {
   "cell_type": "markdown",
   "id": "5e7f87fd-0700-4fc5-bc06-674cabc31978",
   "metadata": {},
   "source": [
    "## 1) 리뷰 요약 함수 선언"
   ]
  },
  {
   "cell_type": "code",
   "execution_count": 38,
   "id": "bc9e366c-de67-4e4a-a1f5-0a0d5e0874fe",
   "metadata": {},
   "outputs": [],
   "source": [
    "def summarize(reviews, prompt, temperature = 0, model = 'gpt-3.5-turbo'):\n",
    "    prompt = prompt + '\\n\\n' + reviews\n",
    "\n",
    "    completion = client.chat.completions.create(model = model,\n",
    "                                                messages = [{'role': 'user','content':prompt}],\n",
    "                                                temperature = temperature)\n",
    "    return completion.choices[0].message.content"
   ]
  },
  {
   "cell_type": "markdown",
   "id": "787d83a2-aee1-4744-9eea-707949c24195",
   "metadata": {},
   "source": [
    "## 2) 모델별 요약 결과"
   ]
  },
  {
   "cell_type": "code",
   "execution_count": 41,
   "id": "6cf3429c-9c13-4624-9066-cd09de198d98",
   "metadata": {},
   "outputs": [
    {
     "name": "stdout",
     "output_type": "stream",
     "text": [
      "조식 포함으로 선택한 숙소는 시설, 서비스, 청결도 모두 만족스러웠고, 같이간 이들도 좋아했다. 위치도 좋아서 재방문 의사가 있다.\n"
     ]
    }
   ],
   "source": [
    "# base 모델 요약 결과(gpt-3.5-turbo)\n",
    "print(summarize(reviews, PROMPT_BASELINE))"
   ]
  },
  {
   "cell_type": "code",
   "execution_count": 42,
   "id": "ebfc0eea-ddd2-484d-a230-22113266cc7d",
   "metadata": {},
   "outputs": [
    {
     "data": {
      "text/plain": [
       "'청결하고 쾌적한 환경을 제공하며, 친절한 직원 서비스가 돋보입니다.\\n조식은 다양한 메뉴와 맛으로 손님들에게 호평을 받으며, 주차 시설도 편리하게 마련되어 있습니다.\\n객실은 아늑하고 고급스러운 분위기를 연출하며, 일부 객실에서는 도로 소음이 발생할 수 있습니다.\\n접근성과 주변 식당, 카페가 다양해 이용객의 편의성이 높습니다. 전반적으로 가성비가 우수하고, 재방문 의사가 있는 곳입니다.'"
      ]
     },
     "execution_count": 42,
     "metadata": {},
     "output_type": "execute_result"
    }
   ],
   "source": [
    "# 야놀자 홈페이지 높은 평점 휴기 요약 결과(gpt-4-turbo)\n",
    "summary_gpt4_turbo = \"\"\"청결하고 쾌적한 환경을 제공하며, 친절한 직원 서비스가 돋보입니다.\n",
    "조식은 다양한 메뉴와 맛으로 손님들에게 호평을 받으며, 주차 시설도 편리하게 마련되어 있습니다.\n",
    "객실은 아늑하고 고급스러운 분위기를 연출하며, 일부 객실에서는 도로 소음이 발생할 수 있습니다.\n",
    "접근성과 주변 식당, 카페가 다양해 이용객의 편의성이 높습니다. 전반적으로 가성비가 우수하고, 재방문 의사가 있는 곳입니다.\"\"\"\n",
    "summary_gpt4_turbo"
   ]
  },
  {
   "cell_type": "markdown",
   "id": "bcec996a-8fcf-4170-b3b4-b0b0a28ba86c",
   "metadata": {},
   "source": [
    "## 4. 모델 평가 함수 선언\n",
    "#### 1) 평가 기준 설정\n",
    "- MT-Bench 논문 기반 PairWise Comparision 방식 사용\n",
    "  - LLM 기반 응답 품질 비교 평가\n",
    "  - gpt-4o 모델을 활용하여 2개 모델(gpt-3.5-turbo, gpt-4-turbo)의 요약 결과를 비교, 평가해보자.\n",
    "#### 2) 평가를 위한 스크립트 및 모델 실행 코드 작성\n",
    "- 기존 MT-Bench 논문의 평가용 프롬프트에서 우리의 task에 맞게 일부만 수정한 프롬프트 활용"
   ]
  },
  {
   "cell_type": "code",
   "execution_count": 46,
   "id": "144f824c-3cdc-4ff5-9423-2333b83809be",
   "metadata": {},
   "outputs": [],
   "source": [
    "def pairwise_eval(reviews, answer_a, answer_b):\n",
    "    eval_prompt = f\"\"\"[System]\n",
    "Please act as an impartial judge and evaluate the quality of the Korean summaries provided by two\n",
    "AI assistants to the set of user reviews on accommodations displayed below. You should choose the assistant that\n",
    "follows the user's instructions and answers the user's question better. Your evaluation\n",
    "should consider factors such as the helpfulness, relevance, accuracy, depth, creativity,\n",
    "and level of detail of their responses. Begin your evaluation by comparing the two\n",
    "responses and provide a short explanation. Avoid any position biases and ensure that the\n",
    "order in which the responses were presented does not influence your decision. Do not allow\n",
    "the length of the responses to influence your evaluation. Do not favor certain names of\n",
    "the assistants. Be as objective as possible. After providing your explanation, output your\n",
    "final verdict by strictly following this format: \"[[A]]\" if assistant A is better, \"[[B]]\"\n",
    "if assistant B is better, and \"[[C]]\" for a tie.\n",
    "[User Reviews]\n",
    "{reviews}\n",
    "[The Start of Assistant A's Answer]\n",
    "{answer_a}\n",
    "[The End of Assistant A's Answer]\n",
    "[The Start of Assistant B's Answer]\n",
    "{answer_b}\n",
    "[The End of Assistant B's Answer]\"\"\"\n",
    "    # 평가를 위한 LLM은 gpt-4o 버전으로 지정\n",
    "    completion = client.chat.completions.create(model = 'gpt-4o',\n",
    "                                                messages = [{'role':'user','content':eval_prompt}],\n",
    "                                                temperature = 0)\n",
    "    return completion.choices[0].message.content"
   ]
  },
  {
   "cell_type": "markdown",
   "id": "c0efa44a-8a6f-419e-a48f-2c1c1f129b38",
   "metadata": {},
   "source": [
    "## 3) base 모델(gpt-3.5)과 gpt4모델 하나씩의 응답에 대해 시범 평가"
   ]
  },
  {
   "cell_type": "code",
   "execution_count": 49,
   "id": "63cce6bc-59e9-444e-a4ec-c4b96875b44a",
   "metadata": {},
   "outputs": [],
   "source": [
    "# base모델 응답\n",
    "answer_a = summarize(reviews, PROMPT_BASELINE)"
   ]
  },
  {
   "cell_type": "code",
   "execution_count": 51,
   "id": "229cf05d-4dd6-4ee1-a749-edf520f4b325",
   "metadata": {},
   "outputs": [
    {
     "name": "stdout",
     "output_type": "stream",
     "text": [
      "Both Assistant A and Assistant B provided summaries of the user reviews for the accommodations. However, there are notable differences in their responses:\n",
      "\n",
      "1. **Helpfulness and Relevance**: \n",
      "   - Assistant A's summary is concise and focuses on the key aspects mentioned in the reviews, such as the quality of breakfast, the satisfaction with the facilities, service, and cleanliness, and the convenience of the location and parking.\n",
      "   - Assistant B provides a more detailed summary, covering additional aspects such as the ambiance of the rooms, potential noise issues, and the convenience of nearby amenities. This makes Assistant B's response more comprehensive and relevant to the various points mentioned in the reviews.\n",
      "\n",
      "2. **Accuracy and Depth**:\n",
      "   - Assistant A accurately captures the positive sentiments about the breakfast, service, and overall satisfaction but lacks depth in covering other aspects mentioned in the reviews.\n",
      "   - Assistant B accurately reflects the reviews' content and provides a deeper analysis by mentioning potential noise issues and the variety of nearby amenities, which were noted in the reviews.\n",
      "\n",
      "3. **Creativity and Level of Detail**:\n",
      "   - Assistant A's response is straightforward and lacks additional insights or creative elements.\n",
      "   - Assistant B's response is more creative and detailed, offering a broader view of the accommodation's strengths and potential weaknesses.\n",
      "\n",
      "Overall, Assistant B's response is more comprehensive, detailed, and aligned with the user reviews, providing a better summary of the accommodations.\n",
      "\n",
      "[[B]]\n"
     ]
    }
   ],
   "source": [
    "# 평가 함수 실행\n",
    "print(pairwise_eval(reviews, answer_a, summary_gpt4_turbo))"
   ]
  },
  {
   "cell_type": "markdown",
   "id": "d38e2d77-15dd-4943-861c-b4314275f5a3",
   "metadata": {},
   "source": [
    "## 5. 메인 평가 진행\n",
    "- 실무에서는 다양한 데이터에 대해 더 많은 횟수로 평가하지만 지금은 그렇게 하기 힘들기 때문에 동일한 prompt에 대해 temperature를 높여서 다양한 응답을 10개 만들어서 비교 평가를 진행\n",
    "- 경험상 50~100번 정도의 평가를 진행하면 좋지만 시간과 비용의 문제로 일단 10번 정도만 진행"
   ]
  },
  {
   "cell_type": "code",
   "execution_count": 54,
   "id": "b936a9e6-4716-4204-95da-ee5b64fdbf6f",
   "metadata": {},
   "outputs": [
    {
     "data": {
      "text/plain": [
       "['조식포함으로 결정한 숙소는 시설, 서비스, 청결도 모두 만족스러웠고, 직원들도 친절하고 대응이 빨랐다. 아이와 함께 머물기에도 안전하고 가격 대비 성능이 좋았다. 위치가 조금 아쉬워도 다음에도 재방문 의사가 있다.',\n",
       " '조식포함으로 선택한 숙소는 좋은 선택이었고, 조식과 시설, 서비스, 청결도에 대해 만족스러웠다. 같이간 이들도 만족했다.',\n",
       " '조식포함으로 선택한 숙소는 시설, 서비스, 청결도 모두 만족스러웠고, 조식도 맛있다는 리뷰가 많았다. 직원들의 친절도도 양호하며, 가격대비 만족스러운 숙박이었다.',\n",
       " '조식 포함으로 선택한 숙소는 조식이 맛있고 시설, 서비스, 청결도 모두 좋았다. 같이 간 이들도 만족해했으며, 직원들도 친절했다. 위치가 편리하고 가족들이 좋아하는 숙소로 추천된다. 프론트 직원들도 친절하며, 깨끗하고 조용한 환경에서 편안한 휴식을 즐길 수 있다.',\n",
       " '조식포함으로 선택한 숙소는 즐거운 선택이었고, 시설, 서비스, 청결도 모두 만족스러웠다. 같이간 이들도 만족했으며 직원분들의 친절한 대응도 좋았다.',\n",
       " '조식 포함으로 선택한 숙소는 시설, 서비스, 청결도 모두 만족스러웠다. 함께 간 이들도 좋아했다.',\n",
       " '다양한 리뷰들을 종합하면, 조식이 맛있고 시설이 깔끔하며 직원들이 친절한 신라스테이에서 편안한 휴식을 즐길 수 있다.',\n",
       " '조식 포함으로 선택한 숙소는 시설, 서비스, 청결도 모두 만족스러웠고, 같이간 이들도 좋아했다. 혜택 중인 할인과 맛있는 조식도 좋았고, 직원들의 친절한 대응이 더욱 만족스러웠다. 추천할 만한 신라스테이 숙소였다.',\n",
       " '조식 포함으로 선택한 숙소는 시설, 서비스, 청결도 모두 좋았고, 같이간 이들도 만족했다. 조식이 다양하고 맛있으며, 직원들도 친절하고 대응도 잘해줬다. 가족들이 만족했고, 프론트 직원도 친절했다. 전체적으로 청결하고 조식이 맛있어서 만족스러웠다. 위치가 좋고 주차 편리하며, 룸 컨디션도 좋았다.',\n",
       " '조식포함으로 결정한 숙소는 시설, 서비스, 청결도 모두 좋았고, 가족들도 만족한 것으로 보입니다. 추천할 만한 깨끗하고 친절한 숙소로 평가되고 있습니다.']"
      ]
     },
     "execution_count": 54,
     "metadata": {},
     "output_type": "execute_result"
    }
   ],
   "source": [
    "# temperature를 디폴트인 0.8로 설정하고 10번의 용약 결과를 리스트에 담기\n",
    "summaries_baseline = [summarize(reviews, PROMPT_BASELINE, temperature=0.8) for _ in range(10)]\n",
    "summaries_baseline"
   ]
  },
  {
   "cell_type": "code",
   "execution_count": 56,
   "id": "f5381922-893f-4f9e-8010-e560a00eb03e",
   "metadata": {},
   "outputs": [
    {
     "data": {
      "text/plain": [
       "10"
      ]
     },
     "execution_count": 56,
     "metadata": {},
     "output_type": "execute_result"
    }
   ],
   "source": [
    "len(summaries_baseline)"
   ]
  },
  {
   "cell_type": "code",
   "execution_count": 58,
   "id": "33e8bef3-ca88-468c-af89-3b981227d974",
   "metadata": {},
   "outputs": [
    {
     "data": {
      "text/plain": [
       "10"
      ]
     },
     "execution_count": 58,
     "metadata": {},
     "output_type": "execute_result"
    }
   ],
   "source": [
    "# gpt-4모델도 비교를 우해 10번을 리스트에 넣기\n",
    "summaries_gpt4 = [summary_gpt4_turbo for _ in range(10)]\n",
    "len(summaries_gpt4)"
   ]
  },
  {
   "cell_type": "markdown",
   "id": "e3ecaa41-c50e-4eba-aa4f-cf917153b860",
   "metadata": {},
   "source": [
    "# 10번씩 평가함수 설정(gpt3.5가 gpt4에 비해 얼마나 승리했는지 출력)\n",
    "def pairwise_eval_batch(reviews, answers_a, answers_b):\n",
    "    a_cnt, b_cnt, c_cnt = 0,0,0 # 승리, 패배, 무승부\n",
    "    for i in tqdm(range(10)):\n",
    "        result_text = pairwise_eval(reviews, answers_a[i], answers_b[i])\n",
    "        \n",
    "        # 평가 함수로 평가한 응답 중에 [[A]]가 있다면 = gpt3.5가 더 요약을 잘했다면\n",
    "        if '[[A]]' in result_text:\n",
    "            a_cnt += 1\n",
    "        # gpt4가 요약을 더 잘했다면\n",
    "        elif '[[B]]' in result_text:\n",
    "            b_cnt += 1\n",
    "        # 둘 다 요약 성능이 동일하다면\n",
    "        elif '[[C]]' in result_text:\n",
    "            c_cnt += 1\n",
    "        else:\n",
    "            print('Error occurred!')\n",
    "    return a_cnt, b_cnt, c_cnt"
   ]
  },
  {
   "cell_type": "code",
   "execution_count": 62,
   "id": "a7a44f4f-49b4-4be1-bd92-b0f7729201eb",
   "metadata": {},
   "outputs": [
    {
     "name": "stderr",
     "output_type": "stream",
     "text": [
      "100%|██████████████████████████████████████████████████████████████████████████████████| 10/10 [00:51<00:00,  5.15s/it]"
     ]
    },
    {
     "name": "stdout",
     "output_type": "stream",
     "text": [
      "Wins: 0, Losses: 10, Ties: 0\n"
     ]
    },
    {
     "name": "stderr",
     "output_type": "stream",
     "text": [
      "\n"
     ]
    }
   ],
   "source": [
    "wins, losses, ties = pairwise_eval_batch(reviews, summaries_baseline, summaries_gpt4)\n",
    "print(f'Wins: {wins}, Losses: {losses}, Ties: {ties}')"
   ]
  },
  {
   "cell_type": "markdown",
   "id": "93245f9d-5cef-42b5-b5b2-fe3455173c0e",
   "metadata": {},
   "source": [
    "### 10번 다 짐ㅋㅋ큐ㅠㅠ 실화냐"
   ]
  },
  {
   "cell_type": "markdown",
   "id": "636ead09-2fab-46e7-a911-ac74c4fa56eb",
   "metadata": {},
   "source": [
    "## 6. 모델 및 프롬프트 고도화\n",
    "1) 프롬프트 엔지니어링(페르소나 및 조건 명시)"
   ]
  },
  {
   "cell_type": "code",
   "execution_count": 66,
   "id": "46db985d-1bff-4ed7-af75-5ecf631a0906",
   "metadata": {},
   "outputs": [],
   "source": [
    "prompt = \"\"\"\n",
    "당신은 문장 요약 전문가입니다. 사용자 숙소 리뷰들이 주어졌을 때 이를 요약하는 것이 당신의 임무입니다.\n",
    "\n",
    "요약 결과는 다음 조건들을 충족해야합니다.\n",
    "1. 모든 문장은 항상 존댓말을 사용합니다.\n",
    "2. 숙소에 대해 소개하는 톤앤매너로 작성합니다.\n",
    "    2-1. 좋은 리뷰 요약 예시\n",
    "        a)  전반적으로 좋은 숙소였고 방음도 괜찮았다는 평입니다.\n",
    "        b)  재방문 예정이라는 평들이 존재합니다.\n",
    "    2-2. 나쁜 리뷰 요약 예시\n",
    "        a) 좋은 숙소였고 방음도 괜찮음.\n",
    "        b) 재방문 예정\n",
    "3. 요약 결과는 최소 4문장 이상 최대 7문장 이내로 작성합니다.\n",
    "\n",
    "아래 숙소 리뷰들에 대해 요약해주세요.\n",
    "\"\"\"\n",
    "# 변경된 프롬프트를 넣어서 10번 요약 실행\n",
    "summaries_optil1 = [summarize(reviews, prompt, temperature=0.8) for _ in range(10)]"
   ]
  },
  {
   "cell_type": "code",
   "execution_count": 70,
   "id": "06b8df50-a336-4d4a-bd53-ee841413b022",
   "metadata": {},
   "outputs": [
    {
     "name": "stderr",
     "output_type": "stream",
     "text": [
      "100%|█████████████████████████████████████████████████| 10/10 [01:06<00:00,  6.61s/it]"
     ]
    },
    {
     "name": "stdout",
     "output_type": "stream",
     "text": [
      "Wins: 9, Losses: 1, Ties: 0\n"
     ]
    },
    {
     "name": "stderr",
     "output_type": "stream",
     "text": [
      "\n"
     ]
    }
   ],
   "source": [
    "# 1차 튜닝한 프롬프트로 요약한 결과와 기존 gpt-4-turbo 모델의 결과를 10회 비교\n",
    "wins, losses, ties = pairwise_eval_batch(reviews, summaries_optil1, summaries_gpt4)\n",
    "print(f'Wins: {wins}, Losses: {losses}, Ties: {ties}')"
   ]
  },
  {
   "cell_type": "markdown",
   "id": "52b2681a-7134-4bc1-870d-2744725a6bbe",
   "metadata": {},
   "source": [
    "### 2) 입력데이터의 품질 향상시키기\n",
    "- 실제 숙소에 대한 정보가 포함되지 않는 단순하고 짧은 리뷰들은 필터링하기 ex) 좋았어요, 굳굳 등\n",
    "- 우리가 해결하고자 하는 문제에 따라서 입력데이터의 품질에 대한 기준은 달라질 수 있음."
   ]
  },
  {
   "cell_type": "code",
   "execution_count": 79,
   "id": "7de9ec68-398d-4d12-9d63-a3e297513710",
   "metadata": {},
   "outputs": [],
   "source": [
    "# 짧은 리뷰 데이터들을 필터링할 수 있는 전처리 함수\n",
    "def preprocess_reviews(path = \"data/ya_review_sinla.json\"):\n",
    "    with open(path, \"r\", encoding=\"utf-8\") as f:\n",
    "        review_list = json.load(f)\n",
    "    reviews_high = []\n",
    "    base_date = datetime.datetime(2024, 10, 16)\n",
    "\n",
    "    date_boundary = base_date - datetime.timedelta(weeks=24)\n",
    "    \n",
    "    filtered_cnt = 0 # 필터링 된 리뷰 개수 카운트용\n",
    "    \n",
    "    for i in review_list:\n",
    "        review_date_str = i['date']\n",
    "        try:\n",
    "            review_date = parser.parse(review_date_str)\n",
    "        except (ValueError, TypeError):\n",
    "            review_date = base_date\n",
    "        if  review_date < date_boundary:\n",
    "            continue\n",
    "            \n",
    "        # 리뷰의 길이가 15자 미만이면 다시 되돌아가게 설정\n",
    "        if len(i['review']) < 15:\n",
    "            filtered_cnt += 1\n",
    "            continue\n",
    "            \n",
    "        \n",
    "        if i['stars'] == 5:\n",
    "            reviews_high.append('[REVIEW_START]' + i['review'] + '[REVIEW_END]')\n",
    "            \n",
    "    # 사용할 리뷰 개수를 최대 50개까지만 지정(gpt-3.5모델의 경우 토큰수의 제한이 크지 않아서 입력이 너무 길면 에러가 발생)\n",
    "    # min함수를 사용해서 10자 이상인 리뷰들의 개수가 50개보다 적다면 해당 개수만큼만 사용하고 더 많아도 50개까지만 사용하도록 지정\n",
    "    reviews_high = reviews_high[ : min(len(reviews_high), 50)]\n",
    "    print(\"Number of reviews with less than 10 letters: \", filtered_cnt)\n",
    "    print(\"Number of reviews with high ratings after filtering: \", len(reviews_high))\n",
    "    reviews_high_text = '\\n'.join(reviews_high)\n",
    "    return reviews_high_text"
   ]
  },
  {
   "cell_type": "code",
   "execution_count": 81,
   "id": "c4dbbdf7-6bc6-4e5b-beb8-751a15a004d0",
   "metadata": {},
   "outputs": [
    {
     "name": "stdout",
     "output_type": "stream",
     "text": [
      "Number of reviews with less than 10 letters:  42\n",
      "Number of reviews with high ratings after filtering:  50\n"
     ]
    }
   ],
   "source": [
    "# 변경된 전처리 함수를 리뷰데이터에 다시 적용\n",
    "reviews = preprocess_reviews()"
   ]
  },
  {
   "cell_type": "code",
   "execution_count": 83,
   "id": "5c204838-e531-49a7-bd0d-4087736f31fa",
   "metadata": {},
   "outputs": [],
   "source": [
    "# 프롬프팅 + 데이터 필터링이 적용된 요약 결과\n",
    "summaries_opti2 = [summarize(reviews, prompt, temperature=0.8) for _ in range(10)]"
   ]
  },
  {
   "cell_type": "code",
   "execution_count": 87,
   "id": "be9b09dc-7ba6-48c4-9856-c2dbb645e95b",
   "metadata": {},
   "outputs": [
    {
     "name": "stderr",
     "output_type": "stream",
     "text": [
      "100%|█████████████████████████████████████████████████| 10/10 [00:57<00:00,  5.79s/it]"
     ]
    },
    {
     "name": "stdout",
     "output_type": "stream",
     "text": [
      "Wins: 8, Losses: 2, Ties: 0\n"
     ]
    },
    {
     "name": "stderr",
     "output_type": "stream",
     "text": [
      "\n"
     ]
    }
   ],
   "source": [
    "# 1차 튜닝한 프롬프트로 요약한 결과와 기존 gpt-4-turbo 모델의 결과를 10회 비교\n",
    "wins, losses, ties = pairwise_eval_batch(reviews, summaries_opti2, summaries_gpt4)\n",
    "print(f'Wins: {wins}, Losses: {losses}, Ties: {ties}')"
   ]
  },
  {
   "cell_type": "markdown",
   "id": "e2f47423-62fd-43ee-a3c3-6e15d81b39f7",
   "metadata": {},
   "source": [
    "### 입력데이터의 품질을 올려주는 것만으로도 조금 더 성능의 향상을 볼 수 있다는데 왜 더 성능이 떨어졌냐...."
   ]
  },
  {
   "cell_type": "markdown",
   "id": "0f837e0e-667e-42fb-a6d2-e797978e9e35",
   "metadata": {},
   "source": [
    "### 3) Few-shot learning\n",
    "- 질의-응답 쌍의 예시를 들어주기 위해 새로운 숙소의 리뷰와 그 요약을 예시로 넣어주기"
   ]
  },
  {
   "cell_type": "code",
   "execution_count": 94,
   "id": "d97d4f90-3a1a-4ade-b3ff-faddccd7f78c",
   "metadata": {},
   "outputs": [
    {
     "name": "stdout",
     "output_type": "stream",
     "text": [
      "Number of reviews with less than 10 letters:  56\n",
      "Number of reviews with high ratings after filtering:  50\n"
     ]
    },
    {
     "data": {
      "text/plain": [
       "'전반적으로 글래드 삼성 호텔은 편리한 위치와 청결한 시설로 많은 고객들에게 좋은 평가를 받고 있습니다. 삼성역과 가까워 교통이 편리하며, 코엑스와 인접해 있어 다양한 부대시설을 쉽게 이용할 수 있는 장점이 있습니다. 침구의 편안함과 직원들의 친절한 서비스는 고객들에게 큰 만족을 주고 있으며, 특히 얼리 체크인과 같은 유연한 서비스가 긍정적인 반응을 얻고 있습니다. 다만, 일부 고객들은 소음 문제와 뷰에 대한 아쉬움을 표현하기도 했습니다. 전반적으로 가성비가 좋고, 재방문 의사를 밝히는 고객들이 많아 추천할 만한 숙소입니다.'"
      ]
     },
     "execution_count": 94,
     "metadata": {},
     "output_type": "execute_result"
    }
   ],
   "source": [
    "# one-shot\n",
    "# 요약 예시문으로 활용하기 위한 글래드 강남 코엑스센터 호텔의 리뷰를 불러와서 전처리 진행\n",
    "reviews_1shot = preprocess_reviews('data/ya_review_glad.json')\n",
    "\n",
    "# 요약 예시문 생성(좀 더 좋은 예시를 위해 상급 모델 활용)\n",
    "summarize_1shot = summarize(reviews_1shot, prompt, temperature=0, model='gpt-4o')\n",
    "summarize_1shot"
   ]
  },
  {
   "cell_type": "code",
   "execution_count": 100,
   "id": "5dc59055-a8e8-4c21-9ff6-0c375abf94c8",
   "metadata": {},
   "outputs": [],
   "source": [
    "prompt_1shot = f\"\"\"\n",
    "당신은 문장 요약 전문가입니다. 사용자 숙소 리뷰들이 주어졌을 때 이를 요약하는 것이 당신의 임무입니다.\n",
    "\n",
    "요약 결과는 다음 조건들을 충족해야합니다.\n",
    "1. 모든 문장은 항상 존댓말을 사용합니다.\n",
    "2. 숙소에 대해 소개하는 톤앤매너로 작성합니다.\n",
    "    2-1. 좋은 리뷰 요약 예시\n",
    "        a)  전반적으로 좋은 숙소였고 방음도 괜찮았다는 평입니다.\n",
    "        b)  재방문 예정이라는 평들이 존재합니다.\n",
    "    2-2. 나쁜 리뷰 요약 예시\n",
    "        a) 좋은 숙소였고 방음도 괜찮음.\n",
    "        b) 재방문 예정\n",
    "3. 요약 결과는 최소 4문장 이상 최대 7문장 이내로 작성합니다.\n",
    "\n",
    "다음 참고할 리뷰들과 그에 대한 요약 예시입니다.\n",
    "[예시 리뷰들]: {reviews_1shot}\n",
    "[예시 요약 결과]: {summarize_1shot}\n",
    "\n",
    "아래 숙소 리뷰들에 대해 요약해주세요.\n",
    "\"\"\"\n",
    "# 변경된 프롬프트를 넣어서 10번 요약 실행\n",
    "summaries_opti3 = [summarize(reviews, prompt_1shot, temperature=0.8) for _ in range(10)]"
   ]
  },
  {
   "cell_type": "code",
   "execution_count": 102,
   "id": "58db9963-2229-4dea-995a-f38b58f16530",
   "metadata": {},
   "outputs": [
    {
     "name": "stderr",
     "output_type": "stream",
     "text": [
      "100%|█████████████████████████████████████████████████| 10/10 [01:17<00:00,  7.74s/it]"
     ]
    },
    {
     "name": "stdout",
     "output_type": "stream",
     "text": [
      "Wins: 8, Losses: 2, Ties: 0\n"
     ]
    },
    {
     "name": "stderr",
     "output_type": "stream",
     "text": [
      "\n"
     ]
    }
   ],
   "source": [
    "# 튜닝한 프롬프트로 요약한 결과와 기존 gpt-4-turbo 모델의 결과를 10회 비교\n",
    "wins, losses, ties = pairwise_eval_batch(reviews, summaries_opti3, summaries_gpt4)\n",
    "print(f'Wins: {wins}, Losses: {losses}, Ties: {ties}')"
   ]
  },
  {
   "cell_type": "markdown",
   "id": "cd03409b-16e6-4237-8e7f-e637cc0fead2",
   "metadata": {},
   "source": [
    "### 성능이 그대로세요;;;;;;;\n",
    "- few-shot learning을 한다고 해서 무조건 성능이 좋아지는 건 아님.\n",
    "- prompt-engineering은 무한 테스트의 영역ㅠㅠㅠ"
   ]
  },
  {
   "cell_type": "markdown",
   "id": "4ca4c9e9-bba6-4da8-ae45-dac542064150",
   "metadata": {},
   "source": [
    "### 프롬프트 조건을 바꿔보자."
   ]
  },
  {
   "cell_type": "code",
   "execution_count": 106,
   "id": "967cb62d-6a2b-4266-af38-77d0f790ffa3",
   "metadata": {},
   "outputs": [],
   "source": [
    "prompt_1shot_v2 = f\"\"\"\n",
    "당신은 문장 요약 전문가입니다. 사용자 숙소 리뷰들이 주어졌을 때 이를 요약하는 것이 당신의 임무입니다.\n",
    "\n",
    "요약 결과는 최소 4문장 이상 최대 7문장 이내로 작성합니다.\n",
    "\n",
    "다음 참고할 리뷰들과 그에 대한 요약 예시입니다.\n",
    "[예시 리뷰들]: {reviews_1shot}\n",
    "[예시 요약 결과]: {summarize_1shot}\n",
    "\n",
    "아래 숙소 리뷰들에 대해 요약해주세요.\n",
    "\"\"\"\n",
    "# 변경된 프롬프트를 넣어서 10번 요약 실행\n",
    "summaries_opti4 = [summarize(reviews, prompt_1shot_v2, temperature=0.8) for _ in range(10)]"
   ]
  },
  {
   "cell_type": "code",
   "execution_count": 108,
   "id": "cc4f231f-cb50-4cd2-9365-053b164af167",
   "metadata": {},
   "outputs": [
    {
     "name": "stderr",
     "output_type": "stream",
     "text": [
      "100%|█████████████████████████████████████████████████| 10/10 [00:52<00:00,  5.21s/it]"
     ]
    },
    {
     "name": "stdout",
     "output_type": "stream",
     "text": [
      "Wins: 7, Losses: 3, Ties: 0\n"
     ]
    },
    {
     "name": "stderr",
     "output_type": "stream",
     "text": [
      "\n"
     ]
    }
   ],
   "source": [
    "# 튜닝한 프롬프트로 요약한 결과와 기존 gpt-4-turbo 모델의 결과를 10회 비교\n",
    "wins, losses, ties = pairwise_eval_batch(reviews, summaries_opti4, summaries_gpt4)\n",
    "print(f'Wins: {wins}, Losses: {losses}, Ties: {ties}')"
   ]
  },
  {
   "cell_type": "markdown",
   "id": "91a6daac-0a2c-45b5-b612-3d88fbfb9370",
   "metadata": {},
   "source": [
    "### Two-shot learning으로 더 많은 예시를 줘보자.\n",
    "1. 호텔 인 나인 리뷰 파일 로드 후 전처리\n",
    "2. 요약 결과 출력(temperatur = 0, model = 'gpt-4o')\n",
    "3. 호텔 인 나인 리뷰와 요약 결과를 새로운 프롬프트에 넣어서 two-shot으로 구성(변수명: prompt_2shot)\n",
    "4. 10번의 반복 요약(변수명: summaries_opti5)\n",
    "5. 최종 평가"
   ]
  },
  {
   "cell_type": "code",
   "execution_count": 116,
   "id": "5e37e252-0697-40c9-8b42-d47d381add0c",
   "metadata": {},
   "outputs": [
    {
     "name": "stdout",
     "output_type": "stream",
     "text": [
      "Number of reviews with less than 10 letters:  42\n",
      "Number of reviews with high ratings after filtering:  46\n"
     ]
    },
    {
     "data": {
      "text/plain": [
       "'이 숙소는 코엑스와의 접근성이 뛰어나고, 봉은사역과도 가까워 교통이 매우 편리하다는 점에서 많은 고객들에게 좋은 평가를 받고 있습니다. 객실은 청결하고 침구가 편안하여 숙박의 질을 높여주며, 특히 침대의 편안함에 대한 긍정적인 리뷰가 많습니다. 직원들의 친절한 서비스와 발렛 주차 서비스도 고객 만족도를 높이는 요소로 작용하고 있습니다. 다만, 일부 고객들은 도로 소음과 에어컨 온도 조절 문제를 지적하며 개선이 필요하다고 언급했습니다. 전반적으로 위치, 청결, 서비스 면에서 높은 평가를 받고 있으며, 재방문 의사를 밝히는 고객들이 많아 추천할 만한 숙소입니다.'"
      ]
     },
     "execution_count": 116,
     "metadata": {},
     "output_type": "execute_result"
    }
   ],
   "source": [
    "# 1,2 번\n",
    "reviews_2shot = preprocess_reviews('data/ya_review_in9.json')\n",
    "summary_2shot = summarize(reviews_2shot, prompt_1shot_v2, temperature=0, model = 'gpt-4o')\n",
    "summary_2shot"
   ]
  },
  {
   "cell_type": "code",
   "execution_count": 120,
   "id": "5e10198b-ec3f-458d-aa06-bfc295f0cd0f",
   "metadata": {},
   "outputs": [],
   "source": [
    "# 3,4 번\n",
    "prompt_2shot = f\"\"\"\n",
    "당신은 문장 요약 전문가입니다. 사용자 숙소 리뷰들이 주어졌을 때 이를 요약하는 것이 당신의 임무입니다.\n",
    "\n",
    "요약 결과는 최소 4문장 이상 최대 7문장 이내로 작성합니다.\n",
    "\n",
    "다음 참고할 리뷰들과 그에 대한 요약 예시입니다.\n",
    "[예시 리뷰들1]: {reviews_1shot}\n",
    "[예시 요약 결과1]: {summarize_1shot}\n",
    "\n",
    "[예시 리뷰들2]: {summary_2shot}\n",
    "[예시 요약 결과2]: {summary_2shot}\n",
    "\n",
    "아래 숙소 리뷰들에 대해 요약해주세요.\n",
    "\"\"\"\n",
    "# 변경된 프롬프트를 넣어서 10번 요약 실행\n",
    "summaries_opti5 = [summarize(reviews, prompt_2shot, temperature=0.8) for _ in range(10)]"
   ]
  },
  {
   "cell_type": "code",
   "execution_count": 122,
   "id": "4dee4e7a-ab96-47b9-b2a5-e13811365c86",
   "metadata": {},
   "outputs": [
    {
     "name": "stderr",
     "output_type": "stream",
     "text": [
      "100%|█████████████████████████████████████████████████| 10/10 [00:48<00:00,  4.87s/it]"
     ]
    },
    {
     "name": "stdout",
     "output_type": "stream",
     "text": [
      "Wins: 9, Losses: 1, Ties: 0\n"
     ]
    },
    {
     "name": "stderr",
     "output_type": "stream",
     "text": [
      "\n"
     ]
    }
   ],
   "source": [
    "# 튜닝한 프롬프트로 요약한 결과와 기존 gpt-4-turbo 모델의 결과를 10회 비교\n",
    "wins, losses, ties = pairwise_eval_batch(reviews, summaries_opti5, summaries_gpt4)\n",
    "print(f'Wins: {wins}, Losses: {losses}, Ties: {ties}')"
   ]
  },
  {
   "cell_type": "markdown",
   "id": "8940d926-ddd0-4ba2-b542-142338533007",
   "metadata": {},
   "source": [
    "### 우와 성능이 개 쪼꼼 좋아짐!!!"
   ]
  },
  {
   "cell_type": "markdown",
   "id": "ff9c5630-5e92-4ad2-8f93-a2baa8bbdf94",
   "metadata": {},
   "source": [
    "### 자유롭게 프롬프트 및 데이터 전처리를 변경해서 성능을 높여보자.\n",
    "- 평가 횟수는 20번으로 상향(3.5-turbo, 4-turbo 모두 20개씩 요약하고 평가도 20번으로 상향)\n",
    "- ChatGPT나 외부 소프트웨어 도움 없이 직접 프롬프트 및 데이터를 변경할 것\n",
    "- 가장 Wins가 높을 때의 결과 및 코드 캡쳐"
   ]
  },
  {
   "cell_type": "code",
   "execution_count": 126,
   "id": "ef5e7f5f-df6b-4c66-9b78-a9dd212e97b5",
   "metadata": {},
   "outputs": [],
   "source": [
    "summaries_gpt4_20 = [summary_gpt4_turbo for _ in range(20)]"
   ]
  },
  {
   "cell_type": "code",
   "execution_count": 149,
   "id": "94373ad4-dbf0-4c6c-a10f-f3289fad8834",
   "metadata": {},
   "outputs": [],
   "source": [
    "prompt_2shot = f\"\"\"\n",
    "당신은 문장 요약 전문가입니다. 사용자 숙소 리뷰들이 주어졌을 때 이를 요약하는 것이 당신의 임무입니다.\n",
    "\n",
    "요약 결과는 최소 4문장 이상 최대 7문장 이내로 작성합니다.\n",
    "\n",
    "다음 참고할 리뷰들과 그에 대한 요약 예시입니다.\n",
    "[예시 리뷰들1]: {reviews_1shot}\n",
    "[예시 요약 결과1]: {summarize_1shot}\n",
    "\n",
    "[예시 리뷰들2]: {summary_2shot}\n",
    "[예시 요약 결과2]: {summary_2shot}\n",
    "\n",
    "예시 리뷰들과 예시 요약 결과들을 참고하여 비슷하게 아래 숙소 리뷰들에 대해 요약해주세요.\n",
    "\"\"\"\n",
    "# 변경된 프롬프트를 넣어서 20번 요약 실행\n",
    "summaries_opti5 = [summarize(reviews, prompt_2shot, temperature=0.8) for _ in range(20)]"
   ]
  },
  {
   "cell_type": "code",
   "execution_count": 134,
   "id": "e030fcb7-f8a3-4759-bb6d-a9ecfe707316",
   "metadata": {},
   "outputs": [],
   "source": [
    "# 20번씩 평가함수 설정(gpt3.5가 gpt4에 비해 얼마나 승리했는지 출력)\n",
    "def pairwise_eval_batch_20(reviews, answers_a, answers_b):\n",
    "    a_cnt, b_cnt, c_cnt = 0,0,0 # 승리, 패배, 무승부\n",
    "    for i in tqdm(range(20)):\n",
    "        result_text = pairwise_eval(reviews, answers_a[i], answers_b[i])\n",
    "        \n",
    "        # 평가 함수로 평가한 응답 중에 [[A]]가 있다면 = gpt3.5가 더 요약을 잘했다면\n",
    "        if '[[A]]' in result_text:\n",
    "            a_cnt += 1\n",
    "        # gpt4가 요약을 더 잘했다면\n",
    "        elif '[[B]]' in result_text:\n",
    "            b_cnt += 1\n",
    "        # 둘 다 요약 성능이 동일하다면\n",
    "        elif '[[C]]' in result_text:\n",
    "            c_cnt += 1\n",
    "        else:\n",
    "            print('Error occurred!')\n",
    "    return a_cnt, b_cnt, c_cnt"
   ]
  },
  {
   "cell_type": "code",
   "execution_count": 136,
   "id": "495a31ae-c1d3-4fa3-87cc-980e3cb02e02",
   "metadata": {},
   "outputs": [
    {
     "name": "stderr",
     "output_type": "stream",
     "text": [
      "100%|█████████████████████████████████████████████████| 20/20 [01:36<00:00,  4.83s/it]"
     ]
    },
    {
     "name": "stdout",
     "output_type": "stream",
     "text": [
      "Wins: 16, Losses: 4, Ties: 0\n"
     ]
    },
    {
     "name": "stderr",
     "output_type": "stream",
     "text": [
      "\n"
     ]
    }
   ],
   "source": [
    "# 튜닝한 프롬프트로 요약한 결과와 기존 gpt-4-turbo 모델의 결과를 20회 비교\n",
    "wins, losses, ties = pairwise_eval_batch_20(reviews, summaries_opti5, summaries_gpt4_20)\n",
    "print(f'Wins: {wins}, Losses: {losses}, Ties: {ties}')"
   ]
  },
  {
   "cell_type": "markdown",
   "id": "71597988-5e39-4fcd-bb87-5f9ac8044dd0",
   "metadata": {},
   "source": [
    "##### 그냥 20번으로 돌렸을때 win:16"
   ]
  },
  {
   "cell_type": "code",
   "execution_count": null,
   "id": "8a4bb0ac-a5c1-42e7-8f54-8b7ca8421826",
   "metadata": {},
   "outputs": [],
   "source": []
  }
 ],
 "metadata": {
  "kernelspec": {
   "display_name": "Python 3 (ipykernel)",
   "language": "python",
   "name": "python3"
  },
  "language_info": {
   "codemirror_mode": {
    "name": "ipython",
    "version": 3
   },
   "file_extension": ".py",
   "mimetype": "text/x-python",
   "name": "python",
   "nbconvert_exporter": "python",
   "pygments_lexer": "ipython3",
   "version": "3.12.4"
  }
 },
 "nbformat": 4,
 "nbformat_minor": 5
}
