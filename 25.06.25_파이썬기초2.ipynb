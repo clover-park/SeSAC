{
 "cells": [
  {
   "cell_type": "code",
   "execution_count": 1,
   "id": "39585d32-f4d1-466b-bf8c-ba4119376ccc",
   "metadata": {},
   "outputs": [
    {
     "name": "stdout",
     "output_type": "stream",
     "text": [
      "if문 밖에 있는 실행문장\n"
     ]
    }
   ],
   "source": [
    "# 조건문\n",
    "if False:\n",
    "    print(\"실행문장 실행\")\n",
    "print(\"if문 밖에 있는 실행문장\")"
   ]
  },
  {
   "cell_type": "code",
   "execution_count": 3,
   "id": "dfa7605d-3a5d-433e-9142-68355d1cf657",
   "metadata": {},
   "outputs": [
    {
     "name": "stdout",
     "output_type": "stream",
     "text": [
      "This is True\n"
     ]
    }
   ],
   "source": [
    "if 1:\n",
    "    print(\"This is True\")"
   ]
  },
  {
   "cell_type": "code",
   "execution_count": 5,
   "id": "08fc902f-0279-4e89-b221-bba7adad9fce",
   "metadata": {},
   "outputs": [
    {
     "name": "stdout",
     "output_type": "stream",
     "text": [
      "This is True\n"
     ]
    }
   ],
   "source": [
    "if -1:\n",
    "    print(\"This is True\")"
   ]
  },
  {
   "cell_type": "code",
   "execution_count": 7,
   "id": "405d5c2c-717e-408d-a809-28cb0f6c569e",
   "metadata": {},
   "outputs": [],
   "source": [
    "if 0:\n",
    "    print(\"This is True\")"
   ]
  },
  {
   "cell_type": "code",
   "execution_count": 9,
   "id": "3e00dad1-3f5d-4aa6-8820-4edeb2cd1384",
   "metadata": {},
   "outputs": [],
   "source": [
    "if \"\":\n",
    "    print(\"This is True\")"
   ]
  },
  {
   "cell_type": "code",
   "execution_count": 11,
   "id": "e60a110e-30e8-449c-89f3-36680b4ec6c5",
   "metadata": {},
   "outputs": [
    {
     "name": "stdout",
     "output_type": "stream",
     "text": [
      "This is True\n"
     ]
    }
   ],
   "source": [
    "if \"period!\":\n",
    "    print(\"This is True\")"
   ]
  },
  {
   "cell_type": "code",
   "execution_count": 23,
   "id": "2e213349-1c45-48bd-97a1-a1fbdb3435df",
   "metadata": {},
   "outputs": [
    {
     "name": "stdout",
     "output_type": "stream",
     "text": [
      "버스를 탄다.\n"
     ]
    }
   ],
   "source": [
    "money = 9000\n",
    "if money >= 10000:\n",
    "    print(\"택시를 탄다.\")\n",
    "else:\n",
    "    print(\"버스를 탄다.\")"
   ]
  },
  {
   "cell_type": "code",
   "execution_count": 35,
   "id": "26dd834f-8ad9-4dad-a260-a6ba5caece1d",
   "metadata": {},
   "outputs": [
    {
     "name": "stdin",
     "output_type": "stream",
     "text": [
      "정수 입력>> 5\n"
     ]
    },
    {
     "name": "stdout",
     "output_type": "stream",
     "text": [
      "3과 5의 배수가 아닙니다.\n"
     ]
    }
   ],
   "source": [
    "num = int(input(\"정수 입력>>\"))\n",
    "if num%3==0 and num%5==0:\n",
    "    print(\"3과 5의 배수입니다.\")\n",
    "else:\n",
    "    print(\"3과 5의 배수가 아닙니다.\")"
   ]
  },
  {
   "cell_type": "code",
   "execution_count": 53,
   "id": "ce8b3bd5-3335-4fab-99d5-9dbaf1f1ed18",
   "metadata": {},
   "outputs": [
    {
     "name": "stdin",
     "output_type": "stream",
     "text": [
      "주민등록번호 뒷자리 입력>> 123354\n"
     ]
    },
    {
     "name": "stdout",
     "output_type": "stream",
     "text": [
      "123354\n",
      "당신은 남자입니다.\n"
     ]
    }
   ],
   "source": [
    "num = input(\"주민등록번호 뒷자리 입력>>\")\n",
    "print(num)\n",
    "if num[0] == \"1\" or num[0] == \"3\":\n",
    "    print(\"당신은 남자입니다.\")\n",
    "else:\n",
    "    print(\"당신은 여자입니다.\")"
   ]
  },
  {
   "cell_type": "code",
   "execution_count": 63,
   "id": "18c150ff-3f2f-44c9-b0dc-e02312d506a8",
   "metadata": {},
   "outputs": [
    {
     "name": "stdin",
     "output_type": "stream",
     "text": [
      "이름 입력>> 강만\n",
      "나이 입력>> 34\n",
      "카드 소지 여부(소지, 미소지)>> 미소지\n"
     ]
    },
    {
     "name": "stdout",
     "output_type": "stream",
     "text": [
      "강만님은 입장료 35000원에 예약되셨습니다.\n"
     ]
    }
   ],
   "source": [
    "name = input(\"이름 입력>>\")\n",
    "age = int(input(\"나이 입력>>\"))\n",
    "card = input(\"카드 소지 여부(소지, 미소지)>>\")\n",
    "fee_adult = 35000\n",
    "fee_minor = fee_adult*0.5\n",
    "\n",
    "if age >= 19 and card == \"미소지\":\n",
    "    fee = fee_adult\n",
    "elif age < 19 and card == \"미소지\":\n",
    "    fee = fee_minor\n",
    "elif age >= 19 and card == \"소지\":\n",
    "    fee = fee_adult*0.7\n",
    "elif age < 19 and card == \"소지\":\n",
    "    fee = fee_minor*0.9\n",
    "    \n",
    "print(f'{name}님은 입장료 {int(fee)}원에 예약되셨습니다.')"
   ]
  },
  {
   "cell_type": "code",
   "execution_count": 9,
   "id": "bc55e33e-7b65-4079-8248-3f7a6d30a823",
   "metadata": {},
   "outputs": [
    {
     "name": "stdin",
     "output_type": "stream",
     "text": [
      "마스크 개수 입력>> 4\n"
     ]
    },
    {
     "name": "stdout",
     "output_type": "stream",
     "text": [
      "8개들이 포장지 개수 :  0\n",
      "5개들이 포장지 개수 :  1\n"
     ]
    }
   ],
   "source": [
    "countOfMask = int(input(\"마스크 개수 입력>>\"))\n",
    "eight = countOfMask//8\n",
    "five = (countOfMask%8)//5+1\n",
    "\n",
    "print(\"8개들이 포장지 개수 : \", eight)\n",
    "print(\"5개들이 포장지 개수 : \", five)"
   ]
  },
  {
   "cell_type": "code",
   "execution_count": 13,
   "id": "6ea1b6ce-9576-48a1-a644-3950e7feea01",
   "metadata": {},
   "outputs": [
    {
     "name": "stdin",
     "output_type": "stream",
     "text": [
      "첫 번째 정수 입력>> 5\n",
      "두 번째 정수 입력>> 3\n"
     ]
    },
    {
     "name": "stdout",
     "output_type": "stream",
     "text": [
      "첫 번째 정수가 더 큽니다.\n"
     ]
    }
   ],
   "source": [
    "num1 = int(input(\"첫 번째 정수 입력>>\"))\n",
    "num2 = int(input(\"두 번째 정수 입력>>\"))\n",
    "\n",
    "if num1 > num2:\n",
    "    print(\"첫 번째 정수가 더 큽니다.\")\n",
    "elif num1 < num2:\n",
    "    print(\"두 번째 정수가 더 큽니다.\")\n",
    "elif num1 == num2:\n",
    "    print(\"두 수가 똑같습니다.\")"
   ]
  },
  {
   "cell_type": "code",
   "execution_count": 19,
   "id": "b0ffd701-cfd9-43ab-a9ac-92cadd9942bf",
   "metadata": {},
   "outputs": [
    {
     "name": "stdin",
     "output_type": "stream",
     "text": [
      "점수 입력>> 35\n"
     ]
    },
    {
     "name": "stdout",
     "output_type": "stream",
     "text": [
      "35점은 F학점입니다.\n"
     ]
    }
   ],
   "source": [
    "score = int(input(\"점수 입력>>\"))\n",
    "\n",
    "if 90 <= score:\n",
    "    gpa = \"A\"\n",
    "elif 80 <= score:\n",
    "    gpa = \"B\"\n",
    "elif 70 <= score:\n",
    "    gpa = \"C\"\n",
    "elif 60 <= score:\n",
    "    gpa = \"D\"\n",
    "else:\n",
    "    gpa = \"F\"\n",
    "print(f\"{score}점은 {gpa}학점입니다.\")"
   ]
  },
  {
   "cell_type": "code",
   "execution_count": 25,
   "id": "ba51463a-e9e0-418f-bd3e-28cd0ae5f9f2",
   "metadata": {},
   "outputs": [
    {
     "name": "stdin",
     "output_type": "stream",
     "text": [
      "x값을 입력하세요:  12\n",
      "y값을 입력하세요:  5\n"
     ]
    },
    {
     "name": "stdout",
     "output_type": "stream",
     "text": [
      "좌표 (12,5)는 1사분면입니다.\n"
     ]
    }
   ],
   "source": [
    "x = int(input(\"x값을 입력하세요: \"))\n",
    "y = int(input(\"y값을 입력하세요: \"))\n",
    "\n",
    "if x > 0 and y > 0:\n",
    "    quadrant = 1\n",
    "elif x < 0 and y > 0:\n",
    "    quadrant = 2\n",
    "elif x < 0 and y < 0:\n",
    "    quadrant = 3\n",
    "else:\n",
    "    quadrant = 4\n",
    "print(f\"좌표 ({x},{y})는 {quadrant}사분면입니다.\")"
   ]
  },
  {
   "cell_type": "code",
   "execution_count": 41,
   "id": "ea180d5e-8685-4865-85c2-aacdba2d9a4c",
   "metadata": {},
   "outputs": [
    {
     "name": "stdin",
     "output_type": "stream",
     "text": [
      "나이 입력>> 35\n"
     ]
    },
    {
     "name": "stdout",
     "output_type": "stream",
     "text": [
      "요금은 1500원입니다.\n"
     ]
    }
   ],
   "source": [
    "age = int(input(\"나이 입력>>\"))\n",
    "fee = 1500\n",
    "\n",
    "if age < 5:\n",
    "    fee *= 0.5\n",
    "elif age < 20:\n",
    "    fee *= 0.75\n",
    "elif age >= 65:\n",
    "    fee *= 0.25\n",
    "\n",
    "print(f\"요금은 {int(fee)}원입니다.\")"
   ]
  },
  {
   "cell_type": "code",
   "execution_count": 45,
   "id": "96ca07fe-468b-4778-8eb4-c4939c7f1325",
   "metadata": {},
   "outputs": [
    {
     "name": "stdout",
     "output_type": "stream",
     "text": [
      "['a', 'b', 'c']\n",
      "b\n"
     ]
    }
   ],
   "source": [
    "list = [1,2,3,['a','b','c']]\n",
    "\n",
    "temp = list[3]\n",
    "print(temp)\n",
    "\n",
    "print(temp[1])"
   ]
  },
  {
   "cell_type": "code",
   "execution_count": 73,
   "id": "37e4fad6-8a1f-4f68-a776-9427fe5d9e3c",
   "metadata": {},
   "outputs": [
    {
     "data": {
      "text/plain": [
       "['apple', 'grape']"
      ]
     },
     "execution_count": 73,
     "metadata": {},
     "output_type": "execute_result"
    }
   ],
   "source": [
    "list[:2]"
   ]
  },
  {
   "cell_type": "code",
   "execution_count": 75,
   "id": "02bd13ba-a2c7-4161-a4ad-96a56fce63dc",
   "metadata": {},
   "outputs": [
    {
     "data": {
      "text/plain": [
       "['apple', 'grape', ['watermelon', 'melon'], 'peach', 'strawberry', 'orange', 5]"
      ]
     },
     "execution_count": 75,
     "metadata": {},
     "output_type": "execute_result"
    }
   ],
   "source": [
    "list.append(5)\n",
    "list"
   ]
  },
  {
   "cell_type": "code",
   "execution_count": 69,
   "id": "ed02c3de-014f-40a9-9cda-1ed56a298c87",
   "metadata": {},
   "outputs": [
    {
     "data": {
      "text/plain": [
       "['apple', 'watermelon', 'orange']"
      ]
     },
     "execution_count": 69,
     "metadata": {},
     "output_type": "execute_result"
    }
   ],
   "source": [
    "list2 = ['apple','grape',['watermelon','melon'],'peach','strawberry','orange']\n",
    "apple = list2[0]\n",
    "watermelon=list2[2][0]\n",
    "orange = list2[-1]\n",
    "choice_list = []\n",
    "choice_list.append(apple)\n",
    "choice_list.append(watermelon)\n",
    "choice_list.append(orange)\n",
    "choice_list"
   ]
  },
  {
   "cell_type": "code",
   "execution_count": 61,
   "id": "28e42ff2-84f4-411a-a27d-8fb5255906fa",
   "metadata": {},
   "outputs": [
    {
     "data": {
      "text/plain": [
       "[['Water', 'Tyla'],\n",
       " ['Famous', 'Allday Project'],\n",
       " ['Gnarly', 'Katseye'],\n",
       " ['Anxiety', 'Doechi']]"
      ]
     },
     "execution_count": 61,
     "metadata": {},
     "output_type": "execute_result"
    }
   ],
   "source": [
    "# insert(인덱스, 값)\n",
    "music_list = [['Water','Tyla'],\n",
    "              ['Gnarly','Katseye'],\n",
    "              ['Anxiety','Doechi']]\n",
    "music_list.insert(1,['Famous','Allday Project'])\n",
    "music_list"
   ]
  },
  {
   "cell_type": "code",
   "execution_count": 63,
   "id": "06aa4e2a-882c-40ec-b746-3b9a0bbb3e88",
   "metadata": {},
   "outputs": [
    {
     "name": "stdin",
     "output_type": "stream",
     "text": [
      "인덱스 입력>> 3\n",
      "노래 제목>> Von Dutch\n",
      "가수 입력>> CharlieXCX\n"
     ]
    }
   ],
   "source": [
    "index_value = int(input(\"인덱스 입력>>\"))\n",
    "song = input(\"노래 제목>>\")\n",
    "singer = input(\"가수 입력>>\")\n",
    "\n",
    "music_list.insert(index_value,[song, singer])"
   ]
  },
  {
   "cell_type": "code",
   "execution_count": 65,
   "id": "20530d72-8542-4db0-8218-53acc896023b",
   "metadata": {},
   "outputs": [
    {
     "data": {
      "text/plain": [
       "[['Water', 'Tyla'],\n",
       " ['Famous', 'Allday Project'],\n",
       " ['Gnarly', 'Katseye'],\n",
       " ['Von Dutch', 'CharlieXCX'],\n",
       " ['Anxiety', 'Doechi']]"
      ]
     },
     "execution_count": 65,
     "metadata": {},
     "output_type": "execute_result"
    }
   ],
   "source": [
    "music_list"
   ]
  },
  {
   "cell_type": "code",
   "execution_count": 71,
   "id": "c41b496c-1a4d-4b95-8cbb-769042b9ad08",
   "metadata": {},
   "outputs": [
    {
     "data": {
      "text/plain": [
       "['apple', 'grape', ['watermelon', 'melon'], 'peach', 'strawberry', 'orange']"
      ]
     },
     "execution_count": 71,
     "metadata": {},
     "output_type": "execute_result"
    }
   ],
   "source": [
    "list"
   ]
  },
  {
   "cell_type": "code",
   "execution_count": 81,
   "id": "25e2cec2-24e5-485c-9ebe-0bc3cef1eb8e",
   "metadata": {},
   "outputs": [
    {
     "data": {
      "text/plain": [
       "[2, 9, 13, 52, 77, 100]"
      ]
     },
     "execution_count": 81,
     "metadata": {},
     "output_type": "execute_result"
    }
   ],
   "source": [
    "list8 = [9,77,13,52,100,2]\n",
    "list8.sort() # 오름차순으로 정렬\n",
    "list8"
   ]
  },
  {
   "cell_type": "code",
   "execution_count": 83,
   "id": "fa161f20-9578-4623-bd37-82cdad0c114f",
   "metadata": {},
   "outputs": [
    {
     "data": {
      "text/plain": [
       "[100, 77, 52, 13, 9, 2]"
      ]
     },
     "execution_count": 83,
     "metadata": {},
     "output_type": "execute_result"
    }
   ],
   "source": [
    "list8.reverse() # 내림차순 정렬은 오름차순(sort)을 한 다음에 뒤집기(reverse)\n",
    "list8"
   ]
  },
  {
   "cell_type": "code",
   "execution_count": 85,
   "id": "60026562-4d27-4b22-8ad4-8024ec66eb63",
   "metadata": {},
   "outputs": [
    {
     "data": {
      "text/plain": [
       "[100, 77, 52, 13, 9, 2]"
      ]
     },
     "execution_count": 85,
     "metadata": {},
     "output_type": "execute_result"
    }
   ],
   "source": [
    "list8.sort(reverse=True) # 내림차순 정렬\n",
    "list8"
   ]
  },
  {
   "cell_type": "code",
   "execution_count": 87,
   "id": "ed225da9-872b-4262-8962-fe540924aed0",
   "metadata": {},
   "outputs": [
    {
     "data": {
      "text/plain": [
       "6"
      ]
     },
     "execution_count": 87,
     "metadata": {},
     "output_type": "execute_result"
    }
   ],
   "source": [
    "len(list8)"
   ]
  },
  {
   "cell_type": "code",
   "execution_count": 89,
   "id": "fffb34ac-de31-4bf0-ad29-5fd4a4be06bb",
   "metadata": {},
   "outputs": [
    {
     "data": {
      "text/plain": [
       "True"
      ]
     },
     "execution_count": 89,
     "metadata": {},
     "output_type": "execute_result"
    }
   ],
   "source": [
    "str1 = \"We were on a break!!!\"\n",
    "'break' in str1"
   ]
  },
  {
   "cell_type": "code",
   "execution_count": 91,
   "id": "e61f3e64-b6c4-46ca-be3e-764756c0ee16",
   "metadata": {},
   "outputs": [
    {
     "data": {
      "text/plain": [
       "True"
      ]
     },
     "execution_count": 91,
     "metadata": {},
     "output_type": "execute_result"
    }
   ],
   "source": [
    "'OMG' not in str1"
   ]
  },
  {
   "cell_type": "code",
   "execution_count": 93,
   "id": "14a5bcee-7c91-4c85-9d1d-e223946696d4",
   "metadata": {},
   "outputs": [
    {
     "data": {
      "text/plain": [
       "False"
      ]
     },
     "execution_count": 93,
     "metadata": {},
     "output_type": "execute_result"
    }
   ],
   "source": [
    "'Rachel' in str1"
   ]
  },
  {
   "cell_type": "code",
   "execution_count": 97,
   "id": "7c4c2430-1e38-4bfe-be05-9509975e0eb4",
   "metadata": {},
   "outputs": [
    {
     "name": "stdin",
     "output_type": "stream",
     "text": [
      "검색할 문자 입력>> t\n"
     ]
    },
    {
     "name": "stdout",
     "output_type": "stream",
     "text": [
      "t는 들어있지 않네요.\n"
     ]
    }
   ],
   "source": [
    "s = 'Hi my name is Clover:)'\n",
    "search = input(\"검색할 문자 입력>>\")\n",
    "cnt = s.count(search)\n",
    "if search in s:\n",
    "    print(f'{search}는 {cnt}번 들어있네요.')\n",
    "else:\n",
    "    print(f'{search}는 들어있지 않네요.')"
   ]
  },
  {
   "cell_type": "code",
   "execution_count": null,
   "id": "0e24f16c-7714-499f-9a15-fb7dd7f990fa",
   "metadata": {},
   "outputs": [],
   "source": []
  }
 ],
 "metadata": {
  "kernelspec": {
   "display_name": "Python 3 (ipykernel)",
   "language": "python",
   "name": "python3"
  },
  "language_info": {
   "codemirror_mode": {
    "name": "ipython",
    "version": 3
   },
   "file_extension": ".py",
   "mimetype": "text/x-python",
   "name": "python",
   "nbconvert_exporter": "python",
   "pygments_lexer": "ipython3",
   "version": "3.12.4"
  }
 },
 "nbformat": 4,
 "nbformat_minor": 5
}
