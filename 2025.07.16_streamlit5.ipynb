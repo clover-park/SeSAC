{
 "cells": [
  {
   "cell_type": "markdown",
   "id": "798b81a4-89f4-4d46-9a4c-8f5cfa4adab3",
   "metadata": {},
   "source": [
    "## Session\n",
    "- 사용자가 웹 브라우저를 연 시점부터 닫을 때까지의 Streamlit과의 상호작용(세션이 여러개면 각각 독집적으로 동작함)\n",
    "- Streamlit은 새로 동작(ex.위젯의 새로운 변화 감지)할 때마다 새로고침되거나 이전 변수값들이 초기화되는데, 초기화가 되지 않고 변수의 상태를 유지시킬 필요가 있을 때 세션을 활용함(즉, 세션을 사용하지 않으면 제대로 된 웹 기능을 유지할 수 없음.)\n",
    "- session_state: 세션 상태를 관리하고 유지시키는 함수로 웹 브라우저를 열고 있는 동안 지속되는 저장공간 객체(딕셔너리와 유사)\n",
    "- form이 다수의 값을 입력받아 한 번에 제출하기 위한 용도였다면, 세션은 브라우저를 열고 있는 내내 값이 초기화되지 않게 해줌."
   ]
  },
  {
   "cell_type": "code",
   "execution_count": 1,
   "id": "4f2b7eee-a7e9-4fdf-b0de-dcdc8bc5556a",
   "metadata": {},
   "outputs": [
    {
     "name": "stdout",
     "output_type": "stream",
     "text": [
      "Overwriting module/myApp22.py\n"
     ]
    }
   ],
   "source": [
    "%%writefile module/myApp22.py\n",
    "\n",
    "import streamlit as st\n",
    "import time\n",
    "import pandas as pd\n",
    "\n",
    "'How to use Session'\n",
    "''\n",
    "\n",
    "st.write('세션에 아무것도 없는 초기 상태:', st.session_state)\n",
    "# session_state 내에 값을 카운트할 수 있는 cnt가 없으면 cnt 값을 새로 만들고 value를 0으로 초기화\n",
    "# 조건문과 not in을 사용한 이유:\n",
    "# 페이지(코드)를 재실행할 때마다 cnt가 0으로 초기화되어 이전 상태나 사용자의 상호작용을 무시하게 될 수 있어 그런 부분을 방지하기 위함\n",
    "# 세션 사용하는 이유가 이전 입력값들을 유지시키기 위함인데, 코드 재실행시 다시 초기값으로 되는 걸 막아야함.\n",
    "# 브라우저를 꺼야 없어짐.\n",
    "if 'cnt' not in st.session_state:\n",
    "    st.session_state['cnt'] = 0\n",
    "\n",
    "st.write('조건문이 실행된 이후: ', st.session_state)\n",
    "\n",
    "# 버튼이 들어갈 컬럼 설정\n",
    "col1, col2, col3, _ = st.columns([1,1,1,4])\n",
    "\n",
    "# 증가, 감소, 초기화 버튼\n",
    "# 해당 버튼을 클릭하면 button함수를 설정할 때 지정한 key값이 세션의 key로, value가 True로 변경되어 업데이트 됨.\n",
    "if col1.button('1 증가', key = 'first key'):\n",
    "    st.session_state['cnt'] += 1\n",
    "\n",
    "if col2.button('1감소', key = 'second key'):\n",
    "    st.session_state['cnt'] -= 1\n",
    "\n",
    "if col3.button('reset', key = 'third key'):\n",
    "    st.session_state['cnt'] = 0\n",
    "\n",
    "st.write(f'cnt = {st.session_state['cnt']}') # 출력시에도 session_state를 하나의 딕셔너리로 보고 그 값에 접근하는 코드로 출력"
   ]
  },
  {
   "cell_type": "code",
   "execution_count": 3,
   "id": "30c58521-52a1-4a4a-83a9-c67e512389ca",
   "metadata": {},
   "outputs": [
    {
     "name": "stdout",
     "output_type": "stream",
     "text": [
      "Overwriting module/myApp23.py\n"
     ]
    }
   ],
   "source": [
    "%%writefile module/myApp23.py\n",
    "\n",
    "import streamlit as st\n",
    "import time\n",
    "import pandas as pd\n",
    "\n",
    "'How to use Session - 2'\n",
    "''\n",
    "\n",
    "# form과 버튼을 같이 활용하기 위해 세션을 사용하는 사용자 정의 함수\n",
    "# True, False와 같은 논리값들을 세션으로 유지시켜줌으로써 버튼과 폼을 함께 사용하게 구성할 수 있음.\n",
    "def doClicked():\n",
    "    # get: 파이썬 기초의 get을 본따 만든 함수\n",
    "    # session_state에서 key값을 검색하는 함수(key명칭, 해당 key가 없을 때 반환되는 값)\n",
    "    return st.session_state.get('clicked', False)\n",
    "\n",
    "# doClicked의 return값이 True라면\n",
    "# 처음에는 session에 clicked 키 값이 없어서 False가 반환되므로 if문 대신 else문이 실행됨.\n",
    "if doClicked():\n",
    "    with st.form(key = 'form1', clear_on_submit=True):\n",
    "       name2 = st.text_input(\"What's your name?\")\n",
    "       age2 = st.slider('How old r you?', 20, 40, 30)\n",
    "       gender2 = st.radio('What is you gender?',['M', 'F'])\n",
    "       submit_button = st.form_submit_button('submit!!')\n",
    "    \n",
    "       if submit_button:\n",
    "           st.write(f'my name is {name2}, i am {age2}years old, and i am a {gender2}')\n",
    "# doClicked의 return값이 False라면\n",
    "else:\n",
    "    # 폼 보이기 버튼을 누르면 if문이 동작함.\n",
    "    if st.button('show form'):\n",
    "        st.session_state['clicked'] = True # session에 clicked가 없다가 True로 저장됨.\n",
    "        # rerun: app 재실행(웹 브라우저를 끈 것이 아니므로 세션 상태는 유지됨.)\n",
    "        st.rerun() # 다시 실행되어서 if문을 실행"
   ]
  },
  {
   "cell_type": "code",
   "execution_count": null,
   "id": "6a45eb2e-b2cd-4f74-90ef-52a8cf126460",
   "metadata": {},
   "outputs": [],
   "source": []
  }
 ],
 "metadata": {
  "kernelspec": {
   "display_name": "Python 3 (ipykernel)",
   "language": "python",
   "name": "python3"
  },
  "language_info": {
   "codemirror_mode": {
    "name": "ipython",
    "version": 3
   },
   "file_extension": ".py",
   "mimetype": "text/x-python",
   "name": "python",
   "nbconvert_exporter": "python",
   "pygments_lexer": "ipython3",
   "version": "3.12.4"
  }
 },
 "nbformat": 4,
 "nbformat_minor": 5
}
