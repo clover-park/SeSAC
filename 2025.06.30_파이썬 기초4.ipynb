{
 "cells": [
  {
   "cell_type": "code",
   "execution_count": 17,
   "id": "d09157f9-53fa-4ecc-a951-95201f32e189",
   "metadata": {},
   "outputs": [
    {
     "data": {
      "text/plain": [
       "{'name': 'Clover',\n",
       " 'age': 23,\n",
       " 'phone': '010-1234-5678',\n",
       " 'bday': '6/27',\n",
       " 'favorite franchise': 'Taco Bell'}"
      ]
     },
     "execution_count": 17,
     "metadata": {},
     "output_type": "execute_result"
    }
   ],
   "source": [
    "# 딕셔너리: key와 value가 한 쌍, value는 변할 수 있음.\n",
    "# 인덱스가 없음.\n",
    "\n",
    "dic = {\"name\": \"Clover\",\n",
    "       \"age\": 23,\n",
    "      \"phone\": \"010-1234-5678\"}\n",
    "dic[\"bday\"] = \"6/27\"\n",
    "dic[\"favorite franchise\"] = \"Taco Bell\"\n",
    "dic"
   ]
  },
  {
   "cell_type": "code",
   "execution_count": 19,
   "id": "d4e92a09-f99e-48cd-b815-5336273bbec9",
   "metadata": {},
   "outputs": [
    {
     "data": {
      "text/plain": [
       "{'name': 'Clover',\n",
       " 'age': 23,\n",
       " 'phone': '010-1234-5678',\n",
       " 'bday': '6/27',\n",
       " 'favorite franchise': 'Taco Bell',\n",
       " 'home': 'Seoul',\n",
       " 'major': 'Chinese',\n",
       " 'uni': 'HUFS'}"
      ]
     },
     "execution_count": 19,
     "metadata": {},
     "output_type": "execute_result"
    }
   ],
   "source": [
    "# update 함수를 쓰면 여러개의 값을 한꺼번에 넣을 수 있음.\n",
    "\n",
    "dic.update({\"home\":\"Seoul\", \"major\":\"Chinese\", \"uni\":\"HUFS\"})\n",
    "dic"
   ]
  },
  {
   "cell_type": "code",
   "execution_count": 21,
   "id": "3bba023f-dd7b-44ae-9943-f7d870c23f9a",
   "metadata": {},
   "outputs": [
    {
     "data": {
      "text/plain": [
       "{'name': 'Clover',\n",
       " 'age': 23,\n",
       " 'phone': '010-1234-5678',\n",
       " 'bday': '6/27',\n",
       " 'home': 'Seoul',\n",
       " 'major': 'Chinese',\n",
       " 'uni': 'HUFS'}"
      ]
     },
     "execution_count": 21,
     "metadata": {},
     "output_type": "execute_result"
    }
   ],
   "source": [
    "# del로 삭제\n",
    "\n",
    "del dic[\"favorite franchise\"]\n",
    "dic"
   ]
  },
  {
   "cell_type": "code",
   "execution_count": 26,
   "id": "bce01b3d-8e0b-4cef-ab43-611001b460fe",
   "metadata": {},
   "outputs": [
    {
     "data": {
      "text/plain": [
       "'Clover'"
      ]
     },
     "execution_count": 26,
     "metadata": {},
     "output_type": "execute_result"
    }
   ],
   "source": [
    "# get으로 값 가져오기\n",
    "\n",
    "dic.get(\"name\")"
   ]
  },
  {
   "cell_type": "code",
   "execution_count": 36,
   "id": "91065a1b-a522-4f29-a4ff-2b16f3d76400",
   "metadata": {},
   "outputs": [
    {
     "name": "stdout",
     "output_type": "stream",
     "text": [
      "None\n"
     ]
    }
   ],
   "source": [
    "# dic['favorite franchise'] => 에러남.\n",
    "temp = dic.get('favorite franchise')\n",
    "print(temp)"
   ]
  },
  {
   "cell_type": "code",
   "execution_count": 44,
   "id": "357b7184-75b6-4737-8c48-254f41f0f3d6",
   "metadata": {},
   "outputs": [
    {
     "data": {
      "text/plain": [
       "['name', 'age', 'phone', 'bday', 'home', 'major', 'uni']"
      ]
     },
     "execution_count": 44,
     "metadata": {},
     "output_type": "execute_result"
    }
   ],
   "source": [
    "# key값들만 가져와서 list로 만들기\n",
    "\n",
    "list(dic.keys())"
   ]
  },
  {
   "cell_type": "code",
   "execution_count": 46,
   "id": "7cac9f1d-64af-4641-947e-9d4ae249b472",
   "metadata": {},
   "outputs": [
    {
     "data": {
      "text/plain": [
       "['Clover', 23, '010-1234-5678', '6/27', 'Seoul', 'Chinese', 'HUFS']"
      ]
     },
     "execution_count": 46,
     "metadata": {},
     "output_type": "execute_result"
    }
   ],
   "source": [
    "# value값들만 가져와서 list로 만들기\n",
    "\n",
    "list(dic.values())"
   ]
  },
  {
   "cell_type": "code",
   "execution_count": 50,
   "id": "26aa6afd-cd1b-42d8-b4e1-8df283f816b2",
   "metadata": {},
   "outputs": [
    {
     "name": "stdout",
     "output_type": "stream",
     "text": [
      "name\n",
      "age\n",
      "phone\n",
      "bday\n",
      "home\n",
      "major\n",
      "uni\n"
     ]
    }
   ],
   "source": [
    "# 반복문으로 이용 가능\n",
    "\n",
    "for i in dic.keys():\n",
    "    print(i)"
   ]
  },
  {
   "cell_type": "code",
   "execution_count": 56,
   "id": "ec13312c-36d8-45f0-91f9-beb471f0a380",
   "metadata": {},
   "outputs": [
    {
     "name": "stdout",
     "output_type": "stream",
     "text": [
      "name \t Clover\n",
      "age \t 23\n",
      "phone \t 010-1234-5678\n",
      "bday \t 6/27\n",
      "home \t Seoul\n",
      "major \t Chinese\n",
      "uni \t HUFS\n"
     ]
    }
   ],
   "source": [
    "for key, value in dic.items():\n",
    "    print(key, \"\\t\",value)"
   ]
  },
  {
   "cell_type": "code",
   "execution_count": 58,
   "id": "b84b79c8-7530-4b40-879c-4710d7ee4a9e",
   "metadata": {},
   "outputs": [
    {
     "data": {
      "text/plain": [
       "True"
      ]
     },
     "execution_count": 58,
     "metadata": {},
     "output_type": "execute_result"
    }
   ],
   "source": [
    "# in은 key에 한해서만 동작\n",
    "\n",
    "\"name\" in dic"
   ]
  },
  {
   "cell_type": "code",
   "execution_count": 62,
   "id": "c0625b01-e8a7-40fe-ad61-4029eafbcf19",
   "metadata": {},
   "outputs": [
    {
     "data": {
      "text/plain": [
       "{}"
      ]
     },
     "execution_count": 62,
     "metadata": {},
     "output_type": "execute_result"
    }
   ],
   "source": [
    "# clear로 딕셔너리 비우기\n",
    "\n",
    "dic.clear()\n",
    "dic"
   ]
  },
  {
   "cell_type": "code",
   "execution_count": 1,
   "id": "5b4c469b-88f3-40a4-a276-58a712b850c5",
   "metadata": {},
   "outputs": [
    {
     "name": "stdin",
     "output_type": "stream",
     "text": [
      "첫 번째 정수 입력>> 10\n",
      "두 번째 정수 입력>> 7\n"
     ]
    },
    {
     "data": {
      "text/plain": [
       "3"
      ]
     },
     "execution_count": 1,
     "metadata": {},
     "output_type": "execute_result"
    }
   ],
   "source": [
    "# 함수\n",
    "\n",
    "def number_minus(num1, num2):\n",
    "    if num1>num2:\n",
    "        return num1-num2\n",
    "    else:\n",
    "        return num2-num1\n",
    "\n",
    "num1 = int(input(\"첫 번째 정수 입력>>\"))\n",
    "num2 = int(input(\"두 번째 정수 입력>>\"))\n",
    "result = number_minus(num1, num2)\n",
    "result"
   ]
  },
  {
   "cell_type": "code",
   "execution_count": 13,
   "id": "5d8c6a6f-5ef2-4268-9f73-8259558f08f1",
   "metadata": {},
   "outputs": [
    {
     "name": "stdin",
     "output_type": "stream",
     "text": [
      "첫 번째 정수 입력>> 10\n",
      "두 번째 정수 입력>> 7\n",
      "연산자 입력(+,-)>> +\n"
     ]
    },
    {
     "name": "stdout",
     "output_type": "stream",
     "text": [
      "결과: 17\n"
     ]
    }
   ],
   "source": [
    "def cal(num1, num2, op):\n",
    "    \"\"\"덧셈과 뺄셈을 계산하는 함수입니다.\"\"\"\n",
    "    if op == \"+\":\n",
    "        return num1 + num2\n",
    "    elif op == \"-\":\n",
    "        if num1>num2:\n",
    "            return num1-num2\n",
    "        else:\n",
    "            return num2-num1\n",
    "\n",
    "num1 = int(input(\"첫 번째 정수 입력>>\"))\n",
    "num2 = int(input(\"두 번째 정수 입력>>\"))\n",
    "op = input(\"연산자 입력(+,-)>>\")\n",
    "result = cal(num1, num2, op) # ()안에 커서 놓고 shift+tab을 하면 함수에 대한 정보가 나옴,\"\"\"여기 안에 쓰면 DocString에 \"\"\"\n",
    "print(\"결과: {}\".format(result))"
   ]
  },
  {
   "cell_type": "code",
   "execution_count": 11,
   "id": "cf0a80cb-2568-45c5-888e-25e0c10443b6",
   "metadata": {},
   "outputs": [
    {
     "name": "stdout",
     "output_type": "stream",
     "text": [
      "행복하세요!\n"
     ]
    }
   ],
   "source": [
    "# return쓰면 함수를 빠져나감.\n",
    "\n",
    "def greet(word):\n",
    "    if word == \"불행\":\n",
    "        return\n",
    "    print(f\"{word}하세요!\")\n",
    "\n",
    "greet(\"행복\")"
   ]
  },
  {
   "cell_type": "code",
   "execution_count": 9,
   "id": "34bdfce4-3e45-4165-a64e-e8be7b4e80e8",
   "metadata": {},
   "outputs": [
    {
     "data": {
      "text/plain": [
       "6"
      ]
     },
     "execution_count": 9,
     "metadata": {},
     "output_type": "execute_result"
    }
   ],
   "source": [
    "# 가변 매개변수: 함수 호출 시 몇 개의 인수가 입력될지 알 수 없는 경우 매개변수 앞에 *를 붙임.\n",
    "# 전달된 인수는 튜플 형태로 저장\n",
    "\n",
    "def add(*args):\n",
    "    sum=0\n",
    "    for i in args:\n",
    "        sum += i\n",
    "    return sum\n",
    "\n",
    "add(1,2,3)"
   ]
  },
  {
   "cell_type": "code",
   "execution_count": 32,
   "id": "59bc45a6-9d45-4b45-8e5b-6b81089fca99",
   "metadata": {},
   "outputs": [
    {
     "data": {
      "text/plain": [
       "9"
      ]
     },
     "execution_count": 32,
     "metadata": {},
     "output_type": "execute_result"
    }
   ],
   "source": [
    "def calculator(op,*args):\n",
    "    if op == \"add\":\n",
    "        total=0\n",
    "        for i in args:\n",
    "            total += i\n",
    "        return total\n",
    "    elif op ==\"mul\":\n",
    "        total = 1\n",
    "        for i in args:\n",
    "            total *= i\n",
    "        return total\n",
    "\n",
    "calculator(\"add\", 2,3,4)"
   ]
  },
  {
   "cell_type": "code",
   "execution_count": 3,
   "id": "24b01c70-e6d8-48e9-a9dd-871b0fef8d87",
   "metadata": {},
   "outputs": [
    {
     "name": "stdout",
     "output_type": "stream",
     "text": [
      "None\n"
     ]
    }
   ],
   "source": [
    "def max_of_number(*args):\n",
    "    if len(args) == 0:\n",
    "        return None\n",
    "    max = 0\n",
    "    for i in args:\n",
    "        if i > max:\n",
    "            max = i\n",
    "    return max\n",
    "\n",
    "print(max_of_number())"
   ]
  },
  {
   "cell_type": "code",
   "execution_count": 9,
   "id": "1d4d18cc-3665-4490-8c15-10a1b813b52b",
   "metadata": {},
   "outputs": [
    {
     "name": "stdout",
     "output_type": "stream",
     "text": [
      "이동\n",
      "냠냠\n"
     ]
    }
   ],
   "source": [
    "class Character:\n",
    "    def walk(self): # 무조건 self써야함!!self는 person1, person2를 의미\n",
    "        print(\"이동\")\n",
    "    def eat(self):\n",
    "        print(\"냠냠\")\n",
    "\n",
    "person1 = Character()\n",
    "person2 = Character()\n",
    "person1.walk()\n",
    "person2.eat()"
   ]
  },
  {
   "cell_type": "code",
   "execution_count": 17,
   "id": "502b2a64-7e77-4a41-90fe-8265f6fe16dd",
   "metadata": {},
   "outputs": [
    {
     "name": "stdout",
     "output_type": "stream",
     "text": [
      "10 999\n",
      "1 99\n"
     ]
    }
   ],
   "source": [
    "class Character:\n",
    "    def setdata(self, level, hp):\n",
    "        self.level = level\n",
    "        self.hp = hp\n",
    "\n",
    "person3 = Character()\n",
    "person4 = Character()\n",
    "person3.setdata(10,999)\n",
    "person4.setdata(1,99)\n",
    "print(person3.level, person3.hp)\n",
    "print(person4.level, person4.hp)"
   ]
  },
  {
   "cell_type": "code",
   "execution_count": 45,
   "id": "727d3468-b5b2-431f-8f0d-c4b0acc69d2c",
   "metadata": {},
   "outputs": [
    {
     "name": "stdout",
     "output_type": "stream",
     "text": [
      "add a: 9\n",
      "add b: 11\n",
      "sub a: 3\n",
      "sub b: -5\n",
      "mul a: 18\n",
      "mul b: 24\n",
      "div a: 2.0\n",
      "div b: 0.375\n"
     ]
    }
   ],
   "source": [
    "class FourCal:\n",
    "    def setdata(self, num1, num2):\n",
    "        self.num1 = num1\n",
    "        self.num2 = num2\n",
    "    def add(self):\n",
    "        return self.num1 + self.num2\n",
    "    def sub(self):\n",
    "        return self.num1 - self.num2\n",
    "    def mul(self):\n",
    "        return self.num1 * self.num2\n",
    "    def div(self):\n",
    "        return self.num1 / self.num2\n",
    "\n",
    "\n",
    "a = FourCal()\n",
    "b = FourCal()\n",
    "a.setdata(6,3)\n",
    "b.setdata(3,8)\n",
    "print(\"add a:\",a.add())\n",
    "print(\"add b:\",b.add())\n",
    "print(\"sub a:\",a.sub())\n",
    "print(\"sub b:\",b.sub())\n",
    "print(\"mul a:\",a.mul())\n",
    "print(\"mul b:\", b.mul())\n",
    "print(\"div a:\",a.div())\n",
    "print(\"div b:\", b.div())"
   ]
  },
  {
   "cell_type": "code",
   "execution_count": 59,
   "id": "70b84880-73af-4719-9069-a0fc7a390039",
   "metadata": {},
   "outputs": [
    {
     "name": "stdout",
     "output_type": "stream",
     "text": [
      "add a: 9\n",
      "add b: 11\n",
      "sub a: 3\n",
      "sub b: -5\n",
      "mul a: 18\n",
      "mul b: 24\n",
      "div a: 2.0\n",
      "div b: 0.375\n"
     ]
    }
   ],
   "source": [
    "class FourCal:\n",
    "    def __init__(self, num1, num2):\n",
    "        self.num1 = num1\n",
    "        self.num2 = num2\n",
    "    def add(self):\n",
    "        return self.num1 + self.num2\n",
    "    def sub(self):\n",
    "        return self.num1 - self.num2\n",
    "    def mul(self):\n",
    "        return self.num1 * self.num2\n",
    "    def div(self):\n",
    "        return self.num1 / self.num2\n",
    "\n",
    "\n",
    "a = FourCal(6,3)\n",
    "b = FourCal(3,8)\n",
    "print(\"add a:\",a.add())\n",
    "print(\"add b:\",b.add())\n",
    "print(\"sub a:\",a.sub())\n",
    "print(\"sub b:\",b.sub())\n",
    "print(\"mul a:\",a.mul())\n",
    "print(\"mul b:\", b.mul())\n",
    "print(\"div a:\",a.div())\n",
    "print(\"div b:\", b.div())"
   ]
  },
  {
   "cell_type": "code",
   "execution_count": 55,
   "id": "c944de6b-f203-4d83-bb75-835484175596",
   "metadata": {},
   "outputs": [
    {
     "name": "stdout",
     "output_type": "stream",
     "text": [
      "이름: Clover\n",
      "성별: W\n",
      "나이: 23\n"
     ]
    }
   ],
   "source": [
    "# 생성자: 객체가 생성될 때 자동으로 호출되는 메소드\n",
    "# 객체가 생성될 때 바로 실행되는 메소드, 파이썬은 __init__으로 사용\n",
    "class Member:\n",
    "    def __init__(self, name, gender, age):\n",
    "        self.name = name\n",
    "        self.gender = gender\n",
    "        self.age = age\n",
    "    def info(self):\n",
    "        print(\"이름:\",self.name)\n",
    "        print(\"성별:\",self.gender)\n",
    "        print(\"나이:\",self.age)\n",
    "\n",
    "s1 = Member(\"Clover\",\"W\",23) # s1 = Member()라고만 쓰면 안 됨.\n",
    "s1.info()"
   ]
  },
  {
   "cell_type": "code",
   "execution_count": 61,
   "id": "211027fb-97d5-4e83-9655-78ace9dca81a",
   "metadata": {},
   "outputs": [
    {
     "name": "stdout",
     "output_type": "stream",
     "text": [
      "9\n",
      "5\n",
      "1\n",
      "6\n",
      "1.5\n"
     ]
    }
   ],
   "source": [
    "# 상속: 클래스 생성시 다른 클래스의 기능을 물려받는 것\n",
    "# 자식 클래스는 부모 클래스의 메소드를 그대로 사용할 수 있음.\n",
    "# 상속은 객체지향 프로그래밍의 코드 재사용성을 극대화하는 기능\n",
    "# 상속의 상속의 상속을 할 수도 있음.\n",
    "\n",
    "class NewFourCal(FourCal):\n",
    "    def power(self):\n",
    "        return self.num1 ** self.num2\n",
    "\n",
    "c = NewFourCal(3,2)\n",
    "print(c.power())\n",
    "print(c.add())\n",
    "print(c.sub())\n",
    "print(c.mul())\n",
    "print(c.div())"
   ]
  },
  {
   "cell_type": "code",
   "execution_count": 71,
   "id": "696a8bea-cc02-492b-b40f-2a1924e6368b",
   "metadata": {},
   "outputs": [
    {
     "data": {
      "text/plain": [
       "0"
      ]
     },
     "execution_count": 71,
     "metadata": {},
     "output_type": "execute_result"
    }
   ],
   "source": [
    "# 메소드 오버라이딩: 부모 클래스에서 정의된 메소드를 자식 클래스에서 동일한 이름으로 다시 재정의하여 사용하는 것\n",
    "# 상속할 때 할 수 있음.\n",
    "\n",
    "class NewFourCal2(NewFourCal):\n",
    "    def div(self):\n",
    "        if self.num1 == 0 or self.num2 == 0:\n",
    "            return 0\n",
    "        else:\n",
    "            return self.num1 / self.num2\n",
    "\n",
    "b = NewFourCal2(4,0)\n",
    "b.div()"
   ]
  },
  {
   "cell_type": "code",
   "execution_count": 73,
   "id": "baec816d-b2d2-4791-850d-80444606c105",
   "metadata": {},
   "outputs": [
    {
     "data": {
      "text/plain": [
       "[__main__.NewFourCal2, __main__.NewFourCal, __main__.FourCal, object]"
      ]
     },
     "execution_count": 73,
     "metadata": {},
     "output_type": "execute_result"
    }
   ],
   "source": [
    "# MRO: 다중 상속을 사용할 때 메소드가 어떤 순서로 호출되는지 결정하는 규칙\n",
    "\n",
    "NewFourCal2.mro()"
   ]
  },
  {
   "cell_type": "code",
   "execution_count": 75,
   "id": "cf304302-ca68-46d0-ac0e-b0ca01cf74ea",
   "metadata": {},
   "outputs": [
    {
     "name": "stdout",
     "output_type": "stream",
     "text": [
      "yum yum!\n"
     ]
    }
   ],
   "source": [
    "class Food:\n",
    "    def eat(self):\n",
    "        print(\"yum yum!\")\n",
    "\n",
    "a = Food()\n",
    "a.eat()"
   ]
  },
  {
   "cell_type": "code",
   "execution_count": 81,
   "id": "c6403680-5e2b-4673-a5c5-376fd878f85b",
   "metadata": {},
   "outputs": [
    {
     "name": "stdout",
     "output_type": "stream",
     "text": [
      "walffles are yum!\n"
     ]
    }
   ],
   "source": [
    "class Waffle(Food):\n",
    "    def eat(self):\n",
    "        print(\"walffles are yum!\")\n",
    "\n",
    "b = Waffle()\n",
    "b.eat()"
   ]
  },
  {
   "cell_type": "code",
   "execution_count": 89,
   "id": "bfbcab1e-3330-47cf-8e97-7b5582682228",
   "metadata": {},
   "outputs": [
    {
     "name": "stdout",
     "output_type": "stream",
     "text": [
      "동물 (이)가 웁니다.\n",
      "강아지 는 멍멍!\n",
      "고양이 는 야옹!\n"
     ]
    }
   ],
   "source": [
    "class Animal:\n",
    "    def __init__(self, name):\n",
    "        self.name = name\n",
    "    def speak(self):\n",
    "        print(self.name,\"(이)가 웁니다.\")\n",
    "\n",
    "animal = Animal(\"동물\")\n",
    "animal.speak()\n",
    "\n",
    "class Dog(Animal):\n",
    "    def speak(self):\n",
    "        print(self.name,\"는 멍멍!\")\n",
    "\n",
    "dog = Dog(\"강아지\")\n",
    "dog.speak()\n",
    "\n",
    "class Cat(Animal):\n",
    "    def speak(self):\n",
    "        print(self.name,\"는 야옹!\")\n",
    "\n",
    "dog = Cat(\"고양이\")\n",
    "dog.speak()"
   ]
  },
  {
   "cell_type": "code",
   "execution_count": null,
   "id": "cac07388-bbda-4fed-a024-00cfe3b10e7e",
   "metadata": {},
   "outputs": [],
   "source": [
    "# 클래스 내부에 self 안 붙이고 그냥 변수를 선언할 수 있는데, 클래스로 만든 모든 객체 및 메소드에 공유됨."
   ]
  }
 ],
 "metadata": {
  "kernelspec": {
   "display_name": "Python 3 (ipykernel)",
   "language": "python",
   "name": "python3"
  },
  "language_info": {
   "codemirror_mode": {
    "name": "ipython",
    "version": 3
   },
   "file_extension": ".py",
   "mimetype": "text/x-python",
   "name": "python",
   "nbconvert_exporter": "python",
   "pygments_lexer": "ipython3",
   "version": "3.12.4"
  }
 },
 "nbformat": 4,
 "nbformat_minor": 5
}
